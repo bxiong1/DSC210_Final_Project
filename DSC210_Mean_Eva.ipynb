{
  "nbformat": 4,
  "nbformat_minor": 0,
  "metadata": {
    "colab": {
      "provenance": []
    },
    "kernelspec": {
      "name": "python3",
      "display_name": "Python 3"
    },
    "language_info": {
      "name": "python"
    }
  },
  "cells": [
    {
      "cell_type": "code",
      "execution_count": null,
      "metadata": {
        "id": "wFm5ioPiVvgM"
      },
      "outputs": [],
      "source": [
        "time_LDA=[350.19482421875, 329.5953116416931, 331.22136306762695, 445.48011541366577, 348]\n",
        "coherence_LDA=[-7.101364722651425, -7.113360428579147, -7.417009693101333, -7.79961232059655, -7.2702435435514]\n",
        "diversity_LDA=[0.89, 0.92, 0.91, 0.92, 0.91]\n",
        "similarity_LDA=[0.03244237302857145, 0.01910546574000005, 0.02564361124285719, 0.03249633139714281, 0.0258891144528]\n",
        "time_NMF=[377.4441771507263, 349.0380563735962, 359.7212703227997, 420.6350591182709, 419]\n",
        "coherence_NMF=[-4.985941425214603, -4.946042958092373, -5.126764519654282, -5.11651028849029, -5.0144634204504]\n",
        "diversity_NMF=[0.92, 0.84, 0.88, 0.81, 0.81]\n",
        "similarity_NMF=[0.013027811774285691, 0.02071751649428566, 0.016170997161428557, 0.02704509453428572, 0.0270604197557]\n",
        "time_LSA=[282.09778594970703, 283.66723442077637, 304.6087634563446, 371.5308299064636, 324]\n",
        "coherence_LSA=[-5.366301339163325, -5.310607397122256, -5.4000128915099, -5.210020869746925, -5.4591293111865]\n",
        "diversity_LSA=[0.56, 0.57, 0.53, 0.48, 0.57]\n",
        "similarity_LSA=[0.1385996371780952, 0.12453201988936513, 0.15611342020936503, 0.1904497973773016, 0.1352892529836]"
      ]
    },
    {
      "cell_type": "code",
      "source": [
        "import numpy as np\n",
        "print(np.mean(time_LDA))\n",
        "print(np.mean(coherence_LDA))\n",
        "print(np.mean(diversity_LDA))\n",
        "print(np.mean(similarity_LDA))"
      ],
      "metadata": {
        "colab": {
          "base_uri": "https://localhost:8080/"
        },
        "id": "3UnMH5ikXpfF",
        "outputId": "1a0e83ef-3dfd-48a5-bfae-d20ef36a4151"
      },
      "execution_count": null,
      "outputs": [
        {
          "output_type": "stream",
          "name": "stdout",
          "text": [
            "360.8983228683472\n",
            "-7.340318141695971\n",
            "0.9099999999999999\n",
            "0.0271153791722743\n"
          ]
        }
      ]
    },
    {
      "cell_type": "code",
      "source": [
        "print(np.mean(time_NMF))\n",
        "print(np.mean(coherence_NMF))\n",
        "print(np.mean(diversity_NMF))\n",
        "print(np.mean(similarity_NMF))"
      ],
      "metadata": {
        "colab": {
          "base_uri": "https://localhost:8080/"
        },
        "id": "hMBAcbUhX5eG",
        "outputId": "7ff5de69-8d87-4bea-c471-bb48ca56b3e7"
      },
      "execution_count": null,
      "outputs": [
        {
          "output_type": "stream",
          "name": "stdout",
          "text": [
            "385.1677125930786\n",
            "-5.03794452238039\n",
            "0.852\n",
            "0.020804367943997128\n"
          ]
        }
      ]
    },
    {
      "cell_type": "code",
      "source": [
        "print(np.mean(time_LSA))\n",
        "print(np.mean(coherence_LSA))\n",
        "print(np.mean(diversity_LSA))\n",
        "print(np.mean(similarity_LSA))"
      ],
      "metadata": {
        "colab": {
          "base_uri": "https://localhost:8080/"
        },
        "id": "jU6KmIGiX-GY",
        "outputId": "0555dfef-162d-4564-88cd-57625a5eab79"
      },
      "execution_count": null,
      "outputs": [
        {
          "output_type": "stream",
          "name": "stdout",
          "text": [
            "313.1809227466583\n",
            "-5.349214361745782\n",
            "0.5419999999999999\n",
            "0.1489968255275454\n"
          ]
        }
      ]
    },
    {
      "cell_type": "code",
      "source": [],
      "metadata": {
        "id": "-jBiU_g1YAfj"
      },
      "execution_count": null,
      "outputs": []
    }
  ]
}