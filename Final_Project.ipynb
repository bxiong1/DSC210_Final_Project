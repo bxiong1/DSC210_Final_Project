{
  "cells": [
    {
      "cell_type": "code",
      "execution_count": 12,
      "metadata": {
        "colab": {
          "base_uri": "https://localhost:8080/"
        },
        "id": "nobttwORAOzT",
        "outputId": "7118c62d-e127-493c-a9f1-dc8c98675792"
      },
      "outputs": [
        {
          "output_type": "stream",
          "name": "stdout",
          "text": [
            "Looking in indexes: https://pypi.org/simple, https://us-python.pkg.dev/colab-wheels/public/simple/\n",
            "Requirement already satisfied: gensim in /usr/local/lib/python3.7/dist-packages (4.2.0)\n",
            "Requirement already satisfied: scipy>=0.18.1 in /usr/local/lib/python3.7/dist-packages (from gensim) (1.7.3)\n",
            "Requirement already satisfied: smart-open>=1.8.1 in /usr/local/lib/python3.7/dist-packages (from gensim) (5.2.1)\n",
            "Requirement already satisfied: numpy>=1.17.0 in /usr/local/lib/python3.7/dist-packages (from gensim) (1.21.6)\n"
          ]
        }
      ],
      "source": [
        "#updating gensim package\n",
        "!pip install --upgrade gensim"
      ]
    },
    {
      "cell_type": "code",
      "execution_count": 13,
      "metadata": {
        "colab": {
          "base_uri": "https://localhost:8080/"
        },
        "id": "aBmetrguB4T8",
        "outputId": "09d56653-2357-4333-d01a-ab57360af149"
      },
      "outputs": [
        {
          "output_type": "stream",
          "name": "stdout",
          "text": [
            "Looking in indexes: https://pypi.org/simple, https://us-python.pkg.dev/colab-wheels/public/simple/\n",
            "Requirement already satisfied: octis in /usr/local/lib/python3.7/dist-packages (1.10.4)\n",
            "Requirement already satisfied: requests in /usr/local/lib/python3.7/dist-packages (from octis) (2.23.0)\n",
            "Requirement already satisfied: libsvm in /usr/local/lib/python3.7/dist-packages (from octis) (3.23.0.4)\n",
            "Requirement already satisfied: flask in /usr/local/lib/python3.7/dist-packages (from octis) (1.1.4)\n",
            "Requirement already satisfied: matplotlib in /usr/local/lib/python3.7/dist-packages (from octis) (3.2.2)\n",
            "Requirement already satisfied: sentence-transformers in /usr/local/lib/python3.7/dist-packages (from octis) (2.2.2)\n",
            "Requirement already satisfied: gensim>=4.0.0 in /usr/local/lib/python3.7/dist-packages (from octis) (4.2.0)\n",
            "Requirement already satisfied: nltk in /usr/local/lib/python3.7/dist-packages (from octis) (3.7)\n",
            "Requirement already satisfied: pandas in /usr/local/lib/python3.7/dist-packages (from octis) (1.3.5)\n",
            "Requirement already satisfied: scikit-learn==0.24.2 in /usr/local/lib/python3.7/dist-packages (from octis) (0.24.2)\n",
            "Requirement already satisfied: tomotopy in /usr/local/lib/python3.7/dist-packages (from octis) (0.12.3)\n",
            "Requirement already satisfied: scikit-optimize>=0.8.1 in /usr/local/lib/python3.7/dist-packages (from octis) (0.9.0)\n",
            "Requirement already satisfied: numpy>=1.19.1 in /usr/local/lib/python3.7/dist-packages (from octis) (1.21.6)\n",
            "Requirement already satisfied: spacy in /usr/local/lib/python3.7/dist-packages (from octis) (3.4.3)\n",
            "Requirement already satisfied: torch in /usr/local/lib/python3.7/dist-packages (from octis) (1.12.1+cu113)\n",
            "Requirement already satisfied: scipy>=0.19.1 in /usr/local/lib/python3.7/dist-packages (from scikit-learn==0.24.2->octis) (1.7.3)\n",
            "Requirement already satisfied: threadpoolctl>=2.0.0 in /usr/local/lib/python3.7/dist-packages (from scikit-learn==0.24.2->octis) (3.1.0)\n",
            "Requirement already satisfied: joblib>=0.11 in /usr/local/lib/python3.7/dist-packages (from scikit-learn==0.24.2->octis) (1.2.0)\n",
            "Requirement already satisfied: smart-open>=1.8.1 in /usr/local/lib/python3.7/dist-packages (from gensim>=4.0.0->octis) (5.2.1)\n",
            "Requirement already satisfied: pyaml>=16.9 in /usr/local/lib/python3.7/dist-packages (from scikit-optimize>=0.8.1->octis) (21.10.1)\n",
            "Requirement already satisfied: PyYAML in /usr/local/lib/python3.7/dist-packages (from pyaml>=16.9->scikit-optimize>=0.8.1->octis) (6.0)\n",
            "Requirement already satisfied: click<8.0,>=5.1 in /usr/local/lib/python3.7/dist-packages (from flask->octis) (7.1.2)\n",
            "Requirement already satisfied: Werkzeug<2.0,>=0.15 in /usr/local/lib/python3.7/dist-packages (from flask->octis) (1.0.1)\n",
            "Requirement already satisfied: Jinja2<3.0,>=2.10.1 in /usr/local/lib/python3.7/dist-packages (from flask->octis) (2.11.3)\n",
            "Requirement already satisfied: itsdangerous<2.0,>=0.24 in /usr/local/lib/python3.7/dist-packages (from flask->octis) (1.1.0)\n",
            "Requirement already satisfied: MarkupSafe>=0.23 in /usr/local/lib/python3.7/dist-packages (from Jinja2<3.0,>=2.10.1->flask->octis) (2.0.1)\n",
            "Requirement already satisfied: pyparsing!=2.0.4,!=2.1.2,!=2.1.6,>=2.0.1 in /usr/local/lib/python3.7/dist-packages (from matplotlib->octis) (3.0.9)\n",
            "Requirement already satisfied: kiwisolver>=1.0.1 in /usr/local/lib/python3.7/dist-packages (from matplotlib->octis) (1.4.4)\n",
            "Requirement already satisfied: cycler>=0.10 in /usr/local/lib/python3.7/dist-packages (from matplotlib->octis) (0.11.0)\n",
            "Requirement already satisfied: python-dateutil>=2.1 in /usr/local/lib/python3.7/dist-packages (from matplotlib->octis) (2.8.2)\n",
            "Requirement already satisfied: typing-extensions in /usr/local/lib/python3.7/dist-packages (from kiwisolver>=1.0.1->matplotlib->octis) (4.1.1)\n",
            "Requirement already satisfied: six>=1.5 in /usr/local/lib/python3.7/dist-packages (from python-dateutil>=2.1->matplotlib->octis) (1.15.0)\n",
            "Requirement already satisfied: tqdm in /usr/local/lib/python3.7/dist-packages (from nltk->octis) (4.64.1)\n",
            "Requirement already satisfied: regex>=2021.8.3 in /usr/local/lib/python3.7/dist-packages (from nltk->octis) (2022.6.2)\n",
            "Requirement already satisfied: pytz>=2017.3 in /usr/local/lib/python3.7/dist-packages (from pandas->octis) (2022.6)\n",
            "Requirement already satisfied: urllib3!=1.25.0,!=1.25.1,<1.26,>=1.21.1 in /usr/local/lib/python3.7/dist-packages (from requests->octis) (1.24.3)\n",
            "Requirement already satisfied: chardet<4,>=3.0.2 in /usr/local/lib/python3.7/dist-packages (from requests->octis) (3.0.4)\n",
            "Requirement already satisfied: certifi>=2017.4.17 in /usr/local/lib/python3.7/dist-packages (from requests->octis) (2022.9.24)\n",
            "Requirement already satisfied: idna<3,>=2.5 in /usr/local/lib/python3.7/dist-packages (from requests->octis) (2.10)\n",
            "Requirement already satisfied: huggingface-hub>=0.4.0 in /usr/local/lib/python3.7/dist-packages (from sentence-transformers->octis) (0.11.0)\n",
            "Requirement already satisfied: transformers<5.0.0,>=4.6.0 in /usr/local/lib/python3.7/dist-packages (from sentence-transformers->octis) (4.24.0)\n",
            "Requirement already satisfied: sentencepiece in /usr/local/lib/python3.7/dist-packages (from sentence-transformers->octis) (0.1.97)\n",
            "Requirement already satisfied: torchvision in /usr/local/lib/python3.7/dist-packages (from sentence-transformers->octis) (0.13.1+cu113)\n",
            "Requirement already satisfied: packaging>=20.9 in /usr/local/lib/python3.7/dist-packages (from huggingface-hub>=0.4.0->sentence-transformers->octis) (21.3)\n",
            "Requirement already satisfied: importlib-metadata in /usr/local/lib/python3.7/dist-packages (from huggingface-hub>=0.4.0->sentence-transformers->octis) (4.13.0)\n",
            "Requirement already satisfied: filelock in /usr/local/lib/python3.7/dist-packages (from huggingface-hub>=0.4.0->sentence-transformers->octis) (3.8.0)\n",
            "Requirement already satisfied: tokenizers!=0.11.3,<0.14,>=0.11.1 in /usr/local/lib/python3.7/dist-packages (from transformers<5.0.0,>=4.6.0->sentence-transformers->octis) (0.13.2)\n",
            "Requirement already satisfied: zipp>=0.5 in /usr/local/lib/python3.7/dist-packages (from importlib-metadata->huggingface-hub>=0.4.0->sentence-transformers->octis) (3.10.0)\n",
            "Requirement already satisfied: pathy>=0.3.5 in /usr/local/lib/python3.7/dist-packages (from spacy->octis) (0.8.1)\n",
            "Requirement already satisfied: typer<0.8.0,>=0.3.0 in /usr/local/lib/python3.7/dist-packages (from spacy->octis) (0.7.0)\n",
            "Requirement already satisfied: srsly<3.0.0,>=2.4.3 in /usr/local/lib/python3.7/dist-packages (from spacy->octis) (2.4.5)\n",
            "Requirement already satisfied: thinc<8.2.0,>=8.1.0 in /usr/local/lib/python3.7/dist-packages (from spacy->octis) (8.1.5)\n",
            "Requirement already satisfied: preshed<3.1.0,>=3.0.2 in /usr/local/lib/python3.7/dist-packages (from spacy->octis) (3.0.8)\n",
            "Requirement already satisfied: pydantic!=1.8,!=1.8.1,<1.11.0,>=1.7.4 in /usr/local/lib/python3.7/dist-packages (from spacy->octis) (1.10.2)\n",
            "Requirement already satisfied: setuptools in /usr/local/lib/python3.7/dist-packages (from spacy->octis) (57.4.0)\n",
            "Requirement already satisfied: cymem<2.1.0,>=2.0.2 in /usr/local/lib/python3.7/dist-packages (from spacy->octis) (2.0.7)\n",
            "Requirement already satisfied: catalogue<2.1.0,>=2.0.6 in /usr/local/lib/python3.7/dist-packages (from spacy->octis) (2.0.8)\n",
            "Requirement already satisfied: spacy-legacy<3.1.0,>=3.0.10 in /usr/local/lib/python3.7/dist-packages (from spacy->octis) (3.0.10)\n",
            "Requirement already satisfied: murmurhash<1.1.0,>=0.28.0 in /usr/local/lib/python3.7/dist-packages (from spacy->octis) (1.0.9)\n",
            "Requirement already satisfied: spacy-loggers<2.0.0,>=1.0.0 in /usr/local/lib/python3.7/dist-packages (from spacy->octis) (1.0.3)\n",
            "Requirement already satisfied: langcodes<4.0.0,>=3.2.0 in /usr/local/lib/python3.7/dist-packages (from spacy->octis) (3.3.0)\n",
            "Requirement already satisfied: wasabi<1.1.0,>=0.9.1 in /usr/local/lib/python3.7/dist-packages (from spacy->octis) (0.10.1)\n",
            "Requirement already satisfied: confection<1.0.0,>=0.0.1 in /usr/local/lib/python3.7/dist-packages (from thinc<8.2.0,>=8.1.0->spacy->octis) (0.0.3)\n",
            "Requirement already satisfied: blis<0.8.0,>=0.7.8 in /usr/local/lib/python3.7/dist-packages (from thinc<8.2.0,>=8.1.0->spacy->octis) (0.7.9)\n",
            "Requirement already satisfied: pillow!=8.3.*,>=5.3.0 in /usr/local/lib/python3.7/dist-packages (from torchvision->sentence-transformers->octis) (7.1.2)\n"
          ]
        }
      ],
      "source": [
        "#installing OCTIS for evaluation metrics\n",
        "!pip install octis"
      ]
    },
    {
      "cell_type": "code",
      "source": [
        "#install pyLDAvis for visualizing LDA results\n",
        "!pip install pyLDAvis"
      ],
      "metadata": {
        "colab": {
          "base_uri": "https://localhost:8080/"
        },
        "id": "5Nc6CGj8U-uM",
        "outputId": "e8e0d9a0-fd53-403d-dcca-a4dbbaf716b2"
      },
      "execution_count": null,
      "outputs": [
        {
          "output_type": "stream",
          "name": "stdout",
          "text": [
            "Looking in indexes: https://pypi.org/simple, https://us-python.pkg.dev/colab-wheels/public/simple/\n",
            "Collecting pyLDAvis\n",
            "  Downloading pyLDAvis-3.3.1.tar.gz (1.7 MB)\n",
            "\u001b[K     |████████████████████████████████| 1.7 MB 4.4 MB/s \n",
            "\u001b[?25h  Installing build dependencies ... \u001b[?25l\u001b[?25hdone\n",
            "  Getting requirements to build wheel ... \u001b[?25l\u001b[?25hdone\n",
            "  Installing backend dependencies ... \u001b[?25l\u001b[?25hdone\n",
            "    Preparing wheel metadata ... \u001b[?25l\u001b[?25hdone\n",
            "Requirement already satisfied: pandas>=1.2.0 in /usr/local/lib/python3.7/dist-packages (from pyLDAvis) (1.3.5)\n",
            "Requirement already satisfied: gensim in /usr/local/lib/python3.7/dist-packages (from pyLDAvis) (4.2.0)\n",
            "Requirement already satisfied: scikit-learn in /usr/local/lib/python3.7/dist-packages (from pyLDAvis) (0.24.2)\n",
            "Requirement already satisfied: joblib in /usr/local/lib/python3.7/dist-packages (from pyLDAvis) (1.2.0)\n",
            "Requirement already satisfied: numpy>=1.20.0 in /usr/local/lib/python3.7/dist-packages (from pyLDAvis) (1.21.6)\n",
            "Requirement already satisfied: future in /usr/local/lib/python3.7/dist-packages (from pyLDAvis) (0.16.0)\n",
            "Requirement already satisfied: jinja2 in /usr/local/lib/python3.7/dist-packages (from pyLDAvis) (2.11.3)\n",
            "Requirement already satisfied: setuptools in /usr/local/lib/python3.7/dist-packages (from pyLDAvis) (57.4.0)\n",
            "Collecting funcy\n",
            "  Downloading funcy-1.17-py2.py3-none-any.whl (33 kB)\n",
            "Requirement already satisfied: scipy in /usr/local/lib/python3.7/dist-packages (from pyLDAvis) (1.7.3)\n",
            "Collecting sklearn\n",
            "  Downloading sklearn-0.0.post1.tar.gz (3.6 kB)\n",
            "Requirement already satisfied: numexpr in /usr/local/lib/python3.7/dist-packages (from pyLDAvis) (2.8.4)\n",
            "Requirement already satisfied: python-dateutil>=2.7.3 in /usr/local/lib/python3.7/dist-packages (from pandas>=1.2.0->pyLDAvis) (2.8.2)\n",
            "Requirement already satisfied: pytz>=2017.3 in /usr/local/lib/python3.7/dist-packages (from pandas>=1.2.0->pyLDAvis) (2022.6)\n",
            "Requirement already satisfied: six>=1.5 in /usr/local/lib/python3.7/dist-packages (from python-dateutil>=2.7.3->pandas>=1.2.0->pyLDAvis) (1.15.0)\n",
            "Requirement already satisfied: smart-open>=1.8.1 in /usr/local/lib/python3.7/dist-packages (from gensim->pyLDAvis) (5.2.1)\n",
            "Requirement already satisfied: MarkupSafe>=0.23 in /usr/local/lib/python3.7/dist-packages (from jinja2->pyLDAvis) (2.0.1)\n",
            "Requirement already satisfied: threadpoolctl>=2.0.0 in /usr/local/lib/python3.7/dist-packages (from scikit-learn->pyLDAvis) (3.1.0)\n",
            "Building wheels for collected packages: pyLDAvis, sklearn\n",
            "  Building wheel for pyLDAvis (PEP 517) ... \u001b[?25l\u001b[?25hdone\n",
            "  Created wheel for pyLDAvis: filename=pyLDAvis-3.3.1-py2.py3-none-any.whl size=136898 sha256=cc2e346a1071d6a2d6463c85a1152ac44f07fc20ee9747b7cb10e1ab00e6f868\n",
            "  Stored in directory: /root/.cache/pip/wheels/c9/21/f6/17bcf2667e8a68532ba2fbf6d5c72fdf4c7f7d9abfa4852d2f\n",
            "  Building wheel for sklearn (setup.py) ... \u001b[?25l\u001b[?25hdone\n",
            "  Created wheel for sklearn: filename=sklearn-0.0.post1-py3-none-any.whl size=2344 sha256=c2f42541afcc105ad63cf22eb32437d1ada4e4433aada99d8c7e5ff9bd601177\n",
            "  Stored in directory: /root/.cache/pip/wheels/42/56/cc/4a8bf86613aafd5b7f1b310477667c1fca5c51c3ae4124a003\n",
            "Successfully built pyLDAvis sklearn\n",
            "Installing collected packages: sklearn, funcy, pyLDAvis\n",
            "Successfully installed funcy-1.17 pyLDAvis-3.3.1 sklearn-0.0.post1\n"
          ]
        }
      ]
    },
    {
      "cell_type": "code",
      "execution_count": null,
      "metadata": {
        "colab": {
          "base_uri": "https://localhost:8080/"
        },
        "id": "LgpL0q5AXevu",
        "outputId": "1706bcef-2803-48d2-d3ed-e52d6093936e"
      },
      "outputs": [
        {
          "output_type": "stream",
          "name": "stdout",
          "text": [
            "Looking in indexes: https://pypi.org/simple, https://us-python.pkg.dev/colab-wheels/public/simple/\n",
            "Requirement already satisfied: spacy in /usr/local/lib/python3.7/dist-packages (3.4.3)\n",
            "Requirement already satisfied: pydantic!=1.8,!=1.8.1,<1.11.0,>=1.7.4 in /usr/local/lib/python3.7/dist-packages (from spacy) (1.10.2)\n",
            "Requirement already satisfied: catalogue<2.1.0,>=2.0.6 in /usr/local/lib/python3.7/dist-packages (from spacy) (2.0.8)\n",
            "Requirement already satisfied: wasabi<1.1.0,>=0.9.1 in /usr/local/lib/python3.7/dist-packages (from spacy) (0.10.1)\n",
            "Requirement already satisfied: typer<0.8.0,>=0.3.0 in /usr/local/lib/python3.7/dist-packages (from spacy) (0.7.0)\n",
            "Requirement already satisfied: murmurhash<1.1.0,>=0.28.0 in /usr/local/lib/python3.7/dist-packages (from spacy) (1.0.9)\n",
            "Requirement already satisfied: preshed<3.1.0,>=3.0.2 in /usr/local/lib/python3.7/dist-packages (from spacy) (3.0.8)\n",
            "Requirement already satisfied: thinc<8.2.0,>=8.1.0 in /usr/local/lib/python3.7/dist-packages (from spacy) (8.1.5)\n",
            "Requirement already satisfied: typing-extensions<4.2.0,>=3.7.4 in /usr/local/lib/python3.7/dist-packages (from spacy) (4.1.1)\n",
            "Requirement already satisfied: packaging>=20.0 in /usr/local/lib/python3.7/dist-packages (from spacy) (21.3)\n",
            "Requirement already satisfied: setuptools in /usr/local/lib/python3.7/dist-packages (from spacy) (57.4.0)\n",
            "Requirement already satisfied: spacy-loggers<2.0.0,>=1.0.0 in /usr/local/lib/python3.7/dist-packages (from spacy) (1.0.3)\n",
            "Requirement already satisfied: cymem<2.1.0,>=2.0.2 in /usr/local/lib/python3.7/dist-packages (from spacy) (2.0.7)\n",
            "Requirement already satisfied: requests<3.0.0,>=2.13.0 in /usr/local/lib/python3.7/dist-packages (from spacy) (2.23.0)\n",
            "Requirement already satisfied: spacy-legacy<3.1.0,>=3.0.10 in /usr/local/lib/python3.7/dist-packages (from spacy) (3.0.10)\n",
            "Requirement already satisfied: pathy>=0.3.5 in /usr/local/lib/python3.7/dist-packages (from spacy) (0.8.1)\n",
            "Requirement already satisfied: jinja2 in /usr/local/lib/python3.7/dist-packages (from spacy) (2.11.3)\n",
            "Requirement already satisfied: srsly<3.0.0,>=2.4.3 in /usr/local/lib/python3.7/dist-packages (from spacy) (2.4.5)\n",
            "Requirement already satisfied: langcodes<4.0.0,>=3.2.0 in /usr/local/lib/python3.7/dist-packages (from spacy) (3.3.0)\n",
            "Requirement already satisfied: numpy>=1.15.0 in /usr/local/lib/python3.7/dist-packages (from spacy) (1.21.6)\n",
            "Requirement already satisfied: tqdm<5.0.0,>=4.38.0 in /usr/local/lib/python3.7/dist-packages (from spacy) (4.64.1)\n",
            "Requirement already satisfied: zipp>=0.5 in /usr/local/lib/python3.7/dist-packages (from catalogue<2.1.0,>=2.0.6->spacy) (3.10.0)\n",
            "Requirement already satisfied: pyparsing!=3.0.5,>=2.0.2 in /usr/local/lib/python3.7/dist-packages (from packaging>=20.0->spacy) (3.0.9)\n",
            "Requirement already satisfied: smart-open<6.0.0,>=5.2.1 in /usr/local/lib/python3.7/dist-packages (from pathy>=0.3.5->spacy) (5.2.1)\n",
            "Requirement already satisfied: urllib3!=1.25.0,!=1.25.1,<1.26,>=1.21.1 in /usr/local/lib/python3.7/dist-packages (from requests<3.0.0,>=2.13.0->spacy) (1.24.3)\n",
            "Requirement already satisfied: chardet<4,>=3.0.2 in /usr/local/lib/python3.7/dist-packages (from requests<3.0.0,>=2.13.0->spacy) (3.0.4)\n",
            "Requirement already satisfied: certifi>=2017.4.17 in /usr/local/lib/python3.7/dist-packages (from requests<3.0.0,>=2.13.0->spacy) (2022.9.24)\n",
            "Requirement already satisfied: idna<3,>=2.5 in /usr/local/lib/python3.7/dist-packages (from requests<3.0.0,>=2.13.0->spacy) (2.10)\n",
            "Requirement already satisfied: confection<1.0.0,>=0.0.1 in /usr/local/lib/python3.7/dist-packages (from thinc<8.2.0,>=8.1.0->spacy) (0.0.3)\n",
            "Requirement already satisfied: blis<0.8.0,>=0.7.8 in /usr/local/lib/python3.7/dist-packages (from thinc<8.2.0,>=8.1.0->spacy) (0.7.9)\n",
            "Requirement already satisfied: click<9.0.0,>=7.1.1 in /usr/local/lib/python3.7/dist-packages (from typer<0.8.0,>=0.3.0->spacy) (7.1.2)\n",
            "Requirement already satisfied: MarkupSafe>=0.23 in /usr/local/lib/python3.7/dist-packages (from jinja2->spacy) (2.0.1)\n",
            "2022-11-24 02:08:21.864057: E tensorflow/stream_executor/cuda/cuda_driver.cc:271] failed call to cuInit: CUDA_ERROR_NO_DEVICE: no CUDA-capable device is detected\n",
            "Looking in indexes: https://pypi.org/simple, https://us-python.pkg.dev/colab-wheels/public/simple/\n",
            "Collecting en-core-web-sm==3.4.1\n",
            "  Downloading https://github.com/explosion/spacy-models/releases/download/en_core_web_sm-3.4.1/en_core_web_sm-3.4.1-py3-none-any.whl (12.8 MB)\n",
            "\u001b[K     |████████████████████████████████| 12.8 MB 3.8 MB/s \n",
            "\u001b[?25hRequirement already satisfied: spacy<3.5.0,>=3.4.0 in /usr/local/lib/python3.7/dist-packages (from en-core-web-sm==3.4.1) (3.4.3)\n",
            "Requirement already satisfied: pathy>=0.3.5 in /usr/local/lib/python3.7/dist-packages (from spacy<3.5.0,>=3.4.0->en-core-web-sm==3.4.1) (0.8.1)\n",
            "Requirement already satisfied: spacy-loggers<2.0.0,>=1.0.0 in /usr/local/lib/python3.7/dist-packages (from spacy<3.5.0,>=3.4.0->en-core-web-sm==3.4.1) (1.0.3)\n",
            "Requirement already satisfied: jinja2 in /usr/local/lib/python3.7/dist-packages (from spacy<3.5.0,>=3.4.0->en-core-web-sm==3.4.1) (2.11.3)\n",
            "Requirement already satisfied: spacy-legacy<3.1.0,>=3.0.10 in /usr/local/lib/python3.7/dist-packages (from spacy<3.5.0,>=3.4.0->en-core-web-sm==3.4.1) (3.0.10)\n",
            "Requirement already satisfied: pydantic!=1.8,!=1.8.1,<1.11.0,>=1.7.4 in /usr/local/lib/python3.7/dist-packages (from spacy<3.5.0,>=3.4.0->en-core-web-sm==3.4.1) (1.10.2)\n",
            "Requirement already satisfied: preshed<3.1.0,>=3.0.2 in /usr/local/lib/python3.7/dist-packages (from spacy<3.5.0,>=3.4.0->en-core-web-sm==3.4.1) (3.0.8)\n",
            "Requirement already satisfied: cymem<2.1.0,>=2.0.2 in /usr/local/lib/python3.7/dist-packages (from spacy<3.5.0,>=3.4.0->en-core-web-sm==3.4.1) (2.0.7)\n",
            "Requirement already satisfied: setuptools in /usr/local/lib/python3.7/dist-packages (from spacy<3.5.0,>=3.4.0->en-core-web-sm==3.4.1) (57.4.0)\n",
            "Requirement already satisfied: thinc<8.2.0,>=8.1.0 in /usr/local/lib/python3.7/dist-packages (from spacy<3.5.0,>=3.4.0->en-core-web-sm==3.4.1) (8.1.5)\n",
            "Requirement already satisfied: catalogue<2.1.0,>=2.0.6 in /usr/local/lib/python3.7/dist-packages (from spacy<3.5.0,>=3.4.0->en-core-web-sm==3.4.1) (2.0.8)\n",
            "Requirement already satisfied: typer<0.8.0,>=0.3.0 in /usr/local/lib/python3.7/dist-packages (from spacy<3.5.0,>=3.4.0->en-core-web-sm==3.4.1) (0.7.0)\n",
            "Requirement already satisfied: typing-extensions<4.2.0,>=3.7.4 in /usr/local/lib/python3.7/dist-packages (from spacy<3.5.0,>=3.4.0->en-core-web-sm==3.4.1) (4.1.1)\n",
            "Requirement already satisfied: murmurhash<1.1.0,>=0.28.0 in /usr/local/lib/python3.7/dist-packages (from spacy<3.5.0,>=3.4.0->en-core-web-sm==3.4.1) (1.0.9)\n",
            "Requirement already satisfied: wasabi<1.1.0,>=0.9.1 in /usr/local/lib/python3.7/dist-packages (from spacy<3.5.0,>=3.4.0->en-core-web-sm==3.4.1) (0.10.1)\n",
            "Requirement already satisfied: tqdm<5.0.0,>=4.38.0 in /usr/local/lib/python3.7/dist-packages (from spacy<3.5.0,>=3.4.0->en-core-web-sm==3.4.1) (4.64.1)\n",
            "Requirement already satisfied: srsly<3.0.0,>=2.4.3 in /usr/local/lib/python3.7/dist-packages (from spacy<3.5.0,>=3.4.0->en-core-web-sm==3.4.1) (2.4.5)\n",
            "Requirement already satisfied: requests<3.0.0,>=2.13.0 in /usr/local/lib/python3.7/dist-packages (from spacy<3.5.0,>=3.4.0->en-core-web-sm==3.4.1) (2.23.0)\n",
            "Requirement already satisfied: packaging>=20.0 in /usr/local/lib/python3.7/dist-packages (from spacy<3.5.0,>=3.4.0->en-core-web-sm==3.4.1) (21.3)\n",
            "Requirement already satisfied: numpy>=1.15.0 in /usr/local/lib/python3.7/dist-packages (from spacy<3.5.0,>=3.4.0->en-core-web-sm==3.4.1) (1.21.6)\n",
            "Requirement already satisfied: langcodes<4.0.0,>=3.2.0 in /usr/local/lib/python3.7/dist-packages (from spacy<3.5.0,>=3.4.0->en-core-web-sm==3.4.1) (3.3.0)\n",
            "Requirement already satisfied: zipp>=0.5 in /usr/local/lib/python3.7/dist-packages (from catalogue<2.1.0,>=2.0.6->spacy<3.5.0,>=3.4.0->en-core-web-sm==3.4.1) (3.10.0)\n",
            "Requirement already satisfied: pyparsing!=3.0.5,>=2.0.2 in /usr/local/lib/python3.7/dist-packages (from packaging>=20.0->spacy<3.5.0,>=3.4.0->en-core-web-sm==3.4.1) (3.0.9)\n",
            "Requirement already satisfied: smart-open<6.0.0,>=5.2.1 in /usr/local/lib/python3.7/dist-packages (from pathy>=0.3.5->spacy<3.5.0,>=3.4.0->en-core-web-sm==3.4.1) (5.2.1)\n",
            "Requirement already satisfied: urllib3!=1.25.0,!=1.25.1,<1.26,>=1.21.1 in /usr/local/lib/python3.7/dist-packages (from requests<3.0.0,>=2.13.0->spacy<3.5.0,>=3.4.0->en-core-web-sm==3.4.1) (1.24.3)\n",
            "Requirement already satisfied: certifi>=2017.4.17 in /usr/local/lib/python3.7/dist-packages (from requests<3.0.0,>=2.13.0->spacy<3.5.0,>=3.4.0->en-core-web-sm==3.4.1) (2022.9.24)\n",
            "Requirement already satisfied: idna<3,>=2.5 in /usr/local/lib/python3.7/dist-packages (from requests<3.0.0,>=2.13.0->spacy<3.5.0,>=3.4.0->en-core-web-sm==3.4.1) (2.10)\n",
            "Requirement already satisfied: chardet<4,>=3.0.2 in /usr/local/lib/python3.7/dist-packages (from requests<3.0.0,>=2.13.0->spacy<3.5.0,>=3.4.0->en-core-web-sm==3.4.1) (3.0.4)\n",
            "Requirement already satisfied: blis<0.8.0,>=0.7.8 in /usr/local/lib/python3.7/dist-packages (from thinc<8.2.0,>=8.1.0->spacy<3.5.0,>=3.4.0->en-core-web-sm==3.4.1) (0.7.9)\n",
            "Requirement already satisfied: confection<1.0.0,>=0.0.1 in /usr/local/lib/python3.7/dist-packages (from thinc<8.2.0,>=8.1.0->spacy<3.5.0,>=3.4.0->en-core-web-sm==3.4.1) (0.0.3)\n",
            "Requirement already satisfied: click<9.0.0,>=7.1.1 in /usr/local/lib/python3.7/dist-packages (from typer<0.8.0,>=0.3.0->spacy<3.5.0,>=3.4.0->en-core-web-sm==3.4.1) (7.1.2)\n",
            "Requirement already satisfied: MarkupSafe>=0.23 in /usr/local/lib/python3.7/dist-packages (from jinja2->spacy<3.5.0,>=3.4.0->en-core-web-sm==3.4.1) (2.0.1)\n",
            "\u001b[38;5;2m✔ Download and installation successful\u001b[0m\n",
            "You can now load the package via spacy.load('en_core_web_sm')\n"
          ]
        }
      ],
      "source": [
        "#installing spacy and nesscary package for spacy\n",
        "!pip install spacy\n",
        "!python -m spacy download en_core_web_sm"
      ]
    },
    {
      "cell_type": "code",
      "execution_count": null,
      "metadata": {
        "colab": {
          "base_uri": "https://localhost:8080/"
        },
        "id": "c_ZOgwe2TF7e",
        "outputId": "802ac8ec-84ce-4736-8503-472d74a9e3fa"
      },
      "outputs": [
        {
          "output_type": "stream",
          "name": "stdout",
          "text": [
            "Mounted at /content/drive\n"
          ]
        }
      ],
      "source": [
        "#mount colab since the dataset are put in the google drive\n",
        "#import necessary libraries\n",
        "from google.colab import drive\n",
        "import numpy as np\n",
        "import matplotlib.pyplot as plt\n",
        "from sklearn.feature_extraction.text import CountVectorizer\n",
        "from nltk.corpus import stopwords\n",
        "import spacy\n",
        "import pandas as pd\n",
        "drive.mount('/content/drive')"
      ]
    },
    {
      "cell_type": "markdown",
      "source": [
        "***Explainatory Data Analysis***"
      ],
      "metadata": {
        "id": "Xci8oyuTsI8O"
      }
    },
    {
      "cell_type": "code",
      "execution_count": null,
      "metadata": {
        "id": "HDE5vezMTW7p"
      },
      "outputs": [],
      "source": [
        "#read in the csv for dataset\n",
        "df = pd.read_csv('/content/drive/MyDrive/abcnews-date-text.csv', encoding='utf-8')"
      ]
    },
    {
      "cell_type": "code",
      "execution_count": null,
      "metadata": {
        "colab": {
          "base_uri": "https://localhost:8080/",
          "height": 206
        },
        "id": "7vfimcerTo6z",
        "outputId": "4a97f9b8-e641-4a25-d7cc-a63b9c73dd2c"
      },
      "outputs": [
        {
          "output_type": "execute_result",
          "data": {
            "text/plain": [
              "   publish_date                                      headline_text\n",
              "0      20030219  aba decides against community broadcasting lic...\n",
              "1      20030219     act fire witnesses must be aware of defamation\n",
              "2      20030219     a g calls for infrastructure protection summit\n",
              "3      20030219           air nz staff in aust strike for pay rise\n",
              "4      20030219      air nz strike to affect australian travellers"
            ],
            "text/html": [
              "\n",
              "  <div id=\"df-81300ba8-2c8e-4607-af50-177e409c0e59\">\n",
              "    <div class=\"colab-df-container\">\n",
              "      <div>\n",
              "<style scoped>\n",
              "    .dataframe tbody tr th:only-of-type {\n",
              "        vertical-align: middle;\n",
              "    }\n",
              "\n",
              "    .dataframe tbody tr th {\n",
              "        vertical-align: top;\n",
              "    }\n",
              "\n",
              "    .dataframe thead th {\n",
              "        text-align: right;\n",
              "    }\n",
              "</style>\n",
              "<table border=\"1\" class=\"dataframe\">\n",
              "  <thead>\n",
              "    <tr style=\"text-align: right;\">\n",
              "      <th></th>\n",
              "      <th>publish_date</th>\n",
              "      <th>headline_text</th>\n",
              "    </tr>\n",
              "  </thead>\n",
              "  <tbody>\n",
              "    <tr>\n",
              "      <th>0</th>\n",
              "      <td>20030219</td>\n",
              "      <td>aba decides against community broadcasting lic...</td>\n",
              "    </tr>\n",
              "    <tr>\n",
              "      <th>1</th>\n",
              "      <td>20030219</td>\n",
              "      <td>act fire witnesses must be aware of defamation</td>\n",
              "    </tr>\n",
              "    <tr>\n",
              "      <th>2</th>\n",
              "      <td>20030219</td>\n",
              "      <td>a g calls for infrastructure protection summit</td>\n",
              "    </tr>\n",
              "    <tr>\n",
              "      <th>3</th>\n",
              "      <td>20030219</td>\n",
              "      <td>air nz staff in aust strike for pay rise</td>\n",
              "    </tr>\n",
              "    <tr>\n",
              "      <th>4</th>\n",
              "      <td>20030219</td>\n",
              "      <td>air nz strike to affect australian travellers</td>\n",
              "    </tr>\n",
              "  </tbody>\n",
              "</table>\n",
              "</div>\n",
              "      <button class=\"colab-df-convert\" onclick=\"convertToInteractive('df-81300ba8-2c8e-4607-af50-177e409c0e59')\"\n",
              "              title=\"Convert this dataframe to an interactive table.\"\n",
              "              style=\"display:none;\">\n",
              "        \n",
              "  <svg xmlns=\"http://www.w3.org/2000/svg\" height=\"24px\"viewBox=\"0 0 24 24\"\n",
              "       width=\"24px\">\n",
              "    <path d=\"M0 0h24v24H0V0z\" fill=\"none\"/>\n",
              "    <path d=\"M18.56 5.44l.94 2.06.94-2.06 2.06-.94-2.06-.94-.94-2.06-.94 2.06-2.06.94zm-11 1L8.5 8.5l.94-2.06 2.06-.94-2.06-.94L8.5 2.5l-.94 2.06-2.06.94zm10 10l.94 2.06.94-2.06 2.06-.94-2.06-.94-.94-2.06-.94 2.06-2.06.94z\"/><path d=\"M17.41 7.96l-1.37-1.37c-.4-.4-.92-.59-1.43-.59-.52 0-1.04.2-1.43.59L10.3 9.45l-7.72 7.72c-.78.78-.78 2.05 0 2.83L4 21.41c.39.39.9.59 1.41.59.51 0 1.02-.2 1.41-.59l7.78-7.78 2.81-2.81c.8-.78.8-2.07 0-2.86zM5.41 20L4 18.59l7.72-7.72 1.47 1.35L5.41 20z\"/>\n",
              "  </svg>\n",
              "      </button>\n",
              "      \n",
              "  <style>\n",
              "    .colab-df-container {\n",
              "      display:flex;\n",
              "      flex-wrap:wrap;\n",
              "      gap: 12px;\n",
              "    }\n",
              "\n",
              "    .colab-df-convert {\n",
              "      background-color: #E8F0FE;\n",
              "      border: none;\n",
              "      border-radius: 50%;\n",
              "      cursor: pointer;\n",
              "      display: none;\n",
              "      fill: #1967D2;\n",
              "      height: 32px;\n",
              "      padding: 0 0 0 0;\n",
              "      width: 32px;\n",
              "    }\n",
              "\n",
              "    .colab-df-convert:hover {\n",
              "      background-color: #E2EBFA;\n",
              "      box-shadow: 0px 1px 2px rgba(60, 64, 67, 0.3), 0px 1px 3px 1px rgba(60, 64, 67, 0.15);\n",
              "      fill: #174EA6;\n",
              "    }\n",
              "\n",
              "    [theme=dark] .colab-df-convert {\n",
              "      background-color: #3B4455;\n",
              "      fill: #D2E3FC;\n",
              "    }\n",
              "\n",
              "    [theme=dark] .colab-df-convert:hover {\n",
              "      background-color: #434B5C;\n",
              "      box-shadow: 0px 1px 3px 1px rgba(0, 0, 0, 0.15);\n",
              "      filter: drop-shadow(0px 1px 2px rgba(0, 0, 0, 0.3));\n",
              "      fill: #FFFFFF;\n",
              "    }\n",
              "  </style>\n",
              "\n",
              "      <script>\n",
              "        const buttonEl =\n",
              "          document.querySelector('#df-81300ba8-2c8e-4607-af50-177e409c0e59 button.colab-df-convert');\n",
              "        buttonEl.style.display =\n",
              "          google.colab.kernel.accessAllowed ? 'block' : 'none';\n",
              "\n",
              "        async function convertToInteractive(key) {\n",
              "          const element = document.querySelector('#df-81300ba8-2c8e-4607-af50-177e409c0e59');\n",
              "          const dataTable =\n",
              "            await google.colab.kernel.invokeFunction('convertToInteractive',\n",
              "                                                     [key], {});\n",
              "          if (!dataTable) return;\n",
              "\n",
              "          const docLinkHtml = 'Like what you see? Visit the ' +\n",
              "            '<a target=\"_blank\" href=https://colab.research.google.com/notebooks/data_table.ipynb>data table notebook</a>'\n",
              "            + ' to learn more about interactive tables.';\n",
              "          element.innerHTML = '';\n",
              "          dataTable['output_type'] = 'display_data';\n",
              "          await google.colab.output.renderOutput(dataTable, element);\n",
              "          const docLink = document.createElement('div');\n",
              "          docLink.innerHTML = docLinkHtml;\n",
              "          element.appendChild(docLink);\n",
              "        }\n",
              "      </script>\n",
              "    </div>\n",
              "  </div>\n",
              "  "
            ]
          },
          "metadata": {},
          "execution_count": 7
        }
      ],
      "source": [
        "#show csv contents\n",
        "df.head()"
      ]
    },
    {
      "cell_type": "code",
      "execution_count": 21,
      "metadata": {
        "colab": {
          "base_uri": "https://localhost:8080/"
        },
        "id": "Roy8VQkYUTOo",
        "outputId": "2be6b688-d97c-48c6-8324-c0b29c296a67"
      },
      "outputs": [
        {
          "output_type": "execute_result",
          "data": {
            "text/plain": [
              "0    aba decides against community broadcasting lic...\n",
              "1       act fire witnesses must be aware of defamation\n",
              "2       a g calls for infrastructure protection summit\n",
              "3             air nz staff in aust strike for pay rise\n",
              "4        air nz strike to affect australian travellers\n",
              "Name: headline_text, dtype: object"
            ]
          },
          "metadata": {},
          "execution_count": 21
        }
      ],
      "source": [
        "#only extract the headlines from the data\n",
        "df_headlines=df['headline_text']\n",
        "df_headlines.head()"
      ]
    },
    {
      "cell_type": "code",
      "execution_count": null,
      "metadata": {
        "id": "cyK5F10lWje2"
      },
      "outputs": [],
      "source": [
        "#define a function that will return a list of counts for each row of headlines\n",
        "def count_words(data):\n",
        "  #create an empty list\n",
        "  counts=[]\n",
        "  #start iteration count the number of words in each line of headlines and append it to the empty list\n",
        "  for i in range(len(data)):\n",
        "    counts.append(len(data[i].split()))\n",
        "  #return the list\n",
        "  return counts\n",
        "word_count_list=count_words(df_headlines)"
      ]
    },
    {
      "cell_type": "code",
      "execution_count": null,
      "metadata": {
        "colab": {
          "base_uri": "https://localhost:8080/"
        },
        "id": "udXsZYbSjgrX",
        "outputId": "a3127a87-1722-40dd-959d-93c111f0e5c3"
      },
      "outputs": [
        {
          "output_type": "stream",
          "name": "stdout",
          "text": [
            "The average word count length of the document is:  6.557522842280563\n",
            "The maximum length of the document is:  15\n",
            "The minimum length of the document is:  1\n",
            "The total length of the document is:  8158765\n"
          ]
        }
      ],
      "source": [
        "#calculate the mean of the word length\n",
        "mean_word_count = np.mean(word_count_list)\n",
        "#calculate the max of the word length\n",
        "max_word_count = np.max(word_count_list)\n",
        "#calculate the min of the word length\n",
        "min_word_count = np.min(word_count_list)\n",
        "#calculate the total of the word length\n",
        "total_word_count = np.sum(word_count_list)\n",
        "print(f'The average word count length of the document is: ', mean_word_count)\n",
        "print(f'The maximum length of the document is: ', max_word_count)\n",
        "print(f'The minimum length of the document is: ', min_word_count)\n",
        "print(f'The total length of the document is: ', total_word_count)"
      ]
    },
    {
      "cell_type": "code",
      "execution_count": 14,
      "metadata": {
        "id": "bSSqeWID0qYX"
      },
      "outputs": [],
      "source": [
        "#calculate the number of headlines in the dataset\n",
        "def list_of_text(dataset):\n",
        "  result =[]\n",
        "  for i in range(len(dataset)):\n",
        "    result.append(dataset[i])\n",
        "  return result"
      ]
    },
    {
      "cell_type": "code",
      "execution_count": 15,
      "metadata": {
        "colab": {
          "base_uri": "https://localhost:8080/"
        },
        "id": "1rSbakpp1FIX",
        "outputId": "01cf3ec3-fa82-4785-e1c9-39ad005d3713"
      },
      "outputs": [
        {
          "output_type": "execute_result",
          "data": {
            "text/plain": [
              "1244184"
            ]
          },
          "metadata": {},
          "execution_count": 15
        }
      ],
      "source": [
        "headlines_list = list_of_text(df_headlines)\n",
        "len(headlines_list)"
      ]
    },
    {
      "cell_type": "code",
      "execution_count": null,
      "metadata": {
        "colab": {
          "base_uri": "https://localhost:8080/",
          "height": 513
        },
        "id": "aqezr1m3nVtG",
        "outputId": "b09bfb8d-76a5-4d23-d7e1-d637cadcfd16"
      },
      "outputs": [
        {
          "output_type": "display_data",
          "data": {
            "text/plain": [
              "<Figure size 1296x576 with 1 Axes>"
            ],
            "image/png": "[encoded data removed]"
          },
          "metadata": {
            "needs_background": "light"
          }
        }
      ],
      "source": [
        "#setup plots size\n",
        "fig, ax = plt.subplots(figsize=(18,8))\n",
        "#use histogram to plot out the distribution of the headline word lengths\n",
        "ax.hist(word_count_list, bins=range(1,14) )\n",
        "#create a title\n",
        "ax.set_title('Headline word lengths')\n",
        "ax.set_xticks(range(1,14))\n",
        "#set the x-axis and y-axis name\n",
        "ax.set_xlabel('Number of words')\n",
        "ax.set_ylabel('Occurance')\n",
        "plt.show()"
      ]
    },
    {
      "cell_type": "code",
      "execution_count": 25,
      "metadata": {
        "id": "1vVlVaIJwWT4"
      },
      "outputs": [],
      "source": [
        "#import count vertorization to count the frequency of occurrance for each word\n",
        "count_vectorizer = CountVectorizer()\n",
        "headlines_word_count_vectorizer = count_vectorizer.fit_transform(headlines_list)\n",
        "words = count_vectorizer.get_feature_names()"
      ]
    },
    {
      "cell_type": "code",
      "execution_count": 26,
      "metadata": {
        "colab": {
          "base_uri": "https://localhost:8080/",
          "height": 513
        },
        "id": "oul4Qmif35kb",
        "outputId": "2ae53de1-c1a8-4e73-b8da-fe6f4f4705a0"
      },
      "outputs": [
        {
          "output_type": "display_data",
          "data": {
            "text/plain": [
              "<Figure size 1152x576 with 1 Axes>"
            ],
            "image/png": "[encoded data removed]"
          },
          "metadata": {
            "needs_background": "light"
          }
        }
      ],
      "source": [
        "#sum the word on the row axis to obtain the total number of occurance in each word\n",
        "sum_of_words=headlines_word_count_vectorizer.sum(axis=0)\n",
        "#convert the list into array\n",
        "sum_of_word_list = np.squeeze(np.asarray(sum_of_words))\n",
        "#sort the number of occurance \n",
        "sorted_sum_of_words = np.sort(np.squeeze(np.asarray(sum_of_words)))\n",
        "#get the index of the corresponding sorted words\n",
        "sorted_sum_of_words_index = np.argsort(np.squeeze(np.asarray(sum_of_words)))\n",
        "#get the top 20 words occurance and its corresponding words\n",
        "top_20_words=[words[i] for i in sorted_sum_of_words_index][-20:]\n",
        "top_20_words_occurrance = [sorted_sum_of_words[i] for i in range(len(sorted_sum_of_words))][-20:]\n",
        "#set the figure size\n",
        "fig, ax = plt.subplots(figsize=(16,8))\n",
        "#set the title of the plot\n",
        "ax.set_title('Frequency of occurrance for each word')\n",
        "#use bar graph to plot out the top_20_results\n",
        "ax.bar(top_20_words, top_20_words_occurrance)\n",
        "#set the x and y labels\n",
        "ax.set_xlabel('Words')\n",
        "ax.set_ylabel('Occurance')\n",
        "plt.show()"
      ]
    },
    {
      "cell_type": "markdown",
      "source": [
        "***Data Preprocessing***"
      ],
      "metadata": {
        "id": "7EfbnNajr6IP"
      }
    },
    {
      "cell_type": "code",
      "execution_count": 27,
      "metadata": {
        "colab": {
          "base_uri": "https://localhost:8080/"
        },
        "id": "h-o2CIVYZ7hD",
        "outputId": "cfd06440-280c-4dd8-e598-243597eae280"
      },
      "outputs": [
        {
          "output_type": "execute_result",
          "data": {
            "text/plain": [
              "(1244184,)"
            ]
          },
          "metadata": {},
          "execution_count": 27
        }
      ],
      "source": [
        "#return the number of headlines\n",
        "df_headlines.shape"
      ]
    },
    {
      "cell_type": "code",
      "execution_count": 28,
      "metadata": {
        "colab": {
          "base_uri": "https://localhost:8080/"
        },
        "id": "BMp41ypiQcVf",
        "outputId": "ec66a087-df71-4a21-8c81-99ad2defc268"
      },
      "outputs": [
        {
          "output_type": "execute_result",
          "data": {
            "text/plain": [
              "(1213004,)"
            ]
          },
          "metadata": {},
          "execution_count": 28
        }
      ],
      "source": [
        "#return the number of headlines after removing duplicates\n",
        "df_headlines_no_duplicates=df_headlines.drop_duplicates()\n",
        "df_headlines_no_duplicates.shape"
      ]
    },
    {
      "cell_type": "code",
      "execution_count": 29,
      "metadata": {
        "id": "nWWP2JLnauVG"
      },
      "outputs": [],
      "source": [
        "#load in spacy\n",
        "nlp = spacy.load(\"en_core_web_sm\")\n",
        "#set all the words in the headlines to lowercase\n",
        "def lower_case(s):\n",
        "  s_lower=s.lower()\n",
        "  return s_lower"
      ]
    },
    {
      "cell_type": "code",
      "execution_count": 30,
      "metadata": {
        "id": "IlXIfAfDe6tm"
      },
      "outputs": [],
      "source": [
        "#apply the lowercase function to the dataset\n",
        "df_headlines_lower_case = df_headlines_no_duplicates.apply(lower_case)"
      ]
    },
    {
      "cell_type": "code",
      "execution_count": 32,
      "metadata": {
        "colab": {
          "base_uri": "https://localhost:8080/"
        },
        "id": "mlSM7nn4oRwi",
        "outputId": "c6c06760-b2a3-403f-ea60-d485ca667a16"
      },
      "outputs": [
        {
          "output_type": "stream",
          "name": "stderr",
          "text": [
            "[nltk_data] Downloading package stopwords to /root/nltk_data...\n",
            "[nltk_data]   Package stopwords is already up-to-date!\n",
            "[nltk_data] Downloading package punkt to /root/nltk_data...\n",
            "[nltk_data]   Unzipping tokenizers/punkt.zip.\n"
          ]
        }
      ],
      "source": [
        "from nltk.corpus.reader.tagged import word_tokenize\n",
        "import nltk\n",
        "#downloade the nltk necessary packages for removing the stop words\n",
        "nltk.download('stopwords')\n",
        "nltk.download('punkt')\n",
        "def stop_words(s):\n",
        "  #tokenize all of the words into sets of list\n",
        "  tokenize = word_tokenize(s)\n",
        "  #load in the sets of stopwords\n",
        "  stop_words = set(stopwords.words('english'))\n",
        "  #remove the stopwords in the list\n",
        "  result = [word for word in tokenize if not word in stop_words]\n",
        "  #join back the lists into string\n",
        "  out = \" \".join(result)\n",
        "  return out\n",
        "df_headlines_lower_case=df_headlines_lower_case.apply(stop_words)\n"
      ]
    },
    {
      "cell_type": "code",
      "execution_count": 33,
      "metadata": {
        "colab": {
          "base_uri": "https://localhost:8080/"
        },
        "id": "-qtKwZxap3fo",
        "outputId": "c53a00c1-dccb-40fa-f677-e82e222bb4b3"
      },
      "outputs": [
        {
          "output_type": "execute_result",
          "data": {
            "text/plain": [
              "0                 aba decides community broadcasting licence\n",
              "1                   act fire witnesses must aware defamation\n",
              "2                   g calls infrastructure protection summit\n",
              "3                          air nz staff aust strike pay rise\n",
              "4                 air nz strike affect australian travellers\n",
              "                                 ...                        \n",
              "1244179    two aged care residents die state records 2 ; 093\n",
              "1244180      victoria records 5 ; 919 new cases seven deaths\n",
              "1244181      wa delays adopting new close contact definition\n",
              "1244182    western ringtail possums found badly dehydrate...\n",
              "1244183                  makes close covid contact new rules\n",
              "Name: headline_text, Length: 1213004, dtype: object"
            ]
          },
          "metadata": {},
          "execution_count": 33
        }
      ],
      "source": [
        "#show the results\n",
        "df_headlines_lower_case"
      ]
    },
    {
      "cell_type": "code",
      "execution_count": 34,
      "metadata": {
        "colab": {
          "base_uri": "https://localhost:8080/"
        },
        "id": "oL5Nt0r6p4Cy",
        "outputId": "79f8db13-4c25-4cd6-bda2-e5a32b7dec13"
      },
      "outputs": [
        {
          "output_type": "stream",
          "name": "stderr",
          "text": [
            "/usr/local/lib/python3.7/dist-packages/ipykernel_launcher.py:5: DeprecationWarning: [W107] The property `Doc.is_parsed` is deprecated. Use `Doc.has_annotation(\"DEP\")` instead.\n",
            "  \"\"\"\n"
          ]
        }
      ],
      "source": [
        "lemma_result=[]\n",
        "#use spacy to do lemmatizations on the dataset\n",
        "#the following codes use reference but with modifications: https://stackoverflow.com/questions/44395656/applying-spacy-parser-to-pandas-dataframe-w-multiprocessing\n",
        "for doc in nlp.pipe(df_headlines_lower_case.astype('unicode').values, batch_size=100, n_process=3):\n",
        "  if doc.is_parsed:\n",
        "    lemma_result.append([i.lemma_ for i in doc])\n",
        "df_headlines_lower_case['lemma']=lemma_result"
      ]
    },
    {
      "cell_type": "code",
      "execution_count": 35,
      "metadata": {
        "id": "la0HozhayEbt"
      },
      "outputs": [],
      "source": [
        "#append the output lemmatization to the dataset with the column name lemma\n",
        "df_headlines_preprocessed=pd.DataFrame(df_headlines_lower_case['lemma'])"
      ]
    },
    {
      "cell_type": "code",
      "execution_count": 36,
      "metadata": {
        "colab": {
          "base_uri": "https://localhost:8080/",
          "height": 206
        },
        "id": "8c8UMcLZ0pCb",
        "outputId": "cc1f5f9e-bcea-4afa-9452-a0cff0dd3dca"
      },
      "outputs": [
        {
          "output_type": "execute_result",
          "data": {
            "text/plain": [
              "    0       1               2             3           4           5     6   \\\n",
              "0  aba  decide       community  broadcasting     licence        None  None   \n",
              "1  act    fire         witness          must       aware  defamation  None   \n",
              "2    g    call  infrastructure    protection      summit        None  None   \n",
              "3  air      nz           staff          aust      strike         pay  rise   \n",
              "4  air      nz          strike        affect  australian   traveller  None   \n",
              "\n",
              "     7     8     9     10    11    12  \n",
              "0  None  None  None  None  None  None  \n",
              "1  None  None  None  None  None  None  \n",
              "2  None  None  None  None  None  None  \n",
              "3  None  None  None  None  None  None  \n",
              "4  None  None  None  None  None  None  "
            ],
            "text/html": [
              "\n",
              "  <div id=\"df-e66d50f6-339b-4b14-97dc-2fd4a8da6958\">\n",
              "    <div class=\"colab-df-container\">\n",
              "      <div>\n",
              "<style scoped>\n",
              "    .dataframe tbody tr th:only-of-type {\n",
              "        vertical-align: middle;\n",
              "    }\n",
              "\n",
              "    .dataframe tbody tr th {\n",
              "        vertical-align: top;\n",
              "    }\n",
              "\n",
              "    .dataframe thead th {\n",
              "        text-align: right;\n",
              "    }\n",
              "</style>\n",
              "<table border=\"1\" class=\"dataframe\">\n",
              "  <thead>\n",
              "    <tr style=\"text-align: right;\">\n",
              "      <th></th>\n",
              "      <th>0</th>\n",
              "      <th>1</th>\n",
              "      <th>2</th>\n",
              "      <th>3</th>\n",
              "      <th>4</th>\n",
              "      <th>5</th>\n",
              "      <th>6</th>\n",
              "      <th>7</th>\n",
              "      <th>8</th>\n",
              "      <th>9</th>\n",
              "      <th>10</th>\n",
              "      <th>11</th>\n",
              "      <th>12</th>\n",
              "    </tr>\n",
              "  </thead>\n",
              "  <tbody>\n",
              "    <tr>\n",
              "      <th>0</th>\n",
              "      <td>aba</td>\n",
              "      <td>decide</td>\n",
              "      <td>community</td>\n",
              "      <td>broadcasting</td>\n",
              "      <td>licence</td>\n",
              "      <td>None</td>\n",
              "      <td>None</td>\n",
              "      <td>None</td>\n",
              "      <td>None</td>\n",
              "      <td>None</td>\n",
              "      <td>None</td>\n",
              "      <td>None</td>\n",
              "      <td>None</td>\n",
              "    </tr>\n",
              "    <tr>\n",
              "      <th>1</th>\n",
              "      <td>act</td>\n",
              "      <td>fire</td>\n",
              "      <td>witness</td>\n",
              "      <td>must</td>\n",
              "      <td>aware</td>\n",
              "      <td>defamation</td>\n",
              "      <td>None</td>\n",
              "      <td>None</td>\n",
              "      <td>None</td>\n",
              "      <td>None</td>\n",
              "      <td>None</td>\n",
              "      <td>None</td>\n",
              "      <td>None</td>\n",
              "    </tr>\n",
              "    <tr>\n",
              "      <th>2</th>\n",
              "      <td>g</td>\n",
              "      <td>call</td>\n",
              "      <td>infrastructure</td>\n",
              "      <td>protection</td>\n",
              "      <td>summit</td>\n",
              "      <td>None</td>\n",
              "      <td>None</td>\n",
              "      <td>None</td>\n",
              "      <td>None</td>\n",
              "      <td>None</td>\n",
              "      <td>None</td>\n",
              "      <td>None</td>\n",
              "      <td>None</td>\n",
              "    </tr>\n",
              "    <tr>\n",
              "      <th>3</th>\n",
              "      <td>air</td>\n",
              "      <td>nz</td>\n",
              "      <td>staff</td>\n",
              "      <td>aust</td>\n",
              "      <td>strike</td>\n",
              "      <td>pay</td>\n",
              "      <td>rise</td>\n",
              "      <td>None</td>\n",
              "      <td>None</td>\n",
              "      <td>None</td>\n",
              "      <td>None</td>\n",
              "      <td>None</td>\n",
              "      <td>None</td>\n",
              "    </tr>\n",
              "    <tr>\n",
              "      <th>4</th>\n",
              "      <td>air</td>\n",
              "      <td>nz</td>\n",
              "      <td>strike</td>\n",
              "      <td>affect</td>\n",
              "      <td>australian</td>\n",
              "      <td>traveller</td>\n",
              "      <td>None</td>\n",
              "      <td>None</td>\n",
              "      <td>None</td>\n",
              "      <td>None</td>\n",
              "      <td>None</td>\n",
              "      <td>None</td>\n",
              "      <td>None</td>\n",
              "    </tr>\n",
              "  </tbody>\n",
              "</table>\n",
              "</div>\n",
              "      <button class=\"colab-df-convert\" onclick=\"convertToInteractive('df-e66d50f6-339b-4b14-97dc-2fd4a8da6958')\"\n",
              "              title=\"Convert this dataframe to an interactive table.\"\n",
              "              style=\"display:none;\">\n",
              "        \n",
              "  <svg xmlns=\"http://www.w3.org/2000/svg\" height=\"24px\"viewBox=\"0 0 24 24\"\n",
              "       width=\"24px\">\n",
              "    <path d=\"M0 0h24v24H0V0z\" fill=\"none\"/>\n",
              "    <path d=\"M18.56 5.44l.94 2.06.94-2.06 2.06-.94-2.06-.94-.94-2.06-.94 2.06-2.06.94zm-11 1L8.5 8.5l.94-2.06 2.06-.94-2.06-.94L8.5 2.5l-.94 2.06-2.06.94zm10 10l.94 2.06.94-2.06 2.06-.94-2.06-.94-.94-2.06-.94 2.06-2.06.94z\"/><path d=\"M17.41 7.96l-1.37-1.37c-.4-.4-.92-.59-1.43-.59-.52 0-1.04.2-1.43.59L10.3 9.45l-7.72 7.72c-.78.78-.78 2.05 0 2.83L4 21.41c.39.39.9.59 1.41.59.51 0 1.02-.2 1.41-.59l7.78-7.78 2.81-2.81c.8-.78.8-2.07 0-2.86zM5.41 20L4 18.59l7.72-7.72 1.47 1.35L5.41 20z\"/>\n",
              "  </svg>\n",
              "      </button>\n",
              "      \n",
              "  <style>\n",
              "    .colab-df-container {\n",
              "      display:flex;\n",
              "      flex-wrap:wrap;\n",
              "      gap: 12px;\n",
              "    }\n",
              "\n",
              "    .colab-df-convert {\n",
              "      background-color: #E8F0FE;\n",
              "      border: none;\n",
              "      border-radius: 50%;\n",
              "      cursor: pointer;\n",
              "      display: none;\n",
              "      fill: #1967D2;\n",
              "      height: 32px;\n",
              "      padding: 0 0 0 0;\n",
              "      width: 32px;\n",
              "    }\n",
              "\n",
              "    .colab-df-convert:hover {\n",
              "      background-color: #E2EBFA;\n",
              "      box-shadow: 0px 1px 2px rgba(60, 64, 67, 0.3), 0px 1px 3px 1px rgba(60, 64, 67, 0.15);\n",
              "      fill: #174EA6;\n",
              "    }\n",
              "\n",
              "    [theme=dark] .colab-df-convert {\n",
              "      background-color: #3B4455;\n",
              "      fill: #D2E3FC;\n",
              "    }\n",
              "\n",
              "    [theme=dark] .colab-df-convert:hover {\n",
              "      background-color: #434B5C;\n",
              "      box-shadow: 0px 1px 3px 1px rgba(0, 0, 0, 0.15);\n",
              "      filter: drop-shadow(0px 1px 2px rgba(0, 0, 0, 0.3));\n",
              "      fill: #FFFFFF;\n",
              "    }\n",
              "  </style>\n",
              "\n",
              "      <script>\n",
              "        const buttonEl =\n",
              "          document.querySelector('#df-e66d50f6-339b-4b14-97dc-2fd4a8da6958 button.colab-df-convert');\n",
              "        buttonEl.style.display =\n",
              "          google.colab.kernel.accessAllowed ? 'block' : 'none';\n",
              "\n",
              "        async function convertToInteractive(key) {\n",
              "          const element = document.querySelector('#df-e66d50f6-339b-4b14-97dc-2fd4a8da6958');\n",
              "          const dataTable =\n",
              "            await google.colab.kernel.invokeFunction('convertToInteractive',\n",
              "                                                     [key], {});\n",
              "          if (!dataTable) return;\n",
              "\n",
              "          const docLinkHtml = 'Like what you see? Visit the ' +\n",
              "            '<a target=\"_blank\" href=https://colab.research.google.com/notebooks/data_table.ipynb>data table notebook</a>'\n",
              "            + ' to learn more about interactive tables.';\n",
              "          element.innerHTML = '';\n",
              "          dataTable['output_type'] = 'display_data';\n",
              "          await google.colab.output.renderOutput(dataTable, element);\n",
              "          const docLink = document.createElement('div');\n",
              "          docLink.innerHTML = docLinkHtml;\n",
              "          element.appendChild(docLink);\n",
              "        }\n",
              "      </script>\n",
              "    </div>\n",
              "  </div>\n",
              "  "
            ]
          },
          "metadata": {},
          "execution_count": 36
        }
      ],
      "source": [
        "#show the results\n",
        "df_headlines_preprocessed.head()"
      ]
    },
    {
      "cell_type": "code",
      "execution_count": 37,
      "metadata": {
        "id": "bJ0TknpyM2S3"
      },
      "outputs": [],
      "source": [
        "#Do a intermediate to the preprocessed data\n",
        "df_headlines_preprocessed.to_csv('/content/drive/MyDrive/preprocessed_abc_1.csv')"
      ]
    },
    {
      "cell_type": "code",
      "execution_count": 38,
      "metadata": {
        "id": "GhR3nQFQDhwg"
      },
      "outputs": [],
      "source": [
        "#Read from preprocessed data and convert every new line to list\n",
        "import csv\n",
        "with open('/content/drive/MyDrive/preprocessed_abc_1.csv', newline='') as preprocessed_data:\n",
        "    data = list(csv.reader(preprocessed_data))"
      ]
    },
    {
      "cell_type": "code",
      "execution_count": 39,
      "metadata": {
        "colab": {
          "base_uri": "https://localhost:8080/"
        },
        "id": "hXE3bFOygapG",
        "outputId": "3c052a52-f7a2-4721-941b-f7cc81d46a02"
      },
      "outputs": [
        {
          "output_type": "execute_result",
          "data": {
            "text/plain": [
              "['4',\n",
              " 'air',\n",
              " 'nz',\n",
              " 'strike',\n",
              " 'affect',\n",
              " 'australian',\n",
              " 'traveller',\n",
              " '',\n",
              " '',\n",
              " '',\n",
              " '',\n",
              " '',\n",
              " '',\n",
              " '']"
            ]
          },
          "metadata": {},
          "execution_count": 39
        }
      ],
      "source": [
        "#look into the data\n",
        "data[5]"
      ]
    },
    {
      "cell_type": "code",
      "execution_count": 40,
      "metadata": {
        "id": "oRlxyfTZc9IK"
      },
      "outputs": [],
      "source": [
        "#remove the first element in the list, since it is a header\n",
        "for index in range(len(data)):\n",
        "  data[index].pop(0)"
      ]
    },
    {
      "cell_type": "code",
      "execution_count": 41,
      "metadata": {
        "id": "uJv7TLd1dxDV"
      },
      "outputs": [],
      "source": [
        "#filter out the NONE elements in the list\n",
        "data =[list(filter(None, i)) for i in data]\n",
        "del data[0]"
      ]
    },
    {
      "cell_type": "code",
      "execution_count": 42,
      "metadata": {
        "colab": {
          "base_uri": "https://localhost:8080/"
        },
        "id": "9YCvnWGsgeu0",
        "outputId": "9c90ad39-5969-4f11-aac9-8a078dbe26dd"
      },
      "outputs": [
        {
          "output_type": "execute_result",
          "data": {
            "text/plain": [
              "['air', 'nz', 'strike', 'affect', 'australian', 'traveller']"
            ]
          },
          "metadata": {},
          "execution_count": 42
        }
      ],
      "source": [
        "#look into the data\n",
        "data[4]"
      ]
    },
    {
      "cell_type": "code",
      "execution_count": 43,
      "metadata": {
        "id": "8a-b5j2cjKpK"
      },
      "outputs": [],
      "source": [
        "#filter out the number of words length is smaller equal to 2\n",
        "data =[list(filter(lambda element: len(element)!=2, i)) for i in data]\n",
        "data =[list(filter(lambda element: len(element)!=1, i)) for i in data]"
      ]
    },
    {
      "cell_type": "code",
      "execution_count": 44,
      "metadata": {
        "id": "ODLnGsi4iR1h"
      },
      "outputs": [],
      "source": [
        "#save it into the pandas frameworks\n",
        "df_headlines_final=pd.DataFrame(list(zip(data)), columns=['headlines_array'])"
      ]
    },
    {
      "cell_type": "code",
      "execution_count": 45,
      "metadata": {
        "colab": {
          "base_uri": "https://localhost:8080/",
          "height": 206
        },
        "id": "UdtENbK7ipZq",
        "outputId": "1f653cac-5e0f-4cc0-bd5c-552b14feaa0b"
      },
      "outputs": [
        {
          "output_type": "execute_result",
          "data": {
            "text/plain": [
              "                                   headlines_array\n",
              "0  [aba, decide, community, broadcasting, licence]\n",
              "1    [act, fire, witness, must, aware, defamation]\n",
              "2       [call, infrastructure, protection, summit]\n",
              "3            [air, staff, aust, strike, pay, rise]\n",
              "4     [air, strike, affect, australian, traveller]"
            ],
            "text/html": [
              "\n",
              "  <div id=\"df-6eb89a4d-eec1-4ed7-bf2b-7a6e7a54868b\">\n",
              "    <div class=\"colab-df-container\">\n",
              "      <div>\n",
              "<style scoped>\n",
              "    .dataframe tbody tr th:only-of-type {\n",
              "        vertical-align: middle;\n",
              "    }\n",
              "\n",
              "    .dataframe tbody tr th {\n",
              "        vertical-align: top;\n",
              "    }\n",
              "\n",
              "    .dataframe thead th {\n",
              "        text-align: right;\n",
              "    }\n",
              "</style>\n",
              "<table border=\"1\" class=\"dataframe\">\n",
              "  <thead>\n",
              "    <tr style=\"text-align: right;\">\n",
              "      <th></th>\n",
              "      <th>headlines_array</th>\n",
              "    </tr>\n",
              "  </thead>\n",
              "  <tbody>\n",
              "    <tr>\n",
              "      <th>0</th>\n",
              "      <td>[aba, decide, community, broadcasting, licence]</td>\n",
              "    </tr>\n",
              "    <tr>\n",
              "      <th>1</th>\n",
              "      <td>[act, fire, witness, must, aware, defamation]</td>\n",
              "    </tr>\n",
              "    <tr>\n",
              "      <th>2</th>\n",
              "      <td>[call, infrastructure, protection, summit]</td>\n",
              "    </tr>\n",
              "    <tr>\n",
              "      <th>3</th>\n",
              "      <td>[air, staff, aust, strike, pay, rise]</td>\n",
              "    </tr>\n",
              "    <tr>\n",
              "      <th>4</th>\n",
              "      <td>[air, strike, affect, australian, traveller]</td>\n",
              "    </tr>\n",
              "  </tbody>\n",
              "</table>\n",
              "</div>\n",
              "      <button class=\"colab-df-convert\" onclick=\"convertToInteractive('df-6eb89a4d-eec1-4ed7-bf2b-7a6e7a54868b')\"\n",
              "              title=\"Convert this dataframe to an interactive table.\"\n",
              "              style=\"display:none;\">\n",
              "        \n",
              "  <svg xmlns=\"http://www.w3.org/2000/svg\" height=\"24px\"viewBox=\"0 0 24 24\"\n",
              "       width=\"24px\">\n",
              "    <path d=\"M0 0h24v24H0V0z\" fill=\"none\"/>\n",
              "    <path d=\"M18.56 5.44l.94 2.06.94-2.06 2.06-.94-2.06-.94-.94-2.06-.94 2.06-2.06.94zm-11 1L8.5 8.5l.94-2.06 2.06-.94-2.06-.94L8.5 2.5l-.94 2.06-2.06.94zm10 10l.94 2.06.94-2.06 2.06-.94-2.06-.94-.94-2.06-.94 2.06-2.06.94z\"/><path d=\"M17.41 7.96l-1.37-1.37c-.4-.4-.92-.59-1.43-.59-.52 0-1.04.2-1.43.59L10.3 9.45l-7.72 7.72c-.78.78-.78 2.05 0 2.83L4 21.41c.39.39.9.59 1.41.59.51 0 1.02-.2 1.41-.59l7.78-7.78 2.81-2.81c.8-.78.8-2.07 0-2.86zM5.41 20L4 18.59l7.72-7.72 1.47 1.35L5.41 20z\"/>\n",
              "  </svg>\n",
              "      </button>\n",
              "      \n",
              "  <style>\n",
              "    .colab-df-container {\n",
              "      display:flex;\n",
              "      flex-wrap:wrap;\n",
              "      gap: 12px;\n",
              "    }\n",
              "\n",
              "    .colab-df-convert {\n",
              "      background-color: #E8F0FE;\n",
              "      border: none;\n",
              "      border-radius: 50%;\n",
              "      cursor: pointer;\n",
              "      display: none;\n",
              "      fill: #1967D2;\n",
              "      height: 32px;\n",
              "      padding: 0 0 0 0;\n",
              "      width: 32px;\n",
              "    }\n",
              "\n",
              "    .colab-df-convert:hover {\n",
              "      background-color: #E2EBFA;\n",
              "      box-shadow: 0px 1px 2px rgba(60, 64, 67, 0.3), 0px 1px 3px 1px rgba(60, 64, 67, 0.15);\n",
              "      fill: #174EA6;\n",
              "    }\n",
              "\n",
              "    [theme=dark] .colab-df-convert {\n",
              "      background-color: #3B4455;\n",
              "      fill: #D2E3FC;\n",
              "    }\n",
              "\n",
              "    [theme=dark] .colab-df-convert:hover {\n",
              "      background-color: #434B5C;\n",
              "      box-shadow: 0px 1px 3px 1px rgba(0, 0, 0, 0.15);\n",
              "      filter: drop-shadow(0px 1px 2px rgba(0, 0, 0, 0.3));\n",
              "      fill: #FFFFFF;\n",
              "    }\n",
              "  </style>\n",
              "\n",
              "      <script>\n",
              "        const buttonEl =\n",
              "          document.querySelector('#df-6eb89a4d-eec1-4ed7-bf2b-7a6e7a54868b button.colab-df-convert');\n",
              "        buttonEl.style.display =\n",
              "          google.colab.kernel.accessAllowed ? 'block' : 'none';\n",
              "\n",
              "        async function convertToInteractive(key) {\n",
              "          const element = document.querySelector('#df-6eb89a4d-eec1-4ed7-bf2b-7a6e7a54868b');\n",
              "          const dataTable =\n",
              "            await google.colab.kernel.invokeFunction('convertToInteractive',\n",
              "                                                     [key], {});\n",
              "          if (!dataTable) return;\n",
              "\n",
              "          const docLinkHtml = 'Like what you see? Visit the ' +\n",
              "            '<a target=\"_blank\" href=https://colab.research.google.com/notebooks/data_table.ipynb>data table notebook</a>'\n",
              "            + ' to learn more about interactive tables.';\n",
              "          element.innerHTML = '';\n",
              "          dataTable['output_type'] = 'display_data';\n",
              "          await google.colab.output.renderOutput(dataTable, element);\n",
              "          const docLink = document.createElement('div');\n",
              "          docLink.innerHTML = docLinkHtml;\n",
              "          element.appendChild(docLink);\n",
              "        }\n",
              "      </script>\n",
              "    </div>\n",
              "  </div>\n",
              "  "
            ]
          },
          "metadata": {},
          "execution_count": 45
        }
      ],
      "source": [
        "#display the results\n",
        "df_headlines_final.head()"
      ]
    },
    {
      "cell_type": "code",
      "execution_count": 46,
      "metadata": {
        "id": "0d2dg-j8w2BJ"
      },
      "outputs": [],
      "source": [
        "from gensim import corpora, models\n",
        "#load in gensim and convert the each list of headlines into dictionary\n",
        "dict_of_inputs = corpora.Dictionary(df_headlines_final['headlines_array'])"
      ]
    },
    {
      "cell_type": "code",
      "execution_count": 47,
      "metadata": {
        "id": "PdjtGNm9yc5K"
      },
      "outputs": [],
      "source": [
        "#convert the list of words into bag-of-words\n",
        "input_corpous=[dict_of_inputs.doc2bow(input) for input in df_headlines_final['headlines_array']]"
      ]
    },
    {
      "cell_type": "code",
      "execution_count": 49,
      "metadata": {
        "id": "u7UzMPuyzQwE"
      },
      "outputs": [],
      "source": [
        "#load TF-IDF vectorization.\n",
        "model = models.TfidfModel(input_corpous)"
      ]
    },
    {
      "cell_type": "code",
      "execution_count": 50,
      "metadata": {
        "id": "okVI06nQ0kC0"
      },
      "outputs": [],
      "source": [
        "#transform the input data\n",
        "tfidf_input=model[input_corpous]"
      ]
    },
    {
      "cell_type": "code",
      "execution_count": 51,
      "metadata": {
        "colab": {
          "base_uri": "https://localhost:8080/"
        },
        "id": "ICVcUCOL01XX",
        "outputId": "65df49ab-2f0b-4774-f3ea-cf8aae3a753a"
      },
      "outputs": [
        {
          "output_type": "execute_result",
          "data": {
            "text/plain": [
              "[(0, 0.5561735474286991),\n",
              " (1, 0.5617641744043795),\n",
              " (2, 0.2891502255588444),\n",
              " (3, 0.3849011978382397),\n",
              " (4, 0.3785963714278047)]"
            ]
          },
          "metadata": {},
          "execution_count": 51
        }
      ],
      "source": [
        "#display the results\n",
        "tfidf_input[0]"
      ]
    },
    {
      "cell_type": "markdown",
      "source": [
        "***Load models and train***"
      ],
      "metadata": {
        "id": "kG6nOMei8GjQ"
      }
    },
    {
      "cell_type": "code",
      "execution_count": 52,
      "metadata": {
        "colab": {
          "base_uri": "https://localhost:8080/"
        },
        "id": "IMeb7M5f1AUp",
        "outputId": "ba1a3681-a838-4556-8d9c-5327b0a5e2b0"
      },
      "outputs": [
        {
          "output_type": "stream",
          "name": "stdout",
          "text": [
            "The execution is: 369.32552886009216\n"
          ]
        }
      ],
      "source": [
        "import time\n",
        "#start a timer\n",
        "start_time=time.time()\n",
        "#load in LDA model and train the model with our data\n",
        "LDA = models.LdaMulticore(tfidf_input, num_topics=10, id2word=dict_of_inputs)\n",
        "#calculate the time it takes to finish the algorithm\n",
        "print('The execution is: %s' %(time.time()-start_time))"
      ]
    },
    {
      "cell_type": "code",
      "execution_count": 53,
      "metadata": {
        "colab": {
          "base_uri": "https://localhost:8080/"
        },
        "id": "eHy9pkkJ3Ffa",
        "outputId": "fdcfe604-fe37-49af-d63e-e6b5530a347d"
      },
      "outputs": [
        {
          "output_type": "stream",
          "name": "stdout",
          "text": [
            "Topic: 0 Word: 0.013*\"crash\" + 0.011*\"die\" + 0.011*\"royal\" + 0.010*\"police\" + 0.010*\"kill\" + 0.010*\"car\" + 0.008*\"northern\" + 0.008*\"man\" + 0.008*\"dead\" + 0.007*\"social\"\n",
            "Topic: 1 Word: 0.027*\"vaccine\" + 0.027*\"covid\" + 0.018*\"coronavirus\" + 0.017*\"quarantine\" + 0.015*\"pandemic\" + 0.011*\"case\" + 0.010*\"speak\" + 0.008*\"record\" + 0.008*\"tasmanian\" + 0.008*\"outbreak\"\n",
            "Topic: 2 Word: 0.009*\"abc\" + 0.009*\"zealand\" + 0.008*\"country\" + 0.007*\"due\" + 0.007*\"morning\" + 0.007*\"covid\" + 0.007*\"johnson\" + 0.007*\"new\" + 0.007*\"michael\" + 0.007*\"positive\"\n",
            "Topic: 3 Word: 0.022*\"lockdown\" + 0.016*\"morrison\" + 0.015*\"people\" + 0.013*\"man\" + 0.012*\"police\" + 0.012*\"hotel\" + 0.011*\"charge\" + 0.010*\"murder\" + 0.009*\"woman\" + 0.008*\"testing\"\n",
            "Topic: 4 Word: 0.020*\"coronavirus\" + 0.018*\"restriction\" + 0.016*\"covid\" + 0.015*\"news\" + 0.012*\"border\" + 0.012*\"scott\" + 0.012*\"tasmania\" + 0.009*\"travel\" + 0.009*\"update\" + 0.009*\"nsw\"\n",
            "Topic: 5 Word: 0.028*\"queensland\" + 0.020*\"government\" + 0.017*\"victoria\" + 0.015*\"coronavirus\" + 0.014*\"covid\" + 0.011*\"health\" + 0.009*\"case\" + 0.009*\"joe\" + 0.008*\"care\" + 0.008*\"federal\"\n",
            "Topic: 6 Word: 0.016*\"trump\" + 0.016*\"live\" + 0.016*\"biden\" + 0.013*\"2020\" + 0.011*\"china\" + 0.010*\"street\" + 0.009*\"commission\" + 0.009*\"nrl\" + 0.008*\"mask\" + 0.008*\"president\"\n",
            "Topic: 7 Word: 0.015*\"amid\" + 0.014*\"australias\" + 0.011*\"program\" + 0.010*\"western\" + 0.008*\"liberal\" + 0.007*\"food\" + 0.007*\"story\" + 0.007*\"warning\" + 0.006*\"election\" + 0.006*\"hotspot\"\n",
            "Topic: 8 Word: 0.021*\"donald\" + 0.017*\"trump\" + 0.011*\"afl\" + 0.009*\"australia\" + 0.009*\"climate\" + 0.007*\"final\" + 0.007*\"world\" + 0.006*\"beat\" + 0.006*\"win\" + 0.006*\"cup\"\n",
            "Topic: 9 Word: 0.018*\"victorian\" + 0.011*\"daniel\" + 0.009*\"premier\" + 0.008*\"sexual\" + 0.008*\"berejiklian\" + 0.008*\"mark\" + 0.007*\"john\" + 0.007*\"prime\" + 0.007*\"peter\" + 0.006*\"thousand\"\n"
          ]
        }
      ],
      "source": [
        "#display the topics and corresponding words with weights for LDA\n",
        "for idx, topic in LDA.print_topics(-1):\n",
        "    print('Topic: {} Word: {}'.format(idx, topic))"
      ]
    },
    {
      "cell_type": "code",
      "execution_count": 54,
      "metadata": {
        "colab": {
          "base_uri": "https://localhost:8080/"
        },
        "id": "ttlD-EuB83au",
        "outputId": "cc3d55ae-5ae9-4045-b226-aaa3951764fb"
      },
      "outputs": [
        {
          "output_type": "stream",
          "name": "stdout",
          "text": [
            "The execution is: 507.783762216568\n"
          ]
        }
      ],
      "source": [
        "import time\n",
        "#start a timer\n",
        "start_time=time.time()\n",
        "#load in NMF model and train the model with our data\n",
        "NMF = models.nmf.Nmf(tfidf_input, num_topics=10, id2word=dict_of_inputs)\n",
        "#calculate the time it takes to finish the algorithm\n",
        "print('The execution is: %s' %(time.time()-start_time))"
      ]
    },
    {
      "cell_type": "code",
      "execution_count": 55,
      "metadata": {
        "colab": {
          "base_uri": "https://localhost:8080/"
        },
        "id": "C5qsCda__ui-",
        "outputId": "143c39c6-57f2-4781-c0c9-7f66c84050fe"
      },
      "outputs": [
        {
          "output_type": "stream",
          "name": "stdout",
          "text": [
            "Topic: 0 Word: 0.097*\"council\" + 0.012*\"consider\" + 0.010*\"water\" + 0.010*\"not\" + 0.009*\"fund\" + 0.009*\"rate\" + 0.009*\"call\" + 0.008*\"urge\" + 0.007*\"back\" + 0.007*\"rise\"\n",
            "Topic: 1 Word: 0.074*\"man\" + 0.059*\"charge\" + 0.037*\"court\" + 0.035*\"face\" + 0.026*\"murder\" + 0.013*\"accuse\" + 0.013*\"assault\" + 0.012*\"jail\" + 0.010*\"sex\" + 0.010*\"drug\"\n",
            "Topic: 2 Word: 0.145*\"iraq\" + 0.029*\"troop\" + 0.023*\"attack\" + 0.017*\"soldier\" + 0.015*\"say\" + 0.011*\"bush\" + 0.011*\"australian\" + 0.011*\"report\" + 0.010*\"bomb\" + 0.007*\"kill\"\n",
            "Topic: 3 Word: 0.021*\"new\" + 0.015*\"claim\" + 0.014*\"world\" + 0.012*\"cup\" + 0.010*\"seek\" + 0.007*\"farmer\" + 0.007*\"australia\" + 0.007*\"get\" + 0.006*\"find\" + 0.006*\"nsw\"\n",
            "Topic: 4 Word: 0.097*\"plan\" + 0.014*\"water\" + 0.013*\"new\" + 0.010*\"back\" + 0.006*\"group\" + 0.005*\"health\" + 0.004*\"power\" + 0.004*\"boost\" + 0.004*\"labor\" + 0.004*\"win\"\n",
            "Topic: 5 Word: 0.141*\"police\" + 0.022*\"investigate\" + 0.013*\"officer\" + 0.011*\"arrest\" + 0.011*\"probe\" + 0.011*\"death\" + 0.010*\"search\" + 0.009*\"hunt\" + 0.009*\"miss\" + 0.008*\"driver\"\n",
            "Topic: 6 Word: 0.065*\"kill\" + 0.041*\"crash\" + 0.026*\"car\" + 0.015*\"two\" + 0.015*\"concern\" + 0.014*\"die\" + 0.014*\"attack\" + 0.011*\"man\" + 0.010*\"woman\" + 0.010*\"hospital\"\n",
            "Topic: 7 Word: 0.028*\"fire\" + 0.020*\"call\" + 0.013*\"war\" + 0.011*\"protest\" + 0.008*\"anti\" + 0.006*\"house\" + 0.006*\"miss\" + 0.006*\"warn\" + 0.006*\"ban\" + 0.005*\"law\"\n",
            "Topic: 8 Word: 0.058*\"continue\" + 0.021*\"probe\" + 0.018*\"set\" + 0.015*\"death\" + 0.014*\"search\" + 0.010*\"miss\" + 0.010*\"back\" + 0.009*\"rise\" + 0.007*\"investigation\" + 0.006*\"fight\"\n",
            "Topic: 9 Word: 0.111*\"govt\" + 0.031*\"urge\" + 0.011*\"vic\" + 0.010*\"nsw\" + 0.010*\"qld\" + 0.008*\"iraqi\" + 0.008*\"fund\" + 0.007*\"accuse\" + 0.006*\"local\" + 0.006*\"not\"\n"
          ]
        }
      ],
      "source": [
        "#display the topics and corresponding words with weights for NMF\n",
        "for idx, topic in NMF.print_topics(-1):\n",
        "    print('Topic: {} Word: {}'.format(idx, topic))"
      ]
    },
    {
      "cell_type": "code",
      "execution_count": 56,
      "metadata": {
        "colab": {
          "base_uri": "https://localhost:8080/"
        },
        "id": "Ku3nSxwKZXis",
        "outputId": "73b5b3de-066e-4855-c0fb-dcaec2740b32"
      },
      "outputs": [
        {
          "output_type": "stream",
          "name": "stdout",
          "text": [
            "The execution is: 397.83621978759766\n"
          ]
        }
      ],
      "source": [
        "import time\n",
        "#start a timer\n",
        "start_time=time.time()\n",
        "#load in LSA model and train the model with our data\n",
        "LSA = models.LsiModel(tfidf_input, num_topics=10, id2word=dict_of_inputs)\n",
        "#calculate the time it takes to finish the algorithm\n",
        "print('The execution is: %s' %(time.time()-start_time))\n"
      ]
    },
    {
      "cell_type": "code",
      "execution_count": 57,
      "metadata": {
        "colab": {
          "base_uri": "https://localhost:8080/"
        },
        "id": "i8yYhKPMZl5j",
        "outputId": "19aa92a8-743b-4092-d5b9-e5193e146183"
      },
      "outputs": [
        {
          "output_type": "stream",
          "name": "stdout",
          "text": [
            "Topic: 0 Word: 0.453*\"man\" + 0.371*\"police\" + 0.288*\"charge\" + 0.162*\"court\" + 0.145*\"murder\" + 0.132*\"face\" + 0.123*\"crash\" + 0.121*\"woman\" + 0.117*\"new\" + 0.116*\"death\"\n",
            "Topic: 1 Word: -0.408*\"man\" + -0.274*\"charge\" + 0.235*\"govt\" + 0.230*\"new\" + 0.212*\"plan\" + 0.196*\"council\" + 0.139*\"say\" + 0.134*\"urge\" + 0.122*\"call\" + -0.118*\"murder\"\n",
            "Topic: 2 Word: 0.789*\"police\" + -0.255*\"man\" + -0.243*\"charge\" + -0.185*\"court\" + -0.175*\"face\" + 0.137*\"probe\" + 0.131*\"investigate\" + -0.126*\"govt\" + 0.090*\"miss\" + 0.089*\"search\"\n",
            "Topic: 3 Word: -0.847*\"govt\" + -0.196*\"urge\" + 0.156*\"coronavirus\" + 0.152*\"new\" + 0.138*\"kill\" + -0.128*\"police\" + 0.113*\"australia\" + 0.081*\"crash\" + 0.076*\"australian\" + 0.062*\"day\"\n",
            "Topic: 4 Word: -0.583*\"kill\" + -0.379*\"crash\" + -0.219*\"govt\" + 0.195*\"police\" + -0.194*\"iraq\" + 0.184*\"council\" + 0.182*\"plan\" + -0.178*\"car\" + 0.169*\"charge\" + 0.116*\"face\"\n",
            "Topic: 5 Word: -0.825*\"coronavirus\" + -0.238*\"covid\" + 0.215*\"council\" + 0.194*\"plan\" + -0.168*\"govt\" + -0.154*\"case\" + -0.124*\"victoria\" + -0.105*\"restriction\" + -0.081*\"australia\" + -0.080*\"nsw\"\n",
            "Topic: 6 Word: -0.361*\"plan\" + -0.355*\"council\" + 0.344*\"country\" + 0.343*\"hour\" + 0.318*\"2015\" + -0.259*\"coronavirus\" + -0.166*\"kill\" + -0.120*\"crash\" + 0.118*\"2014\" + 0.117*\"nsw\"\n",
            "Topic: 7 Word: -0.383*\"plan\" + -0.347*\"hour\" + -0.337*\"country\" + -0.333*\"2015\" + -0.329*\"council\" + 0.209*\"new\" + -0.182*\"coronavirus\" + 0.163*\"australia\" + -0.122*\"tsunami\" + -0.120*\"flood\"\n",
            "Topic: 8 Word: 0.728*\"iraq\" + -0.225*\"crash\" + 0.205*\"plan\" + -0.201*\"fire\" + 0.144*\"troop\" + -0.115*\"council\" + 0.103*\"2015\" + 0.102*\"attack\" + 0.098*\"war\" + 0.093*\"police\"\n",
            "Topic: 9 Word: 0.606*\"plan\" + -0.535*\"council\" + -0.271*\"iraq\" + -0.224*\"urge\" + -0.163*\"rise\" + -0.139*\"rate\" + 0.132*\"fire\" + -0.105*\"budget\" + -0.102*\"flood\" + 0.089*\"labor\"\n"
          ]
        }
      ],
      "source": [
        "#display the topics and corresponding words with weights for LSA\n",
        "for idx, topic in LSA.print_topics(-1):\n",
        "    print('Topic: {} Word: {}'.format(idx, topic))"
      ]
    },
    {
      "cell_type": "markdown",
      "source": [
        "***Evaluation***"
      ],
      "metadata": {
        "id": "ZBc1sQEw-Fha"
      }
    },
    {
      "cell_type": "code",
      "execution_count": 59,
      "metadata": {
        "id": "w5_VBbVV_Vdh"
      },
      "outputs": [],
      "source": [
        "from gensim.models.coherencemodel import CoherenceModel\n",
        "from gensim.test.utils import common_texts, common_dictionary\n",
        "common_text1 = data\n",
        "common_dict = dict_of_inputs\n",
        "#load in the coherence metric and use our data as a reference text to calculate the U_MASS coherence score for LDA\n",
        "cm_LDA = CoherenceModel(model=LDA, texts=common_text1, dictionary=common_dict, coherence='u_mass')\n",
        "#get the coherence value\n",
        "coherence_score_LDA = cm_LDA.get_coherence()\n",
        "#load in the coherence metric and use our data as a reference text to calculate the U_MASS coherence score for NMF\n",
        "cm_NMF = CoherenceModel(model=NMF, texts=common_text1, dictionary=common_dict, coherence='u_mass')\n",
        "#get the coherence value\n",
        "coherence_score_NMF = cm_NMF.get_coherence()\n",
        "#load in the coherence metric and use our data as a reference text to calculate the U_MASS coherence score for LSA\n",
        "cm_LSA = CoherenceModel(model=LSA, texts=common_text1, dictionary=common_dict, coherence='u_mass')\n",
        "#get the coherence value\n",
        "coherence_score_LSA = cm_LSA.get_coherence()"
      ]
    },
    {
      "cell_type": "code",
      "execution_count": 60,
      "metadata": {
        "colab": {
          "base_uri": "https://localhost:8080/"
        },
        "id": "5WU4_fdNAaQV",
        "outputId": "af7df65a-5188-4d73-8dad-9b76a7afb51a"
      },
      "outputs": [
        {
          "output_type": "stream",
          "name": "stdout",
          "text": [
            "The LDA Coherence Score is:  -7.270243543551418\n",
            "The NMF Coherence Score is:  -5.014463420450444\n",
            "The LSA Coherence Score is:  -5.459129311186574\n"
          ]
        }
      ],
      "source": [
        "#print out the scores for each models\n",
        "print(f'The LDA Coherence Score is: ', coherence_score_LDA)\n",
        "print(f'The NMF Coherence Score is: ', coherence_score_NMF)\n",
        "print(f'The LSA Coherence Score is: ', coherence_score_LSA)"
      ]
    },
    {
      "cell_type": "code",
      "execution_count": 61,
      "metadata": {
        "id": "xTQG0q17BZgT"
      },
      "outputs": [],
      "source": [
        "def get_topic(model):\n",
        "  output=[]\n",
        "  #get each topic\n",
        "  for i in model.get_topics():\n",
        "    #get the index of the top 10 words according to the weights got assigned\n",
        "    top_10=list(reversed(np.argsort(i)))[:10]\n",
        "    #use the index to obtain the top 10 words\n",
        "    top_10_words = [dict_of_inputs[j] for j in top_10]\n",
        "    output.append(top_10_words)\n",
        "  return output"
      ]
    },
    {
      "cell_type": "code",
      "source": [
        "output_NMF={}\n",
        "output_LDA={}\n",
        "output_LSA={}\n",
        "#obtain the top 10 words for NMF output\n",
        "topic_words_NMF = get_topic(NMF)\n",
        "#obtain the top 10 words for LDA output\n",
        "topic_words_LDA = get_topic(LDA)\n",
        "#obtain the top 10 words for LSA output\n",
        "topic_words_LSA = get_topic(LSA)\n",
        "#save the results for each model in the corresponding dictionary which will be used for calculation diversity metric\n",
        "output_NMF['topics']=topic_words_NMF\n",
        "output_LDA['topics']=topic_words_LDA\n",
        "output_LSA['topics']=topic_words_LSA"
      ],
      "metadata": {
        "id": "qpgJMo5f1neL"
      },
      "execution_count": 62,
      "outputs": []
    },
    {
      "cell_type": "code",
      "source": [
        "from octis.evaluation_metrics.diversity_metrics import TopicDiversity\n",
        "#from OCTIS load in Topic Diversity Metrics\n",
        "topic_diversity = TopicDiversity(topk=10)\n",
        "#obtain topic diversity for NMF\n",
        "diversity_score_NMF = topic_diversity.score(output_NMF)\n",
        "#obtain topic diversity for LDA\n",
        "diversity_score_LDA = topic_diversity.score(output_LDA)\n",
        "#obtain topic diversity for LSA\n",
        "diversity_score_LSA = topic_diversity.score(output_LSA)"
      ],
      "metadata": {
        "id": "XyA_9vjw5sRA"
      },
      "execution_count": 63,
      "outputs": []
    },
    {
      "cell_type": "code",
      "source": [
        "#print out the diversity score for each model\n",
        "print(f'The LDA Topic Diversity Score is: ', diversity_score_LDA)\n",
        "print(f'The NMF Topic Diversity Score is: ', diversity_score_NMF)\n",
        "print(f'The LSA Topic Diversity Score is: ', diversity_score_LSA)"
      ],
      "metadata": {
        "colab": {
          "base_uri": "https://localhost:8080/"
        },
        "id": "Vs3xYG7V6RyM",
        "outputId": "eabf2634-c3db-4fb0-d723-2615e0c99c68"
      },
      "execution_count": 64,
      "outputs": [
        {
          "output_type": "stream",
          "name": "stdout",
          "text": [
            "The LDA Topic Diversity Score is:  0.91\n",
            "The NMF Topic Diversity Score is:  0.81\n",
            "The LSA Topic Diversity Score is:  0.57\n"
          ]
        }
      ]
    },
    {
      "cell_type": "code",
      "source": [
        "from octis.evaluation_metrics.similarity_metrics import RBO\n",
        "#from OCTIS load in Topic similarity Metrics\n",
        "similarity = RBO(topk=10)\n",
        "#obtain topic similarity for NMF\n",
        "similarity_NMF = similarity.score(output_NMF)\n",
        "#obtain topic similarity for LDA\n",
        "similarity_LDA = similarity.score(output_LDA)\n",
        "#obtain topic similarity for LSA\n",
        "similarity_LSA = similarity.score(output_LSA)"
      ],
      "metadata": {
        "id": "dvN2x7RNEtIR"
      },
      "execution_count": 65,
      "outputs": []
    },
    {
      "cell_type": "code",
      "source": [
        "#print out the similarity score for each model\n",
        "print(f'The LDA Topic Similarity Score is: ', similarity_LDA)\n",
        "print(f'The NMF Topic Similarity Score is: ', similarity_NMF)\n",
        "print(f'The LSA Topic Similarity Score is: ', similarity_LSA)"
      ],
      "metadata": {
        "colab": {
          "base_uri": "https://localhost:8080/"
        },
        "id": "MfMLhq-NFPIh",
        "outputId": "91dad958-f9a1-4c7b-801d-465bb0dc32cf"
      },
      "execution_count": 66,
      "outputs": [
        {
          "output_type": "stream",
          "name": "stdout",
          "text": [
            "The LDA Topic Similarity Score is:  0.02588911445285713\n",
            "The NMF Topic Similarity Score is:  0.02706041975571427\n",
            "The LSA Topic Similarity Score is:  0.1352892529836508\n"
          ]
        }
      ]
    },
    {
      "cell_type": "code",
      "source": [
        "from wordcloud import WordCloud\n",
        "import matplotlib.pyplot as plt\n",
        "#load the wordcloud tool to show the most important words by size\n",
        "def plot_wordcloud(model, topic_num):\n",
        "  wordcloud = WordCloud(\n",
        "      background_color='white',\n",
        "      width=2500,\n",
        "      height=1800,\n",
        "      max_words=10\n",
        "  )\n",
        "  #plot the wordcloud with different models\n",
        "  topic_words=dict(model.show_topics(formatted=False)[topic_num][1])\n",
        "  wordcloud.generate_from_frequencies(topic_words)\n",
        "  plt.imshow(wordcloud)\n",
        "  #set the axis and title\n",
        "  plt.axis('off')\n",
        "  plt.title('Topic %d' %topic_num)\n"
      ],
      "metadata": {
        "id": "3EBkLGWAnCcJ"
      },
      "execution_count": 67,
      "outputs": []
    },
    {
      "cell_type": "code",
      "source": [
        "#plot the LDA topic 0 wordcloud\n",
        "plot_wordcloud(LDA,0)"
      ],
      "metadata": {
        "id": "Gxy3wTeO7k1I",
        "colab": {
          "base_uri": "https://localhost:8080/",
          "height": 264
        },
        "outputId": "31553dfa-e5e2-4002-8c2f-7b84e162657f"
      },
      "execution_count": 68,
      "outputs": [
        {
          "output_type": "display_data",
          "data": {
            "text/plain": [
              "<Figure size 432x288 with 1 Axes>"
            ],
            "image/png": "[encoded data removed]"
          },
          "metadata": {
            "needs_background": "light"
          }
        }
      ]
    },
    {
      "cell_type": "code",
      "source": [
        "#plot the NMF topic 0 wordcloud\n",
        "plot_wordcloud(NMF,0)"
      ],
      "metadata": {
        "colab": {
          "base_uri": "https://localhost:8080/",
          "height": 264
        },
        "id": "F1mfCubdtChO",
        "outputId": "2ce5cd5d-d987-4bd1-de6d-bf0988b89f23"
      },
      "execution_count": 69,
      "outputs": [
        {
          "output_type": "display_data",
          "data": {
            "text/plain": [
              "<Figure size 432x288 with 1 Axes>"
            ],
            "image/png": "[encoded data removed]"
          },
          "metadata": {
            "needs_background": "light"
          }
        }
      ]
    },
    {
      "cell_type": "code",
      "source": [
        "#plot the LSA topic 0 wordcloud\n",
        "plot_wordcloud(LSA,0)"
      ],
      "metadata": {
        "colab": {
          "base_uri": "https://localhost:8080/",
          "height": 264
        },
        "id": "xA18qEaetK2z",
        "outputId": "a20f2512-bd54-4b9f-a1f6-2aff3233af65"
      },
      "execution_count": 70,
      "outputs": [
        {
          "output_type": "display_data",
          "data": {
            "text/plain": [
              "<Figure size 432x288 with 1 Axes>"
            ],
            "image/png": "[encoded data removed]"
          },
          "metadata": {
            "needs_background": "light"
          }
        }
      ]
    },
    {
      "cell_type": "code",
      "source": [
        "from collections import Counter\n",
        "#the function gets the distribution for topic using the entire input corpus\n",
        "def get_topic_dis(model):\n",
        "  #get the document topics distribution from entire input corpus\n",
        "  a=model.get_document_topics(input_corpous)\n",
        "  results=[]\n",
        "  #parse the result topics distribution into list since the output from previous step is in TransformedCorpus we need to list type\n",
        "  for i in range(len(a)):\n",
        "    results.append(a[i])\n",
        "  final=[]\n",
        "  #convert the list of topics distribution into dictionary\n",
        "  for j in range(len(results)):\n",
        "    temp = list(dict(results[j]).values())\n",
        "    final.append(np.array(temp[:10]))\n",
        "  #get the value distribution dictionary and form an array\n",
        "  res = np.asarray(final, dtype=object)\n",
        "\n",
        "  keys=[]\n",
        "  #find in each headline of the input corpus get the most likely topic and put it in array\n",
        "  for k in range(len(res)):\n",
        "    keys.append(res[k].argmax(axis=0))\n",
        "  final_keys=np.array(keys)\n",
        "  #use counter to count occurance for each topic given the input corpus\n",
        "  P =Counter(final_keys).items()\n",
        "  num_topics=[pair[0] for pair in P]\n",
        "  counts=[pair[1] for pair in P]\n",
        "  return num_topics, counts"
      ],
      "metadata": {
        "id": "TrN_NbwimDDE"
      },
      "execution_count": 75,
      "outputs": []
    },
    {
      "cell_type": "code",
      "source": [
        "from collections import Counter\n",
        "#the function gets the distribution for terms in each topic\n",
        "def get_topic_distribution(model):\n",
        "  #get the term-topic distribution and sort the topics according to each term\n",
        "  gens_keys = model.get_topics().argmax(axis=0)\n",
        "  #count for each term what topic does it most likely belong to\n",
        "  pairs =Counter(gens_keys).items()\n",
        "  num_topics=[pair[0] for pair in pairs]\n",
        "  counts=[pair[1] for pair in pairs]\n",
        "  return num_topics, counts"
      ],
      "metadata": {
        "id": "K2thNw75tI32"
      },
      "execution_count": 104,
      "outputs": []
    },
    {
      "cell_type": "code",
      "source": [
        "#find out the the distribution of topics given each document for LDA\n",
        "num_topics_LDA, counts_LDA = get_topic_dis(LDA)"
      ],
      "metadata": {
        "id": "G0VFpBaTJ7Ka"
      },
      "execution_count": 76,
      "outputs": []
    },
    {
      "cell_type": "code",
      "source": [
        "#find out the the distribution of topics given each term for NMF\n",
        "num_topics_NMF, counts_NMF = get_topic_distribution(NMF)\n",
        "#find out the the distribution of topics given each term for LSA\n",
        "num_topics_LSA, counts_LSA = get_topic_distribution(LSA)\n",
        "#find out the the distribution of topics given each term for LDA\n",
        "num_topics_LDA_dis, counts_LDA_dis = get_topic_distribution(LDA)"
      ],
      "metadata": {
        "id": "go3xeRpe-uaH"
      },
      "execution_count": 105,
      "outputs": []
    },
    {
      "cell_type": "code",
      "source": [
        "import pyLDAvis\n",
        "import pyLDAvis.gensim_models as genvis\n",
        "#use pyLDAvis to visualize the topic distribution for LDA model given the documents\n",
        "pyLDAvis.enable_notebook()\n",
        "vis=genvis.prepare(LDA, input_corpous, dict_of_inputs)\n",
        "vis"
      ],
      "metadata": {
        "colab": {
          "base_uri": "https://localhost:8080/",
          "height": 917
        },
        "id": "9_urRX70VXl4",
        "outputId": "f9968fe9-2c0d-4128-b417-997cc79c0210"
      },
      "execution_count": null,
      "outputs": [
        {
          "output_type": "stream",
          "name": "stderr",
          "text": [
            "/usr/local/lib/python3.7/dist-packages/pyLDAvis/_prepare.py:247: FutureWarning: In a future version of pandas all arguments of DataFrame.drop except for the argument 'labels' will be keyword-only\n",
            "  by='saliency', ascending=False).head(R).drop('saliency', 1)\n"
          ]
        },
        {
          "output_type": "execute_result",
          "data": {
            "text/plain": [
              "PreparedData(topic_coordinates=              x         y  topics  cluster       Freq\n",
              "topic                                                \n",
              "9     -0.115268  0.144812       1        1  13.407513\n",
              "4      0.320711  0.120369       2        1  13.296756\n",
              "8      0.030383 -0.316731       3        1   9.990417\n",
              "5     -0.090019  0.062768       4        1   9.900102\n",
              "1      0.067367  0.042243       5        1   9.531704\n",
              "6     -0.122072 -0.123064       6        1   9.349761\n",
              "3     -0.002891  0.107927       7        1   9.334027\n",
              "2     -0.101419  0.067348       8        1   9.144665\n",
              "0      0.149603 -0.111110       9        1   8.598290\n",
              "7     -0.136396  0.005437      10        1   7.446765, topic_info=            Term          Freq         Total Category  logprob  loglift\n",
              "2402  queensland  19186.000000  19186.000000  Default  30.0000  30.0000\n",
              "9634       trump  17538.000000  17538.000000  Default  29.0000  29.0000\n",
              "2735      border  17635.000000  17635.000000  Default  28.0000  28.0000\n",
              "440      vaccine  16338.000000  16338.000000  Default  27.0000  27.0000\n",
              "1751    victoria  20331.000000  20331.000000  Default  26.0000  26.0000\n",
              "...          ...           ...           ...      ...      ...      ...\n",
              "1047        post   2347.635899   3447.567019  Topic10  -5.3260   2.2131\n",
              "341         case   4190.208783  23990.205820  Topic10  -4.7467   0.8525\n",
              "45     australia   3487.729782  31430.550323  Topic10  -4.9302   0.3989\n",
              "433          new   2729.845287  25537.533420  Topic10  -5.1752   0.3615\n",
              "799         late   2039.582684   4376.772177  Topic10  -5.4667   1.8338\n",
              "\n",
              "[470 rows x 6 columns], token_table=       Topic      Freq     Term\n",
              "term                           \n",
              "3920       6  0.999209      100\n",
              "49371     10  0.999005     2019\n",
              "14167      6  0.999766     2020\n",
              "38175      1  0.000272     2021\n",
              "38175      3  0.998271     2021\n",
              "...      ...       ...      ...\n",
              "407        3  0.123496    young\n",
              "407        4  0.008295    young\n",
              "407        9  0.602920    young\n",
              "435        3  0.999614  zealand\n",
              "11183      6  0.999446     zero\n",
              "\n",
              "[802 rows x 3 columns], R=30, lambda_step=0.01, plot_opts={'xlab': 'PC1', 'ylab': 'PC2'}, topic_order=[10, 5, 9, 6, 2, 7, 4, 3, 1, 8])"
            ],
            "text/html": [
              "\n",
              "<link rel=\"stylesheet\" type=\"text/css\" href=\"https://cdn.jsdelivr.net/gh/bmabey/pyLDAvis@3.3.1/pyLDAvis/js/ldavis.v1.0.0.css\">\n",
              "\n",
              "\n",
              "<div id=\"ldavis_el771404188957138721688156216\"></div>\n",
              "<script type=\"text/javascript\">\n",
              "\n",
              "var ldavis_el771404188957138721688156216_data = {\"mdsDat\": {\"x\": [-0.11526828267202298, 0.320711409015222, 0.030383090183101237, -0.09001865286954296, 0.06736736998510334, -0.12207153508018363, -0.0028914959158734756, -0.10141878252719416, 0.14960307856009797, -0.1363961986787072], \"y\": [0.14481230801996828, 0.12036918254942844, -0.31673144297229416, 0.06276824595324856, 0.04224318132644013, -0.1230637538523508, 0.10792745494719297, 0.06734753675964124, -0.11110966489831535, 0.005436952167041097], \"topics\": [1, 2, 3, 4, 5, 6, 7, 8, 9, 10], \"cluster\": [1, 1, 1, 1, 1, 1, 1, 1, 1, 1], \"Freq\": [13.407513257544965, 13.296756077546542, 9.990417311033822, 9.900102381546864, 9.5317042517113, 9.34976060187441, 9.334026988442476, 9.144664681458996, 8.598289924135461, 7.446764524705168]}, \"tinfo\": {\"Term\": [\"queensland\", \"trump\", \"border\", \"vaccine\", \"victoria\", \"restriction\", \"lockdown\", \"covid\", \"quarantine\", \"news\", \"donald\", \"morrison\", \"live\", \"government\", \"scott\", \"tasmania\", \"man\", \"people\", \"federal\", \"coronavirus\", \"biden\", \"travel\", \"murder\", \"charge\", \"care\", \"2020\", \"pandemic\", \"victorian\", \"update\", \"woman\", \"federal\", \"care\", \"rollout\", \"aged\", \"christmas\", \"andrews\", \"briefing\", \"video\", \"berejiklian\", \"liberal\", \"explain\", \"age\", \"disability\", \"john\", \"story\", \"outback\", \"gladys\", \"inside\", \"cabinet\", \"cctv\", \"policy\", \"political\", \"lawyer\", \"remove\", \"mcgowan\", \"strand\", \"learn\", \"hundred\", \"respond\", \"nurse\", \"regional\", \"labor\", \"election\", \"state\", \"emergency\", \"party\", \"indigenous\", \"nsw\", \"call\", \"say\", \"victoria\", \"national\", \"not\", \"coronavirus\", \"covid\", \"murder\", \"arrest\", \"mask\", \"shoot\", \"allege\", \"guilty\", \"hong\", \"baby\", \"kong\", \"morning\", \"rape\", \"david\", \"remote\", \"university\", \"breach\", \"mother\", \"fatal\", \"kid\", \"stab\", \"grand\", \"girl\", \"inquest\", \"drone\", \"steal\", \"plane\", \"teen\", \"politic\", \"paul\", \"contact\", \"couple\", \"sentence\", \"charge\", \"man\", \"crash\", \"jail\", \"woman\", \"police\", \"car\", \"die\", \"old\", \"child\", \"investigation\", \"death\", \"find\", \"three\", \"dead\", \"search\", \"kill\", \"two\", \"court\", \"miss\", \"year\", \"sydney\", \"update\", \"afl\", \"testing\", \"zealand\", \"sexual\", \"social\", \"week\", \"due\", \"johnson\", \"next\", \"surge\", \"boris\", \"month\", \"full\", \"traveller\", \"film\", \"mount\", \"celebrate\", \"billion\", \"crown\", \"friday\", \"united\", \"france\", \"pass\", \"follow\", \"rugby\", \"casey\", \"olympic\", \"festival\", \"moment\", \"2021\", \"league\", \"cup\", \"final\", \"world\", \"beat\", \"player\", \"australia\", \"win\", \"new\", \"day\", \"open\", \"test\", \"australian\", \"melbourne\", \"covid\", \"queensland\", \"vaccine\", \"lockdown\", \"pandemic\", \"victorian\", \"royal\", \"commission\", \"international\", \"western\", \"vaccination\", \"drum\", \"andrew\", \"property\", \"prince\", \"history\", \"central\", \"mean\", \"response\", \"boom\", \"track\", \"korea\", \"money\", \"football\", \"allegedly\", \"afghanistan\", \"unemployment\", \"around\", \"infection\", \"hunt\", \"female\", \"victoria\", \"coast\", \"government\", \"north\", \"gold\", \"covid\", \"case\", \"reopen\", \"coronavirus\", \"record\", \"announce\", \"south\", \"nsw\", \"west\", \"bushfire\", \"new\", \"officer\", \"australia\", \"border\", \"quarantine\", \"travel\", \"beach\", \"grow\", \"shark\", \"warning\", \"cyclone\", \"myanmar\", \"fly\", \"truck\", \"townsville\", \"smith\", \"military\", \"collapse\", \"tourist\", \"flooding\", \"son\", \"animal\", \"heavy\", \"shot\", \"financial\", \"spike\", \"father\", \"ceo\", \"apologise\", \"bus\", \"bom\", \"cross\", \"recover\", \"country\", \"airport\", \"northern\", \"rain\", \"storm\", \"perth\", \"weather\", \"coronavirus\", \"nsw\", \"rescue\", \"covid\", \"sydney\", \"australian\", \"australia\", \"china\", \"morrison\", \"2020\", \"australias\", \"million\", \"street\", \"nrl\", \"market\", \"rate\", \"crisis\", \"wall\", \"prime\", \"struggle\", \"recovery\", \"zero\", \"art\", \"economic\", \"energy\", \"march\", \"dollar\", \"america\", \"whale\", \"bubble\", \"wave\", \"cancel\", \"100\", \"stage\", \"explainer\", \"august\", \"quiz\", \"buy\", \"share\", \"global\", \"reach\", \"program\", \"protester\", \"amid\", \"price\", \"great\", \"australian\", \"coronavirus\", \"rise\", \"government\", \"australia\", \"china\", \"covid\", \"record\", \"trump\", \"restriction\", \"donald\", \"biden\", \"hotel\", \"climate\", \"violence\", \"aboriginal\", \"know\", \"turn\", \"across\", \"allegation\", \"domestic\", \"white\", \"hobart\", \"peter\", \"patient\", \"hard\", \"cluster\", \"survivor\", \"migrant\", \"matter\", \"isolation\", \"impeachment\", \"building\", \"small\", \"fan\", \"nation\", \"crew\", \"general\", \"human\", \"premier\", \"house\", \"mark\", \"president\", \"change\", \"say\", \"nsw\", \"coronavirus\", \"state\", \"live\", \"positive\", \"footage\", \"bring\", \"economy\", \"closure\", \"george\", \"station\", \"part\", \"shortage\", \"ship\", \"coal\", \"online\", \"hotspot\", \"space\", \"control\", \"bad\", \"tracking\", \"french\", \"norman\", \"foreign\", \"refuse\", \"june\", \"avoid\", \"victorians\", \"spring\", \"lake\", \"thursday\", \"discover\", \"speech\", \"mine\", \"flight\", \"raise\", \"port\", \"burn\", \"covid\", \"coronavirus\", \"australia\", \"australian\", \"scott\", \"joe\", \"daniel\", \"tasmanian\", \"mental\", \"facebook\", \"cricket\", \"michael\", \"sport\", \"interview\", \"hill\", \"victorias\", \"frydenberg\", \"anthony\", \"indonesia\", \"toll\", \"wait\", \"app\", \"affect\", \"watch\", \"greg\", \"josh\", \"sunday\", \"justice\", \"payment\", \"racism\", \"place\", \"commissioner\", \"message\", \"shooting\", \"speak\", \"people\", \"five\", \"dog\", \"india\", \"young\", \"health\", \"australia\", \"tasmania\", \"outbreak\", \"abc\", \"asx\", \"medium\", \"territory\", \"like\", \"spread\", \"build\", \"staff\", \"happen\", \"summer\", \"2019\", \"early\", \"james\", \"resign\", \"pacific\", \"survive\", \"medical\", \"capture\", \"boss\", \"confirm\", \"icac\", \"strain\", \"destroy\", \"kelly\", \"women\", \"enter\", \"class\", \"treasurer\", \"news\", \"budget\", \"food\", \"covid\", \"coronavirus\", \"post\", \"case\", \"australia\", \"new\", \"late\"], \"Freq\": [19186.0, 17538.0, 17635.0, 16338.0, 20331.0, 13852.0, 13808.0, 53667.0, 12484.0, 11167.0, 11625.0, 11358.0, 11085.0, 14404.0, 9742.0, 8853.0, 16649.0, 11541.0, 10193.0, 51590.0, 8311.0, 8204.0, 9359.0, 11194.0, 9127.0, 7721.0, 7905.0, 7364.0, 7287.0, 14847.0, 10191.639246388328, 9125.680831313715, 7030.446469312154, 6612.843130831269, 6573.255220828842, 6475.420466254823, 6132.655223053991, 5522.795733358357, 5328.280468557692, 4795.961349565465, 4671.966286306381, 4652.92853942686, 4536.880845119163, 4432.327838032387, 3737.7495652948683, 3641.6316075376635, 3933.1871733170137, 3376.5971529804333, 3227.3451026994476, 3182.4269068705585, 3106.3928817004344, 3005.047637831497, 2990.7838973761004, 2884.2981785498873, 2786.956365636142, 2771.5339289792983, 2769.2448665568795, 2668.442344171051, 2663.9949419504073, 2616.15430627847, 6163.890240670226, 4980.572453191902, 9175.395090480099, 6271.460795391647, 3709.362115430425, 3522.716514491841, 4258.485769412693, 6036.652608788721, 4651.5367279575, 5067.968419388721, 4766.460531468335, 3745.7681639114494, 4085.457175946651, 4587.708472518233, 4189.917503525871, 9357.660832547328, 7964.653932250577, 5890.261210479624, 5538.13545508649, 5375.287307416964, 5212.278210083337, 4798.334137070689, 4709.67375028314, 4609.516098836844, 4435.285879909062, 4415.556501507919, 3918.352484925856, 3876.3028800393604, 3876.0122876283663, 3825.0935936455417, 3807.728288864229, 3799.7843593084276, 3751.448887365879, 3522.8690574260177, 3515.2815450814915, 3476.917326269236, 3361.890293947384, 3286.74626729304, 3278.3078489936684, 3173.96731244906, 3034.211026499883, 2943.573888850252, 2900.60394087203, 2895.727286461006, 2891.370206464391, 5426.5471665231935, 10344.912425534618, 13946.61029363312, 8037.2747417892915, 4887.291136830234, 10797.966062811478, 13879.899266773247, 6659.389483874049, 7208.246702881091, 5293.795000557519, 6794.687945772524, 4101.41807780836, 7312.090141772361, 6898.274507394407, 5094.545336962151, 4852.317296603157, 4386.608440101641, 5437.022541294659, 5780.87644724279, 5735.286752487552, 4770.351372278281, 6123.242873252876, 5530.796792596682, 7285.183709685549, 7028.067795565741, 5404.76288312457, 5060.652164358239, 4866.180133194424, 4272.520717799498, 4213.764936509875, 4192.398622140531, 3901.1441319686255, 3747.3175852300765, 3576.7474426860385, 3404.4312279595542, 3381.345680859273, 3066.3512434772574, 3058.858211436283, 2919.560251836545, 2884.4958654908182, 2713.6292827126963, 2651.6328638285017, 2648.2052547739795, 2572.289112263299, 2537.0775612845787, 2511.738555741581, 2494.3081413876425, 2494.200783581606, 2445.8451389683255, 2422.290504600377, 2412.0817121036134, 2409.9606415172166, 2307.2434972734695, 3671.04649851236, 3688.5057125024678, 3687.4849086445092, 4291.439515444708, 5521.591698308124, 3431.3231521041935, 3114.940602415477, 7867.92007145001, 3756.856446923161, 4853.5191496870275, 3674.854383391073, 3236.1822456207474, 3120.8175375953583, 3419.0777277448824, 3187.845298153462, 3288.836424411677, 19183.724692099433, 16336.564538301416, 13806.608204717933, 7903.5542710414775, 7361.96773477758, 4990.911853120083, 4322.006644653834, 3879.6782403580937, 3606.068996692834, 3482.831591375596, 3205.1082083526917, 2805.4886168918338, 2667.436783567294, 2647.2572692021936, 2617.889898764544, 2445.476320482513, 2321.9366378383156, 2315.0139939638443, 2280.827369632749, 2170.3344724956382, 2128.4154955234894, 1989.3798787482795, 1912.1666245410543, 1896.4912365940863, 1882.9594326968304, 1879.7861931552343, 1853.5763731245631, 1777.8851143955455, 1716.7327525858846, 1711.648277607242, 15502.173923979806, 6241.717501640864, 10714.073571593266, 4161.185842650691, 3780.8357957471294, 19687.7015336994, 10901.707254077703, 3045.4322649156225, 14522.410477860236, 6266.369465314202, 4015.353692759267, 4843.647359948264, 7632.487862546857, 3254.8777294466777, 4562.650177501883, 6733.013338700822, 3052.6543471307896, 3921.353064511531, 17633.00293883342, 12482.289877098925, 8201.891126332437, 5689.280070897551, 4894.944069054825, 3484.7081615819143, 3376.0730188809207, 3158.749792937111, 3153.0020037850086, 3049.014983111958, 3033.6136012466677, 2824.182544119106, 2690.111485114781, 2682.4494925673266, 2506.5240440066505, 2498.554190699685, 2479.8543829025875, 2386.0651779582527, 2360.3237026580987, 2267.4016868064427, 2244.332557986978, 2227.6498136053488, 2223.871757873444, 2187.93707036995, 2085.0888467867544, 2078.2241272903325, 2044.646588639449, 2003.3286536495534, 1984.4504592441413, 1896.7955957233141, 4633.969352336061, 2927.0661573036286, 3999.8981811659937, 3072.349677801543, 3526.3073432002416, 3614.1057791687285, 2746.088627363277, 4967.930086685797, 4097.736618258906, 2694.6364628389197, 4353.151714925305, 3106.243133381345, 2890.815696731384, 2702.0559071431335, 2552.9514605832514, 11355.788013692634, 7719.504419023454, 6946.769664799393, 6396.293048430528, 5730.15985746117, 5197.074710645676, 4593.016777763607, 4384.878237297094, 4276.0081233256005, 4215.459720099947, 4093.2105756819014, 3779.248293032527, 3500.2292551389496, 3303.528014721936, 3293.125645684935, 3087.758586686308, 3024.2033236277766, 2922.6282456014897, 2899.3754596402728, 2734.6566073518075, 2703.3431001885233, 2575.182120504916, 2540.788938618865, 2488.952639408709, 2422.614041295565, 2334.5679980335685, 2279.59176836812, 2267.316673742508, 2168.5356554445384, 2124.581991407301, 2959.2352259227855, 3058.0515227526785, 2520.7411367258064, 4254.02959793745, 3727.772399304498, 4971.450718616749, 3835.631007208689, 3487.6235301121533, 6133.5927304916, 7311.080057068275, 3688.436553981879, 3688.556500990418, 3944.302996944901, 3435.532943243895, 3682.516251868656, 3259.2373701477686, 17536.15574274752, 13849.752694942408, 11623.308605652652, 8309.56377776697, 6804.043615817355, 5316.442965440712, 3757.97515484619, 3403.6111784241357, 3392.161568490317, 3328.831873266152, 3303.071166613371, 3166.101013177416, 3116.4464974140333, 3111.5448347908414, 3034.4852999605296, 3010.804496364851, 2832.222475873854, 2465.8724311840983, 2448.8638281160856, 2413.537032517935, 2285.0959749087287, 2139.864391306313, 2052.800641107738, 2077.177234543502, 1989.0021083480783, 1853.5263745565105, 1833.9676221292689, 1819.0878063205266, 1757.0599523420044, 1749.5312217014166, 2182.532692459513, 6251.37995760085, 4181.986299581862, 2715.58279722675, 2989.705116747656, 3610.760168701039, 3656.875299175433, 3064.05362106924, 2855.1577601672984, 2355.557551212939, 11082.932196993943, 4545.244136788024, 4473.245601440792, 4598.821598336474, 4015.7344640753713, 3966.7510914655886, 3761.5209404865673, 3745.0716011881113, 3664.6343292582906, 3663.2177057869662, 3508.377337508607, 3504.4150979709248, 3440.012281263683, 3314.1453410439985, 3106.4173284531275, 3082.7162130020693, 2934.050799332736, 2771.8228445455993, 2566.325213413867, 2501.3725303865003, 2384.327190497404, 2384.186135432352, 2328.929538931433, 2328.2800231426518, 2253.976576262771, 2207.4373760081794, 2116.9088701436485, 2095.0003409791802, 2080.841007198672, 2060.877160878217, 2848.4215416523043, 3636.4997785825763, 2454.2968516212854, 2737.2701503913668, 2543.6189364255238, 3926.9641778524224, 3013.0653749704284, 2495.8335657381003, 2402.806232131137, 9739.893754599983, 6242.892408157019, 5427.613341769785, 5197.273172827693, 4929.791645050846, 3895.4067999967237, 3760.737385342338, 3663.08941989334, 3552.285136018788, 3328.494316833067, 2699.905978396515, 2621.4274618777727, 2550.5315423762445, 2521.968912934266, 2513.272609813993, 2432.4119924763563, 2612.58399693964, 2317.166380511488, 2311.704782392945, 2283.3183837698843, 2222.3518640317507, 2204.879837127598, 2188.3842172054324, 2102.156476002693, 2037.5122085413375, 2016.403571741354, 2009.2306659578098, 1990.7657509862481, 1981.330134923872, 1962.2645038545406, 5414.852569394349, 8190.758931969358, 2984.3082602360105, 2931.980943794642, 3576.031395347864, 3271.213071613072, 3972.316628636909, 2964.4214298867723, 8851.505204740903, 5341.503035701632, 5027.192251342386, 3691.546750234319, 3678.3698446114226, 2921.531049854127, 2878.047036513416, 2772.576044812493, 2700.3701086473934, 2693.6272284363727, 2611.7582281478158, 2572.4219504357925, 2529.1962152349774, 2510.8384614238084, 2507.7914986855217, 2171.300039431371, 2081.5673801628445, 2078.2126865511746, 2071.33043954578, 2027.4406890053187, 2008.6412323700456, 3769.891568906435, 1935.6982256908302, 1919.00500593182, 1839.7527296002086, 1838.7477151846513, 1829.9681691019784, 1813.3378891855887, 1808.5272621430158, 1804.341088253299, 11089.971497224691, 3568.156110983896, 2501.769954027962, 11626.359222285952, 9460.952599975377, 2347.635899079273, 4190.208783199182, 3487.7297818022607, 2729.845286516857, 2039.5826837874135], \"Total\": [19186.0, 17538.0, 17635.0, 16338.0, 20331.0, 13852.0, 13808.0, 53667.0, 12484.0, 11167.0, 11625.0, 11358.0, 11085.0, 14404.0, 9742.0, 8853.0, 16649.0, 11541.0, 10193.0, 51590.0, 8311.0, 8204.0, 9359.0, 11194.0, 9127.0, 7721.0, 7905.0, 7364.0, 7287.0, 14847.0, 10193.903911866331, 9127.945326563173, 7032.712609370135, 6615.107663131297, 6575.520176836842, 6477.685283393875, 6134.921010526879, 5525.060429188454, 5330.644546730866, 4798.225866287765, 4674.230872487606, 4655.19316661332, 4539.145400886407, 4434.59242367693, 3740.014202067191, 3643.8962682302363, 3935.6373599401677, 3378.8617637610087, 3229.6097298681116, 3184.691589784932, 3108.657435315359, 3007.3121765039277, 2993.0485727687096, 2886.562849255307, 2789.2210935204357, 2773.7987298313033, 2771.5094350155427, 2670.7070895212637, 2666.2595297953776, 2618.418990217754, 7629.83580141707, 6032.224288256359, 14169.647280612788, 9767.243942237848, 5100.2760395701935, 4779.853495639914, 7948.028486232041, 28038.896020475517, 12739.00584160736, 22200.997979620384, 20331.154715453056, 8413.298433961987, 15112.272766567217, 51590.31829172253, 53667.35052316877, 9359.919826430683, 7966.913050942634, 5892.520775492688, 5540.394468117421, 5377.5463508745115, 5214.537207724549, 4800.593170522874, 4711.93288216568, 4611.775120637615, 4437.545142045526, 4417.8156545922875, 3920.6117167602915, 3878.5622224121635, 3878.2715544444545, 3827.352975184516, 3809.9873310513653, 3802.043352524742, 3753.7080786134716, 3525.128008353758, 3517.541036713105, 3479.1763504666324, 3364.1493225714885, 3289.0055341591624, 3280.5669498876864, 3176.2264243435197, 3036.4700976595027, 2945.833193136879, 2902.863231649058, 2897.9870479791007, 2893.629344642657, 5440.750148098125, 11194.638223796406, 16649.384263554588, 9129.095986963726, 5219.171439451341, 14847.119046593982, 20465.22563667429, 8090.895189436766, 9571.479075066693, 6670.932740952468, 10170.9968374587, 4625.010220873244, 13300.990672360142, 12256.925194415731, 7082.080236077762, 6492.784855547323, 5247.899303944887, 8757.317417091299, 10505.819523022574, 10592.247610208538, 6909.557257092875, 16031.115065200518, 17964.16967053161, 7287.487335928005, 7030.371004783899, 5407.066363428897, 5062.955349907879, 4868.483474542448, 4274.824047924688, 4216.068166804028, 4194.702037353565, 3903.4472323400096, 3749.620837101275, 3579.0509094047857, 3406.738661705691, 3383.648974030953, 3068.654454794806, 3061.1616744113744, 2921.8635347874174, 2886.799229093949, 2715.932521441441, 2653.936177498242, 2650.508745653954, 2574.5922112313356, 2539.3808628301786, 2514.041744013331, 2496.6114851273087, 2496.5041774427195, 2448.1481506949785, 2424.59395432592, 2414.3850298737025, 2412.263837494971, 2309.5467249711214, 3677.3566263456314, 3695.9610247052924, 3835.2353057367836, 5572.146056987823, 8137.357574704522, 4092.0395121759884, 3797.95206973494, 31430.550322749255, 7365.399161734624, 25537.533420433938, 11586.077177271707, 9959.750768310781, 8631.367202626134, 24532.38831048307, 14479.976415192028, 53667.35052316877, 19186.087739926654, 16338.927851300687, 13808.971555346328, 7905.921743290738, 7364.330592298913, 4993.274486758621, 4324.36926495364, 3882.041164396694, 3608.431833986469, 3485.194586314678, 3207.4707565518047, 2807.851416980713, 2669.7995816013677, 2649.6199348550126, 2620.252626733444, 2447.8390462275693, 2324.299367657078, 2317.376806758938, 2283.190145489874, 2172.6972785922962, 2130.7780503855174, 1991.7426596456517, 1914.529402368863, 1898.854018489322, 1885.3225569790923, 1882.1489801588555, 1855.9391007044624, 1780.2479376308606, 1719.0956322291454, 1714.0110528802018, 20331.154715453056, 7648.7691840804655, 14404.739401932937, 5359.8496042551, 4936.400134797637, 53667.35052316877, 23990.205819786028, 3894.230071390985, 51590.31829172253, 14948.74209796323, 7081.053589718722, 10819.38227784201, 28038.896020475517, 4817.677336289313, 10202.889676653076, 25537.533420433938, 4476.719646137642, 31430.550322749255, 17635.2919143659, 12484.579366468142, 8204.179875278973, 5691.568700123748, 4897.232752395427, 3486.996722099264, 3378.36158765082, 3161.0382941635103, 3155.299610296636, 3051.303577901837, 3035.9021819547515, 2826.4712056628446, 2692.4002592402608, 2684.738623796713, 2508.81263500421, 2500.8427980726647, 2482.1428812967893, 2388.353776547164, 2362.61226797642, 2269.6901969377077, 2246.6213027494396, 2229.9384523012277, 2226.1603723912776, 2190.225628893647, 2087.3775164635117, 2080.512769223763, 2046.9351175548575, 2005.617863429086, 1986.7390056370332, 1899.0842114585582, 4651.670519326415, 3231.767090539949, 4914.658645844774, 4285.731286045839, 5657.358489051298, 6860.084983122682, 4359.809135767664, 51590.31829172253, 28038.896020475517, 5271.973112834798, 53667.35052316877, 17964.16967053161, 24532.38831048307, 31430.550322749255, 13810.207537745391, 11358.092529083095, 7721.808971525565, 6949.074115243068, 6398.597640609719, 5732.464117484297, 5199.379271018267, 4595.321185027421, 4387.182655920594, 4278.312480160436, 4217.763874334101, 4095.5148613452902, 3781.5526952865002, 3502.533628887183, 3305.8323893789507, 3295.429990889041, 3090.062843834318, 3026.507610885656, 2924.9325455386784, 2901.6796610926617, 2736.9608039364693, 2705.647419639399, 2577.486705414373, 2543.0931942167713, 2491.257028849887, 2424.918418013354, 2336.872372296812, 2281.897257644688, 2269.620916235271, 2170.839894231156, 2126.886334913131, 2963.2407918721733, 3066.597807380935, 2571.177695724121, 5019.215069060337, 4294.750023336875, 7139.963690611048, 4877.535025930987, 4870.458674425033, 24532.38831048307, 51590.31829172253, 7222.91080876262, 14404.739401932937, 31430.550322749255, 13810.207537745391, 53667.35052316877, 14948.74209796323, 17538.498513697432, 13852.095537418483, 11625.650115245802, 8311.906000195258, 6806.385902822121, 5318.784740640224, 3760.3167482881945, 3405.952932549626, 3394.5031579790702, 3331.1736590371142, 3305.413020648582, 3168.442857690775, 3118.7880585531548, 3113.8864884470026, 3036.8270024820627, 3013.146231497131, 2834.564200715765, 2468.21422907772, 2451.205865318995, 2415.8786778089207, 2287.4376863618463, 2142.206161506333, 2055.142702043591, 2079.5866159456587, 1991.3438814788278, 1855.8680185252058, 1836.309357077639, 1821.4295283797812, 1759.402035417518, 1751.8728748507676, 2186.637816006293, 7406.959031700012, 7344.90953475883, 4138.759565132953, 5118.5755870943785, 11061.587106434354, 22200.997979620384, 28038.896020475517, 51590.31829172253, 9767.243942237848, 11085.202271295457, 4547.514153196706, 4475.515420381381, 4601.209533313786, 4018.0043308235395, 3969.021111464696, 3763.790762266176, 3747.341400902411, 3666.9042135349673, 3665.487640207411, 3510.647174547195, 3506.6848043898444, 3442.282078743143, 3316.4302545001024, 3108.6870745159517, 3084.9862391167335, 2936.320575546052, 2774.0936940734737, 2568.595163888217, 2503.6425464897425, 2386.59699455472, 2386.456092732554, 2331.199255560628, 2330.549895741717, 2256.2465334098547, 2209.7070898635266, 2119.178661295371, 2097.269988257072, 2083.1107795324115, 2063.1470272126808, 3134.6870090233724, 5278.205235756412, 2946.60474234869, 3793.3852883676404, 3244.631995679548, 53667.35052316877, 51590.31829172253, 31430.550322749255, 24532.38831048307, 9742.205755534258, 6245.204804126998, 5429.925254655825, 5199.584889166631, 4932.10330562535, 3897.718558990983, 3763.049007289713, 3665.4011486615373, 3554.596795675074, 3330.8060041573926, 2702.2178107909463, 2623.739236565006, 2552.843741779174, 2524.2806806332233, 2515.584393308256, 2434.7236628785, 2615.1278461107067, 2319.4780828944813, 2314.0164977638005, 2285.630150641587, 2224.6636246501125, 2207.1913770251963, 2190.69580773948, 2104.468211425927, 2039.8239642444885, 2018.7153062217687, 2011.5424458354744, 1993.0774199917782, 1983.641779763104, 1964.5761744897252, 6476.354883917022, 11541.558031265267, 3508.0352829706667, 3655.931188255847, 5252.821980544903, 5425.266238992502, 11959.041123851519, 31430.550322749255, 8853.823665998532, 5343.821513407919, 5029.510661320147, 3693.8655067762, 3680.6886628007182, 2923.849515862531, 2880.365372361151, 2774.8944235881995, 2702.6886396867835, 2695.9462406377124, 2614.0765371752186, 2574.7404436206243, 2531.5196365834945, 2513.157002540016, 2510.109929060442, 2173.618457862276, 2083.8857887138174, 2080.531099908436, 2073.6488584458452, 2029.7592147000573, 2010.9597058540676, 3774.3128455296423, 1938.0168327326319, 1921.323451600895, 1842.071160039348, 1841.0661269941897, 1832.2865672638409, 1815.656353665073, 1810.845581156952, 1806.6595942254337, 11167.149104713326, 4471.5783245272205, 3087.17308648587, 53667.35052316877, 51590.31829172253, 3447.5670187486876, 23990.205819786028, 31430.550322749255, 25537.533420433938, 4376.772176940811], \"Category\": [\"Default\", \"Default\", \"Default\", \"Default\", \"Default\", \"Default\", \"Default\", \"Default\", \"Default\", \"Default\", \"Default\", \"Default\", \"Default\", \"Default\", \"Default\", \"Default\", \"Default\", \"Default\", \"Default\", \"Default\", \"Default\", \"Default\", \"Default\", \"Default\", \"Default\", \"Default\", \"Default\", \"Default\", \"Default\", \"Default\", \"Topic1\", \"Topic1\", \"Topic1\", \"Topic1\", \"Topic1\", \"Topic1\", \"Topic1\", \"Topic1\", \"Topic1\", \"Topic1\", \"Topic1\", \"Topic1\", \"Topic1\", \"Topic1\", \"Topic1\", \"Topic1\", \"Topic1\", \"Topic1\", \"Topic1\", \"Topic1\", \"Topic1\", \"Topic1\", \"Topic1\", \"Topic1\", \"Topic1\", \"Topic1\", \"Topic1\", \"Topic1\", \"Topic1\", \"Topic1\", \"Topic1\", \"Topic1\", \"Topic1\", \"Topic1\", \"Topic1\", \"Topic1\", \"Topic1\", \"Topic1\", \"Topic1\", \"Topic1\", \"Topic1\", \"Topic1\", \"Topic1\", \"Topic1\", \"Topic1\", \"Topic2\", \"Topic2\", \"Topic2\", \"Topic2\", \"Topic2\", \"Topic2\", \"Topic2\", \"Topic2\", \"Topic2\", \"Topic2\", \"Topic2\", \"Topic2\", \"Topic2\", \"Topic2\", \"Topic2\", \"Topic2\", \"Topic2\", \"Topic2\", \"Topic2\", \"Topic2\", \"Topic2\", \"Topic2\", \"Topic2\", \"Topic2\", \"Topic2\", \"Topic2\", \"Topic2\", \"Topic2\", \"Topic2\", \"Topic2\", \"Topic2\", \"Topic2\", \"Topic2\", \"Topic2\", \"Topic2\", \"Topic2\", \"Topic2\", \"Topic2\", \"Topic2\", \"Topic2\", \"Topic2\", \"Topic2\", \"Topic2\", \"Topic2\", \"Topic2\", \"Topic2\", \"Topic2\", \"Topic2\", \"Topic2\", \"Topic2\", \"Topic2\", \"Topic2\", \"Topic2\", \"Topic3\", \"Topic3\", \"Topic3\", \"Topic3\", \"Topic3\", \"Topic3\", \"Topic3\", \"Topic3\", \"Topic3\", \"Topic3\", \"Topic3\", \"Topic3\", \"Topic3\", \"Topic3\", \"Topic3\", \"Topic3\", \"Topic3\", \"Topic3\", \"Topic3\", \"Topic3\", \"Topic3\", \"Topic3\", \"Topic3\", \"Topic3\", \"Topic3\", \"Topic3\", \"Topic3\", \"Topic3\", \"Topic3\", \"Topic3\", \"Topic3\", \"Topic3\", \"Topic3\", \"Topic3\", \"Topic3\", \"Topic3\", \"Topic3\", \"Topic3\", \"Topic3\", \"Topic3\", \"Topic3\", \"Topic3\", \"Topic3\", \"Topic3\", \"Topic3\", \"Topic3\", \"Topic4\", \"Topic4\", \"Topic4\", \"Topic4\", \"Topic4\", \"Topic4\", \"Topic4\", \"Topic4\", \"Topic4\", \"Topic4\", \"Topic4\", \"Topic4\", \"Topic4\", \"Topic4\", \"Topic4\", \"Topic4\", \"Topic4\", \"Topic4\", \"Topic4\", \"Topic4\", \"Topic4\", \"Topic4\", \"Topic4\", \"Topic4\", \"Topic4\", \"Topic4\", \"Topic4\", \"Topic4\", \"Topic4\", \"Topic4\", \"Topic4\", \"Topic4\", \"Topic4\", \"Topic4\", \"Topic4\", \"Topic4\", \"Topic4\", \"Topic4\", \"Topic4\", \"Topic4\", \"Topic4\", \"Topic4\", \"Topic4\", \"Topic4\", \"Topic4\", \"Topic4\", \"Topic4\", \"Topic4\", \"Topic5\", \"Topic5\", \"Topic5\", \"Topic5\", \"Topic5\", \"Topic5\", \"Topic5\", \"Topic5\", \"Topic5\", \"Topic5\", \"Topic5\", \"Topic5\", \"Topic5\", \"Topic5\", \"Topic5\", \"Topic5\", \"Topic5\", \"Topic5\", \"Topic5\", \"Topic5\", \"Topic5\", \"Topic5\", \"Topic5\", \"Topic5\", \"Topic5\", \"Topic5\", \"Topic5\", \"Topic5\", \"Topic5\", \"Topic5\", \"Topic5\", \"Topic5\", \"Topic5\", \"Topic5\", \"Topic5\", \"Topic5\", \"Topic5\", \"Topic5\", \"Topic5\", \"Topic5\", \"Topic5\", \"Topic5\", \"Topic5\", \"Topic5\", \"Topic5\", \"Topic6\", \"Topic6\", \"Topic6\", \"Topic6\", \"Topic6\", \"Topic6\", \"Topic6\", \"Topic6\", \"Topic6\", \"Topic6\", \"Topic6\", \"Topic6\", \"Topic6\", \"Topic6\", \"Topic6\", \"Topic6\", \"Topic6\", \"Topic6\", \"Topic6\", \"Topic6\", \"Topic6\", \"Topic6\", \"Topic6\", \"Topic6\", \"Topic6\", \"Topic6\", \"Topic6\", \"Topic6\", \"Topic6\", \"Topic6\", \"Topic6\", \"Topic6\", \"Topic6\", \"Topic6\", \"Topic6\", \"Topic6\", \"Topic6\", \"Topic6\", \"Topic6\", \"Topic6\", \"Topic6\", \"Topic6\", \"Topic6\", \"Topic6\", \"Topic6\", \"Topic6\", \"Topic7\", \"Topic7\", \"Topic7\", \"Topic7\", \"Topic7\", \"Topic7\", \"Topic7\", \"Topic7\", \"Topic7\", \"Topic7\", \"Topic7\", \"Topic7\", \"Topic7\", \"Topic7\", \"Topic7\", \"Topic7\", \"Topic7\", \"Topic7\", \"Topic7\", \"Topic7\", \"Topic7\", \"Topic7\", \"Topic7\", \"Topic7\", \"Topic7\", \"Topic7\", \"Topic7\", \"Topic7\", \"Topic7\", \"Topic7\", \"Topic7\", \"Topic7\", \"Topic7\", \"Topic7\", \"Topic7\", \"Topic7\", \"Topic7\", \"Topic7\", \"Topic7\", \"Topic7\", \"Topic8\", \"Topic8\", \"Topic8\", \"Topic8\", \"Topic8\", \"Topic8\", \"Topic8\", \"Topic8\", \"Topic8\", \"Topic8\", \"Topic8\", \"Topic8\", \"Topic8\", \"Topic8\", \"Topic8\", \"Topic8\", \"Topic8\", \"Topic8\", \"Topic8\", \"Topic8\", \"Topic8\", \"Topic8\", \"Topic8\", \"Topic8\", \"Topic8\", \"Topic8\", \"Topic8\", \"Topic8\", \"Topic8\", \"Topic8\", \"Topic8\", \"Topic8\", \"Topic8\", \"Topic8\", \"Topic8\", \"Topic8\", \"Topic8\", \"Topic8\", \"Topic8\", \"Topic9\", \"Topic9\", \"Topic9\", \"Topic9\", \"Topic9\", \"Topic9\", \"Topic9\", \"Topic9\", \"Topic9\", \"Topic9\", \"Topic9\", \"Topic9\", \"Topic9\", \"Topic9\", \"Topic9\", \"Topic9\", \"Topic9\", \"Topic9\", \"Topic9\", \"Topic9\", \"Topic9\", \"Topic9\", \"Topic9\", \"Topic9\", \"Topic9\", \"Topic9\", \"Topic9\", \"Topic9\", \"Topic9\", \"Topic9\", \"Topic9\", \"Topic9\", \"Topic9\", \"Topic9\", \"Topic9\", \"Topic9\", \"Topic9\", \"Topic9\", \"Topic10\", \"Topic10\", \"Topic10\", \"Topic10\", \"Topic10\", \"Topic10\", \"Topic10\", \"Topic10\", \"Topic10\", \"Topic10\", \"Topic10\", \"Topic10\", \"Topic10\", \"Topic10\", \"Topic10\", \"Topic10\", \"Topic10\", \"Topic10\", \"Topic10\", \"Topic10\", \"Topic10\", \"Topic10\", \"Topic10\", \"Topic10\", \"Topic10\", \"Topic10\", \"Topic10\", \"Topic10\", \"Topic10\", \"Topic10\", \"Topic10\", \"Topic10\", \"Topic10\", \"Topic10\", \"Topic10\", \"Topic10\", \"Topic10\", \"Topic10\", \"Topic10\", \"Topic10\"], \"logprob\": [30.0, 29.0, 28.0, 27.0, 26.0, 25.0, 24.0, 23.0, 22.0, 21.0, 20.0, 19.0, 18.0, 17.0, 16.0, 15.0, 14.0, 13.0, 12.0, 11.0, 10.0, 9.0, 8.0, 7.0, 6.0, 5.0, 4.0, 3.0, 2.0, 1.0, -4.4459, -4.5564, -4.8172, -4.8785, -4.8845, -4.8995, -4.9538, -5.0586, -5.0944, -5.1997, -5.2259, -5.23, -5.2552, -5.2786, -5.449, -5.475, -5.398, -5.5506, -5.5958, -5.6098, -5.634, -5.6672, -5.6719, -5.7082, -5.7425, -5.7481, -5.7489, -5.786, -5.7877, -5.8058, -4.9488, -5.1619, -4.551, -4.9315, -5.4566, -5.5082, -5.3186, -4.9696, -5.2303, -5.1445, -5.2059, -5.4469, -5.36, -5.2441, -5.3348, -4.523, -4.6842, -4.9859, -5.0475, -5.0774, -5.1082, -5.1909, -5.2096, -5.2311, -5.2696, -5.274, -5.3935, -5.4043, -5.4044, -5.4176, -5.4221, -5.4242, -5.437, -5.4999, -5.5021, -5.513, -5.5467, -5.5693, -5.5719, -5.6042, -5.6492, -5.6796, -5.6943, -5.6959, -5.6975, -5.0679, -4.4227, -4.1239, -4.6751, -5.1725, -4.3798, -4.1287, -4.8632, -4.784, -5.0926, -4.843, -5.3478, -4.7697, -4.8279, -5.131, -5.1797, -5.2806, -5.066, -5.0046, -5.0125, -5.1968, -4.9471, -5.0489, -4.4874, -4.5234, -4.786, -4.8518, -4.891, -5.0211, -5.0349, -5.04, -5.112, -5.1522, -5.1988, -5.2482, -5.255, -5.3528, -5.3552, -5.4019, -5.4139, -5.475, -5.4981, -5.4994, -5.5285, -5.5423, -5.5523, -5.5593, -5.5593, -5.5789, -5.5886, -5.5928, -5.5937, -5.6372, -5.1728, -5.1681, -5.1683, -5.0167, -4.7646, -5.2403, -5.3371, -4.4105, -5.1497, -4.8936, -5.1718, -5.2989, -5.3352, -5.2439, -5.3139, -5.2828, -3.5101, -3.6708, -3.8391, -4.3969, -4.4679, -4.8566, -5.0005, -5.1085, -5.1816, -5.2164, -5.2995, -5.4326, -5.4831, -5.4907, -5.5018, -5.57, -5.6218, -5.6248, -5.6397, -5.6893, -5.7088, -5.7764, -5.816, -5.8242, -5.8314, -5.833, -5.8471, -5.8888, -5.9238, -5.9268, -3.7232, -4.633, -4.0926, -5.0384, -5.1343, -3.4842, -4.0753, -5.3506, -3.7885, -4.629, -5.0741, -4.8865, -4.4318, -5.2841, -4.9463, -4.5572, -5.3482, -5.0978, -3.5565, -3.902, -4.3219, -4.6877, -4.8381, -5.1779, -5.2096, -5.2761, -5.2779, -5.3115, -5.3165, -5.3881, -5.4367, -5.4396, -5.5074, -5.5106, -5.5181, -5.5566, -5.5675, -5.6077, -5.6179, -5.6253, -5.627, -5.6433, -5.6915, -5.6948, -5.7111, -5.7315, -5.7409, -5.7861, -4.8929, -5.3523, -5.04, -5.3038, -5.166, -5.1414, -5.4161, -4.8233, -5.0159, -5.435, -4.9554, -5.2929, -5.3647, -5.4323, -5.489, -3.9773, -4.3633, -4.4687, -4.5513, -4.6613, -4.7589, -4.8825, -4.9289, -4.954, -4.9683, -4.9977, -5.0775, -5.1542, -5.212, -5.2152, -5.2796, -5.3004, -5.3345, -5.3425, -5.401, -5.4125, -5.4611, -5.4745, -5.4952, -5.5222, -5.5592, -5.583, -5.5884, -5.633, -5.6534, -5.3221, -5.2892, -5.4825, -4.9591, -5.0912, -4.8033, -5.0627, -5.1578, -4.5932, -4.4176, -5.1018, -5.1018, -5.0347, -5.1728, -5.1034, -5.2255, -3.5411, -3.7771, -3.9523, -4.2879, -4.4878, -4.7345, -5.0814, -5.1805, -5.1839, -5.2027, -5.2105, -5.2528, -5.2686, -5.2702, -5.2953, -5.3031, -5.3643, -5.5028, -5.5097, -5.5242, -5.5789, -5.6446, -5.6861, -5.6743, -5.7177, -5.7882, -5.7988, -5.807, -5.8417, -5.846, -5.6248, -4.5725, -4.9745, -5.4063, -5.3102, -5.1214, -5.1087, -5.2856, -5.3562, -5.5486, -3.9794, -4.8708, -4.8867, -4.859, -4.9946, -5.0069, -5.06, -5.0644, -5.0861, -5.0865, -5.1297, -5.1308, -5.1494, -5.1866, -5.2514, -5.259, -5.3084, -5.3653, -5.4424, -5.468, -5.5159, -5.516, -5.5394, -5.5397, -5.5721, -5.593, -5.6349, -5.6453, -5.6521, -5.6617, -5.3381, -5.0938, -5.487, -5.3779, -5.4512, -5.017, -5.2819, -5.4702, -5.5082, -4.047, -4.4918, -4.6317, -4.6751, -4.7279, -4.9634, -4.9986, -5.0249, -5.0556, -5.1207, -5.33, -5.3595, -5.3869, -5.3982, -5.4016, -5.4343, -5.3629, -5.4829, -5.4852, -5.4976, -5.5247, -5.5326, -5.5401, -5.5803, -5.6115, -5.6219, -5.6255, -5.6347, -5.6395, -5.6491, -4.6341, -4.2202, -5.2299, -5.2475, -5.049, -5.1381, -4.9439, -5.2365, -3.9989, -4.5039, -4.5646, -4.8734, -4.877, -5.1073, -5.1223, -5.1597, -5.1861, -5.1886, -5.2194, -5.2346, -5.2515, -5.2588, -5.26, -5.4041, -5.4463, -5.4479, -5.4513, -5.4727, -5.482, -4.8524, -5.519, -5.5276, -5.5698, -5.5704, -5.5751, -5.5843, -5.5869, -5.5892, -3.7734, -4.9074, -5.2624, -3.7262, -3.9323, -5.326, -4.7467, -4.9302, -5.1752, -5.4667], \"loglift\": [30.0, 29.0, 28.0, 27.0, 26.0, 25.0, 24.0, 23.0, 22.0, 21.0, 20.0, 19.0, 18.0, 17.0, 16.0, 15.0, 14.0, 13.0, 12.0, 11.0, 10.0, 9.0, 8.0, 7.0, 6.0, 5.0, 4.0, 3.0, 2.0, 1.0, 2.0091, 2.0091, 2.009, 2.009, 2.009, 2.009, 2.009, 2.0089, 2.0089, 2.0089, 2.0089, 2.0089, 2.0089, 2.0088, 2.0087, 2.0087, 2.0087, 2.0087, 2.0087, 2.0086, 2.0086, 2.0086, 2.0086, 2.0086, 2.0085, 2.0085, 2.0085, 2.0085, 2.0085, 2.0085, 1.796, 1.8178, 1.5748, 1.5663, 1.6909, 1.7042, 1.3853, 0.4736, 1.0019, 0.5322, 0.5588, 1.2002, 0.7013, -0.4106, -0.5408, 2.0174, 2.0174, 2.0173, 2.0172, 2.0172, 2.0172, 2.0172, 2.0172, 2.0172, 2.0171, 2.0171, 2.0171, 2.0171, 2.0171, 2.0171, 2.0171, 2.0171, 2.017, 2.017, 2.017, 2.017, 2.017, 2.017, 2.017, 2.0169, 2.0169, 2.0169, 2.0169, 2.0169, 2.0169, 2.015, 1.9387, 1.8405, 1.8903, 1.9519, 1.6992, 1.6294, 1.8229, 1.7341, 1.7864, 1.6143, 1.8975, 1.4193, 1.4428, 1.6883, 1.7264, 1.8384, 1.541, 1.4203, 1.4042, 1.6472, 1.0552, 0.8396, 2.3032, 2.3032, 2.3031, 2.3031, 2.3031, 2.303, 2.303, 2.303, 2.303, 2.3029, 2.3029, 2.3029, 2.3029, 2.3028, 2.3028, 2.3028, 2.3027, 2.3027, 2.3027, 2.3027, 2.3026, 2.3026, 2.3026, 2.3026, 2.3026, 2.3026, 2.3026, 2.3026, 2.3026, 2.3025, 2.3018, 2.3015, 2.2643, 2.0424, 1.9157, 2.1274, 2.1053, 0.9186, 1.6303, 0.6431, 1.1553, 1.1794, 1.2862, 0.3329, 0.7901, -0.4887, 2.3125, 2.3125, 2.3125, 2.3123, 2.3123, 2.3122, 2.3121, 2.312, 2.312, 2.3119, 2.3119, 2.3118, 2.3117, 2.3117, 2.3117, 2.3117, 2.3116, 2.3116, 2.3116, 2.3115, 2.3115, 2.3114, 2.3114, 2.3114, 2.3114, 2.3114, 2.3114, 2.3113, 2.3112, 2.3112, 2.0415, 2.1093, 2.0166, 2.0595, 2.0459, 1.3098, 1.5239, 2.0668, 1.045, 1.4432, 1.7453, 1.509, 1.0114, 1.9205, 1.5079, 0.9795, 1.9297, 0.2313, 2.3504, 2.3504, 2.3503, 2.3501, 2.3501, 2.3499, 2.3499, 2.3498, 2.3498, 2.3498, 2.3498, 2.3497, 2.3497, 2.3497, 2.3496, 2.3496, 2.3496, 2.3496, 2.3496, 2.3495, 2.3495, 2.3495, 2.3495, 2.3495, 2.3494, 2.3494, 2.3494, 2.3494, 2.3494, 2.3493, 2.3467, 2.2515, 2.1446, 2.0177, 1.8778, 1.7097, 1.8883, 0.0102, 0.4274, 1.6794, -0.1614, 0.5956, 0.2121, -0.1032, 0.6624, 2.3696, 2.3695, 2.3695, 2.3695, 2.3694, 2.3694, 2.3693, 2.3693, 2.3693, 2.3693, 2.3693, 2.3692, 2.3692, 2.3691, 2.3691, 2.3691, 2.3691, 2.369, 2.369, 2.369, 2.369, 2.3689, 2.3689, 2.3689, 2.3689, 2.3688, 2.3688, 2.3688, 2.3688, 2.3687, 2.3685, 2.367, 2.35, 2.2044, 2.2282, 2.0078, 2.1295, 2.0359, 0.9836, 0.4159, 1.6978, 1.0075, 0.2943, 0.9786, -0.3094, 0.8467, 2.3714, 2.3713, 2.3713, 2.3712, 2.3712, 2.3711, 2.3709, 2.3708, 2.3708, 2.3708, 2.3708, 2.3708, 2.3708, 2.3708, 2.3707, 2.3707, 2.3707, 2.3706, 2.3705, 2.3705, 2.3705, 2.3704, 2.3704, 2.3703, 2.3703, 2.3702, 2.3702, 2.3702, 2.3702, 2.3702, 2.3696, 2.2019, 1.8083, 1.9501, 1.8338, 1.2519, 0.568, 0.1576, -0.5227, 0.9492, 2.3918, 2.3915, 2.3915, 2.3915, 2.3914, 2.3914, 2.3914, 2.3914, 2.3914, 2.3914, 2.3914, 2.3914, 2.3913, 2.3913, 2.3913, 2.3913, 2.3912, 2.3912, 2.3911, 2.3911, 2.391, 2.391, 2.391, 2.391, 2.391, 2.391, 2.3909, 2.3909, 2.3909, 2.3909, 2.2962, 2.0194, 2.2092, 2.0657, 2.1486, -0.2229, -0.4484, -0.1412, 0.0686, 2.4534, 2.4532, 2.4532, 2.4532, 2.4531, 2.453, 2.453, 2.453, 2.453, 2.4529, 2.4528, 2.4527, 2.4527, 2.4527, 2.4527, 2.4527, 2.4526, 2.4526, 2.4526, 2.4526, 2.4526, 2.4526, 2.4526, 2.4525, 2.4525, 2.4525, 2.4525, 2.4524, 2.4524, 2.4524, 2.2746, 2.1107, 2.2919, 2.2329, 2.0691, 1.9477, 1.3515, 0.0925, 2.5971, 2.597, 2.5969, 2.5968, 2.5968, 2.5966, 2.5966, 2.5966, 2.5965, 2.5965, 2.5965, 2.5965, 2.5965, 2.5965, 2.5965, 2.5963, 2.5963, 2.5963, 2.5963, 2.5962, 2.5962, 2.5962, 2.5962, 2.5962, 2.5961, 2.5961, 2.5961, 2.5961, 2.5961, 2.5961, 2.5905, 2.3717, 2.3871, 1.0679, 0.9012, 2.2131, 0.8525, 0.3989, 0.3615, 1.8338]}, \"token.table\": {\"Topic\": [6, 10, 6, 1, 3, 6, 9, 10, 10, 7, 7, 9, 4, 3, 1, 1, 5, 8, 7, 2, 4, 6, 6, 7, 8, 4, 1, 5, 3, 4, 8, 10, 9, 5, 9, 4, 2, 6, 10, 6, 1, 3, 4, 5, 6, 7, 8, 9, 10, 1, 2, 3, 5, 6, 7, 8, 9, 10, 6, 8, 2, 8, 5, 3, 6, 1, 7, 3, 5, 4, 5, 3, 10, 2, 1, 8, 6, 4, 10, 10, 7, 2, 8, 5, 1, 4, 7, 8, 6, 1, 1, 2, 3, 4, 5, 6, 7, 8, 9, 10, 6, 10, 2, 5, 8, 1, 1, 2, 3, 4, 5, 7, 8, 9, 10, 3, 1, 3, 4, 5, 1, 3, 4, 6, 7, 8, 9, 10, 2, 3, 5, 10, 1, 2, 4, 7, 2, 3, 4, 5, 6, 7, 8, 9, 10, 1, 10, 7, 8, 7, 8, 2, 4, 5, 5, 4, 9, 5, 10, 2, 8, 1, 2, 3, 4, 5, 6, 7, 8, 9, 10, 1, 3, 5, 6, 2, 1, 2, 3, 4, 5, 6, 7, 8, 9, 10, 1, 2, 3, 4, 5, 6, 7, 8, 9, 10, 2, 5, 7, 9, 6, 5, 3, 3, 6, 9, 5, 9, 2, 1, 2, 3, 4, 5, 6, 8, 9, 10, 2, 5, 9, 1, 2, 4, 5, 7, 9, 10, 10, 2, 5, 7, 1, 8, 7, 9, 6, 7, 7, 2, 4, 3, 10, 6, 8, 1, 4, 5, 6, 7, 10, 1, 3, 7, 10, 6, 10, 1, 6, 9, 7, 2, 5, 1, 4, 3, 3, 3, 6, 9, 10, 5, 1, 2, 4, 5, 6, 7, 8, 9, 10, 5, 9, 5, 8, 5, 5, 3, 9, 10, 8, 4, 8, 3, 8, 3, 9, 3, 7, 8, 2, 1, 4, 6, 3, 4, 6, 4, 6, 2, 3, 6, 7, 9, 5, 2, 10, 7, 1, 4, 7, 8, 9, 10, 5, 9, 4, 7, 2, 7, 8, 2, 7, 9, 10, 4, 7, 1, 4, 10, 7, 3, 9, 1, 4, 6, 7, 8, 9, 9, 4, 2, 1, 4, 9, 2, 7, 7, 2, 4, 10, 9, 1, 3, 9, 8, 9, 10, 2, 2, 5, 7, 9, 7, 2, 4, 1, 6, 7, 8, 10, 8, 1, 5, 7, 8, 9, 10, 1, 3, 7, 1, 1, 10, 8, 4, 2, 4, 5, 7, 9, 6, 3, 6, 7, 6, 2, 7, 1, 4, 10, 10, 1, 2, 3, 4, 5, 6, 7, 8, 9, 10, 9, 9, 9, 7, 5, 6, 4, 8, 2, 3, 5, 8, 9, 3, 4, 3, 2, 6, 2, 3, 2, 5, 7, 1, 3, 4, 5, 6, 7, 8, 10, 1, 2, 3, 4, 5, 6, 7, 8, 9, 10, 6, 10, 3, 8, 1, 4, 5, 5, 8, 1, 2, 3, 4, 5, 6, 7, 8, 9, 10, 6, 1, 2, 3, 4, 5, 6, 7, 8, 9, 10, 1, 1, 4, 5, 2, 7, 8, 3, 8, 1, 2, 3, 4, 5, 6, 7, 8, 9, 10, 1, 10, 10, 4, 8, 1, 2, 3, 4, 6, 7, 3, 7, 2, 9, 2, 4, 9, 4, 5, 6, 9, 7, 9, 2, 3, 9, 1, 2, 3, 4, 5, 6, 7, 8, 9, 10, 1, 2, 1, 5, 8, 10, 8, 2, 3, 10, 6, 7, 4, 5, 6, 7, 10, 6, 8, 10, 6, 4, 6, 7, 4, 6, 8, 5, 4, 6, 9, 3, 4, 5, 6, 7, 8, 7, 8, 2, 6, 6, 9, 2, 3, 4, 5, 6, 7, 8, 9, 10, 5, 6, 8, 1, 6, 8, 2, 1, 4, 5, 2, 5, 6, 8, 9, 10, 1, 4, 7, 1, 4, 6, 7, 9, 10, 1, 4, 3, 1, 2, 3, 4, 5, 6, 7, 8, 9, 10, 9, 2, 5, 2, 4, 3, 1, 6, 5, 8, 2, 9, 8, 5, 7, 5, 3, 5, 3, 4, 5, 6, 7, 8, 7, 9, 8, 5, 9, 10, 8, 2, 10, 6, 1, 7, 10, 8, 2, 3, 5, 7, 8, 9, 10, 1, 10, 1, 6, 6, 10, 9, 3, 10, 7, 1, 2, 3, 4, 5, 6, 7, 8, 10, 9, 2, 10, 1, 2, 3, 4, 5, 6, 7, 8, 9, 10, 3, 2, 3, 5, 8, 9, 5, 5, 4, 8, 5, 3, 10, 5, 7, 7, 2, 3, 5, 6, 7, 9, 4, 3, 2, 3, 4, 4, 1, 4, 6, 4, 8, 9, 1, 7, 9, 6, 5, 9, 6, 4, 5, 8, 3, 3, 4, 10, 4, 6, 7, 1, 2, 3, 4, 5, 6, 7, 8, 9, 10, 2, 4, 7, 9, 10, 3, 6, 9, 10, 1, 2, 3, 4, 5, 6, 7, 8, 9, 10, 2, 3, 4, 9, 3, 6], \"Freq\": [0.9992088731731744, 0.9990046940394683, 0.9997657321578097, 0.0002719344631509805, 0.9982714142272493, 0.000543868926301961, 0.0002719344631509805, 0.0002719344631509805, 0.99950081399778, 0.9994266119971998, 0.9992699790817341, 0.9991285724342289, 0.9987680850841706, 0.9996627482700009, 0.9995288774203724, 0.9996813864205046, 0.9056964558392635, 0.0937567564466337, 0.9992290037092367, 0.9995264846254468, 0.998496978460939, 0.9992835834792924, 0.6962220279266679, 0.16078513137393174, 0.14271781260456137, 0.9989844843771045, 0.9995854563356514, 0.9988943306475517, 0.20265345853102093, 0.5670060181198948, 0.08727514799454421, 0.14277536346680292, 0.999096502757906, 0.9987922356156937, 0.9989316204741245, 0.998955191631166, 0.9997598755088198, 0.9992626179600964, 0.999494971656987, 0.998845218504763, 0.07553160780267064, 0.2503296925827349, 0.1247512359706283, 0.08596731435670434, 0.1254830080765514, 0.05319665048275708, 0.07941318158191488, 0.09430315312852393, 0.1109748306721631, 0.08140259214577371, 0.09469114749856401, 0.1393667814453682, 0.11784421326661582, 0.2500368053190666, 0.062448057670167915, 0.09795214267716286, 0.08592722295607962, 0.07035597097827012, 0.9997015263891749, 0.9989058823643397, 0.9995897899622052, 0.9992096995248482, 0.9995486832788837, 0.8384572020360397, 0.1610443882663218, 0.9995038973790725, 0.9997706903572762, 0.9992704506179695, 0.9986947346865918, 0.9990407520397719, 0.9998700381951698, 0.9991961045511135, 0.9990254872594599, 0.9993852212743972, 0.9996868728181532, 0.9995197929375335, 0.9990352208571438, 0.20149484915826957, 0.7979285480540574, 0.9990051981396217, 0.9988229649832819, 0.21543275198258752, 0.7840642647263271, 0.9990546268231653, 0.1489774023018365, 0.44722624125215793, 0.20758824873374326, 0.19602289776557436, 0.9991131002714312, 0.9991919364609364, 0.3651776329991091, 0.06994266358602885, 0.024570206175563446, 0.09129440824977728, 0.058560299702780615, 0.04317448369507954, 0.13431189382232925, 0.05290836729178838, 0.08760495237037957, 0.07253313260773363, 0.9990940200775154, 0.998640619695147, 0.8230238859964215, 0.10307882879126229, 0.07366304791318025, 0.9997868823164933, 0.06536000615329382, 0.11404654134911472, 0.04455985113384636, 0.45443545094592425, 0.05339679074130701, 0.04931179035672614, 0.014464236055607753, 0.02980382933648283, 0.17465460827952878, 0.9989301489755462, 0.9991548350259204, 0.9992884501267302, 0.9988401826370306, 0.9988610031272447, 0.2716608359257993, 0.06979106999491416, 0.08335151105610215, 0.03480513205704916, 0.3264450178129988, 0.0881428668977219, 0.07196074056470424, 0.05378974954271234, 0.9241031101844512, 0.05350775862740322, 0.021706820277894796, 0.0005359708710591307, 0.18739559459702165, 0.6680761098041774, 0.06901978352943819, 0.07531218544665193, 0.08290968813253105, 0.03591546315610079, 0.08580609645157145, 0.18486326096275266, 0.24880147460556917, 0.07067236298458543, 0.14959948967843595, 0.024257419671963234, 0.11723212671315963, 0.9996167334645676, 0.9989808180354214, 0.9994764329116487, 0.9994907783536707, 0.99910008973534, 0.9992343753317996, 0.00313775973916845, 0.816079012162061, 0.1805519249913179, 0.9992774928749485, 0.9994521131733959, 0.9989576822400673, 0.0005298977805639065, 0.9988573163629638, 0.9993143351070232, 0.9993561594889635, 0.08893141488402345, 0.010912900300720401, 0.05913900322823791, 0.2814869239201806, 0.09629713799996262, 0.14171263605429282, 0.055339840778964026, 0.058402430916643995, 0.02438442021013546, 0.18338712210500127, 0.0002149765328058542, 0.003009671459281959, 0.9962012530223284, 0.0002149765328058542, 0.9990913332948033, 0.15454699136964103, 0.5414337174739715, 0.0021713993900438267, 0.04314476179347951, 0.026717653364452303, 0.028983461423628468, 0.05721165349419821, 0.07609338732066627, 0.03596970293942165, 0.03360948621111314, 0.07807353929632006, 0.0008943985408647645, 0.06128493335217105, 0.3668524681780309, 0.08111076767467333, 0.068626454708436, 0.03698710632534495, 0.07317298062449855, 0.016378673279586, 0.21663077991861984, 0.8803719460806163, 0.11939845977701527, 0.9986347432996189, 0.9994554927969996, 0.9994594877837559, 0.9986213560869034, 0.999053485238233, 0.9613490975338458, 0.0036503627245657285, 0.03441770568876258, 0.9993551820718928, 0.999645436250863, 0.9993338496773024, 0.0764710942663197, 0.12100730717988738, 0.31719105127395586, 0.10875121757964201, 0.07975089289173748, 0.1286026303124338, 0.03650933733030839, 0.1040041406218005, 0.027705667335765943, 0.7472910481323797, 0.17203711887136605, 0.08024291757563269, 0.03984665601648424, 0.5497334882877977, 0.12412609260984053, 0.04548533375466597, 0.035561260935466125, 0.16149173042152482, 0.04368095687844782, 0.9988756351631369, 0.7530706532887422, 0.12714858283190889, 0.1195217574032077, 0.9995273557692187, 0.9989867175797126, 0.1974873056471416, 0.8019844600518271, 0.9990765138107448, 0.9991060442387201, 0.9997720458452188, 0.999390230834721, 0.999229686959185, 0.99935584522345, 0.9991417159621002, 0.9993324265755844, 0.9995011626024981, 0.647510824955638, 0.02378323139074115, 0.0246301120337349, 0.10219026425457918, 0.15737865282300523, 0.044390660370255734, 0.7272155411244294, 0.04038997073918373, 0.16391269678620193, 0.06823160105454339, 0.999171450659289, 0.9985369733321446, 0.9995227295038556, 0.9991685613196072, 0.9993025255800698, 0.9987423921417499, 0.9994625646434606, 0.9989838357910317, 0.9998132303499433, 0.9988266978344029, 0.9990615298957837, 0.9993622101904382, 0.7700803166526504, 0.12347127892263424, 0.06927313032578025, 0.03696959804950967, 0.9991307148862215, 0.03638759255895582, 0.5627838867077966, 0.05588677332485367, 0.09284547159661821, 0.026597208910806275, 0.07106186797948547, 0.06951172390186179, 0.04022215948781439, 0.04462783212948169, 0.14880123998010678, 0.8506185825682733, 0.31071167693330026, 0.6888705227618779, 0.9991366809248025, 0.9992450512238377, 0.9989969263959796, 0.1888459064870992, 0.8104501853014102, 0.9994379596213823, 0.9986788385878361, 0.9989118420241686, 0.9991878639174576, 0.998989656320816, 0.9989931565783399, 0.9992777694345331, 0.9991349776151374, 0.9989309299335277, 0.9995242131193558, 0.9993744638824242, 0.9993298772983983, 0.0019565656720808696, 0.9971963042038832, 0.10331415324396245, 0.7659427714027883, 0.1304594405668859, 0.7437829801046116, 0.25609626783702744, 0.9992776099307489, 0.14023319889489247, 0.716154315879041, 0.14331299096432643, 0.9988026843156877, 0.9995440787668638, 0.9995134356849941, 0.9992056326026848, 0.9991029023933033, 0.28371839889678824, 0.09423832465566766, 0.06873460769029176, 0.08721435014717069, 0.33213365175892806, 0.13387360938218626, 0.9988147294545584, 0.9991792627588755, 0.9991403016982175, 0.9990690933399393, 0.9994598228946379, 0.9996494611301525, 0.9992672077162471, 0.3508552403272882, 0.5693739290060998, 0.07951084996163614, 0.00013614871568773312, 0.000914646214091746, 0.9983363426811408, 0.9989863772287552, 0.9987809682080176, 0.998959331674231, 0.9987561874432999, 0.3188762166705378, 0.6807769258590108, 0.5357303395899893, 0.08895287695869479, 0.09625028412079423, 0.09373393682351856, 0.08782052067492074, 0.09738264040456827, 0.9989726469463196, 0.9987372895744779, 0.9993611096400901, 0.9994489967654266, 0.9994742033094821, 0.9991575600158369, 0.8867007431662915, 0.11286461544325876, 0.9989573950064586, 0.9363555224608103, 0.06322842693105533, 0.9991594276266491, 0.9996469604766939, 0.9994154088066609, 0.9993730586852221, 0.9990071649209912, 0.9990565990636012, 0.9988271567075585, 0.9988777551420367, 0.999278559078981, 0.6208522246080551, 0.23683051569562374, 0.050243696676024324, 0.09192312687318087, 0.9992625848724912, 0.9996150895064958, 0.9986962272372691, 0.8257318962255928, 0.0537115306920482, 0.04741203017878329, 0.02453489673587387, 0.0485724644838584, 0.9989719312792441, 0.15924977856333733, 0.06191777617025024, 0.03175856416112466, 0.12931904543306877, 0.15148149668219893, 0.4660969128683044, 0.9993155564572698, 0.9981165860086829, 0.0013528281187431322, 0.999094560175824, 0.9995361063964489, 0.9991787943349659, 0.9998013323310158, 0.9998572264894292, 0.8376886363617607, 0.02576671864911417, 0.06450689004463547, 0.03501630995905259, 0.03699836523975368, 0.9993392854335647, 0.23219517463540526, 0.11138603070439317, 0.6562352698332578, 0.9994948807854859, 0.9995722076189919, 0.9989701451027563, 0.9992036868193792, 0.999010726548794, 0.9987226099370409, 0.9992695218077281, 0.03674039133391398, 0.2285224716615063, 0.22016610445961987, 0.1799726688274057, 0.08004156683459832, 0.09689242301030322, 0.04205807955329627, 0.04475145410597041, 0.03922658322869011, 0.03176800754436171, 0.9995735479378643, 0.9986682173212648, 0.9993449151773158, 0.998934315729613, 0.9989799290804555, 0.9995940296990652, 0.09059915684803302, 0.9085436574056268, 0.6903481399048321, 0.08350752132601427, 0.13691181139412392, 0.0007236353667765535, 0.08828351474673952, 0.9988973052835061, 0.9986229849361465, 0.9992171250471655, 0.9994264526975939, 0.9998157675615218, 0.9994783890657146, 0.9990303346814916, 0.9997948885817096, 0.9992711911448499, 0.9986661419824777, 0.44524748877069553, 0.06965163599029033, 0.11588796090534653, 0.043383698185078444, 0.06881961986071349, 0.08248845627519025, 0.13383573741478996, 0.04064993090218309, 0.1199411058841388, 0.03230539090904816, 0.19007317269396334, 0.26365114786741967, 0.0519235737519974, 0.05756233289248581, 0.07902094406601112, 0.06817416433048828, 0.030425804528885353, 0.10690147537175936, 0.006716127750845979, 0.9930914234250922, 0.9993010394343496, 0.99894451925917, 0.030038156270688017, 0.7763277530579679, 0.1932890055679055, 0.8138917243788446, 0.18577078608947128, 0.2703101024643506, 0.12420368722780566, 0.012771077056455244, 0.08304508655881518, 0.1349896227728948, 0.02759346700798879, 0.13161488220357243, 0.11652780671719007, 0.04890065256331826, 0.04995939470271352, 0.9995423932561471, 0.21530804906125606, 0.07867642143931272, 0.007560925360441657, 0.27219331297589966, 0.1461541138070279, 0.021184856906143135, 0.1092767703037417, 0.060202084945403384, 0.024680001648234088, 0.0648028366977476, 0.9990761638122886, 0.17535161056539933, 0.6819725694982983, 0.14229168908300557, 0.7935921715265456, 0.14120963837892067, 0.06505836842510783, 0.9990121584402687, 0.9993370448176705, 0.0698812667295333, 0.016968296088061968, 0.3249077286447842, 0.04196892168526569, 0.1426742529061305, 0.21175228668474963, 0.031627297442245676, 0.07219056146341156, 0.05241095004714998, 0.03564346219681656, 0.9994796042228838, 0.9996591365554877, 0.9990950613877062, 0.9997569235627245, 0.9994807026788596, 0.7370518789359568, 0.05941604701044897, 0.06046210417612589, 0.02489616054311066, 0.047909418188002866, 0.07008583010035355, 0.9989539881784307, 0.9990953809706913, 0.9993581400498847, 0.9991058227197738, 0.28990886593785015, 0.000259930244415287, 0.7096962106685387, 0.17448763432885792, 0.5268156311315727, 0.12055244243104887, 0.17798613326276985, 0.9992877108071637, 0.9987360714954149, 0.9992990347519132, 0.820178860292304, 0.17930716014737047, 0.05101336376810432, 0.678223648564452, 0.00039090700205443926, 0.0866836277055719, 0.055606521042243985, 0.0011238576309065128, 0.04519862211254454, 0.03137028691486875, 0.045247485487801345, 0.005130654401964515, 0.9991451501586602, 0.9993776996127446, 0.9992311484913363, 0.13154477124434896, 0.7215191160236135, 0.1465709274786734, 0.9994471368066137, 0.17374571596215413, 0.14473975336413175, 0.6810600018015658, 0.15566442247964865, 0.8439360840592227, 0.07287183585614254, 0.1140942416621642, 0.11878304611403395, 0.5841468879621078, 0.10999153776677816, 0.7864628300168512, 0.09943547251255809, 0.11378698400921597, 0.999385947449727, 0.9990112035237401, 0.84754288100199, 0.15201580117642652, 0.9989513888530582, 0.8680365515438011, 0.13155596878279174, 0.9997933958051426, 0.9998911846982588, 0.9991524505164819, 0.9986549335543253, 0.0237999055918666, 0.18643259380295504, 0.7167971566491589, 0.00023333240776339805, 0.0032666537086875726, 0.06929972510572922, 0.166293087416071, 0.8328229316715066, 0.99958901531113, 0.9995024925808256, 0.9804845476811787, 0.01866848801614303, 0.008495698110766376, 0.11572880103642386, 0.4191657036382843, 0.04194332846811431, 0.21801165466919384, 0.029433914714466183, 0.026289837460875477, 0.06241327824681125, 0.07853503607905296, 0.9989025176208708, 0.9992766296756477, 0.9989708200624207, 0.8078810816420422, 0.16173349363177808, 0.030275880898655377, 0.9993393886019521, 0.999112145001115, 0.7819260660457981, 0.21750127354377372, 0.2748496566631496, 0.5111938058710753, 0.005880151384787879, 0.11229192321917499, 0.09559988057848681, 0.9987953461414515, 0.9991525469407132, 0.9989743546444386, 0.9998487205482505, 0.11975781272982186, 0.10951263568703941, 0.5105974720781307, 0.05980968219570294, 0.12889540306527647, 0.07116244594581322, 0.9996142869016826, 0.9995444899404885, 0.9991225405642348, 0.22827802626945953, 0.07391559611447969, 0.04292599823101715, 0.09346426687236159, 0.0676095732893565, 0.07121301490371261, 0.16472232479625365, 0.07823972605170702, 0.09062655660105615, 0.08905005089477536, 0.9997735876669404, 0.8359535398673251, 0.1636845431379148, 0.9974727477417924, 0.002205578215017783, 0.9994898874453546, 0.0006749367130358655, 0.9985688669365631, 0.9994273805631622, 0.9992459582477022, 0.9995678163114198, 0.9986886868917698, 0.9993213344439841, 0.9988332244752457, 0.99899345292523, 0.9991085057906888, 0.999573304560787, 0.9990144774319962, 0.20417062113832601, 0.44771502435221877, 0.2168330815710787, 0.13096866009642733, 0.0002772801554617375, 0.9991356239944574, 0.16351790767826127, 0.8361184797712793, 0.9989593435735012, 0.999029552220015, 0.9992694542238282, 0.9993172988593383, 0.998774910088335, 0.9993963316087486, 0.999278086258407, 0.9991987699803341, 0.642043962154098, 0.2412144115507981, 0.11651188469643813, 0.9993751834562372, 0.9992175285775605, 0.09898612596033458, 0.6232590716716782, 0.020327508009711566, 0.14971651551500606, 0.10269810568384714, 0.004772545358801846, 0.9994614453426199, 0.9987907025238468, 0.9993515283528114, 0.9995701468977745, 0.9993249610696469, 0.9989356427645302, 0.9987694285395735, 0.9994269683620883, 0.9987834356772907, 0.9992223625192038, 0.042584768126238785, 0.3078906568708846, 0.15748014252173795, 0.10866074167636354, 0.17289972522888583, 0.049320398117447796, 0.09279582806070595, 0.06830262809267319, 0.9997940250373931, 0.9995028662438002, 0.9991865233050026, 0.9993674380803468, 0.003012269017136634, 0.007878242044818889, 0.3615881385570551, 0.09199006152332644, 0.0072989595415233815, 0.03695822371025331, 0.07403230392116573, 0.1710041949728335, 0.1603453969121962, 0.08596552348905316, 0.9996178401946622, 0.7194213889366696, 0.1726893736348473, 0.1075955050774764, 0.9989176461448541, 0.9988813256633486, 0.9992631291842554, 0.9991256922561625, 0.9987585575685703, 0.999245269156573, 0.9997342969910324, 0.9992938385354018, 0.9985278941124635, 0.9993734376667147, 0.9998575411860097, 0.9993474795193528, 0.5502664487364789, 0.15962581465681977, 0.11726833849564815, 0.06425010428941762, 0.04388044159618003, 0.06472603098785774, 0.9988582305749919, 0.9990624238903947, 0.9994142869026664, 0.9996586840136596, 0.9993703116826546, 0.9998820087022703, 0.2344185594327073, 0.7624751381296326, 0.0030003214698688936, 0.99968352964744, 0.9990043049921236, 0.9989559798752743, 0.9996270757189245, 0.9993838954419866, 0.9991863318981244, 0.9993447062432964, 0.9993009665811224, 0.9988492667368565, 0.9991769101417395, 0.21216525109123346, 0.6298440859421914, 0.15757570540505664, 0.999509456032919, 0.20902188538338579, 0.6756367794666541, 0.11499317229632147, 0.9993260690243434, 0.9990215208307698, 0.9993941691664093, 0.0623184147825467, 0.023759744198138717, 0.5100877654423266, 0.015070466319962273, 0.03448557157901277, 0.11635486158745646, 0.04792679829681696, 0.028104383137226942, 0.09612513652732693, 0.06584843392055588, 0.7272791419071383, 0.06324459291079856, 0.10412794530361509, 0.10527294858315031, 0.9987520689696179, 0.678598666619429, 0.13628502739604254, 0.08676035107448694, 0.09818912253330746, 0.05570417256491885, 0.3819447352911513, 0.1348003548855427, 0.03686580737499109, 0.04753256382359257, 0.11845713740289014, 0.06318961568674446, 0.030690316799484967, 0.0892639092277703, 0.041481830633450206, 0.26505611644729965, 0.1234962434072954, 0.00829452381093775, 0.6029197196794973, 0.9996137927805516, 0.9994457101379859], \"Term\": [\"100\", \"2019\", \"2020\", \"2021\", \"2021\", \"2021\", \"2021\", \"2021\", \"abc\", \"aboriginal\", \"across\", \"affect\", \"afghanistan\", \"afl\", \"age\", \"aged\", \"airport\", \"airport\", \"allegation\", \"allege\", \"allegedly\", \"america\", \"amid\", \"amid\", \"amid\", \"andrew\", \"andrews\", \"animal\", \"announce\", \"announce\", \"announce\", \"announce\", \"anthony\", \"apologise\", \"app\", \"around\", \"arrest\", \"art\", \"asx\", \"august\", \"australia\", \"australia\", \"australia\", \"australia\", \"australia\", \"australia\", \"australia\", \"australia\", \"australia\", \"australian\", \"australian\", \"australian\", \"australian\", \"australian\", \"australian\", \"australian\", \"australian\", \"australian\", \"australias\", \"avoid\", \"baby\", \"bad\", \"beach\", \"beat\", \"beat\", \"berejiklian\", \"biden\", \"billion\", \"bom\", \"boom\", \"border\", \"boris\", \"boss\", \"breach\", \"briefing\", \"bring\", \"bubble\", \"budget\", \"budget\", \"build\", \"building\", \"burn\", \"burn\", \"bus\", \"bushfire\", \"bushfire\", \"bushfire\", \"bushfire\", \"buy\", \"cabinet\", \"call\", \"call\", \"call\", \"call\", \"call\", \"call\", \"call\", \"call\", \"call\", \"call\", \"cancel\", \"capture\", \"car\", \"car\", \"car\", \"care\", \"case\", \"case\", \"case\", \"case\", \"case\", \"case\", \"case\", \"case\", \"case\", \"casey\", \"cctv\", \"celebrate\", \"central\", \"ceo\", \"change\", \"change\", \"change\", \"change\", \"change\", \"change\", \"change\", \"change\", \"charge\", \"charge\", \"charge\", \"charge\", \"child\", \"child\", \"child\", \"child\", \"china\", \"china\", \"china\", \"china\", \"china\", \"china\", \"china\", \"china\", \"china\", \"christmas\", \"class\", \"climate\", \"closure\", \"cluster\", \"coal\", \"coast\", \"coast\", \"coast\", \"collapse\", \"commission\", \"commissioner\", \"confirm\", \"confirm\", \"contact\", \"control\", \"coronavirus\", \"coronavirus\", \"coronavirus\", \"coronavirus\", \"coronavirus\", \"coronavirus\", \"coronavirus\", \"coronavirus\", \"coronavirus\", \"coronavirus\", \"country\", \"country\", \"country\", \"country\", \"couple\", \"court\", \"court\", \"court\", \"court\", \"court\", \"court\", \"court\", \"court\", \"court\", \"court\", \"covid\", \"covid\", \"covid\", \"covid\", \"covid\", \"covid\", \"covid\", \"covid\", \"covid\", \"covid\", \"crash\", \"crash\", \"crew\", \"cricket\", \"crisis\", \"cross\", \"crown\", \"cup\", \"cup\", \"cup\", \"cyclone\", \"daniel\", \"david\", \"day\", \"day\", \"day\", \"day\", \"day\", \"day\", \"day\", \"day\", \"day\", \"dead\", \"dead\", \"dead\", \"death\", \"death\", \"death\", \"death\", \"death\", \"death\", \"death\", \"destroy\", \"die\", \"die\", \"die\", \"disability\", \"discover\", \"dog\", \"dog\", \"dollar\", \"domestic\", \"donald\", \"drone\", \"drum\", \"due\", \"early\", \"economic\", \"economy\", \"election\", \"election\", \"election\", \"election\", \"election\", \"election\", \"emergency\", \"emergency\", \"emergency\", \"emergency\", \"energy\", \"enter\", \"explain\", \"explainer\", \"facebook\", \"fan\", \"fatal\", \"father\", \"federal\", \"female\", \"festival\", \"film\", \"final\", \"final\", \"final\", \"final\", \"financial\", \"find\", \"find\", \"find\", \"find\", \"find\", \"find\", \"find\", \"find\", \"find\", \"five\", \"five\", \"flight\", \"flight\", \"flooding\", \"fly\", \"follow\", \"food\", \"food\", \"footage\", \"football\", \"foreign\", \"france\", \"french\", \"friday\", \"frydenberg\", \"full\", \"general\", \"george\", \"girl\", \"gladys\", \"global\", \"global\", \"gold\", \"gold\", \"gold\", \"government\", \"government\", \"grand\", \"great\", \"great\", \"great\", \"greg\", \"grow\", \"guilty\", \"happen\", \"hard\", \"health\", \"health\", \"health\", \"health\", \"health\", \"health\", \"heavy\", \"hill\", \"history\", \"hobart\", \"hong\", \"hotel\", \"hotspot\", \"house\", \"house\", \"house\", \"house\", \"human\", \"human\", \"hundred\", \"hunt\", \"icac\", \"impeachment\", \"india\", \"india\", \"indigenous\", \"indigenous\", \"indigenous\", \"indigenous\", \"indigenous\", \"indigenous\", \"indonesia\", \"infection\", \"inquest\", \"inside\", \"international\", \"interview\", \"investigation\", \"investigation\", \"isolation\", \"jail\", \"jail\", \"james\", \"joe\", \"john\", \"johnson\", \"josh\", \"june\", \"justice\", \"kelly\", \"kid\", \"kill\", \"kill\", \"kill\", \"kill\", \"know\", \"kong\", \"korea\", \"labor\", \"labor\", \"labor\", \"labor\", \"labor\", \"lake\", \"late\", \"late\", \"late\", \"late\", \"late\", \"late\", \"lawyer\", \"league\", \"league\", \"learn\", \"liberal\", \"like\", \"live\", \"lockdown\", \"man\", \"man\", \"man\", \"man\", \"man\", \"march\", \"mark\", \"mark\", \"mark\", \"market\", \"mask\", \"matter\", \"mcgowan\", \"mean\", \"medical\", \"medium\", \"melbourne\", \"melbourne\", \"melbourne\", \"melbourne\", \"melbourne\", \"melbourne\", \"melbourne\", \"melbourne\", \"melbourne\", \"melbourne\", \"mental\", \"message\", \"michael\", \"migrant\", \"military\", \"million\", \"mine\", \"mine\", \"miss\", \"miss\", \"miss\", \"miss\", \"miss\", \"moment\", \"money\", \"month\", \"morning\", \"morrison\", \"mother\", \"mount\", \"murder\", \"myanmar\", \"nation\", \"national\", \"national\", \"national\", \"national\", \"national\", \"national\", \"national\", \"national\", \"new\", \"new\", \"new\", \"new\", \"new\", \"new\", \"new\", \"new\", \"new\", \"new\", \"news\", \"news\", \"next\", \"norman\", \"north\", \"north\", \"north\", \"northern\", \"northern\", \"not\", \"not\", \"not\", \"not\", \"not\", \"not\", \"not\", \"not\", \"not\", \"not\", \"nrl\", \"nsw\", \"nsw\", \"nsw\", \"nsw\", \"nsw\", \"nsw\", \"nsw\", \"nsw\", \"nsw\", \"nsw\", \"nurse\", \"officer\", \"officer\", \"officer\", \"old\", \"old\", \"old\", \"olympic\", \"online\", \"open\", \"open\", \"open\", \"open\", \"open\", \"open\", \"open\", \"open\", \"open\", \"open\", \"outback\", \"outbreak\", \"pacific\", \"pandemic\", \"part\", \"party\", \"party\", \"party\", \"party\", \"party\", \"party\", \"pass\", \"patient\", \"paul\", \"payment\", \"people\", \"people\", \"people\", \"perth\", \"perth\", \"perth\", \"perth\", \"peter\", \"place\", \"plane\", \"player\", \"player\", \"police\", \"police\", \"police\", \"police\", \"police\", \"police\", \"police\", \"police\", \"police\", \"police\", \"policy\", \"politic\", \"political\", \"port\", \"port\", \"port\", \"positive\", \"post\", \"post\", \"post\", \"premier\", \"premier\", \"president\", \"president\", \"president\", \"president\", \"president\", \"price\", \"price\", \"price\", \"prime\", \"prince\", \"program\", \"program\", \"property\", \"protester\", \"protester\", \"quarantine\", \"queensland\", \"quiz\", \"racism\", \"rain\", \"rain\", \"rain\", \"rain\", \"rain\", \"rain\", \"raise\", \"raise\", \"rape\", \"rate\", \"reach\", \"reach\", \"record\", \"record\", \"record\", \"record\", \"record\", \"record\", \"record\", \"record\", \"record\", \"recover\", \"recovery\", \"refuse\", \"regional\", \"regional\", \"regional\", \"remote\", \"remove\", \"reopen\", \"reopen\", \"rescue\", \"rescue\", \"rescue\", \"rescue\", \"rescue\", \"resign\", \"respond\", \"response\", \"restriction\", \"rise\", \"rise\", \"rise\", \"rise\", \"rise\", \"rise\", \"rollout\", \"royal\", \"rugby\", \"say\", \"say\", \"say\", \"say\", \"say\", \"say\", \"say\", \"say\", \"say\", \"say\", \"scott\", \"search\", \"search\", \"sentence\", \"sentence\", \"sexual\", \"share\", \"share\", \"shark\", \"ship\", \"shoot\", \"shooting\", \"shortage\", \"shot\", \"small\", \"smith\", \"social\", \"son\", \"south\", \"south\", \"south\", \"south\", \"south\", \"space\", \"speak\", \"speak\", \"speech\", \"spike\", \"sport\", \"spread\", \"spring\", \"stab\", \"staff\", \"stage\", \"state\", \"state\", \"state\", \"station\", \"steal\", \"storm\", \"storm\", \"storm\", \"storm\", \"storm\", \"storm\", \"story\", \"strain\", \"strand\", \"street\", \"struggle\", \"summer\", \"sunday\", \"surge\", \"survive\", \"survivor\", \"sydney\", \"sydney\", \"sydney\", \"sydney\", \"sydney\", \"sydney\", \"sydney\", \"sydney\", \"tasmania\", \"tasmanian\", \"teen\", \"territory\", \"test\", \"test\", \"test\", \"test\", \"test\", \"test\", \"test\", \"test\", \"test\", \"test\", \"testing\", \"three\", \"three\", \"three\", \"thursday\", \"toll\", \"tourist\", \"townsville\", \"track\", \"tracking\", \"travel\", \"traveller\", \"treasurer\", \"truck\", \"trump\", \"turn\", \"two\", \"two\", \"two\", \"two\", \"two\", \"two\", \"unemployment\", \"united\", \"university\", \"update\", \"vaccination\", \"vaccine\", \"victoria\", \"victoria\", \"victoria\", \"victorian\", \"victorians\", \"victorias\", \"video\", \"violence\", \"wait\", \"wall\", \"warning\", \"watch\", \"wave\", \"weather\", \"weather\", \"weather\", \"week\", \"west\", \"west\", \"west\", \"western\", \"whale\", \"white\", \"win\", \"win\", \"win\", \"win\", \"win\", \"win\", \"win\", \"win\", \"win\", \"win\", \"woman\", \"woman\", \"woman\", \"woman\", \"women\", \"world\", \"world\", \"world\", \"world\", \"year\", \"year\", \"year\", \"year\", \"year\", \"year\", \"year\", \"year\", \"year\", \"year\", \"young\", \"young\", \"young\", \"young\", \"zealand\", \"zero\"]}, \"R\": 30, \"lambda.step\": 0.01, \"plot.opts\": {\"xlab\": \"PC1\", \"ylab\": \"PC2\"}, \"topic.order\": [10, 5, 9, 6, 2, 7, 4, 3, 1, 8]};\n",
              "\n",
              "function LDAvis_load_lib(url, callback){\n",
              "  var s = document.createElement('script');\n",
              "  s.src = url;\n",
              "  s.async = true;\n",
              "  s.onreadystatechange = s.onload = callback;\n",
              "  s.onerror = function(){console.warn(\"failed to load library \" + url);};\n",
              "  document.getElementsByTagName(\"head\")[0].appendChild(s);\n",
              "}\n",
              "\n",
              "if(typeof(LDAvis) !== \"undefined\"){\n",
              "   // already loaded: just create the visualization\n",
              "   !function(LDAvis){\n",
              "       new LDAvis(\"#\" + \"ldavis_el771404188957138721688156216\", ldavis_el771404188957138721688156216_data);\n",
              "   }(LDAvis);\n",
              "}else if(typeof define === \"function\" && define.amd){\n",
              "   // require.js is available: use it to load d3/LDAvis\n",
              "   require.config({paths: {d3: \"https://d3js.org/d3.v5\"}});\n",
              "   require([\"d3\"], function(d3){\n",
              "      window.d3 = d3;\n",
              "      LDAvis_load_lib(\"https://cdn.jsdelivr.net/gh/bmabey/pyLDAvis@3.3.1/pyLDAvis/js/ldavis.v3.0.0.js\", function(){\n",
              "        new LDAvis(\"#\" + \"ldavis_el771404188957138721688156216\", ldavis_el771404188957138721688156216_data);\n",
              "      });\n",
              "    });\n",
              "}else{\n",
              "    // require.js not available: dynamically load d3 & LDAvis\n",
              "    LDAvis_load_lib(\"https://d3js.org/d3.v5.js\", function(){\n",
              "         LDAvis_load_lib(\"https://cdn.jsdelivr.net/gh/bmabey/pyLDAvis@3.3.1/pyLDAvis/js/ldavis.v3.0.0.js\", function(){\n",
              "                 new LDAvis(\"#\" + \"ldavis_el771404188957138721688156216\", ldavis_el771404188957138721688156216_data);\n",
              "            })\n",
              "         });\n",
              "}\n",
              "</script>"
            ]
          },
          "metadata": {},
          "execution_count": 100
        }
      ]
    },
    {
      "cell_type": "code",
      "source": [
        "#draw out the distribution for topic given the entire document for LDA model\n",
        "labels=['Topic {} '.format(i) for i in num_topics_LDA]\n",
        "fig, ax = plt.subplots(figsize=(16,8))\n",
        "ax.set_title('Distribution of topics given the entire document (LDA)')\n",
        "ax.bar(num_topics_LDA, counts_LDA)\n",
        "ax.set_xticks(num_topics_LDA)\n",
        "ax.set_xticklabels(labels)\n",
        "ax.set_ylabel('Occurance')\n",
        "plt.show()"
      ],
      "metadata": {
        "colab": {
          "base_uri": "https://localhost:8080/",
          "height": 499
        },
        "id": "NGmY5TllPFr3",
        "outputId": "de78062a-66d6-4c3b-9ccd-4518515c9fe7"
      },
      "execution_count": 107,
      "outputs": [
        {
          "output_type": "display_data",
          "data": {
            "text/plain": [
              "<Figure size 1152x576 with 1 Axes>"
            ],
            "image/png": "[encoded data removed]"
          },
          "metadata": {
            "needs_background": "light"
          }
        }
      ]
    },
    {
      "cell_type": "code",
      "source": [
        "#draw out the distribution for topics given each term for LSA model\n",
        "labels=['Topic {} '.format(i) for i in num_topics_LSA]\n",
        "fig, ax = plt.subplots(figsize=(16,8))\n",
        "ax.set_title('Assigning each term into a corresponding topic (LSA)')\n",
        "ax.bar(num_topics_LSA, counts_LSA)\n",
        "ax.set_xticks(num_topics_LSA)\n",
        "ax.set_xticklabels(labels)\n",
        "ax.set_ylabel('Occurance')\n",
        "plt.show()"
      ],
      "metadata": {
        "colab": {
          "base_uri": "https://localhost:8080/",
          "height": 499
        },
        "id": "4ZjpoCi0O6Zr",
        "outputId": "dcec397d-d0d6-439c-94fa-d85ba78386a2"
      },
      "execution_count": 108,
      "outputs": [
        {
          "output_type": "display_data",
          "data": {
            "text/plain": [
              "<Figure size 1152x576 with 1 Axes>"
            ],
            "image/png": "[encoded data removed]"
          },
          "metadata": {
            "needs_background": "light"
          }
        }
      ]
    },
    {
      "cell_type": "code",
      "source": [
        "#draw out the distribution for topics given each term for NMF model\n",
        "labels=['Topic {} '.format(i) for i in num_topics_NMF]\n",
        "fig, ax = plt.subplots(figsize=(16,8))\n",
        "ax.set_title('Assigning each term into a corresponding topic (NMF)')\n",
        "ax.bar(num_topics_NMF, counts_NMF)\n",
        "ax.set_xticks(num_topics_NMF)\n",
        "ax.set_xticklabels(labels)\n",
        "ax.set_ylabel('Occurance')\n",
        "plt.show()"
      ],
      "metadata": {
        "colab": {
          "base_uri": "https://localhost:8080/",
          "height": 499
        },
        "id": "GpqOLNBkPBWV",
        "outputId": "e3545e79-5598-4c9c-9a52-e6a0163d5ac7"
      },
      "execution_count": 109,
      "outputs": [
        {
          "output_type": "display_data",
          "data": {
            "text/plain": [
              "<Figure size 1152x576 with 1 Axes>"
            ],
            "image/png": "[encoded data removed]"
          },
          "metadata": {
            "needs_background": "light"
          }
        }
      ]
    },
    {
      "cell_type": "code",
      "source": [
        "#draw out the distribution for topics given each term for LDA model\n",
        "labels=['Topic {} '.format(i) for i in num_topics_LDA_dis]\n",
        "fig, ax = plt.subplots(figsize=(16,8))\n",
        "ax.set_title('Assigning each term into a corresponding topic (LDA)')\n",
        "ax.bar(num_topics_LDA_dis, counts_LDA_dis)\n",
        "ax.set_xticks(num_topics_LDA_dis)\n",
        "ax.set_xticklabels(labels)\n",
        "ax.set_ylabel('Occurance')\n",
        "plt.show()"
      ],
      "metadata": {
        "colab": {
          "base_uri": "https://localhost:8080/",
          "height": 499
        },
        "id": "MG18HjdBZ-D8",
        "outputId": "d24ac445-e409-4eea-ed42-f4df69fc4521"
      },
      "execution_count": 110,
      "outputs": [
        {
          "output_type": "display_data",
          "data": {
            "text/plain": [
              "<Figure size 1152x576 with 1 Axes>"
            ],
            "image/png": "[encoded data removed]"
          },
          "metadata": {
            "needs_background": "light"
          }
        }
      ]
    }
  ],
  "metadata": {
    "colab": {
      "provenance": []
    },
    "kernelspec": {
      "display_name": "Python 3",
      "name": "python3"
    },
    "language_info": {
      "name": "python"
    }
  },
  "nbformat": 4,
  "nbformat_minor": 0
}