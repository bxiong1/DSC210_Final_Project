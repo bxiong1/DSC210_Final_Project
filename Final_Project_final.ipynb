{
  "cells": [
    {
      "cell_type": "code",
      "execution_count": null,
      "metadata": {
        "colab": {
          "base_uri": "https://localhost:8080/"
        },
        "id": "nobttwORAOzT",
        "outputId": "60b93d44-1c78-4174-836f-138dc9b0470d"
      },
      "outputs": [
        {
          "output_type": "stream",
          "name": "stdout",
          "text": [
            "Looking in indexes: https://pypi.org/simple, https://us-python.pkg.dev/colab-wheels/public/simple/\n",
            "Requirement already satisfied: gensim in /usr/local/lib/python3.8/dist-packages (3.6.0)\n",
            "Collecting gensim\n",
            "  Downloading gensim-4.2.0-cp38-cp38-manylinux_2_12_x86_64.manylinux2010_x86_64.whl (24.1 MB)\n",
            "\u001b[K     |████████████████████████████████| 24.1 MB 4.5 MB/s \n",
            "\u001b[?25hRequirement already satisfied: numpy>=1.17.0 in /usr/local/lib/python3.8/dist-packages (from gensim) (1.21.6)\n",
            "Requirement already satisfied: scipy>=0.18.1 in /usr/local/lib/python3.8/dist-packages (from gensim) (1.7.3)\n",
            "Requirement already satisfied: smart-open>=1.8.1 in /usr/local/lib/python3.8/dist-packages (from gensim) (5.2.1)\n",
            "Installing collected packages: gensim\n",
            "  Attempting uninstall: gensim\n",
            "    Found existing installation: gensim 3.6.0\n",
            "    Uninstalling gensim-3.6.0:\n",
            "      Successfully uninstalled gensim-3.6.0\n",
            "Successfully installed gensim-4.2.0\n"
          ]
        }
      ],
      "source": [
        "#updating gensim package\n",
        "!pip install --upgrade gensim"
      ]
    },
    {
      "cell_type": "code",
      "execution_count": null,
      "metadata": {
        "colab": {
          "base_uri": "https://localhost:8080/"
        },
        "id": "aBmetrguB4T8",
        "outputId": "96f835cc-0b53-451a-b7a1-8ff5151d79dd"
      },
      "outputs": [
        {
          "output_type": "stream",
          "name": "stdout",
          "text": [
            "Looking in indexes: https://pypi.org/simple, https://us-python.pkg.dev/colab-wheels/public/simple/\n",
            "Collecting octis\n",
            "  Downloading octis-1.10.4-py2.py3-none-any.whl (129 kB)\n",
            "\u001b[K     |████████████████████████████████| 129 kB 5.4 MB/s \n",
            "\u001b[?25hRequirement already satisfied: torch in /usr/local/lib/python3.8/dist-packages (from octis) (1.12.1+cu113)\n",
            "Requirement already satisfied: gensim>=4.0.0 in /usr/local/lib/python3.8/dist-packages (from octis) (4.2.0)\n",
            "Collecting tomotopy\n",
            "  Downloading tomotopy-0.12.3-cp38-cp38-manylinux_2_12_x86_64.manylinux2010_x86_64.whl (16.5 MB)\n",
            "\u001b[K     |████████████████████████████████| 16.5 MB 3.5 MB/s \n",
            "\u001b[?25hRequirement already satisfied: requests in /usr/local/lib/python3.8/dist-packages (from octis) (2.23.0)\n",
            "Requirement already satisfied: pandas in /usr/local/lib/python3.8/dist-packages (from octis) (1.3.5)\n",
            "Requirement already satisfied: matplotlib in /usr/local/lib/python3.8/dist-packages (from octis) (3.2.2)\n",
            "Collecting sentence-transformers\n",
            "  Downloading sentence-transformers-2.2.2.tar.gz (85 kB)\n",
            "\u001b[K     |████████████████████████████████| 85 kB 1.5 MB/s \n",
            "\u001b[?25hCollecting scikit-optimize>=0.8.1\n",
            "  Downloading scikit_optimize-0.9.0-py2.py3-none-any.whl (100 kB)\n",
            "\u001b[K     |████████████████████████████████| 100 kB 2.2 MB/s \n",
            "\u001b[?25hCollecting scikit-learn==0.24.2\n",
            "  Downloading scikit_learn-0.24.2-cp38-cp38-manylinux2010_x86_64.whl (24.9 MB)\n",
            "\u001b[K     |████████████████████████████████| 24.9 MB 3.2 MB/s \n",
            "\u001b[?25hRequirement already satisfied: nltk in /usr/local/lib/python3.8/dist-packages (from octis) (3.7)\n",
            "Requirement already satisfied: numpy>=1.19.1 in /usr/local/lib/python3.8/dist-packages (from octis) (1.21.6)\n",
            "Collecting libsvm\n",
            "  Downloading libsvm-3.23.0.4.tar.gz (170 kB)\n",
            "\u001b[K     |████████████████████████████████| 170 kB 39.5 MB/s \n",
            "\u001b[?25hRequirement already satisfied: spacy in /usr/local/lib/python3.8/dist-packages (from octis) (3.4.3)\n",
            "Requirement already satisfied: flask in /usr/local/lib/python3.8/dist-packages (from octis) (1.1.4)\n",
            "Requirement already satisfied: threadpoolctl>=2.0.0 in /usr/local/lib/python3.8/dist-packages (from scikit-learn==0.24.2->octis) (3.1.0)\n",
            "Requirement already satisfied: scipy>=0.19.1 in /usr/local/lib/python3.8/dist-packages (from scikit-learn==0.24.2->octis) (1.7.3)\n",
            "Requirement already satisfied: joblib>=0.11 in /usr/local/lib/python3.8/dist-packages (from scikit-learn==0.24.2->octis) (1.2.0)\n",
            "Requirement already satisfied: smart-open>=1.8.1 in /usr/local/lib/python3.8/dist-packages (from gensim>=4.0.0->octis) (5.2.1)\n",
            "Collecting pyaml>=16.9\n",
            "  Downloading pyaml-21.10.1-py2.py3-none-any.whl (24 kB)\n",
            "Requirement already satisfied: PyYAML in /usr/local/lib/python3.8/dist-packages (from pyaml>=16.9->scikit-optimize>=0.8.1->octis) (6.0)\n",
            "Requirement already satisfied: Werkzeug<2.0,>=0.15 in /usr/local/lib/python3.8/dist-packages (from flask->octis) (1.0.1)\n",
            "Requirement already satisfied: itsdangerous<2.0,>=0.24 in /usr/local/lib/python3.8/dist-packages (from flask->octis) (1.1.0)\n",
            "Requirement already satisfied: click<8.0,>=5.1 in /usr/local/lib/python3.8/dist-packages (from flask->octis) (7.1.2)\n",
            "Requirement already satisfied: Jinja2<3.0,>=2.10.1 in /usr/local/lib/python3.8/dist-packages (from flask->octis) (2.11.3)\n",
            "Requirement already satisfied: MarkupSafe>=0.23 in /usr/local/lib/python3.8/dist-packages (from Jinja2<3.0,>=2.10.1->flask->octis) (2.0.1)\n",
            "Requirement already satisfied: python-dateutil>=2.1 in /usr/local/lib/python3.8/dist-packages (from matplotlib->octis) (2.8.2)\n",
            "Requirement already satisfied: pyparsing!=2.0.4,!=2.1.2,!=2.1.6,>=2.0.1 in /usr/local/lib/python3.8/dist-packages (from matplotlib->octis) (3.0.9)\n",
            "Requirement already satisfied: kiwisolver>=1.0.1 in /usr/local/lib/python3.8/dist-packages (from matplotlib->octis) (1.4.4)\n",
            "Requirement already satisfied: cycler>=0.10 in /usr/local/lib/python3.8/dist-packages (from matplotlib->octis) (0.11.0)\n",
            "Requirement already satisfied: six>=1.5 in /usr/local/lib/python3.8/dist-packages (from python-dateutil>=2.1->matplotlib->octis) (1.15.0)\n",
            "Requirement already satisfied: regex>=2021.8.3 in /usr/local/lib/python3.8/dist-packages (from nltk->octis) (2022.6.2)\n",
            "Requirement already satisfied: tqdm in /usr/local/lib/python3.8/dist-packages (from nltk->octis) (4.64.1)\n",
            "Requirement already satisfied: pytz>=2017.3 in /usr/local/lib/python3.8/dist-packages (from pandas->octis) (2022.6)\n",
            "Requirement already satisfied: urllib3!=1.25.0,!=1.25.1,<1.26,>=1.21.1 in /usr/local/lib/python3.8/dist-packages (from requests->octis) (1.24.3)\n",
            "Requirement already satisfied: idna<3,>=2.5 in /usr/local/lib/python3.8/dist-packages (from requests->octis) (2.10)\n",
            "Requirement already satisfied: chardet<4,>=3.0.2 in /usr/local/lib/python3.8/dist-packages (from requests->octis) (3.0.4)\n",
            "Requirement already satisfied: certifi>=2017.4.17 in /usr/local/lib/python3.8/dist-packages (from requests->octis) (2022.9.24)\n",
            "Collecting transformers<5.0.0,>=4.6.0\n",
            "  Downloading transformers-4.24.0-py3-none-any.whl (5.5 MB)\n",
            "\u001b[K     |████████████████████████████████| 5.5 MB 40.0 MB/s \n",
            "\u001b[?25hRequirement already satisfied: torchvision in /usr/local/lib/python3.8/dist-packages (from sentence-transformers->octis) (0.13.1+cu113)\n",
            "Collecting sentencepiece\n",
            "  Downloading sentencepiece-0.1.97-cp38-cp38-manylinux_2_17_x86_64.manylinux2014_x86_64.whl (1.3 MB)\n",
            "\u001b[K     |████████████████████████████████| 1.3 MB 43.3 MB/s \n",
            "\u001b[?25hCollecting huggingface-hub>=0.4.0\n",
            "  Downloading huggingface_hub-0.11.1-py3-none-any.whl (182 kB)\n",
            "\u001b[K     |████████████████████████████████| 182 kB 20.7 MB/s \n",
            "\u001b[?25hRequirement already satisfied: filelock in /usr/local/lib/python3.8/dist-packages (from huggingface-hub>=0.4.0->sentence-transformers->octis) (3.8.0)\n",
            "Requirement already satisfied: packaging>=20.9 in /usr/local/lib/python3.8/dist-packages (from huggingface-hub>=0.4.0->sentence-transformers->octis) (21.3)\n",
            "Requirement already satisfied: typing-extensions>=3.7.4.3 in /usr/local/lib/python3.8/dist-packages (from huggingface-hub>=0.4.0->sentence-transformers->octis) (4.1.1)\n",
            "Collecting tokenizers!=0.11.3,<0.14,>=0.11.1\n",
            "  Downloading tokenizers-0.13.2-cp38-cp38-manylinux_2_17_x86_64.manylinux2014_x86_64.whl (7.6 MB)\n",
            "\u001b[K     |████████████████████████████████| 7.6 MB 31.5 MB/s \n",
            "\u001b[?25hRequirement already satisfied: setuptools in /usr/local/lib/python3.8/dist-packages (from spacy->octis) (57.4.0)\n",
            "Requirement already satisfied: murmurhash<1.1.0,>=0.28.0 in /usr/local/lib/python3.8/dist-packages (from spacy->octis) (1.0.9)\n",
            "Requirement already satisfied: thinc<8.2.0,>=8.1.0 in /usr/local/lib/python3.8/dist-packages (from spacy->octis) (8.1.5)\n",
            "Requirement already satisfied: spacy-loggers<2.0.0,>=1.0.0 in /usr/local/lib/python3.8/dist-packages (from spacy->octis) (1.0.3)\n",
            "Requirement already satisfied: wasabi<1.1.0,>=0.9.1 in /usr/local/lib/python3.8/dist-packages (from spacy->octis) (0.10.1)\n",
            "Requirement already satisfied: catalogue<2.1.0,>=2.0.6 in /usr/local/lib/python3.8/dist-packages (from spacy->octis) (2.0.8)\n",
            "Requirement already satisfied: langcodes<4.0.0,>=3.2.0 in /usr/local/lib/python3.8/dist-packages (from spacy->octis) (3.3.0)\n",
            "Requirement already satisfied: cymem<2.1.0,>=2.0.2 in /usr/local/lib/python3.8/dist-packages (from spacy->octis) (2.0.7)\n",
            "Requirement already satisfied: pathy>=0.3.5 in /usr/local/lib/python3.8/dist-packages (from spacy->octis) (0.9.0)\n",
            "Requirement already satisfied: srsly<3.0.0,>=2.4.3 in /usr/local/lib/python3.8/dist-packages (from spacy->octis) (2.4.5)\n",
            "Requirement already satisfied: pydantic!=1.8,!=1.8.1,<1.11.0,>=1.7.4 in /usr/local/lib/python3.8/dist-packages (from spacy->octis) (1.10.2)\n",
            "Requirement already satisfied: spacy-legacy<3.1.0,>=3.0.10 in /usr/local/lib/python3.8/dist-packages (from spacy->octis) (3.0.10)\n",
            "Requirement already satisfied: preshed<3.1.0,>=3.0.2 in /usr/local/lib/python3.8/dist-packages (from spacy->octis) (3.0.8)\n",
            "Requirement already satisfied: typer<0.8.0,>=0.3.0 in /usr/local/lib/python3.8/dist-packages (from spacy->octis) (0.7.0)\n",
            "Requirement already satisfied: blis<0.8.0,>=0.7.8 in /usr/local/lib/python3.8/dist-packages (from thinc<8.2.0,>=8.1.0->spacy->octis) (0.7.9)\n",
            "Requirement already satisfied: confection<1.0.0,>=0.0.1 in /usr/local/lib/python3.8/dist-packages (from thinc<8.2.0,>=8.1.0->spacy->octis) (0.0.3)\n",
            "Requirement already satisfied: pillow!=8.3.*,>=5.3.0 in /usr/local/lib/python3.8/dist-packages (from torchvision->sentence-transformers->octis) (7.1.2)\n",
            "Building wheels for collected packages: libsvm, sentence-transformers\n",
            "  Building wheel for libsvm (setup.py) ... \u001b[?25l\u001b[?25hdone\n",
            "  Created wheel for libsvm: filename=libsvm-3.23.0.4-cp38-cp38-linux_x86_64.whl size=233371 sha256=a575446837c9d01ffc965548212d707fa16369b5b64289417d58a347ae724ba2\n",
            "  Stored in directory: /root/.cache/pip/wheels/41/00/e7/b328c0f5e4bbb9ac8ba5a72e56b1749be63dc1ab1c9321fd4e\n",
            "  Building wheel for sentence-transformers (setup.py) ... \u001b[?25l\u001b[?25hdone\n",
            "  Created wheel for sentence-transformers: filename=sentence_transformers-2.2.2-py3-none-any.whl size=125938 sha256=416aa5ed38b84d93a218f70b9ce679eb0eacee9ada310c2c12194f998f3ea8b7\n",
            "  Stored in directory: /root/.cache/pip/wheels/5e/6f/8c/d88aec621f3f542d26fac0342bef5e693335d125f4e54aeffe\n",
            "Successfully built libsvm sentence-transformers\n",
            "Installing collected packages: tokenizers, huggingface-hub, transformers, sentencepiece, scikit-learn, pyaml, tomotopy, sentence-transformers, scikit-optimize, libsvm, octis\n",
            "  Attempting uninstall: scikit-learn\n",
            "    Found existing installation: scikit-learn 1.0.2\n",
            "    Uninstalling scikit-learn-1.0.2:\n",
            "      Successfully uninstalled scikit-learn-1.0.2\n",
            "\u001b[31mERROR: pip's dependency resolver does not currently take into account all the packages that are installed. This behaviour is the source of the following dependency conflicts.\n",
            "yellowbrick 1.5 requires scikit-learn>=1.0.0, but you have scikit-learn 0.24.2 which is incompatible.\u001b[0m\n",
            "Successfully installed huggingface-hub-0.11.1 libsvm-3.23.0.4 octis-1.10.4 pyaml-21.10.1 scikit-learn-0.24.2 scikit-optimize-0.9.0 sentence-transformers-2.2.2 sentencepiece-0.1.97 tokenizers-0.13.2 tomotopy-0.12.3 transformers-4.24.0\n"
          ]
        }
      ],
      "source": [
        "#installing OCTIS for evaluation metrics\n",
        "!pip install octis"
      ]
    },
    {
      "cell_type": "code",
      "source": [
        "#install pyLDAvis for visualizing LDA results\n",
        "!pip install pyLDAvis"
      ],
      "metadata": {
        "colab": {
          "base_uri": "https://localhost:8080/"
        },
        "id": "5Nc6CGj8U-uM",
        "outputId": "d92a8d4d-7d42-43f4-ee45-920ee422c14d"
      },
      "execution_count": null,
      "outputs": [
        {
          "output_type": "stream",
          "name": "stdout",
          "text": [
            "Looking in indexes: https://pypi.org/simple, https://us-python.pkg.dev/colab-wheels/public/simple/\n",
            "Collecting pyLDAvis\n",
            "  Downloading pyLDAvis-3.3.1.tar.gz (1.7 MB)\n",
            "\u001b[K     |████████████████████████████████| 1.7 MB 5.4 MB/s \n",
            "\u001b[?25h  Installing build dependencies ... \u001b[?25l\u001b[?25hdone\n",
            "  Getting requirements to build wheel ... \u001b[?25l\u001b[?25hdone\n",
            "  Installing backend dependencies ... \u001b[?25l\u001b[?25hdone\n",
            "    Preparing wheel metadata ... \u001b[?25l\u001b[?25hdone\n",
            "Collecting sklearn\n",
            "  Downloading sklearn-0.0.post1.tar.gz (3.6 kB)\n",
            "Requirement already satisfied: gensim in /usr/local/lib/python3.8/dist-packages (from pyLDAvis) (4.2.0)\n",
            "Requirement already satisfied: jinja2 in /usr/local/lib/python3.8/dist-packages (from pyLDAvis) (2.11.3)\n",
            "Requirement already satisfied: scikit-learn in /usr/local/lib/python3.8/dist-packages (from pyLDAvis) (0.24.2)\n",
            "Requirement already satisfied: future in /usr/local/lib/python3.8/dist-packages (from pyLDAvis) (0.16.0)\n",
            "Requirement already satisfied: pandas>=1.2.0 in /usr/local/lib/python3.8/dist-packages (from pyLDAvis) (1.3.5)\n",
            "Requirement already satisfied: scipy in /usr/local/lib/python3.8/dist-packages (from pyLDAvis) (1.7.3)\n",
            "Requirement already satisfied: setuptools in /usr/local/lib/python3.8/dist-packages (from pyLDAvis) (57.4.0)\n",
            "Requirement already satisfied: joblib in /usr/local/lib/python3.8/dist-packages (from pyLDAvis) (1.2.0)\n",
            "Requirement already satisfied: numexpr in /usr/local/lib/python3.8/dist-packages (from pyLDAvis) (2.8.4)\n",
            "Collecting funcy\n",
            "  Downloading funcy-1.17-py2.py3-none-any.whl (33 kB)\n",
            "Requirement already satisfied: numpy>=1.20.0 in /usr/local/lib/python3.8/dist-packages (from pyLDAvis) (1.21.6)\n",
            "Requirement already satisfied: python-dateutil>=2.7.3 in /usr/local/lib/python3.8/dist-packages (from pandas>=1.2.0->pyLDAvis) (2.8.2)\n",
            "Requirement already satisfied: pytz>=2017.3 in /usr/local/lib/python3.8/dist-packages (from pandas>=1.2.0->pyLDAvis) (2022.6)\n",
            "Requirement already satisfied: six>=1.5 in /usr/local/lib/python3.8/dist-packages (from python-dateutil>=2.7.3->pandas>=1.2.0->pyLDAvis) (1.15.0)\n",
            "Requirement already satisfied: smart-open>=1.8.1 in /usr/local/lib/python3.8/dist-packages (from gensim->pyLDAvis) (5.2.1)\n",
            "Requirement already satisfied: MarkupSafe>=0.23 in /usr/local/lib/python3.8/dist-packages (from jinja2->pyLDAvis) (2.0.1)\n",
            "Requirement already satisfied: threadpoolctl>=2.0.0 in /usr/local/lib/python3.8/dist-packages (from scikit-learn->pyLDAvis) (3.1.0)\n",
            "Building wheels for collected packages: pyLDAvis, sklearn\n",
            "  Building wheel for pyLDAvis (PEP 517) ... \u001b[?25l\u001b[?25hdone\n",
            "  Created wheel for pyLDAvis: filename=pyLDAvis-3.3.1-py2.py3-none-any.whl size=136898 sha256=c525a14ab0411030519c4425b91ed436dd1840b858111823ae501e4e29b9a4ab\n",
            "  Stored in directory: /root/.cache/pip/wheels/90/61/ec/9dbe9efc3acf9c4e37ba70fbbcc3f3a0ebd121060aa593181a\n",
            "  Building wheel for sklearn (setup.py) ... \u001b[?25l\u001b[?25hdone\n",
            "  Created wheel for sklearn: filename=sklearn-0.0.post1-py3-none-any.whl size=2344 sha256=27be8e5c5d772da4a3914bc19bfbadbfd65035dc5890e334179800d825fa64cf\n",
            "  Stored in directory: /root/.cache/pip/wheels/14/25/f7/1cc0956978ae479e75140219088deb7a36f60459df242b1a72\n",
            "Successfully built pyLDAvis sklearn\n",
            "Installing collected packages: sklearn, funcy, pyLDAvis\n",
            "Successfully installed funcy-1.17 pyLDAvis-3.3.1 sklearn-0.0.post1\n"
          ]
        }
      ]
    },
    {
      "cell_type": "code",
      "execution_count": null,
      "metadata": {
        "colab": {
          "base_uri": "https://localhost:8080/"
        },
        "id": "LgpL0q5AXevu",
        "outputId": "46abd6d9-0cb9-4482-eb98-8904117990f1"
      },
      "outputs": [
        {
          "output_type": "stream",
          "name": "stdout",
          "text": [
            "Looking in indexes: https://pypi.org/simple, https://us-python.pkg.dev/colab-wheels/public/simple/\n",
            "Requirement already satisfied: spacy in /usr/local/lib/python3.8/dist-packages (3.4.3)\n",
            "Requirement already satisfied: tqdm<5.0.0,>=4.38.0 in /usr/local/lib/python3.8/dist-packages (from spacy) (4.64.1)\n",
            "Requirement already satisfied: pydantic!=1.8,!=1.8.1,<1.11.0,>=1.7.4 in /usr/local/lib/python3.8/dist-packages (from spacy) (1.10.2)\n",
            "Requirement already satisfied: langcodes<4.0.0,>=3.2.0 in /usr/local/lib/python3.8/dist-packages (from spacy) (3.3.0)\n",
            "Requirement already satisfied: spacy-loggers<2.0.0,>=1.0.0 in /usr/local/lib/python3.8/dist-packages (from spacy) (1.0.3)\n",
            "Requirement already satisfied: pathy>=0.3.5 in /usr/local/lib/python3.8/dist-packages (from spacy) (0.9.0)\n",
            "Requirement already satisfied: thinc<8.2.0,>=8.1.0 in /usr/local/lib/python3.8/dist-packages (from spacy) (8.1.5)\n",
            "Requirement already satisfied: srsly<3.0.0,>=2.4.3 in /usr/local/lib/python3.8/dist-packages (from spacy) (2.4.5)\n",
            "Requirement already satisfied: preshed<3.1.0,>=3.0.2 in /usr/local/lib/python3.8/dist-packages (from spacy) (3.0.8)\n",
            "Requirement already satisfied: cymem<2.1.0,>=2.0.2 in /usr/local/lib/python3.8/dist-packages (from spacy) (2.0.7)\n",
            "Requirement already satisfied: packaging>=20.0 in /usr/local/lib/python3.8/dist-packages (from spacy) (21.3)\n",
            "Requirement already satisfied: numpy>=1.15.0 in /usr/local/lib/python3.8/dist-packages (from spacy) (1.21.6)\n",
            "Requirement already satisfied: typer<0.8.0,>=0.3.0 in /usr/local/lib/python3.8/dist-packages (from spacy) (0.7.0)\n",
            "Requirement already satisfied: catalogue<2.1.0,>=2.0.6 in /usr/local/lib/python3.8/dist-packages (from spacy) (2.0.8)\n",
            "Requirement already satisfied: spacy-legacy<3.1.0,>=3.0.10 in /usr/local/lib/python3.8/dist-packages (from spacy) (3.0.10)\n",
            "Requirement already satisfied: wasabi<1.1.0,>=0.9.1 in /usr/local/lib/python3.8/dist-packages (from spacy) (0.10.1)\n",
            "Requirement already satisfied: murmurhash<1.1.0,>=0.28.0 in /usr/local/lib/python3.8/dist-packages (from spacy) (1.0.9)\n",
            "Requirement already satisfied: jinja2 in /usr/local/lib/python3.8/dist-packages (from spacy) (2.11.3)\n",
            "Requirement already satisfied: requests<3.0.0,>=2.13.0 in /usr/local/lib/python3.8/dist-packages (from spacy) (2.23.0)\n",
            "Requirement already satisfied: setuptools in /usr/local/lib/python3.8/dist-packages (from spacy) (57.4.0)\n",
            "Requirement already satisfied: pyparsing!=3.0.5,>=2.0.2 in /usr/local/lib/python3.8/dist-packages (from packaging>=20.0->spacy) (3.0.9)\n",
            "Requirement already satisfied: smart-open<6.0.0,>=5.2.1 in /usr/local/lib/python3.8/dist-packages (from pathy>=0.3.5->spacy) (5.2.1)\n",
            "Requirement already satisfied: typing-extensions>=4.1.0 in /usr/local/lib/python3.8/dist-packages (from pydantic!=1.8,!=1.8.1,<1.11.0,>=1.7.4->spacy) (4.1.1)\n",
            "Requirement already satisfied: idna<3,>=2.5 in /usr/local/lib/python3.8/dist-packages (from requests<3.0.0,>=2.13.0->spacy) (2.10)\n",
            "Requirement already satisfied: urllib3!=1.25.0,!=1.25.1,<1.26,>=1.21.1 in /usr/local/lib/python3.8/dist-packages (from requests<3.0.0,>=2.13.0->spacy) (1.24.3)\n",
            "Requirement already satisfied: chardet<4,>=3.0.2 in /usr/local/lib/python3.8/dist-packages (from requests<3.0.0,>=2.13.0->spacy) (3.0.4)\n",
            "Requirement already satisfied: certifi>=2017.4.17 in /usr/local/lib/python3.8/dist-packages (from requests<3.0.0,>=2.13.0->spacy) (2022.9.24)\n",
            "Requirement already satisfied: blis<0.8.0,>=0.7.8 in /usr/local/lib/python3.8/dist-packages (from thinc<8.2.0,>=8.1.0->spacy) (0.7.9)\n",
            "Requirement already satisfied: confection<1.0.0,>=0.0.1 in /usr/local/lib/python3.8/dist-packages (from thinc<8.2.0,>=8.1.0->spacy) (0.0.3)\n",
            "Requirement already satisfied: click<9.0.0,>=7.1.1 in /usr/local/lib/python3.8/dist-packages (from typer<0.8.0,>=0.3.0->spacy) (7.1.2)\n",
            "Requirement already satisfied: MarkupSafe>=0.23 in /usr/local/lib/python3.8/dist-packages (from jinja2->spacy) (2.0.1)\n",
            "2022-12-01 04:48:51.251367: E tensorflow/stream_executor/cuda/cuda_driver.cc:271] failed call to cuInit: CUDA_ERROR_NO_DEVICE: no CUDA-capable device is detected\n",
            "Looking in indexes: https://pypi.org/simple, https://us-python.pkg.dev/colab-wheels/public/simple/\n",
            "Collecting en-core-web-sm==3.4.1\n",
            "  Downloading https://github.com/explosion/spacy-models/releases/download/en_core_web_sm-3.4.1/en_core_web_sm-3.4.1-py3-none-any.whl (12.8 MB)\n",
            "\u001b[K     |████████████████████████████████| 12.8 MB 5.2 MB/s \n",
            "\u001b[?25hRequirement already satisfied: spacy<3.5.0,>=3.4.0 in /usr/local/lib/python3.8/dist-packages (from en-core-web-sm==3.4.1) (3.4.3)\n",
            "Requirement already satisfied: jinja2 in /usr/local/lib/python3.8/dist-packages (from spacy<3.5.0,>=3.4.0->en-core-web-sm==3.4.1) (2.11.3)\n",
            "Requirement already satisfied: pydantic!=1.8,!=1.8.1,<1.11.0,>=1.7.4 in /usr/local/lib/python3.8/dist-packages (from spacy<3.5.0,>=3.4.0->en-core-web-sm==3.4.1) (1.10.2)\n",
            "Requirement already satisfied: cymem<2.1.0,>=2.0.2 in /usr/local/lib/python3.8/dist-packages (from spacy<3.5.0,>=3.4.0->en-core-web-sm==3.4.1) (2.0.7)\n",
            "Requirement already satisfied: thinc<8.2.0,>=8.1.0 in /usr/local/lib/python3.8/dist-packages (from spacy<3.5.0,>=3.4.0->en-core-web-sm==3.4.1) (8.1.5)\n",
            "Requirement already satisfied: murmurhash<1.1.0,>=0.28.0 in /usr/local/lib/python3.8/dist-packages (from spacy<3.5.0,>=3.4.0->en-core-web-sm==3.4.1) (1.0.9)\n",
            "Requirement already satisfied: wasabi<1.1.0,>=0.9.1 in /usr/local/lib/python3.8/dist-packages (from spacy<3.5.0,>=3.4.0->en-core-web-sm==3.4.1) (0.10.1)\n",
            "Requirement already satisfied: srsly<3.0.0,>=2.4.3 in /usr/local/lib/python3.8/dist-packages (from spacy<3.5.0,>=3.4.0->en-core-web-sm==3.4.1) (2.4.5)\n",
            "Requirement already satisfied: packaging>=20.0 in /usr/local/lib/python3.8/dist-packages (from spacy<3.5.0,>=3.4.0->en-core-web-sm==3.4.1) (21.3)\n",
            "Requirement already satisfied: numpy>=1.15.0 in /usr/local/lib/python3.8/dist-packages (from spacy<3.5.0,>=3.4.0->en-core-web-sm==3.4.1) (1.21.6)\n",
            "Requirement already satisfied: catalogue<2.1.0,>=2.0.6 in /usr/local/lib/python3.8/dist-packages (from spacy<3.5.0,>=3.4.0->en-core-web-sm==3.4.1) (2.0.8)\n",
            "Requirement already satisfied: preshed<3.1.0,>=3.0.2 in /usr/local/lib/python3.8/dist-packages (from spacy<3.5.0,>=3.4.0->en-core-web-sm==3.4.1) (3.0.8)\n",
            "Requirement already satisfied: pathy>=0.3.5 in /usr/local/lib/python3.8/dist-packages (from spacy<3.5.0,>=3.4.0->en-core-web-sm==3.4.1) (0.9.0)\n",
            "Requirement already satisfied: tqdm<5.0.0,>=4.38.0 in /usr/local/lib/python3.8/dist-packages (from spacy<3.5.0,>=3.4.0->en-core-web-sm==3.4.1) (4.64.1)\n",
            "Requirement already satisfied: requests<3.0.0,>=2.13.0 in /usr/local/lib/python3.8/dist-packages (from spacy<3.5.0,>=3.4.0->en-core-web-sm==3.4.1) (2.23.0)\n",
            "Requirement already satisfied: setuptools in /usr/local/lib/python3.8/dist-packages (from spacy<3.5.0,>=3.4.0->en-core-web-sm==3.4.1) (57.4.0)\n",
            "Requirement already satisfied: spacy-loggers<2.0.0,>=1.0.0 in /usr/local/lib/python3.8/dist-packages (from spacy<3.5.0,>=3.4.0->en-core-web-sm==3.4.1) (1.0.3)\n",
            "Requirement already satisfied: spacy-legacy<3.1.0,>=3.0.10 in /usr/local/lib/python3.8/dist-packages (from spacy<3.5.0,>=3.4.0->en-core-web-sm==3.4.1) (3.0.10)\n",
            "Requirement already satisfied: langcodes<4.0.0,>=3.2.0 in /usr/local/lib/python3.8/dist-packages (from spacy<3.5.0,>=3.4.0->en-core-web-sm==3.4.1) (3.3.0)\n",
            "Requirement already satisfied: typer<0.8.0,>=0.3.0 in /usr/local/lib/python3.8/dist-packages (from spacy<3.5.0,>=3.4.0->en-core-web-sm==3.4.1) (0.7.0)\n",
            "Requirement already satisfied: pyparsing!=3.0.5,>=2.0.2 in /usr/local/lib/python3.8/dist-packages (from packaging>=20.0->spacy<3.5.0,>=3.4.0->en-core-web-sm==3.4.1) (3.0.9)\n",
            "Requirement already satisfied: smart-open<6.0.0,>=5.2.1 in /usr/local/lib/python3.8/dist-packages (from pathy>=0.3.5->spacy<3.5.0,>=3.4.0->en-core-web-sm==3.4.1) (5.2.1)\n",
            "Requirement already satisfied: typing-extensions>=4.1.0 in /usr/local/lib/python3.8/dist-packages (from pydantic!=1.8,!=1.8.1,<1.11.0,>=1.7.4->spacy<3.5.0,>=3.4.0->en-core-web-sm==3.4.1) (4.1.1)\n",
            "Requirement already satisfied: chardet<4,>=3.0.2 in /usr/local/lib/python3.8/dist-packages (from requests<3.0.0,>=2.13.0->spacy<3.5.0,>=3.4.0->en-core-web-sm==3.4.1) (3.0.4)\n",
            "Requirement already satisfied: certifi>=2017.4.17 in /usr/local/lib/python3.8/dist-packages (from requests<3.0.0,>=2.13.0->spacy<3.5.0,>=3.4.0->en-core-web-sm==3.4.1) (2022.9.24)\n",
            "Requirement already satisfied: urllib3!=1.25.0,!=1.25.1,<1.26,>=1.21.1 in /usr/local/lib/python3.8/dist-packages (from requests<3.0.0,>=2.13.0->spacy<3.5.0,>=3.4.0->en-core-web-sm==3.4.1) (1.24.3)\n",
            "Requirement already satisfied: idna<3,>=2.5 in /usr/local/lib/python3.8/dist-packages (from requests<3.0.0,>=2.13.0->spacy<3.5.0,>=3.4.0->en-core-web-sm==3.4.1) (2.10)\n",
            "Requirement already satisfied: confection<1.0.0,>=0.0.1 in /usr/local/lib/python3.8/dist-packages (from thinc<8.2.0,>=8.1.0->spacy<3.5.0,>=3.4.0->en-core-web-sm==3.4.1) (0.0.3)\n",
            "Requirement already satisfied: blis<0.8.0,>=0.7.8 in /usr/local/lib/python3.8/dist-packages (from thinc<8.2.0,>=8.1.0->spacy<3.5.0,>=3.4.0->en-core-web-sm==3.4.1) (0.7.9)\n",
            "Requirement already satisfied: click<9.0.0,>=7.1.1 in /usr/local/lib/python3.8/dist-packages (from typer<0.8.0,>=0.3.0->spacy<3.5.0,>=3.4.0->en-core-web-sm==3.4.1) (7.1.2)\n",
            "Requirement already satisfied: MarkupSafe>=0.23 in /usr/local/lib/python3.8/dist-packages (from jinja2->spacy<3.5.0,>=3.4.0->en-core-web-sm==3.4.1) (2.0.1)\n",
            "\u001b[38;5;2m✔ Download and installation successful\u001b[0m\n",
            "You can now load the package via spacy.load('en_core_web_sm')\n"
          ]
        }
      ],
      "source": [
        "#installing spacy and nesscary package for spacy\n",
        "!pip install spacy\n",
        "!python -m spacy download en_core_web_sm"
      ]
    },
    {
      "cell_type": "code",
      "execution_count": null,
      "metadata": {
        "colab": {
          "base_uri": "https://localhost:8080/"
        },
        "id": "c_ZOgwe2TF7e",
        "outputId": "f13719bb-d26d-4844-a891-d3c15ab4df29"
      },
      "outputs": [
        {
          "output_type": "stream",
          "name": "stdout",
          "text": [
            "Mounted at /content/drive\n"
          ]
        }
      ],
      "source": [
        "#mount colab since the dataset are put in the google drive\n",
        "#import necessary libraries\n",
        "from google.colab import drive\n",
        "import numpy as np\n",
        "import matplotlib.pyplot as plt\n",
        "from sklearn.feature_extraction.text import CountVectorizer\n",
        "from nltk.corpus import stopwords\n",
        "import spacy\n",
        "import pandas as pd\n",
        "drive.mount('/content/drive')"
      ]
    },
    {
      "cell_type": "markdown",
      "source": [
        "***Explainatory Data Analysis***"
      ],
      "metadata": {
        "id": "Xci8oyuTsI8O"
      }
    },
    {
      "cell_type": "code",
      "execution_count": null,
      "metadata": {
        "id": "HDE5vezMTW7p"
      },
      "outputs": [],
      "source": [
        "#read in the csv for dataset\n",
        "df = pd.read_csv('/content/drive/MyDrive/abcnews-date-text.csv', encoding='utf-8')"
      ]
    },
    {
      "cell_type": "code",
      "execution_count": null,
      "metadata": {
        "colab": {
          "base_uri": "https://localhost:8080/",
          "height": 206
        },
        "id": "7vfimcerTo6z",
        "outputId": "3eb4b1d5-6bb3-4639-d6d4-4322e8d8500e"
      },
      "outputs": [
        {
          "output_type": "execute_result",
          "data": {
            "text/plain": [
              "   publish_date                                      headline_text\n",
              "0      20030219  aba decides against community broadcasting lic...\n",
              "1      20030219     act fire witnesses must be aware of defamation\n",
              "2      20030219     a g calls for infrastructure protection summit\n",
              "3      20030219           air nz staff in aust strike for pay rise\n",
              "4      20030219      air nz strike to affect australian travellers"
            ],
            "text/html": [
              "\n",
              "  <div id=\"df-1c502cf9-cacf-4c6c-a921-57cee3c66d6d\">\n",
              "    <div class=\"colab-df-container\">\n",
              "      <div>\n",
              "<style scoped>\n",
              "    .dataframe tbody tr th:only-of-type {\n",
              "        vertical-align: middle;\n",
              "    }\n",
              "\n",
              "    .dataframe tbody tr th {\n",
              "        vertical-align: top;\n",
              "    }\n",
              "\n",
              "    .dataframe thead th {\n",
              "        text-align: right;\n",
              "    }\n",
              "</style>\n",
              "<table border=\"1\" class=\"dataframe\">\n",
              "  <thead>\n",
              "    <tr style=\"text-align: right;\">\n",
              "      <th></th>\n",
              "      <th>publish_date</th>\n",
              "      <th>headline_text</th>\n",
              "    </tr>\n",
              "  </thead>\n",
              "  <tbody>\n",
              "    <tr>\n",
              "      <th>0</th>\n",
              "      <td>20030219</td>\n",
              "      <td>aba decides against community broadcasting lic...</td>\n",
              "    </tr>\n",
              "    <tr>\n",
              "      <th>1</th>\n",
              "      <td>20030219</td>\n",
              "      <td>act fire witnesses must be aware of defamation</td>\n",
              "    </tr>\n",
              "    <tr>\n",
              "      <th>2</th>\n",
              "      <td>20030219</td>\n",
              "      <td>a g calls for infrastructure protection summit</td>\n",
              "    </tr>\n",
              "    <tr>\n",
              "      <th>3</th>\n",
              "      <td>20030219</td>\n",
              "      <td>air nz staff in aust strike for pay rise</td>\n",
              "    </tr>\n",
              "    <tr>\n",
              "      <th>4</th>\n",
              "      <td>20030219</td>\n",
              "      <td>air nz strike to affect australian travellers</td>\n",
              "    </tr>\n",
              "  </tbody>\n",
              "</table>\n",
              "</div>\n",
              "      <button class=\"colab-df-convert\" onclick=\"convertToInteractive('df-1c502cf9-cacf-4c6c-a921-57cee3c66d6d')\"\n",
              "              title=\"Convert this dataframe to an interactive table.\"\n",
              "              style=\"display:none;\">\n",
              "        \n",
              "  <svg xmlns=\"http://www.w3.org/2000/svg\" height=\"24px\"viewBox=\"0 0 24 24\"\n",
              "       width=\"24px\">\n",
              "    <path d=\"M0 0h24v24H0V0z\" fill=\"none\"/>\n",
              "    <path d=\"M18.56 5.44l.94 2.06.94-2.06 2.06-.94-2.06-.94-.94-2.06-.94 2.06-2.06.94zm-11 1L8.5 8.5l.94-2.06 2.06-.94-2.06-.94L8.5 2.5l-.94 2.06-2.06.94zm10 10l.94 2.06.94-2.06 2.06-.94-2.06-.94-.94-2.06-.94 2.06-2.06.94z\"/><path d=\"M17.41 7.96l-1.37-1.37c-.4-.4-.92-.59-1.43-.59-.52 0-1.04.2-1.43.59L10.3 9.45l-7.72 7.72c-.78.78-.78 2.05 0 2.83L4 21.41c.39.39.9.59 1.41.59.51 0 1.02-.2 1.41-.59l7.78-7.78 2.81-2.81c.8-.78.8-2.07 0-2.86zM5.41 20L4 18.59l7.72-7.72 1.47 1.35L5.41 20z\"/>\n",
              "  </svg>\n",
              "      </button>\n",
              "      \n",
              "  <style>\n",
              "    .colab-df-container {\n",
              "      display:flex;\n",
              "      flex-wrap:wrap;\n",
              "      gap: 12px;\n",
              "    }\n",
              "\n",
              "    .colab-df-convert {\n",
              "      background-color: #E8F0FE;\n",
              "      border: none;\n",
              "      border-radius: 50%;\n",
              "      cursor: pointer;\n",
              "      display: none;\n",
              "      fill: #1967D2;\n",
              "      height: 32px;\n",
              "      padding: 0 0 0 0;\n",
              "      width: 32px;\n",
              "    }\n",
              "\n",
              "    .colab-df-convert:hover {\n",
              "      background-color: #E2EBFA;\n",
              "      box-shadow: 0px 1px 2px rgba(60, 64, 67, 0.3), 0px 1px 3px 1px rgba(60, 64, 67, 0.15);\n",
              "      fill: #174EA6;\n",
              "    }\n",
              "\n",
              "    [theme=dark] .colab-df-convert {\n",
              "      background-color: #3B4455;\n",
              "      fill: #D2E3FC;\n",
              "    }\n",
              "\n",
              "    [theme=dark] .colab-df-convert:hover {\n",
              "      background-color: #434B5C;\n",
              "      box-shadow: 0px 1px 3px 1px rgba(0, 0, 0, 0.15);\n",
              "      filter: drop-shadow(0px 1px 2px rgba(0, 0, 0, 0.3));\n",
              "      fill: #FFFFFF;\n",
              "    }\n",
              "  </style>\n",
              "\n",
              "      <script>\n",
              "        const buttonEl =\n",
              "          document.querySelector('#df-1c502cf9-cacf-4c6c-a921-57cee3c66d6d button.colab-df-convert');\n",
              "        buttonEl.style.display =\n",
              "          google.colab.kernel.accessAllowed ? 'block' : 'none';\n",
              "\n",
              "        async function convertToInteractive(key) {\n",
              "          const element = document.querySelector('#df-1c502cf9-cacf-4c6c-a921-57cee3c66d6d');\n",
              "          const dataTable =\n",
              "            await google.colab.kernel.invokeFunction('convertToInteractive',\n",
              "                                                     [key], {});\n",
              "          if (!dataTable) return;\n",
              "\n",
              "          const docLinkHtml = 'Like what you see? Visit the ' +\n",
              "            '<a target=\"_blank\" href=https://colab.research.google.com/notebooks/data_table.ipynb>data table notebook</a>'\n",
              "            + ' to learn more about interactive tables.';\n",
              "          element.innerHTML = '';\n",
              "          dataTable['output_type'] = 'display_data';\n",
              "          await google.colab.output.renderOutput(dataTable, element);\n",
              "          const docLink = document.createElement('div');\n",
              "          docLink.innerHTML = docLinkHtml;\n",
              "          element.appendChild(docLink);\n",
              "        }\n",
              "      </script>\n",
              "    </div>\n",
              "  </div>\n",
              "  "
            ]
          },
          "metadata": {},
          "execution_count": 7
        }
      ],
      "source": [
        "#show csv contents\n",
        "df.head()"
      ]
    },
    {
      "cell_type": "code",
      "execution_count": null,
      "metadata": {
        "colab": {
          "base_uri": "https://localhost:8080/"
        },
        "id": "Roy8VQkYUTOo",
        "outputId": "5456d9db-ca71-4bce-d46f-b120d7717b72"
      },
      "outputs": [
        {
          "output_type": "execute_result",
          "data": {
            "text/plain": [
              "0    aba decides against community broadcasting lic...\n",
              "1       act fire witnesses must be aware of defamation\n",
              "2       a g calls for infrastructure protection summit\n",
              "3             air nz staff in aust strike for pay rise\n",
              "4        air nz strike to affect australian travellers\n",
              "Name: headline_text, dtype: object"
            ]
          },
          "metadata": {},
          "execution_count": 8
        }
      ],
      "source": [
        "#only extract the headlines from the data\n",
        "df_headlines=df['headline_text']\n",
        "df_headlines.head()"
      ]
    },
    {
      "cell_type": "code",
      "execution_count": null,
      "metadata": {
        "id": "cyK5F10lWje2"
      },
      "outputs": [],
      "source": [
        "#define a function that will return a list of counts for each row of headlines\n",
        "def count_words(data):\n",
        "  #create an empty list\n",
        "  counts=[]\n",
        "  #start iteration count the number of words in each line of headlines and append it to the empty list\n",
        "  for i in range(len(data)):\n",
        "    counts.append(len(data[i].split()))\n",
        "  #return the list\n",
        "  return counts\n",
        "word_count_list=count_words(df_headlines)"
      ]
    },
    {
      "cell_type": "code",
      "execution_count": null,
      "metadata": {
        "colab": {
          "base_uri": "https://localhost:8080/"
        },
        "id": "udXsZYbSjgrX",
        "outputId": "24a39342-1700-486e-b173-fe2918d5efe1"
      },
      "outputs": [
        {
          "output_type": "stream",
          "name": "stdout",
          "text": [
            "The average word count length of the document is:  6.557522842280563\n",
            "The maximum length of the document is:  15\n",
            "The minimum length of the document is:  1\n",
            "The total length of the document is:  8158765\n"
          ]
        }
      ],
      "source": [
        "#calculate the mean of the word length\n",
        "mean_word_count = np.mean(word_count_list)\n",
        "#calculate the max of the word length\n",
        "max_word_count = np.max(word_count_list)\n",
        "#calculate the min of the word length\n",
        "min_word_count = np.min(word_count_list)\n",
        "#calculate the total of the word length\n",
        "total_word_count = np.sum(word_count_list)\n",
        "print(f'The average word count length of the document is: ', mean_word_count)\n",
        "print(f'The maximum length of the document is: ', max_word_count)\n",
        "print(f'The minimum length of the document is: ', min_word_count)\n",
        "print(f'The total length of the document is: ', total_word_count)"
      ]
    },
    {
      "cell_type": "code",
      "execution_count": null,
      "metadata": {
        "id": "bSSqeWID0qYX"
      },
      "outputs": [],
      "source": [
        "#calculate the number of headlines in the dataset\n",
        "def list_of_text(dataset):\n",
        "  result =[]\n",
        "  for i in range(len(dataset)):\n",
        "    result.append(dataset[i])\n",
        "  return result"
      ]
    },
    {
      "cell_type": "code",
      "execution_count": null,
      "metadata": {
        "colab": {
          "base_uri": "https://localhost:8080/"
        },
        "id": "1rSbakpp1FIX",
        "outputId": "cf8593a2-33aa-42aa-8d2f-12c8546d40c2"
      },
      "outputs": [
        {
          "output_type": "execute_result",
          "data": {
            "text/plain": [
              "1244184"
            ]
          },
          "metadata": {},
          "execution_count": 12
        }
      ],
      "source": [
        "headlines_list = list_of_text(df_headlines)\n",
        "len(headlines_list)"
      ]
    },
    {
      "cell_type": "code",
      "execution_count": null,
      "metadata": {
        "colab": {
          "base_uri": "https://localhost:8080/",
          "height": 513
        },
        "id": "aqezr1m3nVtG",
        "outputId": "fcf2c80a-cebe-4b15-f617-32e1ec4d0ed6"
      },
      "outputs": [
        {
          "output_type": "display_data",
          "data": {
            "text/plain": [
              "<Figure size 1296x576 with 1 Axes>"
            ],
            "image/png": "[encoded data removed]"
          },
          "metadata": {
            "needs_background": "light"
          }
        }
      ],
      "source": [
        "#setup plots size\n",
        "fig, ax = plt.subplots(figsize=(18,8))\n",
        "#use histogram to plot out the distribution of the headline word lengths\n",
        "ax.hist(word_count_list, bins=range(1,14) )\n",
        "#create a title\n",
        "ax.set_title('Headline word lengths')\n",
        "ax.set_xticks(range(1,14))\n",
        "#set the x-axis and y-axis name\n",
        "ax.set_xlabel('Number of words')\n",
        "ax.set_ylabel('Occurance')\n",
        "plt.show()"
      ]
    },
    {
      "cell_type": "code",
      "execution_count": null,
      "metadata": {
        "id": "1vVlVaIJwWT4"
      },
      "outputs": [],
      "source": [
        "#import count vertorization to count the frequency of occurrance for each word\n",
        "count_vectorizer = CountVectorizer()\n",
        "headlines_word_count_vectorizer = count_vectorizer.fit_transform(headlines_list)\n",
        "words = count_vectorizer.get_feature_names()"
      ]
    },
    {
      "cell_type": "code",
      "source": [
        "headlines_word_count_vectorizer"
      ],
      "metadata": {
        "colab": {
          "base_uri": "https://localhost:8080/"
        },
        "id": "qPrxoRefpsDB",
        "outputId": "fe0a6dd0-d702-4cd2-e446-0a56f717f607"
      },
      "execution_count": null,
      "outputs": [
        {
          "output_type": "execute_result",
          "data": {
            "text/plain": [
              "<1244184x105966 sparse matrix of type '<class 'numpy.int64'>'\n",
              "\twith 8072405 stored elements in Compressed Sparse Row format>"
            ]
          },
          "metadata": {},
          "execution_count": 15
        }
      ]
    },
    {
      "cell_type": "code",
      "execution_count": null,
      "metadata": {
        "colab": {
          "base_uri": "https://localhost:8080/",
          "height": 513
        },
        "id": "oul4Qmif35kb",
        "outputId": "4d84e15e-6d9f-4fd3-ee5f-88a4cb40a486"
      },
      "outputs": [
        {
          "output_type": "display_data",
          "data": {
            "text/plain": [
              "<Figure size 1152x576 with 1 Axes>"
            ],
            "image/png": "[encoded data removed]"
          },
          "metadata": {
            "needs_background": "light"
          }
        }
      ],
      "source": [
        "#sum the word on the row axis to obtain the total number of occurance in each word\n",
        "sum_of_words=headlines_word_count_vectorizer.sum(axis=0)\n",
        "#convert the list into array\n",
        "sum_of_word_list = np.squeeze(np.asarray(sum_of_words))\n",
        "#sort the number of occurance \n",
        "sorted_sum_of_words = np.sort(np.squeeze(np.asarray(sum_of_words)))\n",
        "#get the index of the corresponding sorted words\n",
        "sorted_sum_of_words_index = np.argsort(np.squeeze(np.asarray(sum_of_words)))\n",
        "#get the top 20 words occurance and its corresponding words\n",
        "top_20_words=[words[i] for i in sorted_sum_of_words_index][-20:]\n",
        "top_20_words_occurrance = [sorted_sum_of_words[i] for i in range(len(sorted_sum_of_words))][-20:]\n",
        "#set the figure size\n",
        "fig, ax = plt.subplots(figsize=(16,8))\n",
        "#set the title of the plot\n",
        "ax.set_title('Frequency of occurrance for each word')\n",
        "#use bar graph to plot out the top_20_results\n",
        "ax.bar(top_20_words, top_20_words_occurrance)\n",
        "#set the x and y labels\n",
        "ax.set_xlabel('Words')\n",
        "ax.set_ylabel('Occurance')\n",
        "plt.show()"
      ]
    },
    {
      "cell_type": "markdown",
      "source": [
        "***Data Preprocessing***"
      ],
      "metadata": {
        "id": "7EfbnNajr6IP"
      }
    },
    {
      "cell_type": "code",
      "execution_count": null,
      "metadata": {
        "colab": {
          "base_uri": "https://localhost:8080/"
        },
        "id": "h-o2CIVYZ7hD",
        "outputId": "ef9526b1-17c8-4fed-e86a-0290d88c6a9e"
      },
      "outputs": [
        {
          "output_type": "execute_result",
          "data": {
            "text/plain": [
              "(1244184,)"
            ]
          },
          "metadata": {},
          "execution_count": 17
        }
      ],
      "source": [
        "#return the number of headlines\n",
        "df_headlines.shape"
      ]
    },
    {
      "cell_type": "code",
      "execution_count": null,
      "metadata": {
        "colab": {
          "base_uri": "https://localhost:8080/"
        },
        "id": "BMp41ypiQcVf",
        "outputId": "4e1389f9-1713-4102-9567-adde62c7eca1"
      },
      "outputs": [
        {
          "output_type": "execute_result",
          "data": {
            "text/plain": [
              "(1213004,)"
            ]
          },
          "metadata": {},
          "execution_count": 18
        }
      ],
      "source": [
        "#return the number of headlines after removing duplicates\n",
        "df_headlines_no_duplicates=df_headlines.drop_duplicates()\n",
        "df_headlines_no_duplicates.shape"
      ]
    },
    {
      "cell_type": "code",
      "execution_count": null,
      "metadata": {
        "id": "nWWP2JLnauVG"
      },
      "outputs": [],
      "source": [
        "#load in spacy\n",
        "nlp = spacy.load(\"en_core_web_sm\")\n",
        "#set all the words in the headlines to lowercase\n",
        "def lower_case(s):\n",
        "  s_lower=s.lower()\n",
        "  return s_lower"
      ]
    },
    {
      "cell_type": "code",
      "execution_count": null,
      "metadata": {
        "id": "IlXIfAfDe6tm"
      },
      "outputs": [],
      "source": [
        "#apply the lowercase function to the dataset\n",
        "df_headlines_lower_case = df_headlines_no_duplicates.apply(lower_case)"
      ]
    },
    {
      "cell_type": "code",
      "execution_count": null,
      "metadata": {
        "colab": {
          "base_uri": "https://localhost:8080/"
        },
        "id": "mlSM7nn4oRwi",
        "outputId": "f2d33e66-94d9-4faa-b9c2-7dec8ac0f5e2"
      },
      "outputs": [
        {
          "output_type": "stream",
          "name": "stderr",
          "text": [
            "[nltk_data] Downloading package stopwords to /root/nltk_data...\n",
            "[nltk_data]   Unzipping corpora/stopwords.zip.\n",
            "[nltk_data] Downloading package punkt to /root/nltk_data...\n",
            "[nltk_data]   Unzipping tokenizers/punkt.zip.\n"
          ]
        }
      ],
      "source": [
        "from nltk.corpus.reader.tagged import word_tokenize\n",
        "import nltk\n",
        "#downloade the nltk necessary packages for removing the stop words\n",
        "nltk.download('stopwords')\n",
        "nltk.download('punkt')\n",
        "def stop_words(s):\n",
        "  #tokenize all of the words into sets of list\n",
        "  tokenize = word_tokenize(s)\n",
        "  #load in the sets of stopwords\n",
        "  stop_words = set(stopwords.words('english'))\n",
        "  #remove the stopwords in the list\n",
        "  result = [word for word in tokenize if not word in stop_words]\n",
        "  #join back the lists into string\n",
        "  out = \" \".join(result)\n",
        "  return out\n",
        "df_headlines_lower_case=df_headlines_lower_case.apply(stop_words)\n"
      ]
    },
    {
      "cell_type": "code",
      "execution_count": null,
      "metadata": {
        "colab": {
          "base_uri": "https://localhost:8080/"
        },
        "id": "-qtKwZxap3fo",
        "outputId": "d870b765-c46a-41d1-f36c-fb04b8099f34"
      },
      "outputs": [
        {
          "output_type": "execute_result",
          "data": {
            "text/plain": [
              "0                 aba decides community broadcasting licence\n",
              "1                   act fire witnesses must aware defamation\n",
              "2                   g calls infrastructure protection summit\n",
              "3                          air nz staff aust strike pay rise\n",
              "4                 air nz strike affect australian travellers\n",
              "                                 ...                        \n",
              "1244179    two aged care residents die state records 2 ; 093\n",
              "1244180      victoria records 5 ; 919 new cases seven deaths\n",
              "1244181      wa delays adopting new close contact definition\n",
              "1244182    western ringtail possums found badly dehydrate...\n",
              "1244183                  makes close covid contact new rules\n",
              "Name: headline_text, Length: 1213004, dtype: object"
            ]
          },
          "metadata": {},
          "execution_count": 22
        }
      ],
      "source": [
        "#show the results\n",
        "df_headlines_lower_case"
      ]
    },
    {
      "cell_type": "code",
      "execution_count": null,
      "metadata": {
        "colab": {
          "base_uri": "https://localhost:8080/"
        },
        "id": "oL5Nt0r6p4Cy",
        "outputId": "aed5d48a-aa4a-4c1f-a793-ad4af7882e3b"
      },
      "outputs": [
        {
          "output_type": "stream",
          "name": "stderr",
          "text": [
            "<ipython-input-23-95710e0dfb48>:5: DeprecationWarning: [W107] The property `Doc.is_parsed` is deprecated. Use `Doc.has_annotation(\"DEP\")` instead.\n",
            "  if doc.is_parsed:\n"
          ]
        }
      ],
      "source": [
        "lemma_result=[]\n",
        "#use spacy to do lemmatizations on the dataset\n",
        "#the following codes use reference but with modifications: https://stackoverflow.com/questions/44395656/applying-spacy-parser-to-pandas-dataframe-w-multiprocessing\n",
        "for doc in nlp.pipe(df_headlines_lower_case.astype('unicode').values, batch_size=100, n_process=3):\n",
        "  if doc.is_parsed:\n",
        "    lemma_result.append([i.lemma_ for i in doc])\n",
        "df_headlines_lower_case['lemma']=lemma_result"
      ]
    },
    {
      "cell_type": "code",
      "execution_count": null,
      "metadata": {
        "id": "la0HozhayEbt"
      },
      "outputs": [],
      "source": [
        "#append the output lemmatization to the dataset with the column name lemma\n",
        "df_headlines_preprocessed=pd.DataFrame(df_headlines_lower_case['lemma'])"
      ]
    },
    {
      "cell_type": "code",
      "execution_count": null,
      "metadata": {
        "colab": {
          "base_uri": "https://localhost:8080/",
          "height": 206
        },
        "id": "8c8UMcLZ0pCb",
        "outputId": "878fbd03-800e-4836-ea7f-5b228181bff4"
      },
      "outputs": [
        {
          "output_type": "execute_result",
          "data": {
            "text/plain": [
              "    0       1               2             3           4           5     6   \\\n",
              "0  aba  decide       community  broadcasting     licence        None  None   \n",
              "1  act    fire         witness          must       aware  defamation  None   \n",
              "2    g    call  infrastructure    protection      summit        None  None   \n",
              "3  air      nz           staff          aust      strike         pay  rise   \n",
              "4  air      nz          strike        affect  australian   traveller  None   \n",
              "\n",
              "     7     8     9     10    11    12  \n",
              "0  None  None  None  None  None  None  \n",
              "1  None  None  None  None  None  None  \n",
              "2  None  None  None  None  None  None  \n",
              "3  None  None  None  None  None  None  \n",
              "4  None  None  None  None  None  None  "
            ],
            "text/html": [
              "\n",
              "  <div id=\"df-9d267eb6-f396-4743-9a0f-fb353fddf0aa\">\n",
              "    <div class=\"colab-df-container\">\n",
              "      <div>\n",
              "<style scoped>\n",
              "    .dataframe tbody tr th:only-of-type {\n",
              "        vertical-align: middle;\n",
              "    }\n",
              "\n",
              "    .dataframe tbody tr th {\n",
              "        vertical-align: top;\n",
              "    }\n",
              "\n",
              "    .dataframe thead th {\n",
              "        text-align: right;\n",
              "    }\n",
              "</style>\n",
              "<table border=\"1\" class=\"dataframe\">\n",
              "  <thead>\n",
              "    <tr style=\"text-align: right;\">\n",
              "      <th></th>\n",
              "      <th>0</th>\n",
              "      <th>1</th>\n",
              "      <th>2</th>\n",
              "      <th>3</th>\n",
              "      <th>4</th>\n",
              "      <th>5</th>\n",
              "      <th>6</th>\n",
              "      <th>7</th>\n",
              "      <th>8</th>\n",
              "      <th>9</th>\n",
              "      <th>10</th>\n",
              "      <th>11</th>\n",
              "      <th>12</th>\n",
              "    </tr>\n",
              "  </thead>\n",
              "  <tbody>\n",
              "    <tr>\n",
              "      <th>0</th>\n",
              "      <td>aba</td>\n",
              "      <td>decide</td>\n",
              "      <td>community</td>\n",
              "      <td>broadcasting</td>\n",
              "      <td>licence</td>\n",
              "      <td>None</td>\n",
              "      <td>None</td>\n",
              "      <td>None</td>\n",
              "      <td>None</td>\n",
              "      <td>None</td>\n",
              "      <td>None</td>\n",
              "      <td>None</td>\n",
              "      <td>None</td>\n",
              "    </tr>\n",
              "    <tr>\n",
              "      <th>1</th>\n",
              "      <td>act</td>\n",
              "      <td>fire</td>\n",
              "      <td>witness</td>\n",
              "      <td>must</td>\n",
              "      <td>aware</td>\n",
              "      <td>defamation</td>\n",
              "      <td>None</td>\n",
              "      <td>None</td>\n",
              "      <td>None</td>\n",
              "      <td>None</td>\n",
              "      <td>None</td>\n",
              "      <td>None</td>\n",
              "      <td>None</td>\n",
              "    </tr>\n",
              "    <tr>\n",
              "      <th>2</th>\n",
              "      <td>g</td>\n",
              "      <td>call</td>\n",
              "      <td>infrastructure</td>\n",
              "      <td>protection</td>\n",
              "      <td>summit</td>\n",
              "      <td>None</td>\n",
              "      <td>None</td>\n",
              "      <td>None</td>\n",
              "      <td>None</td>\n",
              "      <td>None</td>\n",
              "      <td>None</td>\n",
              "      <td>None</td>\n",
              "      <td>None</td>\n",
              "    </tr>\n",
              "    <tr>\n",
              "      <th>3</th>\n",
              "      <td>air</td>\n",
              "      <td>nz</td>\n",
              "      <td>staff</td>\n",
              "      <td>aust</td>\n",
              "      <td>strike</td>\n",
              "      <td>pay</td>\n",
              "      <td>rise</td>\n",
              "      <td>None</td>\n",
              "      <td>None</td>\n",
              "      <td>None</td>\n",
              "      <td>None</td>\n",
              "      <td>None</td>\n",
              "      <td>None</td>\n",
              "    </tr>\n",
              "    <tr>\n",
              "      <th>4</th>\n",
              "      <td>air</td>\n",
              "      <td>nz</td>\n",
              "      <td>strike</td>\n",
              "      <td>affect</td>\n",
              "      <td>australian</td>\n",
              "      <td>traveller</td>\n",
              "      <td>None</td>\n",
              "      <td>None</td>\n",
              "      <td>None</td>\n",
              "      <td>None</td>\n",
              "      <td>None</td>\n",
              "      <td>None</td>\n",
              "      <td>None</td>\n",
              "    </tr>\n",
              "  </tbody>\n",
              "</table>\n",
              "</div>\n",
              "      <button class=\"colab-df-convert\" onclick=\"convertToInteractive('df-9d267eb6-f396-4743-9a0f-fb353fddf0aa')\"\n",
              "              title=\"Convert this dataframe to an interactive table.\"\n",
              "              style=\"display:none;\">\n",
              "        \n",
              "  <svg xmlns=\"http://www.w3.org/2000/svg\" height=\"24px\"viewBox=\"0 0 24 24\"\n",
              "       width=\"24px\">\n",
              "    <path d=\"M0 0h24v24H0V0z\" fill=\"none\"/>\n",
              "    <path d=\"M18.56 5.44l.94 2.06.94-2.06 2.06-.94-2.06-.94-.94-2.06-.94 2.06-2.06.94zm-11 1L8.5 8.5l.94-2.06 2.06-.94-2.06-.94L8.5 2.5l-.94 2.06-2.06.94zm10 10l.94 2.06.94-2.06 2.06-.94-2.06-.94-.94-2.06-.94 2.06-2.06.94z\"/><path d=\"M17.41 7.96l-1.37-1.37c-.4-.4-.92-.59-1.43-.59-.52 0-1.04.2-1.43.59L10.3 9.45l-7.72 7.72c-.78.78-.78 2.05 0 2.83L4 21.41c.39.39.9.59 1.41.59.51 0 1.02-.2 1.41-.59l7.78-7.78 2.81-2.81c.8-.78.8-2.07 0-2.86zM5.41 20L4 18.59l7.72-7.72 1.47 1.35L5.41 20z\"/>\n",
              "  </svg>\n",
              "      </button>\n",
              "      \n",
              "  <style>\n",
              "    .colab-df-container {\n",
              "      display:flex;\n",
              "      flex-wrap:wrap;\n",
              "      gap: 12px;\n",
              "    }\n",
              "\n",
              "    .colab-df-convert {\n",
              "      background-color: #E8F0FE;\n",
              "      border: none;\n",
              "      border-radius: 50%;\n",
              "      cursor: pointer;\n",
              "      display: none;\n",
              "      fill: #1967D2;\n",
              "      height: 32px;\n",
              "      padding: 0 0 0 0;\n",
              "      width: 32px;\n",
              "    }\n",
              "\n",
              "    .colab-df-convert:hover {\n",
              "      background-color: #E2EBFA;\n",
              "      box-shadow: 0px 1px 2px rgba(60, 64, 67, 0.3), 0px 1px 3px 1px rgba(60, 64, 67, 0.15);\n",
              "      fill: #174EA6;\n",
              "    }\n",
              "\n",
              "    [theme=dark] .colab-df-convert {\n",
              "      background-color: #3B4455;\n",
              "      fill: #D2E3FC;\n",
              "    }\n",
              "\n",
              "    [theme=dark] .colab-df-convert:hover {\n",
              "      background-color: #434B5C;\n",
              "      box-shadow: 0px 1px 3px 1px rgba(0, 0, 0, 0.15);\n",
              "      filter: drop-shadow(0px 1px 2px rgba(0, 0, 0, 0.3));\n",
              "      fill: #FFFFFF;\n",
              "    }\n",
              "  </style>\n",
              "\n",
              "      <script>\n",
              "        const buttonEl =\n",
              "          document.querySelector('#df-9d267eb6-f396-4743-9a0f-fb353fddf0aa button.colab-df-convert');\n",
              "        buttonEl.style.display =\n",
              "          google.colab.kernel.accessAllowed ? 'block' : 'none';\n",
              "\n",
              "        async function convertToInteractive(key) {\n",
              "          const element = document.querySelector('#df-9d267eb6-f396-4743-9a0f-fb353fddf0aa');\n",
              "          const dataTable =\n",
              "            await google.colab.kernel.invokeFunction('convertToInteractive',\n",
              "                                                     [key], {});\n",
              "          if (!dataTable) return;\n",
              "\n",
              "          const docLinkHtml = 'Like what you see? Visit the ' +\n",
              "            '<a target=\"_blank\" href=https://colab.research.google.com/notebooks/data_table.ipynb>data table notebook</a>'\n",
              "            + ' to learn more about interactive tables.';\n",
              "          element.innerHTML = '';\n",
              "          dataTable['output_type'] = 'display_data';\n",
              "          await google.colab.output.renderOutput(dataTable, element);\n",
              "          const docLink = document.createElement('div');\n",
              "          docLink.innerHTML = docLinkHtml;\n",
              "          element.appendChild(docLink);\n",
              "        }\n",
              "      </script>\n",
              "    </div>\n",
              "  </div>\n",
              "  "
            ]
          },
          "metadata": {},
          "execution_count": 25
        }
      ],
      "source": [
        "#show the results\n",
        "df_headlines_preprocessed.head()"
      ]
    },
    {
      "cell_type": "code",
      "execution_count": null,
      "metadata": {
        "id": "bJ0TknpyM2S3"
      },
      "outputs": [],
      "source": [
        "#Do a intermediate to the preprocessed data\n",
        "df_headlines_preprocessed.to_csv('/content/drive/MyDrive/preprocessed_abc_1.csv')"
      ]
    },
    {
      "cell_type": "code",
      "execution_count": null,
      "metadata": {
        "id": "GhR3nQFQDhwg"
      },
      "outputs": [],
      "source": [
        "#Read from preprocessed data and convert every new line to list\n",
        "import csv\n",
        "with open('/content/drive/MyDrive/preprocessed_abc_1.csv', newline='') as preprocessed_data:\n",
        "    data = list(csv.reader(preprocessed_data))"
      ]
    },
    {
      "cell_type": "code",
      "execution_count": null,
      "metadata": {
        "colab": {
          "base_uri": "https://localhost:8080/"
        },
        "id": "hXE3bFOygapG",
        "outputId": "84a62a30-fd72-42e7-ed8d-ab5fa4087dd1"
      },
      "outputs": [
        {
          "output_type": "execute_result",
          "data": {
            "text/plain": [
              "['4',\n",
              " 'air',\n",
              " 'nz',\n",
              " 'strike',\n",
              " 'affect',\n",
              " 'australian',\n",
              " 'traveller',\n",
              " '',\n",
              " '',\n",
              " '',\n",
              " '',\n",
              " '',\n",
              " '',\n",
              " '']"
            ]
          },
          "metadata": {},
          "execution_count": 28
        }
      ],
      "source": [
        "#look into the data\n",
        "data[5]"
      ]
    },
    {
      "cell_type": "code",
      "execution_count": null,
      "metadata": {
        "id": "oRlxyfTZc9IK"
      },
      "outputs": [],
      "source": [
        "#remove the first element in the list, since it is a header\n",
        "for index in range(len(data)):\n",
        "  data[index].pop(0)"
      ]
    },
    {
      "cell_type": "code",
      "execution_count": null,
      "metadata": {
        "id": "uJv7TLd1dxDV"
      },
      "outputs": [],
      "source": [
        "#filter out the NONE elements in the list\n",
        "data =[list(filter(None, i)) for i in data]\n",
        "del data[0]"
      ]
    },
    {
      "cell_type": "code",
      "execution_count": null,
      "metadata": {
        "colab": {
          "base_uri": "https://localhost:8080/"
        },
        "id": "9YCvnWGsgeu0",
        "outputId": "dc512904-136d-4971-c725-f5ab7050f22c"
      },
      "outputs": [
        {
          "output_type": "execute_result",
          "data": {
            "text/plain": [
              "['air', 'nz', 'strike', 'affect', 'australian', 'traveller']"
            ]
          },
          "metadata": {},
          "execution_count": 31
        }
      ],
      "source": [
        "#look into the data\n",
        "data[4]"
      ]
    },
    {
      "cell_type": "code",
      "execution_count": null,
      "metadata": {
        "id": "8a-b5j2cjKpK"
      },
      "outputs": [],
      "source": [
        "#filter out the number of words length is smaller equal to 2\n",
        "data =[list(filter(lambda element: len(element)!=2, i)) for i in data]\n",
        "data =[list(filter(lambda element: len(element)!=1, i)) for i in data]"
      ]
    },
    {
      "cell_type": "code",
      "execution_count": null,
      "metadata": {
        "id": "ODLnGsi4iR1h"
      },
      "outputs": [],
      "source": [
        "#save it into the pandas frameworks\n",
        "df_headlines_final=pd.DataFrame(list(zip(data)), columns=['headlines_array'])"
      ]
    },
    {
      "cell_type": "code",
      "execution_count": null,
      "metadata": {
        "colab": {
          "base_uri": "https://localhost:8080/",
          "height": 206
        },
        "id": "UdtENbK7ipZq",
        "outputId": "d5470c10-3ea0-45a0-8e86-309df95a7c8d"
      },
      "outputs": [
        {
          "output_type": "execute_result",
          "data": {
            "text/plain": [
              "                                   headlines_array\n",
              "0  [aba, decide, community, broadcasting, licence]\n",
              "1    [act, fire, witness, must, aware, defamation]\n",
              "2       [call, infrastructure, protection, summit]\n",
              "3            [air, staff, aust, strike, pay, rise]\n",
              "4     [air, strike, affect, australian, traveller]"
            ],
            "text/html": [
              "\n",
              "  <div id=\"df-989059d5-3af0-4c90-883d-fbc39db2365f\">\n",
              "    <div class=\"colab-df-container\">\n",
              "      <div>\n",
              "<style scoped>\n",
              "    .dataframe tbody tr th:only-of-type {\n",
              "        vertical-align: middle;\n",
              "    }\n",
              "\n",
              "    .dataframe tbody tr th {\n",
              "        vertical-align: top;\n",
              "    }\n",
              "\n",
              "    .dataframe thead th {\n",
              "        text-align: right;\n",
              "    }\n",
              "</style>\n",
              "<table border=\"1\" class=\"dataframe\">\n",
              "  <thead>\n",
              "    <tr style=\"text-align: right;\">\n",
              "      <th></th>\n",
              "      <th>headlines_array</th>\n",
              "    </tr>\n",
              "  </thead>\n",
              "  <tbody>\n",
              "    <tr>\n",
              "      <th>0</th>\n",
              "      <td>[aba, decide, community, broadcasting, licence]</td>\n",
              "    </tr>\n",
              "    <tr>\n",
              "      <th>1</th>\n",
              "      <td>[act, fire, witness, must, aware, defamation]</td>\n",
              "    </tr>\n",
              "    <tr>\n",
              "      <th>2</th>\n",
              "      <td>[call, infrastructure, protection, summit]</td>\n",
              "    </tr>\n",
              "    <tr>\n",
              "      <th>3</th>\n",
              "      <td>[air, staff, aust, strike, pay, rise]</td>\n",
              "    </tr>\n",
              "    <tr>\n",
              "      <th>4</th>\n",
              "      <td>[air, strike, affect, australian, traveller]</td>\n",
              "    </tr>\n",
              "  </tbody>\n",
              "</table>\n",
              "</div>\n",
              "      <button class=\"colab-df-convert\" onclick=\"convertToInteractive('df-989059d5-3af0-4c90-883d-fbc39db2365f')\"\n",
              "              title=\"Convert this dataframe to an interactive table.\"\n",
              "              style=\"display:none;\">\n",
              "        \n",
              "  <svg xmlns=\"http://www.w3.org/2000/svg\" height=\"24px\"viewBox=\"0 0 24 24\"\n",
              "       width=\"24px\">\n",
              "    <path d=\"M0 0h24v24H0V0z\" fill=\"none\"/>\n",
              "    <path d=\"M18.56 5.44l.94 2.06.94-2.06 2.06-.94-2.06-.94-.94-2.06-.94 2.06-2.06.94zm-11 1L8.5 8.5l.94-2.06 2.06-.94-2.06-.94L8.5 2.5l-.94 2.06-2.06.94zm10 10l.94 2.06.94-2.06 2.06-.94-2.06-.94-.94-2.06-.94 2.06-2.06.94z\"/><path d=\"M17.41 7.96l-1.37-1.37c-.4-.4-.92-.59-1.43-.59-.52 0-1.04.2-1.43.59L10.3 9.45l-7.72 7.72c-.78.78-.78 2.05 0 2.83L4 21.41c.39.39.9.59 1.41.59.51 0 1.02-.2 1.41-.59l7.78-7.78 2.81-2.81c.8-.78.8-2.07 0-2.86zM5.41 20L4 18.59l7.72-7.72 1.47 1.35L5.41 20z\"/>\n",
              "  </svg>\n",
              "      </button>\n",
              "      \n",
              "  <style>\n",
              "    .colab-df-container {\n",
              "      display:flex;\n",
              "      flex-wrap:wrap;\n",
              "      gap: 12px;\n",
              "    }\n",
              "\n",
              "    .colab-df-convert {\n",
              "      background-color: #E8F0FE;\n",
              "      border: none;\n",
              "      border-radius: 50%;\n",
              "      cursor: pointer;\n",
              "      display: none;\n",
              "      fill: #1967D2;\n",
              "      height: 32px;\n",
              "      padding: 0 0 0 0;\n",
              "      width: 32px;\n",
              "    }\n",
              "\n",
              "    .colab-df-convert:hover {\n",
              "      background-color: #E2EBFA;\n",
              "      box-shadow: 0px 1px 2px rgba(60, 64, 67, 0.3), 0px 1px 3px 1px rgba(60, 64, 67, 0.15);\n",
              "      fill: #174EA6;\n",
              "    }\n",
              "\n",
              "    [theme=dark] .colab-df-convert {\n",
              "      background-color: #3B4455;\n",
              "      fill: #D2E3FC;\n",
              "    }\n",
              "\n",
              "    [theme=dark] .colab-df-convert:hover {\n",
              "      background-color: #434B5C;\n",
              "      box-shadow: 0px 1px 3px 1px rgba(0, 0, 0, 0.15);\n",
              "      filter: drop-shadow(0px 1px 2px rgba(0, 0, 0, 0.3));\n",
              "      fill: #FFFFFF;\n",
              "    }\n",
              "  </style>\n",
              "\n",
              "      <script>\n",
              "        const buttonEl =\n",
              "          document.querySelector('#df-989059d5-3af0-4c90-883d-fbc39db2365f button.colab-df-convert');\n",
              "        buttonEl.style.display =\n",
              "          google.colab.kernel.accessAllowed ? 'block' : 'none';\n",
              "\n",
              "        async function convertToInteractive(key) {\n",
              "          const element = document.querySelector('#df-989059d5-3af0-4c90-883d-fbc39db2365f');\n",
              "          const dataTable =\n",
              "            await google.colab.kernel.invokeFunction('convertToInteractive',\n",
              "                                                     [key], {});\n",
              "          if (!dataTable) return;\n",
              "\n",
              "          const docLinkHtml = 'Like what you see? Visit the ' +\n",
              "            '<a target=\"_blank\" href=https://colab.research.google.com/notebooks/data_table.ipynb>data table notebook</a>'\n",
              "            + ' to learn more about interactive tables.';\n",
              "          element.innerHTML = '';\n",
              "          dataTable['output_type'] = 'display_data';\n",
              "          await google.colab.output.renderOutput(dataTable, element);\n",
              "          const docLink = document.createElement('div');\n",
              "          docLink.innerHTML = docLinkHtml;\n",
              "          element.appendChild(docLink);\n",
              "        }\n",
              "      </script>\n",
              "    </div>\n",
              "  </div>\n",
              "  "
            ]
          },
          "metadata": {},
          "execution_count": 34
        }
      ],
      "source": [
        "#display the results\n",
        "df_headlines_final.head()"
      ]
    },
    {
      "cell_type": "code",
      "execution_count": null,
      "metadata": {
        "id": "0d2dg-j8w2BJ"
      },
      "outputs": [],
      "source": [
        "from gensim import corpora, models\n",
        "#load in gensim and convert the each list of headlines into dictionary\n",
        "dict_of_inputs = corpora.Dictionary(df_headlines_final['headlines_array'])"
      ]
    },
    {
      "cell_type": "code",
      "execution_count": null,
      "metadata": {
        "id": "PdjtGNm9yc5K"
      },
      "outputs": [],
      "source": [
        "#convert the list of words into bag-of-words\n",
        "input_corpous=[dict_of_inputs.doc2bow(input) for input in df_headlines_final['headlines_array']]"
      ]
    },
    {
      "cell_type": "code",
      "execution_count": null,
      "metadata": {
        "id": "u7UzMPuyzQwE"
      },
      "outputs": [],
      "source": [
        "#load TF-IDF vectorization.\n",
        "model = models.TfidfModel(input_corpous)"
      ]
    },
    {
      "cell_type": "code",
      "execution_count": null,
      "metadata": {
        "id": "okVI06nQ0kC0"
      },
      "outputs": [],
      "source": [
        "#transform the input data\n",
        "tfidf_input=model[input_corpous]"
      ]
    },
    {
      "cell_type": "code",
      "execution_count": null,
      "metadata": {
        "colab": {
          "base_uri": "https://localhost:8080/"
        },
        "id": "ICVcUCOL01XX",
        "outputId": "75bbeca1-8ff7-46d1-827b-723b2d28011f"
      },
      "outputs": [
        {
          "output_type": "execute_result",
          "data": {
            "text/plain": [
              "[(0, 0.5561735474286991),\n",
              " (1, 0.5617641744043795),\n",
              " (2, 0.2891502255588444),\n",
              " (3, 0.3849011978382397),\n",
              " (4, 0.3785963714278047)]"
            ]
          },
          "metadata": {},
          "execution_count": 39
        }
      ],
      "source": [
        "#display the results\n",
        "tfidf_input[0]"
      ]
    },
    {
      "cell_type": "markdown",
      "source": [
        "***Load models and train***"
      ],
      "metadata": {
        "id": "kG6nOMei8GjQ"
      }
    },
    {
      "cell_type": "code",
      "execution_count": null,
      "metadata": {
        "colab": {
          "base_uri": "https://localhost:8080/"
        },
        "id": "IMeb7M5f1AUp",
        "outputId": "7addb965-fc00-4a2b-a167-1c9b5db2dfb1"
      },
      "outputs": [
        {
          "output_type": "stream",
          "name": "stdout",
          "text": [
            "The execution is: 445.48011541366577\n"
          ]
        }
      ],
      "source": [
        "import time\n",
        "#start a timer\n",
        "start_time=time.time()\n",
        "#load in LDA model and train the model with our data\n",
        "LDA = models.LdaMulticore(tfidf_input, num_topics=10, id2word=dict_of_inputs)\n",
        "#calculate the time it takes to finish the algorithm\n",
        "print('The execution is: %s' %(time.time()-start_time))"
      ]
    },
    {
      "cell_type": "code",
      "execution_count": null,
      "metadata": {
        "colab": {
          "base_uri": "https://localhost:8080/"
        },
        "id": "eHy9pkkJ3Ffa",
        "outputId": "6ac06efd-6f41-403f-e916-a7b5d349115e"
      },
      "outputs": [
        {
          "output_type": "stream",
          "name": "stdout",
          "text": [
            "Topic: 0 Word: 0.026*\"lockdown\" + 0.017*\"quarantine\" + 0.017*\"coronavirus\" + 0.015*\"covid\" + 0.014*\"victorian\" + 0.011*\"hotel\" + 0.009*\"rollout\" + 0.008*\"street\" + 0.008*\"outbreak\" + 0.008*\"tasmanian\"\n",
            "Topic: 1 Word: 0.033*\"queensland\" + 0.009*\"speak\" + 0.008*\"coronavirus\" + 0.007*\"christmas\" + 0.007*\"nsw\" + 0.007*\"bushfire\" + 0.007*\"briefing\" + 0.007*\"federal\" + 0.007*\"mask\" + 0.006*\"sexual\"\n",
            "Topic: 2 Word: 0.020*\"live\" + 0.015*\"2020\" + 0.010*\"mental\" + 0.009*\"mark\" + 0.009*\"health\" + 0.008*\"john\" + 0.008*\"emergency\" + 0.008*\"michael\" + 0.007*\"surge\" + 0.007*\"property\"\n",
            "Topic: 3 Word: 0.034*\"victoria\" + 0.026*\"covid\" + 0.017*\"coronavirus\" + 0.016*\"case\" + 0.012*\"record\" + 0.011*\"travel\" + 0.010*\"update\" + 0.010*\"new\" + 0.010*\"australia\" + 0.010*\"australias\"\n",
            "Topic: 4 Word: 0.019*\"morrison\" + 0.013*\"care\" + 0.012*\"amid\" + 0.011*\"people\" + 0.010*\"aged\" + 0.008*\"video\" + 0.008*\"reopen\" + 0.008*\"grow\" + 0.008*\"young\" + 0.007*\"country\"\n",
            "Topic: 5 Word: 0.017*\"biden\" + 0.015*\"premier\" + 0.012*\"joe\" + 0.010*\"andrews\" + 0.010*\"abc\" + 0.008*\"number\" + 0.008*\"berejiklian\" + 0.007*\"due\" + 0.007*\"next\" + 0.006*\"gladys\"\n",
            "Topic: 6 Word: 0.018*\"police\" + 0.017*\"man\" + 0.015*\"woman\" + 0.012*\"charge\" + 0.011*\"murder\" + 0.008*\"find\" + 0.008*\"arrest\" + 0.008*\"crash\" + 0.008*\"death\" + 0.007*\"officer\"\n",
            "Topic: 7 Word: 0.019*\"government\" + 0.018*\"pandemic\" + 0.017*\"scott\" + 0.011*\"covid\" + 0.009*\"coronavirus\" + 0.008*\"sentence\" + 0.007*\"hong\" + 0.007*\"kong\" + 0.007*\"explain\" + 0.007*\"johnson\"\n",
            "Topic: 8 Word: 0.033*\"vaccine\" + 0.026*\"border\" + 0.025*\"restriction\" + 0.019*\"news\" + 0.018*\"covid\" + 0.018*\"coronavirus\" + 0.015*\"tasmania\" + 0.009*\"daniel\" + 0.009*\"island\" + 0.009*\"ease\"\n",
            "Topic: 9 Word: 0.027*\"trump\" + 0.018*\"donald\" + 0.009*\"australia\" + 0.008*\"climate\" + 0.007*\"testing\" + 0.007*\"nrl\" + 0.007*\"australian\" + 0.006*\"world\" + 0.006*\"india\" + 0.006*\"test\"\n"
          ]
        }
      ],
      "source": [
        "#display the topics and corresponding words with weights for LDA\n",
        "for idx, topic in LDA.print_topics(-1):\n",
        "    print('Topic: {} Word: {}'.format(idx, topic))"
      ]
    },
    {
      "cell_type": "code",
      "execution_count": null,
      "metadata": {
        "colab": {
          "base_uri": "https://localhost:8080/"
        },
        "id": "ttlD-EuB83au",
        "outputId": "29be5796-81e4-495c-b063-899da4172d2a"
      },
      "outputs": [
        {
          "output_type": "stream",
          "name": "stdout",
          "text": [
            "The execution is: 420.6350591182709\n"
          ]
        }
      ],
      "source": [
        "import time\n",
        "#start a timer\n",
        "start_time=time.time()\n",
        "#load in NMF model and train the model with our data\n",
        "NMF = models.nmf.Nmf(tfidf_input, num_topics=10, id2word=dict_of_inputs)\n",
        "#calculate the time it takes to finish the algorithm\n",
        "print('The execution is: %s' %(time.time()-start_time))"
      ]
    },
    {
      "cell_type": "code",
      "execution_count": null,
      "metadata": {
        "colab": {
          "base_uri": "https://localhost:8080/"
        },
        "id": "C5qsCda__ui-",
        "outputId": "82b4ffe5-f66f-46d4-8250-9f523131c38e",
        "cellView": "code"
      },
      "outputs": [
        {
          "output_type": "stream",
          "name": "stdout",
          "text": [
            "Topic: 0 Word: 0.047*\"fire\" + 0.031*\"death\" + 0.023*\"road\" + 0.016*\"rise\" + 0.014*\"probe\" + 0.013*\"toll\" + 0.010*\"house\" + 0.009*\"take\" + 0.008*\"begin\" + 0.007*\"service\"\n",
            "Topic: 1 Word: 0.126*\"govt\" + 0.023*\"urge\" + 0.018*\"face\" + 0.014*\"fund\" + 0.012*\"not\" + 0.012*\"court\" + 0.010*\"vic\" + 0.009*\"accuse\" + 0.009*\"qld\" + 0.008*\"say\"\n",
            "Topic: 2 Word: 0.087*\"man\" + 0.060*\"charge\" + 0.028*\"murder\" + 0.023*\"court\" + 0.021*\"face\" + 0.014*\"jail\" + 0.013*\"assault\" + 0.011*\"accuse\" + 0.010*\"child\" + 0.010*\"sex\"\n",
            "Topic: 3 Word: 0.133*\"iraq\" + 0.028*\"war\" + 0.025*\"troop\" + 0.020*\"say\" + 0.013*\"bush\" + 0.012*\"soldier\" + 0.010*\"attack\" + 0.008*\"howard\" + 0.008*\"kill\" + 0.008*\"bomb\"\n",
            "Topic: 4 Word: 0.151*\"police\" + 0.022*\"investigate\" + 0.014*\"probe\" + 0.013*\"officer\" + 0.013*\"search\" + 0.013*\"miss\" + 0.012*\"car\" + 0.011*\"arrest\" + 0.010*\"seek\" + 0.009*\"hunt\"\n",
            "Topic: 5 Word: 0.058*\"new\" + 0.036*\"continue\" + 0.031*\"call\" + 0.014*\"search\" + 0.014*\"miss\" + 0.006*\"boost\" + 0.006*\"find\" + 0.006*\"zealand\" + 0.005*\"law\" + 0.005*\"case\"\n",
            "Topic: 6 Word: 0.028*\"water\" + 0.013*\"farmer\" + 0.013*\"urge\" + 0.013*\"concern\" + 0.011*\"boost\" + 0.011*\"nsw\" + 0.008*\"rain\" + 0.008*\"get\" + 0.007*\"help\" + 0.007*\"drought\"\n",
            "Topic: 7 Word: 0.067*\"plan\" + 0.061*\"council\" + 0.011*\"back\" + 0.008*\"consider\" + 0.005*\"seek\" + 0.004*\"say\" + 0.004*\"merger\" + 0.004*\"centre\" + 0.004*\"development\" + 0.004*\"take\"\n",
            "Topic: 8 Word: 0.054*\"kill\" + 0.018*\"attack\" + 0.015*\"win\" + 0.015*\"iraqi\" + 0.010*\"two\" + 0.009*\"blast\" + 0.009*\"bomb\" + 0.008*\"year\" + 0.007*\"soldier\" + 0.006*\"coast\"\n",
            "Topic: 9 Word: 0.031*\"claim\" + 0.027*\"crash\" + 0.016*\"report\" + 0.014*\"world\" + 0.012*\"car\" + 0.011*\"cup\" + 0.011*\"back\" + 0.011*\"reject\" + 0.009*\"die\" + 0.008*\"court\"\n"
          ]
        }
      ],
      "source": [
        "#display the topics and corresponding words with weights for NMF\n",
        "for idx, topic in NMF.print_topics(-1):\n",
        "    print('Topic: {} Word: {}'.format(idx, topic))"
      ]
    },
    {
      "cell_type": "code",
      "execution_count": null,
      "metadata": {
        "colab": {
          "base_uri": "https://localhost:8080/"
        },
        "id": "Ku3nSxwKZXis",
        "outputId": "f06f3ac0-bead-4829-b6c5-ca68dfe2fb10"
      },
      "outputs": [
        {
          "output_type": "stream",
          "name": "stdout",
          "text": [
            "The execution is: 371.5308299064636\n"
          ]
        }
      ],
      "source": [
        "import time\n",
        "#start a timer\n",
        "start_time=time.time()\n",
        "#load in LSA model and train the model with our data\n",
        "LSA = models.LsiModel(tfidf_input, num_topics=10, id2word=dict_of_inputs)\n",
        "#calculate the time it takes to finish the algorithm\n",
        "print('The execution is: %s' %(time.time()-start_time))\n"
      ]
    },
    {
      "cell_type": "code",
      "execution_count": null,
      "metadata": {
        "colab": {
          "base_uri": "https://localhost:8080/"
        },
        "id": "i8yYhKPMZl5j",
        "outputId": "060d7d09-bf2f-4fe4-9aaf-1acf9a438c5e"
      },
      "outputs": [
        {
          "output_type": "stream",
          "name": "stdout",
          "text": [
            "Topic: 0 Word: 0.454*\"man\" + 0.370*\"police\" + 0.287*\"charge\" + 0.161*\"court\" + 0.144*\"murder\" + 0.133*\"face\" + 0.123*\"crash\" + 0.121*\"woman\" + 0.117*\"new\" + 0.115*\"death\"\n",
            "Topic: 1 Word: -0.406*\"man\" + -0.277*\"charge\" + 0.235*\"govt\" + 0.230*\"new\" + 0.212*\"plan\" + 0.196*\"council\" + 0.138*\"say\" + 0.134*\"urge\" + 0.124*\"call\" + -0.118*\"murder\"\n",
            "Topic: 2 Word: 0.792*\"police\" + -0.258*\"man\" + -0.241*\"charge\" + -0.180*\"court\" + -0.172*\"face\" + 0.135*\"probe\" + 0.132*\"investigate\" + -0.125*\"govt\" + 0.089*\"search\" + -0.088*\"plan\"\n",
            "Topic: 3 Word: -0.845*\"govt\" + -0.197*\"urge\" + 0.154*\"coronavirus\" + 0.153*\"new\" + 0.143*\"kill\" + -0.130*\"police\" + 0.114*\"australia\" + 0.089*\"crash\" + 0.077*\"australian\" + -0.066*\"charge\"\n",
            "Topic: 4 Word: -0.573*\"kill\" + -0.379*\"crash\" + -0.237*\"govt\" + 0.202*\"council\" + 0.198*\"plan\" + 0.191*\"police\" + -0.190*\"iraq\" + -0.176*\"car\" + 0.174*\"charge\" + 0.110*\"face\"\n",
            "Topic: 5 Word: -0.825*\"coronavirus\" + -0.239*\"covid\" + 0.210*\"council\" + 0.186*\"plan\" + -0.160*\"govt\" + -0.154*\"case\" + -0.124*\"victoria\" + -0.106*\"restriction\" + -0.082*\"nsw\" + -0.080*\"australia\"\n",
            "Topic: 6 Word: -0.501*\"hour\" + -0.495*\"country\" + -0.392*\"2015\" + -0.235*\"2014\" + 0.142*\"coronavirus\" + -0.133*\"flood\" + 0.129*\"council\" + -0.128*\"tsunami\" + -0.125*\"tas\" + -0.123*\"nsw\"\n",
            "Topic: 7 Word: -0.513*\"plan\" + -0.472*\"council\" + -0.284*\"coronavirus\" + 0.202*\"new\" + 0.198*\"australia\" + -0.181*\"kill\" + -0.150*\"crash\" + 0.135*\"australian\" + -0.130*\"hour\" + -0.121*\"country\"\n",
            "Topic: 8 Word: 0.745*\"iraq\" + -0.245*\"crash\" + -0.197*\"fire\" + 0.152*\"plan\" + 0.143*\"troop\" + 0.103*\"kill\" + 0.103*\"attack\" + 0.101*\"war\" + -0.100*\"flood\" + 0.099*\"police\"\n",
            "Topic: 9 Word: 0.604*\"plan\" + -0.505*\"council\" + -0.229*\"iraq\" + -0.225*\"urge\" + -0.171*\"rise\" + -0.147*\"rate\" + 0.144*\"fire\" + -0.118*\"flood\" + -0.113*\"budget\" + 0.099*\"australia\"\n"
          ]
        }
      ],
      "source": [
        "#display the topics and corresponding words with weights for LSA\n",
        "for idx, topic in LSA.print_topics(-1):\n",
        "    print('Topic: {} Word: {}'.format(idx, topic))"
      ]
    },
    {
      "cell_type": "markdown",
      "source": [
        "***Evaluation***"
      ],
      "metadata": {
        "id": "ZBc1sQEw-Fha"
      }
    },
    {
      "cell_type": "code",
      "execution_count": null,
      "metadata": {
        "id": "w5_VBbVV_Vdh"
      },
      "outputs": [],
      "source": [
        "from gensim.models.coherencemodel import CoherenceModel\n",
        "from gensim.test.utils import common_texts, common_dictionary\n",
        "common_text1 = data\n",
        "common_dict = dict_of_inputs\n",
        "#load in the coherence metric and use our data as a reference text to calculate the U_MASS coherence score for LDA\n",
        "cm_LDA = CoherenceModel(model=LDA, texts=common_text1, dictionary=common_dict, coherence='u_mass')\n",
        "#get the coherence value\n",
        "coherence_score_LDA = cm_LDA.get_coherence()\n",
        "#load in the coherence metric and use our data as a reference text to calculate the U_MASS coherence score for NMF\n",
        "cm_NMF = CoherenceModel(model=NMF, texts=common_text1, dictionary=common_dict, coherence='u_mass')\n",
        "#get the coherence value\n",
        "coherence_score_NMF = cm_NMF.get_coherence()\n",
        "#load in the coherence metric and use our data as a reference text to calculate the U_MASS coherence score for LSA\n",
        "cm_LSA = CoherenceModel(model=LSA, texts=common_text1, dictionary=common_dict, coherence='u_mass')\n",
        "#get the coherence value\n",
        "coherence_score_LSA = cm_LSA.get_coherence()"
      ]
    },
    {
      "cell_type": "code",
      "execution_count": null,
      "metadata": {
        "colab": {
          "base_uri": "https://localhost:8080/"
        },
        "id": "5WU4_fdNAaQV",
        "outputId": "f53f7917-e2f3-4340-de81-531c1a0addb2"
      },
      "outputs": [
        {
          "output_type": "stream",
          "name": "stdout",
          "text": [
            "The LDA Coherence Score is:  -7.79961232059655\n",
            "The NMF Coherence Score is:  -5.11651028849029\n",
            "The LSA Coherence Score is:  -5.210020869746925\n"
          ]
        }
      ],
      "source": [
        "#print out the scores for each models\n",
        "print(f'The LDA Coherence Score is: ', coherence_score_LDA)\n",
        "print(f'The NMF Coherence Score is: ', coherence_score_NMF)\n",
        "print(f'The LSA Coherence Score is: ', coherence_score_LSA)"
      ]
    },
    {
      "cell_type": "code",
      "execution_count": null,
      "metadata": {
        "id": "xTQG0q17BZgT"
      },
      "outputs": [],
      "source": [
        "def get_topic(model):\n",
        "  output=[]\n",
        "  #get each topic\n",
        "  for i in model.get_topics():\n",
        "    #get the index of the top 10 words according to the weights got assigned\n",
        "    top_10=list(reversed(np.argsort(i)))[:10]\n",
        "    #use the index to obtain the top 10 words\n",
        "    top_10_words = [dict_of_inputs[j] for j in top_10]\n",
        "    output.append(top_10_words)\n",
        "  return output"
      ]
    },
    {
      "cell_type": "code",
      "source": [
        "output_NMF={}\n",
        "output_LDA={}\n",
        "output_LSA={}\n",
        "#obtain the top 10 words for NMF output\n",
        "topic_words_NMF = get_topic(NMF)\n",
        "#obtain the top 10 words for LDA output\n",
        "topic_words_LDA = get_topic(LDA)\n",
        "#obtain the top 10 words for LSA output\n",
        "topic_words_LSA = get_topic(LSA)\n",
        "#save the results for each model in the corresponding dictionary which will be used for calculation diversity metric\n",
        "output_NMF['topics']=topic_words_NMF\n",
        "output_LDA['topics']=topic_words_LDA\n",
        "output_LSA['topics']=topic_words_LSA"
      ],
      "metadata": {
        "id": "qpgJMo5f1neL"
      },
      "execution_count": null,
      "outputs": []
    },
    {
      "cell_type": "code",
      "source": [
        "from octis.evaluation_metrics.diversity_metrics import TopicDiversity\n",
        "#from OCTIS load in Topic Diversity Metrics\n",
        "topic_diversity = TopicDiversity(topk=10)\n",
        "#obtain topic diversity for NMF\n",
        "diversity_score_NMF = topic_diversity.score(output_NMF)\n",
        "#obtain topic diversity for LDA\n",
        "diversity_score_LDA = topic_diversity.score(output_LDA)\n",
        "#obtain topic diversity for LSA\n",
        "diversity_score_LSA = topic_diversity.score(output_LSA)"
      ],
      "metadata": {
        "id": "XyA_9vjw5sRA"
      },
      "execution_count": null,
      "outputs": []
    },
    {
      "cell_type": "code",
      "source": [
        "#print out the diversity score for each model\n",
        "print(f'The LDA Topic Diversity Score is: ', diversity_score_LDA)\n",
        "print(f'The NMF Topic Diversity Score is: ', diversity_score_NMF)\n",
        "print(f'The LSA Topic Diversity Score is: ', diversity_score_LSA)"
      ],
      "metadata": {
        "colab": {
          "base_uri": "https://localhost:8080/"
        },
        "id": "Vs3xYG7V6RyM",
        "outputId": "33e98741-6c80-4508-a80f-d6666db9a292"
      },
      "execution_count": null,
      "outputs": [
        {
          "output_type": "stream",
          "name": "stdout",
          "text": [
            "The LDA Topic Diversity Score is:  0.92\n",
            "The NMF Topic Diversity Score is:  0.81\n",
            "The LSA Topic Diversity Score is:  0.48\n"
          ]
        }
      ]
    },
    {
      "cell_type": "code",
      "source": [
        "from octis.evaluation_metrics.similarity_metrics import RBO\n",
        "#from OCTIS load in Topic similarity Metrics\n",
        "similarity = RBO(topk=10)\n",
        "#obtain topic similarity for NMF\n",
        "similarity_NMF = similarity.score(output_NMF)\n",
        "#obtain topic similarity for LDA\n",
        "similarity_LDA = similarity.score(output_LDA)\n",
        "#obtain topic similarity for LSA\n",
        "similarity_LSA = similarity.score(output_LSA)"
      ],
      "metadata": {
        "id": "dvN2x7RNEtIR"
      },
      "execution_count": null,
      "outputs": []
    },
    {
      "cell_type": "code",
      "source": [
        "#print out the similarity score for each model\n",
        "print(f'The LDA Topic Similarity Score is: ', similarity_LDA)\n",
        "print(f'The NMF Topic Similarity Score is: ', similarity_NMF)\n",
        "print(f'The LSA Topic Similarity Score is: ', similarity_LSA)"
      ],
      "metadata": {
        "colab": {
          "base_uri": "https://localhost:8080/"
        },
        "id": "MfMLhq-NFPIh",
        "outputId": "eb1deafe-38dd-48fc-eb69-1572a565fb02"
      },
      "execution_count": null,
      "outputs": [
        {
          "output_type": "stream",
          "name": "stdout",
          "text": [
            "The LDA Topic Similarity Score is:  0.03249633139714281\n",
            "The NMF Topic Similarity Score is:  0.02704509453428572\n",
            "The LSA Topic Similarity Score is:  0.1904497973773016\n"
          ]
        }
      ]
    },
    {
      "cell_type": "code",
      "source": [
        "from wordcloud import WordCloud\n",
        "import matplotlib.pyplot as plt\n",
        "#load the wordcloud tool to show the most important words by size\n",
        "def plot_wordcloud(model, topic_num):\n",
        "  wordcloud = WordCloud(\n",
        "      background_color='white',\n",
        "      width=2500,\n",
        "      height=1800,\n",
        "      max_words=10\n",
        "  )\n",
        "  #plot the wordcloud with different models\n",
        "  topic_words=dict(model.show_topics(formatted=False)[topic_num][1])\n",
        "  wordcloud.generate_from_frequencies(topic_words)\n",
        "  plt.imshow(wordcloud)\n",
        "  #set the axis and title\n",
        "  plt.axis('off')\n",
        "  plt.title('Topic %d' %topic_num)\n"
      ],
      "metadata": {
        "id": "3EBkLGWAnCcJ"
      },
      "execution_count": null,
      "outputs": []
    },
    {
      "cell_type": "code",
      "source": [
        "#plot the LDA topic 0 wordcloud\n",
        "plot_wordcloud(LDA,0)"
      ],
      "metadata": {
        "id": "Gxy3wTeO7k1I",
        "colab": {
          "base_uri": "https://localhost:8080/",
          "height": 264
        },
        "outputId": "c022607b-e603-4677-8823-862bbaa8aae9"
      },
      "execution_count": null,
      "outputs": [
        {
          "output_type": "display_data",
          "data": {
            "text/plain": [
              "<Figure size 432x288 with 1 Axes>"
            ],
            "image/png": "[encoded data removed]"
          },
          "metadata": {
            "needs_background": "light"
          }
        }
      ]
    },
    {
      "cell_type": "code",
      "source": [
        "#plot the NMF topic 0 wordcloud\n",
        "plot_wordcloud(NMF,0)"
      ],
      "metadata": {
        "colab": {
          "base_uri": "https://localhost:8080/",
          "height": 264
        },
        "id": "F1mfCubdtChO",
        "outputId": "57904230-a546-47ed-a6c5-4232abb0afd0"
      },
      "execution_count": null,
      "outputs": [
        {
          "output_type": "display_data",
          "data": {
            "text/plain": [
              "<Figure size 432x288 with 1 Axes>"
            ],
            "image/png": "[encoded data removed]"
          },
          "metadata": {
            "needs_background": "light"
          }
        }
      ]
    },
    {
      "cell_type": "code",
      "source": [
        "#plot the LSA topic 0 wordcloud\n",
        "plot_wordcloud(LSA,0)"
      ],
      "metadata": {
        "colab": {
          "base_uri": "https://localhost:8080/",
          "height": 264
        },
        "id": "xA18qEaetK2z",
        "outputId": "9fe34fbe-cd8f-403d-da04-abf3113b1f2f"
      },
      "execution_count": null,
      "outputs": [
        {
          "output_type": "display_data",
          "data": {
            "text/plain": [
              "<Figure size 432x288 with 1 Axes>"
            ],
            "image/png": "[encoded data removed]"
          },
          "metadata": {
            "needs_background": "light"
          }
        }
      ]
    },
    {
      "cell_type": "code",
      "source": [
        "from collections import Counter\n",
        "#the function gets the distribution for topic using the entire input corpus\n",
        "def get_topic_dis(model):\n",
        "  #get the document topics distribution from entire input corpus\n",
        "  a=model.get_document_topics(input_corpous)\n",
        "  results=[]\n",
        "  #parse the result topics distribution into list since the output from previous step is in TransformedCorpus we need to list type\n",
        "  for i in range(len(a)):\n",
        "    results.append(a[i])\n",
        "  final=[]\n",
        "  #convert the list of topics distribution into dictionary\n",
        "  for j in range(len(results)):\n",
        "    temp = list(dict(results[j]).values())\n",
        "    final.append(np.array(temp[:10]))\n",
        "  #get the value distribution dictionary and form an array\n",
        "  res = np.asarray(final, dtype=object)\n",
        "\n",
        "  keys=[]\n",
        "  #find in each headline of the input corpus get the most likely topic and put it in array\n",
        "  for k in range(len(res)):\n",
        "    keys.append(res[k].argmax(axis=0))\n",
        "  final_keys=np.array(keys)\n",
        "  #use counter to count occurance for each topic given the input corpus\n",
        "  P =Counter(final_keys).items()\n",
        "  num_topics=[pair[0] for pair in P]\n",
        "  counts=[pair[1] for pair in P]\n",
        "  return num_topics, counts"
      ],
      "metadata": {
        "id": "TrN_NbwimDDE"
      },
      "execution_count": null,
      "outputs": []
    },
    {
      "cell_type": "code",
      "source": [
        "from collections import Counter\n",
        "#the function gets the distribution for terms in each topic\n",
        "def get_topic_distribution(model):\n",
        "  #get the term-topic distribution and sort the topics according to each term\n",
        "  gens_keys = model.get_topics().argmax(axis=0)\n",
        "  #count for each term what topic does it most likely belong to\n",
        "  pairs =Counter(gens_keys).items()\n",
        "  num_topics=[pair[0] for pair in pairs]\n",
        "  counts=[pair[1] for pair in pairs]\n",
        "  return num_topics, counts"
      ],
      "metadata": {
        "id": "K2thNw75tI32"
      },
      "execution_count": null,
      "outputs": []
    },
    {
      "cell_type": "code",
      "source": [
        "#find out the the distribution of topics given each document for LDA\n",
        "num_topics_LDA, counts_LDA = get_topic_dis(LDA)"
      ],
      "metadata": {
        "id": "G0VFpBaTJ7Ka"
      },
      "execution_count": null,
      "outputs": []
    },
    {
      "cell_type": "code",
      "source": [
        "#find out the the distribution of topics given each term for NMF\n",
        "num_topics_NMF, counts_NMF = get_topic_distribution(NMF)\n",
        "#find out the the distribution of topics given each term for LSA\n",
        "num_topics_LSA, counts_LSA = get_topic_distribution(LSA)\n",
        "#find out the the distribution of topics given each term for LDA\n",
        "num_topics_LDA_dis, counts_LDA_dis = get_topic_distribution(LDA)"
      ],
      "metadata": {
        "id": "go3xeRpe-uaH"
      },
      "execution_count": null,
      "outputs": []
    },
    {
      "cell_type": "code",
      "source": [
        "import pyLDAvis\n",
        "import pyLDAvis.gensim_models as genvis\n",
        "#use pyLDAvis to visualize the topic distribution for LDA model given the documents\n",
        "pyLDAvis.enable_notebook()\n",
        "vis=genvis.prepare(LDA, input_corpous, dict_of_inputs)\n",
        "vis"
      ],
      "metadata": {
        "colab": {
          "base_uri": "https://localhost:8080/",
          "height": 988
        },
        "id": "9_urRX70VXl4",
        "outputId": "ab4d8210-9474-49b2-8225-10600928334f"
      },
      "execution_count": null,
      "outputs": [
        {
          "output_type": "stream",
          "name": "stderr",
          "text": [
            "/usr/local/lib/python3.8/dist-packages/past/types/oldstr.py:5: DeprecationWarning: Using or importing the ABCs from 'collections' instead of from 'collections.abc' is deprecated since Python 3.3, and in 3.10 it will stop working\n",
            "  from collections import Iterable\n",
            "/usr/local/lib/python3.8/dist-packages/past/builtins/misc.py:4: DeprecationWarning: Using or importing the ABCs from 'collections' instead of from 'collections.abc' is deprecated since Python 3.3, and in 3.10 it will stop working\n",
            "  from collections import Mapping\n",
            "/usr/local/lib/python3.8/dist-packages/pyLDAvis/_prepare.py:246: FutureWarning: In a future version of pandas all arguments of DataFrame.drop except for the argument 'labels' will be keyword-only\n",
            "  default_term_info = default_term_info.sort_values(\n"
          ]
        },
        {
          "output_type": "execute_result",
          "data": {
            "text/plain": [
              "PreparedData(topic_coordinates=              x         y  topics  cluster       Freq\n",
              "topic                                                \n",
              "1      0.029580 -0.095876       1        1  12.801690\n",
              "6      0.369729  0.062497       2        1  12.477145\n",
              "9     -0.130346  0.291804       3        1  11.589833\n",
              "3     -0.127067  0.036530       4        1   9.800964\n",
              "4      0.009380 -0.156397       5        1   9.792608\n",
              "0     -0.051847 -0.103747       6        1   9.632984\n",
              "5     -0.001517  0.049914       7        1   8.822609\n",
              "8     -0.086359 -0.154314       8        1   8.698766\n",
              "7      0.041366  0.094673       9        1   8.584895\n",
              "2     -0.052919 -0.025084      10        1   7.798505, topic_info=             Term          Freq         Total Category  logprob  loglift\n",
              "2402   queensland  27297.000000  27297.000000  Default  30.0000  30.0000\n",
              "1751     victoria  21748.000000  21748.000000  Default  29.0000  29.0000\n",
              "440       vaccine  18778.000000  18778.000000  Default  28.0000  28.0000\n",
              "9634        trump  20389.000000  20389.000000  Default  27.0000  27.0000\n",
              "10041    lockdown  16473.000000  16473.000000  Default  26.0000  26.0000\n",
              "...           ...           ...           ...      ...      ...      ...\n",
              "1782        black   3334.782136   4347.211643  Topic10  -5.0212   2.2861\n",
              "2230         coal   2507.187592   3032.864630  Topic10  -5.3064   2.3609\n",
              "298        health   4565.445358  12100.098141  Topic10  -4.7071   1.5765\n",
              "89538       covid   2565.989764  55330.738370  Topic10  -5.2832  -0.5197\n",
              "45      australia   2189.273001  31338.640469  Topic10  -5.4420  -0.1100\n",
              "\n",
              "[459 rows x 6 columns], token_table=       Topic      Freq        Term\n",
              "term                              \n",
              "49371      3  0.999013        2019\n",
              "14167     10  0.999763        2020\n",
              "5717       7  0.999644         abc\n",
              "370        1  0.232792  aboriginal\n",
              "370        5  0.633031  aboriginal\n",
              "...      ...       ...         ...\n",
              "407        5  0.860046       young\n",
              "407       10  0.139601       young\n",
              "132        5  0.999168       youth\n",
              "435        2  0.999565     zealand\n",
              "11183     10  0.999267        zero\n",
              "\n",
              "[824 rows x 3 columns], R=30, lambda_step=0.01, plot_opts={'xlab': 'PC1', 'ylab': 'PC2'}, topic_order=[2, 7, 10, 4, 5, 1, 6, 9, 8, 3])"
            ],
            "text/html": [
              "\n",
              "<link rel=\"stylesheet\" type=\"text/css\" href=\"https://cdn.jsdelivr.net/gh/bmabey/pyLDAvis@3.3.1/pyLDAvis/js/ldavis.v1.0.0.css\">\n",
              "\n",
              "\n",
              "<div id=\"ldavis_el731401030200139367292383969\"></div>\n",
              "<script type=\"text/javascript\">\n",
              "\n",
              "var ldavis_el731401030200139367292383969_data = {\"mdsDat\": {\"x\": [0.029579938954039882, 0.3697291911497376, -0.13034603549235343, -0.1270670553350122, 0.00938026551779036, -0.05184691202443229, -0.0015174294074710337, -0.08635900290632001, 0.04136561284452546, -0.05291857330050372], \"y\": [-0.09587575310432382, 0.06249733673126861, 0.29180421437742204, 0.036529938252614635, -0.1563970058216643, -0.10374669195561621, 0.04991379462658351, -0.15431420006005508, 0.09467250909897959, -0.02508414214520889], \"topics\": [1, 2, 3, 4, 5, 6, 7, 8, 9, 10], \"cluster\": [1, 1, 1, 1, 1, 1, 1, 1, 1, 1], \"Freq\": [12.801689573553698, 12.477145353435258, 11.589833496447376, 9.800963728166549, 9.792608065634267, 9.63298410749075, 8.822609160391721, 8.698765999207577, 8.584895254132311, 7.798505261540494]}, \"tinfo\": {\"Term\": [\"queensland\", \"victoria\", \"vaccine\", \"trump\", \"lockdown\", \"border\", \"restriction\", \"donald\", \"morrison\", \"government\", \"news\", \"quarantine\", \"live\", \"pandemic\", \"biden\", \"scott\", \"covid\", \"man\", \"premier\", \"woman\", \"victorian\", \"tasmania\", \"2020\", \"care\", \"murder\", \"amid\", \"charge\", \"coronavirus\", \"police\", \"people\", \"queensland\", \"speak\", \"christmas\", \"briefing\", \"mask\", \"sexual\", \"asx\", \"peter\", \"closure\", \"university\", \"art\", \"shortage\", \"cyclone\", \"truck\", \"mount\", \"drone\", \"summer\", \"billion\", \"toll\", \"pass\", \"unemployment\", \"couple\", \"mcgowan\", \"strand\", \"teacher\", \"large\", \"wild\", \"survive\", \"commissioner\", \"southern\", \"weather\", \"budget\", \"million\", \"federal\", \"tourism\", \"bushfire\", \"business\", \"nsw\", \"coronavirus\", \"flood\", \"student\", \"school\", \"sydney\", \"brisbane\", \"fire\", \"murder\", \"zealand\", \"assault\", \"shoot\", \"allege\", \"vaccination\", \"guilty\", \"investigation\", \"baby\", \"know\", \"investigate\", \"across\", \"rape\", \"domestic\", \"economy\", \"hobart\", \"interview\", \"global\", \"mean\", \"boom\", \"girl\", \"inside\", \"inquest\", \"burn\", \"cctv\", \"america\", \"victorias\", \"crown\", \"frydenberg\", \"money\", \"officer\", \"charge\", \"man\", \"woman\", \"police\", \"arrest\", \"violence\", \"search\", \"crash\", \"dead\", \"car\", \"find\", \"miss\", \"death\", \"two\", \"kill\", \"court\", \"child\", \"trump\", \"donald\", \"climate\", \"testing\", \"nrl\", \"prime\", \"positive\", \"struggle\", \"recovery\", \"mother\", \"story\", \"outback\", \"result\", \"full\", \"hard\", \"challenge\", \"tree\", \"2019\", \"football\", \"politic\", \"casey\", \"olympic\", \"stage\", \"since\", \"august\", \"moment\", \"legal\", \"artist\", \"third\", \"holiday\", \"game\", \"india\", \"cup\", \"season\", \"world\", \"win\", \"test\", \"final\", \"australia\", \"open\", \"international\", \"australian\", \"day\", \"one\", \"change\", \"first\", \"victoria\", \"travel\", \"update\", \"australias\", \"royal\", \"west\", \"commission\", \"drum\", \"andrew\", \"breach\", \"central\", \"economic\", \"grand\", \"online\", \"spread\", \"cabinet\", \"korea\", \"james\", \"friday\", \"afghanistan\", \"learn\", \"collapse\", \"flooding\", \"try\", \"female\", \"buy\", \"nation\", \"spike\", \"general\", \"seven\", \"afl\", \"late\", \"record\", \"case\", \"covid\", \"south\", \"coronavirus\", \"covid19\", \"new\", \"australia\", \"rate\", \"north\", \"china\", \"australian\", \"nsw\", \"morrison\", \"care\", \"amid\", \"aged\", \"video\", \"reopen\", \"grow\", \"protester\", \"age\", \"footage\", \"country\", \"allegation\", \"white\", \"warning\", \"territory\", \"discuss\", \"youth\", \"raise\", \"whale\", \"watch\", \"greg\", \"medical\", \"pacific\", \"israel\", \"boat\", \"tennis\", \"shooting\", \"destroy\", \"outside\", \"apologise\", \"young\", \"become\", \"issue\", \"people\", \"parliament\", \"political\", \"program\", \"indigenous\", \"aboriginal\", \"nsw\", \"home\", \"covid\", \"coronavirus\", \"lockdown\", \"quarantine\", \"victorian\", \"rollout\", \"street\", \"outbreak\", \"tasmanian\", \"flight\", \"northern\", \"social\", \"wall\", \"disability\", \"george\", \"david\", \"remote\", \"response\", \"site\", \"scientist\", \"smith\", \"matter\", \"follow\", \"remove\", \"tracking\", \"isolation\", \"create\", \"nurse\", \"hunt\", \"norman\", \"iran\", \"ceo\", \"hotel\", \"liberal\", \"cricket\", \"patient\", \"coronavirus\", \"covid\", \"government\", \"new\", \"australia\", \"case\", \"nsw\", \"melbourne\", \"say\", \"premier\", \"joe\", \"andrews\", \"abc\", \"number\", \"due\", \"berejiklian\", \"next\", \"biden\", \"ship\", \"march\", \"fly\", \"refugee\", \"migrant\", \"allegedly\", \"sea\", \"arrive\", \"hundred\", \"monday\", \"analysis\", \"fan\", \"capture\", \"problem\", \"shot\", \"sunshine\", \"payment\", \"png\", \"walk\", \"treasurer\", \"per\", \"gladys\", \"thousand\", \"beach\", \"food\", \"say\", \"australia\", \"river\", \"government\", \"coronavirus\", \"australian\", \"election\", \"vaccine\", \"border\", \"restriction\", \"news\", \"tasmania\", \"daniel\", \"ease\", \"great\", \"western\", \"facebook\", \"morning\", \"sport\", \"boy\", \"part\", \"extend\", \"space\", \"astrazeneca\", \"bubble\", \"military\", \"lift\", \"app\", \"respond\", \"resign\", \"access\", \"explainer\", \"july\", \"quiz\", \"check\", \"approve\", \"secret\", \"palaszczuk\", \"pfizer\", \"island\", \"coronavirus\", \"covid\", \"life\", \"australia\", \"nsw\", \"new\", \"pandemic\", \"scott\", \"sentence\", \"hong\", \"kong\", \"explain\", \"johnson\", \"boris\", \"history\", \"month\", \"energy\", \"myanmar\", \"cluster\", \"happen\", \"russia\", \"wait\", \"townsville\", \"anthony\", \"indonesia\", \"cancel\", \"rugby\", \"music\", \"suspend\", \"datum\", \"answer\", \"kangaroo\", \"united\", \"swan\", \"victorians\", \"spend\", \"safe\", \"government\", \"confirm\", \"city\", \"covid\", \"hill\", \"coronavirus\", \"year\", \"case\", \"australian\", \"old\", \"new\", \"live\", \"2020\", \"mental\", \"mark\", \"john\", \"michael\", \"surge\", \"property\", \"prince\", \"zero\", \"kid\", \"like\", \"traveller\", \"stab\", \"survivor\", \"damage\", \"around\", \"infection\", \"historic\", \"small\", \"justice\", \"heavy\", \"foreign\", \"financial\", \"crew\", \"tuesday\", \"introduce\", \"states\", \"senate\", \"block\", \"hotspot\", \"emergency\", \"black\", \"coal\", \"health\", \"covid\", \"australia\"], \"Freq\": [27297.0, 21748.0, 18778.0, 20389.0, 16473.0, 14685.0, 14380.0, 13566.0, 12292.0, 16898.0, 10506.0, 10800.0, 9865.0, 9882.0, 9851.0, 9720.0, 55330.0, 16467.0, 8693.0, 15353.0, 8776.0, 8321.0, 7828.0, 8500.0, 9147.0, 7752.0, 10755.0, 52810.0, 20662.0, 12358.0, 27295.062481073957, 7475.541735856712, 6186.296185833485, 5930.855287938794, 5463.151282315956, 5272.2865612355545, 4269.757752388677, 3833.4555651995906, 3807.187427427063, 3605.1259884573897, 3599.7136940395417, 3517.6165375594223, 3211.99386289791, 3133.582252470212, 3131.1384890903414, 3068.781175231021, 2972.569971380869, 2890.6677672450164, 2729.0868590504424, 2728.395541421317, 2677.8760275902946, 2677.4285453015705, 2632.0087065692437, 2612.7833912951082, 2477.2737363945603, 2453.1678500439275, 2420.9021743939043, 2414.4030544691173, 2223.023419615205, 2198.4153715770103, 4401.282766857293, 4508.689722529598, 5099.377550023759, 5892.579322325327, 3511.055009698859, 5944.190491998876, 4037.2547656998267, 6078.652736930869, 7034.74308587696, 3101.5754828076197, 3344.7345762269106, 3560.845722496606, 3784.88789337232, 3175.824503240383, 3082.493725107112, 9145.359073522388, 5748.251865574923, 5419.730830419466, 5367.611225656512, 5232.256328861151, 5170.440754152123, 5049.5661617584365, 4666.1282887453435, 4582.464768083792, 4544.9719769017, 4512.322651129278, 4447.38292824193, 4266.606042965119, 4168.434723891402, 4073.3984752741467, 4029.5398790878394, 3927.0263895080525, 3511.719192033845, 3441.907379835496, 3375.9861584366713, 3361.580050200293, 3346.2135347481562, 3287.7623983365297, 3255.2083600251217, 3160.2741782139324, 3127.3354120708, 3084.562640983721, 3011.5008860933017, 2997.766874592814, 2963.3545424764834, 5876.909522719061, 9550.714192459653, 13491.919582144827, 11738.554973422333, 14160.567891185474, 6316.508243406907, 4494.528753518096, 4427.254299520753, 6271.412793378816, 4885.333138191198, 5229.068906795675, 6516.262775267108, 4702.328484804108, 6125.663654096982, 5401.1121124935735, 5036.822876211302, 5252.076874012723, 5153.163593286048, 20386.999286469396, 13564.181991553747, 6306.241351006656, 5347.853351425727, 5181.108942360324, 4054.9532334959663, 3962.9657157430515, 3749.729891541314, 3474.336188249924, 3226.5526991489214, 3220.557034486856, 3120.7773916891183, 3088.3330023149047, 3042.943952644211, 2870.1174668983326, 2797.509680966815, 2711.105709018928, 2698.378478153389, 2474.721959269856, 2469.034509134998, 2390.400621919546, 2378.6407158754923, 2309.1124513693353, 2290.0600006945924, 2288.6483711630585, 2274.95364055292, 2216.5377167220763, 2216.233000657153, 2196.6253440179626, 2104.4557313031733, 3431.633257920772, 4457.02415700826, 3095.5471813904355, 3266.6363307661536, 4501.245070122375, 4242.024058276776, 4346.225757401303, 3464.2623661035727, 6771.373806416522, 4077.3084074897793, 3111.7111266805164, 4972.269285864475, 3575.9129911228765, 3173.5121626172154, 3118.7664755683604, 3059.5109207893915, 21745.87894734225, 6913.761770735813, 6490.004931108879, 6206.946346486266, 5776.565467947471, 5215.756996970865, 5002.90020749766, 3677.2226317178447, 3261.4244017723727, 2907.519368995038, 2847.4382414265056, 2749.0989253825373, 2730.310204381447, 2699.424846353643, 2621.326273775231, 2486.2476533904182, 2441.6689661515625, 2355.1365039224206, 2297.8844237900053, 2189.5711808217166, 2141.2874399288776, 2119.219686534773, 2078.9562396518077, 1998.899004741285, 1982.5597580667131, 1900.6441533292657, 1897.4935190107371, 1869.2944617118158, 1839.258335649018, 1822.6649554583546, 4754.693120503226, 3130.8766950068157, 7882.506900152539, 10402.56584925894, 16361.94295724983, 5392.765280725986, 11110.364672585889, 2950.417343189755, 6434.17543655519, 6345.363612655819, 2760.8556329447706, 3184.7565505953794, 3697.3263975140762, 4078.1651452756373, 3179.700802450459, 12290.478106543893, 8497.815104902505, 7750.659280453673, 6162.570430738028, 5129.195621603302, 5107.255313221488, 4968.307515232222, 4608.586546534463, 4340.054541154802, 4241.912867211454, 4687.836096780646, 4004.938677670907, 3902.6870386523706, 3422.132978505741, 3334.9307167820807, 3142.4620336893495, 2982.21477917982, 2947.9966004468124, 2893.7216502608676, 2519.16354210799, 2462.9667753270846, 2358.507626298371, 2356.984568541617, 2237.0675287158765, 2202.5892256110214, 2192.2071594176036, 2164.2995092668493, 2115.6663019912203, 2102.619586763691, 2088.0147856679723, 4866.799004248713, 3130.7141667457945, 3212.9717006373385, 7170.194700635133, 3177.082222815212, 2424.990538410576, 3188.8779762908566, 3288.0660596391367, 2634.9534722976714, 3703.5559200856997, 2918.312271276753, 2973.0861873032413, 2879.347413949286, 16471.39676295009, 10798.4620719228, 8774.413188122704, 5585.095451631525, 5290.552352540081, 5192.918562821204, 4900.927327333716, 4350.272032190978, 4216.340483392596, 3898.4970900385565, 3877.4302579844816, 3615.0355226183447, 3069.392068984013, 3058.4111463381873, 3011.781770837518, 2753.3858080649993, 2749.938349668407, 2521.466302516107, 2360.838904847656, 2302.6266972139015, 2301.1046222327136, 2282.264419115203, 2242.6788385031177, 2218.5047577626406, 2083.857314685209, 2080.848348803973, 2046.3933923213303, 2023.6208592758242, 1977.9884145370236, 1814.5654816944125, 6902.838154658935, 3276.4297412842207, 2805.7472810160757, 2581.3027934328716, 10437.30474846603, 9243.443159687422, 3725.845023780068, 3991.6328421446724, 3472.692361429897, 3144.396969757241, 3004.0607550813847, 2635.6537662447345, 2585.3832745124414, 8691.19217353084, 6603.315202304143, 5736.045335584667, 5437.65438717885, 4779.928767692921, 4274.009583155831, 4711.129259616396, 3831.4288335561337, 9845.383296958282, 3164.0873471125014, 2962.7501559078555, 2925.471527362911, 2737.9111221994463, 2735.7065594643573, 2511.5378427895575, 2502.8969582156624, 2401.666569294945, 2365.2153841442887, 2358.249360048888, 2263.0286549503526, 2217.6592172518226, 2194.2934621553595, 2182.4060540223795, 2163.382445955907, 2153.9607232641956, 2140.9381437542743, 2134.91301361189, 1995.4302121838148, 1967.525369474781, 1924.4020397863674, 3377.2428374830147, 3175.8672967937287, 3093.374359541942, 2404.371805857283, 2807.1335398704778, 2721.2320258554137, 2231.704183369621, 2349.801021845791, 2390.0408164998753, 2316.324851229284, 2281.2952601689763, 18776.269726277627, 14683.225053962486, 14378.303158659848, 10504.069638497529, 8319.252415335985, 4949.794366232146, 4872.048294592651, 4429.111945145563, 4145.7292890440685, 3520.907022747097, 3383.601528078974, 3237.733903557494, 2945.6058384491334, 2848.937113231309, 2626.7035248509164, 2419.2688090948855, 2605.0991664089856, 2276.0169824634677, 2228.989599778043, 2179.5190639639213, 2112.852584762702, 2042.6766248648732, 2021.4461769023087, 1973.7890018820806, 2027.0119026578495, 1919.3897535307767, 1915.7013262107907, 1891.5921089079638, 1879.1372663744057, 1852.594873891067, 1864.9853849165881, 1908.9601719012585, 4949.093809238501, 10180.35874160673, 10389.202448677564, 3747.7155003704675, 4130.391607217699, 3647.5642086583757, 2422.0327007422247, 9880.271180717116, 9718.572800358872, 4439.607088053312, 4068.7936079823394, 3906.360305660737, 3882.5655226849126, 3856.390535818595, 3405.205202048227, 3273.5764285095106, 3225.2312093684577, 2906.583713398957, 2850.833300314, 2762.1212743759916, 2673.989463626967, 2633.4352983746135, 2590.497042126882, 2557.724860851833, 2499.9254252124792, 2493.084379757373, 2396.5955526485723, 2378.7902800179836, 2206.782001806358, 2073.47011185297, 2032.7458209768704, 2005.1183525856509, 1985.693582490322, 2422.7785728649833, 1965.4729924551225, 1906.5510904954995, 1906.273680776961, 2409.0850797804446, 10821.114339274785, 3300.481931953652, 3290.6765803141834, 6334.482611179599, 2217.9227035435633, 4866.721654401108, 2783.6164461025787, 2971.376309864535, 2580.9223253771847, 2441.5367044727464, 2511.0555021963355, 9863.009001763192, 7826.572120048515, 5146.2171517661445, 4654.862117778158, 3893.1692547702296, 3811.143668134196, 3608.2866014967967, 3537.567640101015, 3470.79708754858, 3349.1751254094947, 3220.8326526838314, 3107.6529361984108, 3081.412130702349, 3014.4551392419103, 2864.029072024387, 2592.713851153401, 2429.5906351734384, 2333.4069908569545, 2237.219109292562, 2199.24183329613, 2182.3396867891797, 2155.168805377058, 2139.4643876124283, 2114.4462635408186, 2086.571763573116, 2039.3452815989879, 1959.8550993299284, 1951.576223123428, 1942.4553115963142, 1922.3279132225134, 2957.478514426159, 3857.6813619204254, 3334.782135872748, 2507.187591536422, 4565.445358372592, 2565.9897639930336, 2189.2730013818623], \"Total\": [27297.0, 21748.0, 18778.0, 20389.0, 16473.0, 14685.0, 14380.0, 13566.0, 12292.0, 16898.0, 10506.0, 10800.0, 9865.0, 9882.0, 9851.0, 9720.0, 55330.0, 16467.0, 8693.0, 15353.0, 8776.0, 8321.0, 7828.0, 8500.0, 9147.0, 7752.0, 10755.0, 52810.0, 20662.0, 12358.0, 27297.325122465627, 7477.804250320348, 6188.5587135383685, 5933.118239796227, 5465.413844192339, 5274.549039180713, 4272.02047761503, 3835.717924206045, 3809.4498645573794, 3607.3882334774944, 3601.9759868821666, 3519.878959015175, 3214.256074773, 3135.8445306946, 3133.4008642986078, 3071.0434284319876, 2974.8322262252773, 2892.929963944412, 2731.349101423729, 2730.657899433131, 2680.1382668711844, 2679.6908952999147, 2634.2711539712764, 2615.045754216504, 2479.5359520482343, 2455.4302162519657, 2423.164410042182, 2416.665354177576, 2225.2857214949427, 2200.677634330217, 4758.240572184012, 5373.163340878303, 6632.298252055885, 9440.119742768988, 4437.858545931312, 12304.31688745797, 8313.107544780174, 29516.01256352005, 52810.174064606945, 4444.1614935657, 6835.668651420054, 9282.630215824976, 17908.417868165183, 10089.456528043327, 11830.21461811867, 9147.608443420513, 5750.501631384827, 5421.980259972381, 5369.8605855224705, 5234.505734333867, 5172.69106574228, 5051.815494570047, 4668.377797423366, 4584.714196583605, 4547.221511209496, 4514.572187608495, 4449.632642413239, 4268.855526036197, 4170.6841193845885, 4075.6482113422817, 4031.7894015731354, 3929.276031618669, 3513.9690165506413, 3444.1569720549537, 3378.2358527154956, 3363.829457468445, 3348.463033811176, 3290.0117833790905, 3257.457900527461, 3162.5235453103533, 3129.5848451558923, 3086.812299113802, 3013.750703547327, 3000.021322429308, 2965.6040979975946, 5978.206280770447, 10755.690335910158, 16467.393427481482, 15353.320480760694, 20662.748302159194, 7609.96428573317, 5031.471942213654, 5117.415619652626, 8751.389196800137, 6424.228547032643, 7650.637119414347, 12219.217506921903, 6722.993932277405, 13487.447924159207, 10394.83838184042, 8669.757508306911, 10349.088082769478, 9855.751857282281, 20389.287365121847, 13566.469943968328, 6308.529573989509, 5350.14180666527, 5183.7952633405785, 4057.2414078374845, 3965.2540171119817, 3752.0181760533765, 3476.624552031863, 3228.840896108719, 3222.8451083304335, 3123.065561038135, 3090.6210894074798, 3045.2320786652303, 2872.4057421607554, 2799.7978567814253, 2713.3939251195125, 2700.6668069755906, 2477.009929935507, 2471.322563920178, 2392.688790583861, 2380.9288877994168, 2311.40066625349, 2292.3481017837953, 2290.936514772695, 2277.242206525773, 2218.8259008023147, 2218.5210926184045, 2198.9134457331565, 2106.743973625363, 3778.891387531239, 5233.469633077994, 3791.205541404595, 4235.585181057045, 8025.738977508164, 7228.545874475251, 8675.404815879714, 5473.667735593639, 31338.640469055015, 9728.544965507397, 5104.05184968623, 23332.218190835698, 11563.50672354252, 10238.111970135045, 11492.640236334888, 9918.100991794006, 21748.19204516505, 6916.0746819697215, 6492.317896856339, 6209.2593096422415, 5778.878144957214, 5218.069822862195, 5005.212807900921, 3679.5351521103785, 3263.7371693480413, 2909.832289005811, 2849.7510305428414, 2751.4116178144286, 2732.6235722029114, 2701.7376508975385, 2623.639055477845, 2488.5604899144237, 2443.9839956492838, 2357.4493318997434, 2300.1970247692107, 2191.884122306444, 2143.600195319992, 2121.532439354558, 2081.2691405968644, 2001.211809725209, 1984.8724997896, 1902.9569123076328, 1899.806172780675, 1871.6071936560363, 1841.5710576060076, 1824.9776919945155, 6511.5853139806795, 4000.9582028841055, 15748.384793616055, 25733.03997520681, 55330.73836991588, 11856.793804415664, 52810.174064606945, 4344.998893504376, 26212.10818774556, 31338.640469055015, 4035.9367443665897, 6222.730951245759, 13377.536280054077, 23332.218190835698, 29516.01256352005, 12292.74511235452, 8500.084104262824, 7752.92636526786, 6164.837162828188, 5131.462463336505, 5109.5223834691915, 4970.574481262181, 4610.853949720275, 4342.321347480425, 4244.17970703749, 4690.398096258429, 4007.205657475724, 3904.953831726872, 3424.39987154958, 3337.1975706943367, 3144.72900131372, 2984.4816147518213, 2950.2634624828484, 2895.9885182061157, 2521.430412745545, 2465.2337371916788, 2360.774482449173, 2359.251412198639, 2239.3344490027284, 2204.8561074517484, 2194.4741191533412, 2166.566380327653, 2117.933073604856, 2104.8863957602875, 2090.281650472699, 5659.001819728605, 3595.8816479564857, 3770.0510095193877, 12358.911230032872, 4978.790964734554, 2735.869077896189, 5366.667368704474, 7863.818556111904, 4162.511832247403, 29516.01256352005, 11737.938638916641, 55330.73836991588, 52810.174064606945, 16473.704060737145, 10800.769418804724, 8776.719959994063, 5587.402994695868, 5292.858963347917, 5195.225350170525, 4903.234027307071, 4352.57876972864, 4218.648513650828, 3900.803768582445, 3879.7368010079167, 3617.342236731544, 3071.6988327018516, 3060.7178606385833, 3014.088428741038, 2755.692571386541, 2752.245235322262, 2523.772987862258, 2363.145623286034, 2304.93370488555, 2303.4113721982044, 2284.5711139091404, 2244.985647633454, 2220.811534583136, 2086.1640023520636, 2083.1550377232174, 2048.7001973535366, 2025.9277672154535, 1980.3725247996192, 1816.8721254146121, 7369.67300887981, 3766.3276249782302, 3512.792474970884, 3135.6877712970854, 52810.174064606945, 55330.73836991588, 16898.562875865373, 26212.10818774556, 31338.640469055015, 25733.03997520681, 29516.01256352005, 14690.591398715751, 22246.35264036006, 8693.472104991168, 6605.594836144302, 5738.325170152219, 5439.934137926979, 4782.208540975162, 4276.289311698658, 4713.904592021934, 3833.708475878607, 9851.990214002963, 3166.3670341305437, 2965.0297658908044, 2927.7516998050337, 2740.190682046118, 2737.986106137617, 2513.8174825433775, 2505.176522890443, 2403.94617643904, 2367.4950724497094, 2360.528854134838, 2265.308223164298, 2219.9388605471745, 2196.5731069831027, 2184.6856284612654, 2165.6622180096906, 2156.2402787089245, 2143.2178101088098, 2137.1925762058786, 1997.7098051768476, 1969.8051306740722, 1926.6816910079137, 3397.8004157914265, 3554.4503166772383, 5714.664110796968, 3377.7313225332296, 22246.35264036006, 31338.640469055015, 4109.199254006653, 16898.562875865373, 52810.174064606945, 23332.218190835698, 13222.99835772579, 18778.585439409177, 14685.54049210504, 14380.618694381896, 10506.384842305712, 8321.567621050965, 4952.109709107284, 4874.363458598016, 4431.427292673193, 4148.044567406752, 3523.2221726912694, 3385.9166791916846, 3240.0529323520846, 2947.9210777633766, 2851.2523782772487, 2629.0214050963104, 2421.583990089672, 2607.6287134168133, 2278.3322724121144, 2231.3079259652072, 2181.8342299376304, 2115.167726764254, 2044.991835069528, 2023.7614199173931, 1976.1042090875567, 2029.3908268622683, 1921.70481129468, 1918.016324684377, 1893.9072291571329, 1881.4525723225686, 1854.9100329751302, 1867.336912640783, 1916.8685171334023, 5817.963907191784, 52810.174064606945, 55330.73836991588, 7608.081203867608, 31338.640469055015, 29516.01256352005, 26212.10818774556, 9882.570788281406, 9720.868641667079, 4441.902683493897, 4071.0890338333243, 3908.6557241317023, 3884.861087790195, 3858.6859701362246, 3407.50367760426, 3275.8719707890027, 3227.5299466999486, 2908.879263397968, 2853.1386926820655, 2764.4170526787298, 2676.284958473392, 2635.730831085944, 2592.792720116849, 2560.020556107069, 2502.2210102189347, 2495.3799333530533, 2398.891151616596, 2381.0857836361542, 2209.077522958631, 2075.7657510295458, 2035.0413997360056, 2007.4138563961067, 1987.989163185149, 2425.6037262813375, 1967.768780979443, 1908.846801528988, 1908.5693075094744, 2423.932245143394, 16898.562875865373, 3857.537423431229, 4160.866262191802, 55330.73836991588, 2696.7201231506715, 52810.174064606945, 15292.572443790148, 25733.03997520681, 23332.218190835698, 5822.412908347209, 26212.10818774556, 9865.29214700015, 7828.855384520047, 5148.50012865858, 4657.145255099517, 3895.452274037968, 3813.426671085761, 3610.5697874982347, 3539.8506724275926, 3473.0800750496187, 3351.4582397579306, 3223.115665776491, 3109.9359059976905, 3083.695307545276, 3016.7382419066553, 2866.312119801915, 2594.9968942404516, 2431.873637210348, 2335.6901962212146, 2239.502221497409, 2201.524893313966, 2184.6227954172487, 2157.451906403291, 2141.747417635445, 2116.729269135082, 2088.855785989827, 2041.6281694719098, 1962.1382454805164, 1953.8593039992654, 1944.7383692600251, 1924.6109908019746, 2968.7793510524853, 4872.564158310374, 4347.211642953144, 3032.864630330017, 12100.09814056617, 55330.73836991588, 31338.640469055015], \"Category\": [\"Default\", \"Default\", \"Default\", \"Default\", \"Default\", \"Default\", \"Default\", \"Default\", \"Default\", \"Default\", \"Default\", \"Default\", \"Default\", \"Default\", \"Default\", \"Default\", \"Default\", \"Default\", \"Default\", \"Default\", \"Default\", \"Default\", \"Default\", \"Default\", \"Default\", \"Default\", \"Default\", \"Default\", \"Default\", \"Default\", \"Topic1\", \"Topic1\", \"Topic1\", \"Topic1\", \"Topic1\", \"Topic1\", \"Topic1\", \"Topic1\", \"Topic1\", \"Topic1\", \"Topic1\", \"Topic1\", \"Topic1\", \"Topic1\", \"Topic1\", \"Topic1\", \"Topic1\", \"Topic1\", \"Topic1\", \"Topic1\", \"Topic1\", \"Topic1\", \"Topic1\", \"Topic1\", \"Topic1\", \"Topic1\", \"Topic1\", \"Topic1\", \"Topic1\", \"Topic1\", \"Topic1\", \"Topic1\", \"Topic1\", \"Topic1\", \"Topic1\", \"Topic1\", \"Topic1\", \"Topic1\", \"Topic1\", \"Topic1\", \"Topic1\", \"Topic1\", \"Topic1\", \"Topic1\", \"Topic1\", \"Topic2\", \"Topic2\", \"Topic2\", \"Topic2\", \"Topic2\", \"Topic2\", \"Topic2\", \"Topic2\", \"Topic2\", \"Topic2\", \"Topic2\", \"Topic2\", \"Topic2\", \"Topic2\", \"Topic2\", \"Topic2\", \"Topic2\", \"Topic2\", \"Topic2\", \"Topic2\", \"Topic2\", \"Topic2\", \"Topic2\", \"Topic2\", \"Topic2\", \"Topic2\", \"Topic2\", \"Topic2\", \"Topic2\", \"Topic2\", \"Topic2\", \"Topic2\", \"Topic2\", \"Topic2\", \"Topic2\", \"Topic2\", \"Topic2\", \"Topic2\", \"Topic2\", \"Topic2\", \"Topic2\", \"Topic2\", \"Topic2\", \"Topic2\", \"Topic2\", \"Topic2\", \"Topic2\", \"Topic2\", \"Topic3\", \"Topic3\", \"Topic3\", \"Topic3\", \"Topic3\", \"Topic3\", \"Topic3\", \"Topic3\", \"Topic3\", \"Topic3\", \"Topic3\", \"Topic3\", \"Topic3\", \"Topic3\", \"Topic3\", \"Topic3\", \"Topic3\", \"Topic3\", \"Topic3\", \"Topic3\", \"Topic3\", \"Topic3\", \"Topic3\", \"Topic3\", \"Topic3\", \"Topic3\", \"Topic3\", \"Topic3\", \"Topic3\", \"Topic3\", \"Topic3\", \"Topic3\", \"Topic3\", \"Topic3\", \"Topic3\", \"Topic3\", \"Topic3\", \"Topic3\", \"Topic3\", \"Topic3\", \"Topic3\", \"Topic3\", \"Topic3\", \"Topic3\", \"Topic3\", \"Topic3\", \"Topic4\", \"Topic4\", \"Topic4\", \"Topic4\", \"Topic4\", \"Topic4\", \"Topic4\", \"Topic4\", \"Topic4\", \"Topic4\", \"Topic4\", \"Topic4\", \"Topic4\", \"Topic4\", \"Topic4\", \"Topic4\", \"Topic4\", \"Topic4\", \"Topic4\", \"Topic4\", \"Topic4\", \"Topic4\", \"Topic4\", \"Topic4\", \"Topic4\", \"Topic4\", \"Topic4\", \"Topic4\", \"Topic4\", \"Topic4\", \"Topic4\", \"Topic4\", \"Topic4\", \"Topic4\", \"Topic4\", \"Topic4\", \"Topic4\", \"Topic4\", \"Topic4\", \"Topic4\", \"Topic4\", \"Topic4\", \"Topic4\", \"Topic4\", \"Topic4\", \"Topic5\", \"Topic5\", \"Topic5\", \"Topic5\", \"Topic5\", \"Topic5\", \"Topic5\", \"Topic5\", \"Topic5\", \"Topic5\", \"Topic5\", \"Topic5\", \"Topic5\", \"Topic5\", \"Topic5\", \"Topic5\", \"Topic5\", \"Topic5\", \"Topic5\", \"Topic5\", \"Topic5\", \"Topic5\", \"Topic5\", \"Topic5\", \"Topic5\", \"Topic5\", \"Topic5\", \"Topic5\", \"Topic5\", \"Topic5\", \"Topic5\", \"Topic5\", \"Topic5\", \"Topic5\", \"Topic5\", \"Topic5\", \"Topic5\", \"Topic5\", \"Topic5\", \"Topic5\", \"Topic5\", \"Topic5\", \"Topic5\", \"Topic6\", \"Topic6\", \"Topic6\", \"Topic6\", \"Topic6\", \"Topic6\", \"Topic6\", \"Topic6\", \"Topic6\", \"Topic6\", \"Topic6\", \"Topic6\", \"Topic6\", \"Topic6\", \"Topic6\", \"Topic6\", \"Topic6\", \"Topic6\", \"Topic6\", \"Topic6\", \"Topic6\", \"Topic6\", \"Topic6\", \"Topic6\", \"Topic6\", \"Topic6\", \"Topic6\", \"Topic6\", \"Topic6\", \"Topic6\", \"Topic6\", \"Topic6\", \"Topic6\", \"Topic6\", \"Topic6\", \"Topic6\", \"Topic6\", \"Topic6\", \"Topic6\", \"Topic6\", \"Topic6\", \"Topic6\", \"Topic6\", \"Topic7\", \"Topic7\", \"Topic7\", \"Topic7\", \"Topic7\", \"Topic7\", \"Topic7\", \"Topic7\", \"Topic7\", \"Topic7\", \"Topic7\", \"Topic7\", \"Topic7\", \"Topic7\", \"Topic7\", \"Topic7\", \"Topic7\", \"Topic7\", \"Topic7\", \"Topic7\", \"Topic7\", \"Topic7\", \"Topic7\", \"Topic7\", \"Topic7\", \"Topic7\", \"Topic7\", \"Topic7\", \"Topic7\", \"Topic7\", \"Topic7\", \"Topic7\", \"Topic7\", \"Topic7\", \"Topic7\", \"Topic7\", \"Topic7\", \"Topic7\", \"Topic7\", \"Topic7\", \"Topic7\", \"Topic8\", \"Topic8\", \"Topic8\", \"Topic8\", \"Topic8\", \"Topic8\", \"Topic8\", \"Topic8\", \"Topic8\", \"Topic8\", \"Topic8\", \"Topic8\", \"Topic8\", \"Topic8\", \"Topic8\", \"Topic8\", \"Topic8\", \"Topic8\", \"Topic8\", \"Topic8\", \"Topic8\", \"Topic8\", \"Topic8\", \"Topic8\", \"Topic8\", \"Topic8\", \"Topic8\", \"Topic8\", \"Topic8\", \"Topic8\", \"Topic8\", \"Topic8\", \"Topic8\", \"Topic8\", \"Topic8\", \"Topic8\", \"Topic8\", \"Topic8\", \"Topic8\", \"Topic9\", \"Topic9\", \"Topic9\", \"Topic9\", \"Topic9\", \"Topic9\", \"Topic9\", \"Topic9\", \"Topic9\", \"Topic9\", \"Topic9\", \"Topic9\", \"Topic9\", \"Topic9\", \"Topic9\", \"Topic9\", \"Topic9\", \"Topic9\", \"Topic9\", \"Topic9\", \"Topic9\", \"Topic9\", \"Topic9\", \"Topic9\", \"Topic9\", \"Topic9\", \"Topic9\", \"Topic9\", \"Topic9\", \"Topic9\", \"Topic9\", \"Topic9\", \"Topic9\", \"Topic9\", \"Topic9\", \"Topic9\", \"Topic9\", \"Topic9\", \"Topic9\", \"Topic9\", \"Topic9\", \"Topic9\", \"Topic10\", \"Topic10\", \"Topic10\", \"Topic10\", \"Topic10\", \"Topic10\", \"Topic10\", \"Topic10\", \"Topic10\", \"Topic10\", \"Topic10\", \"Topic10\", \"Topic10\", \"Topic10\", \"Topic10\", \"Topic10\", \"Topic10\", \"Topic10\", \"Topic10\", \"Topic10\", \"Topic10\", \"Topic10\", \"Topic10\", \"Topic10\", \"Topic10\", \"Topic10\", \"Topic10\", \"Topic10\", \"Topic10\", \"Topic10\", \"Topic10\", \"Topic10\", \"Topic10\", \"Topic10\", \"Topic10\", \"Topic10\", \"Topic10\"], \"logprob\": [30.0, 29.0, 28.0, 27.0, 26.0, 25.0, 24.0, 23.0, 22.0, 21.0, 20.0, 19.0, 18.0, 17.0, 16.0, 15.0, 14.0, 13.0, 12.0, 11.0, 10.0, 9.0, 8.0, 7.0, 6.0, 5.0, 4.0, 3.0, 2.0, 1.0, -3.4145, -4.7096, -4.8989, -4.9411, -5.0232, -5.0588, -5.2697, -5.3775, -5.3843, -5.4389, -5.4404, -5.4635, -5.5543, -5.5791, -5.5798, -5.6, -5.6318, -5.6598, -5.7173, -5.7175, -5.7362, -5.7364, -5.7535, -5.7608, -5.8141, -5.8239, -5.8371, -5.8398, -5.9224, -5.9335, -5.2393, -5.2152, -5.0921, -4.9475, -5.4653, -4.9388, -5.3257, -4.9165, -4.7704, -5.5893, -5.5139, -5.4512, -5.3902, -5.5657, -5.5955, -4.4823, -4.9467, -5.0055, -5.0152, -5.0407, -5.0526, -5.0763, -5.1552, -5.1733, -5.1815, -5.1887, -5.2032, -5.2447, -5.268, -5.2911, -5.3019, -5.3277, -5.4395, -5.4595, -5.4789, -5.4831, -5.4877, -5.5054, -5.5153, -5.5449, -5.5554, -5.5692, -5.5931, -5.5977, -5.6092, -4.9245, -4.4389, -4.0935, -4.2327, -4.0451, -4.8524, -5.1927, -5.2078, -4.8596, -5.1093, -5.0413, -4.8213, -5.1475, -4.8831, -5.009, -5.0788, -5.0369, -5.0559, -3.6069, -4.0144, -4.7803, -4.9451, -4.9768, -5.2219, -5.2448, -5.3001, -5.3764, -5.4504, -5.4522, -5.4837, -5.4942, -5.509, -5.5674, -5.5931, -5.6244, -5.6291, -5.7157, -5.718, -5.7503, -5.7553, -5.7849, -5.7932, -5.7938, -5.7998, -5.8258, -5.826, -5.8349, -5.8777, -5.3888, -5.1273, -5.4918, -5.438, -5.1174, -5.1767, -5.1525, -5.3793, -4.7091, -5.2164, -5.4866, -5.0179, -5.3476, -5.467, -5.4844, -5.5035, -3.3747, -4.5206, -4.5839, -4.6285, -4.7003, -4.8025, -4.8441, -5.152, -5.272, -5.3868, -5.4077, -5.4429, -5.4497, -5.4611, -5.4905, -5.5434, -5.5615, -5.5975, -5.6222, -5.6704, -5.6927, -5.7031, -5.7223, -5.7615, -5.7698, -5.812, -5.8136, -5.8286, -5.8448, -5.8538, -4.895, -5.3128, -4.3895, -4.1121, -3.6592, -4.7691, -4.0463, -5.3722, -4.5925, -4.6064, -5.4386, -5.2958, -5.1465, -5.0485, -5.2974, -3.9445, -4.3135, -4.4055, -4.6348, -4.8183, -4.8226, -4.8502, -4.9254, -4.9854, -5.0083, -4.9083, -5.0658, -5.0916, -5.223, -5.2488, -5.3083, -5.3606, -5.3722, -5.3907, -5.5294, -5.5519, -5.5953, -5.5959, -5.6481, -5.6637, -5.6684, -5.6812, -5.7039, -5.7101, -5.7171, -4.8709, -5.312, -5.2861, -4.4834, -5.2973, -5.5675, -5.2936, -5.263, -5.4844, -5.144, -5.3823, -5.3637, -5.3957, -3.6352, -4.0575, -4.265, -4.7168, -4.7709, -4.7896, -4.8474, -4.9666, -4.9979, -5.0763, -5.0817, -5.1518, -5.3154, -5.319, -5.3343, -5.424, -5.4253, -5.512, -5.5778, -5.6028, -5.6035, -5.6117, -5.6292, -5.64, -5.7026, -5.7041, -5.7208, -5.732, -5.7548, -5.841, -4.5049, -5.2501, -5.4052, -5.4886, -4.0915, -4.2129, -5.1216, -5.0527, -5.1919, -5.2912, -5.3369, -5.4677, -5.487, -4.1867, -4.4614, -4.6022, -4.6556, -4.7846, -4.8964, -4.7991, -5.0057, -4.062, -5.1971, -5.2629, -5.2755, -5.3418, -5.3426, -5.4281, -5.4315, -5.4728, -5.4881, -5.4911, -5.5323, -5.5525, -5.5631, -5.5686, -5.5773, -5.5817, -5.5877, -5.5906, -5.6581, -5.6722, -5.6944, -5.1319, -5.1934, -5.2197, -5.4717, -5.3168, -5.3479, -5.5462, -5.4946, -5.4777, -5.509, -5.5242, -3.4022, -3.6481, -3.6691, -3.9831, -4.2163, -4.7355, -4.7513, -4.8466, -4.9128, -5.0761, -5.1159, -5.16, -5.2545, -5.2879, -5.3691, -5.4514, -5.3774, -5.5124, -5.5333, -5.5557, -5.5868, -5.6206, -5.631, -5.6549, -5.6283, -5.6828, -5.6848, -5.6974, -5.704, -5.7183, -5.7116, -5.6883, -4.7356, -4.0144, -3.9941, -5.0137, -4.9165, -5.0408, -5.4502, -4.0311, -4.0476, -4.8311, -4.9183, -4.9591, -4.9652, -4.9719, -5.0964, -5.1358, -5.1507, -5.2547, -5.2741, -5.3057, -5.3381, -5.3534, -5.3698, -5.3825, -5.4054, -5.4081, -5.4476, -5.4551, -5.5301, -5.5924, -5.6123, -5.626, -5.6357, -5.4368, -5.6459, -5.6764, -5.6765, -5.4424, -3.9402, -5.1276, -5.1306, -4.4757, -5.5251, -4.7392, -5.2979, -5.2326, -5.3735, -5.429, -5.401, -3.9368, -4.1681, -4.5873, -4.6877, -4.8664, -4.8877, -4.9424, -4.9622, -4.9812, -5.0169, -5.056, -5.0917, -5.1002, -5.1222, -5.1734, -5.2729, -5.3379, -5.3783, -5.4204, -5.4375, -5.4452, -5.4577, -5.465, -5.4768, -5.4901, -5.513, -5.5527, -5.557, -5.5616, -5.5721, -5.1413, -4.8755, -5.0212, -5.3064, -4.7071, -5.2832, -5.442], \"loglift\": [30.0, 29.0, 28.0, 27.0, 26.0, 25.0, 24.0, 23.0, 22.0, 21.0, 20.0, 19.0, 18.0, 17.0, 16.0, 15.0, 14.0, 13.0, 12.0, 11.0, 10.0, 9.0, 8.0, 7.0, 6.0, 5.0, 4.0, 3.0, 2.0, 1.0, 2.0555, 2.0553, 2.0552, 2.0552, 2.0552, 2.0552, 2.0551, 2.055, 2.055, 2.055, 2.055, 2.055, 2.0549, 2.0549, 2.0549, 2.0549, 2.0548, 2.0548, 2.0548, 2.0548, 2.0547, 2.0547, 2.0547, 2.0547, 2.0547, 2.0547, 2.0547, 2.0547, 2.0546, 2.0546, 1.9776, 1.8802, 1.7928, 1.5843, 1.8213, 1.3281, 1.3333, 0.4754, 0.0398, 1.6959, 1.3408, 1.0974, 0.5013, 0.8997, 0.7107, 2.081, 2.0809, 2.0809, 2.0809, 2.0808, 2.0808, 2.0808, 2.0808, 2.0808, 2.0808, 2.0808, 2.0808, 2.0807, 2.0807, 2.0807, 2.0807, 2.0807, 2.0806, 2.0806, 2.0806, 2.0806, 2.0806, 2.0806, 2.0806, 2.0806, 2.0806, 2.0805, 2.0805, 2.0805, 2.0805, 2.0642, 1.9625, 1.882, 1.8128, 1.7034, 1.895, 1.9684, 1.9364, 1.7481, 1.8074, 1.7007, 1.4526, 1.7238, 1.292, 1.4266, 1.5382, 1.403, 1.4328, 2.1549, 2.1549, 2.1547, 2.1546, 2.1545, 2.1545, 2.1545, 2.1544, 2.1544, 2.1543, 2.1543, 2.1543, 2.1543, 2.1543, 2.1542, 2.1542, 2.1542, 2.1542, 2.1541, 2.1541, 2.1541, 2.1541, 2.1541, 2.154, 2.154, 2.154, 2.154, 2.154, 2.154, 2.154, 2.0586, 1.9944, 1.9523, 1.8953, 1.5767, 1.622, 1.4639, 1.6976, 0.6229, 1.2854, 1.6602, 0.6091, 0.9814, 0.9838, 0.8508, 0.9789, 2.3226, 2.3224, 2.3223, 2.3223, 2.3223, 2.3222, 2.3222, 2.3221, 2.322, 2.3219, 2.3219, 2.3218, 2.3218, 2.3218, 2.3218, 2.3218, 2.3217, 2.3217, 2.3217, 2.3216, 2.3216, 2.3216, 2.3216, 2.3215, 2.3215, 2.3215, 2.3215, 2.3215, 2.3214, 2.3214, 2.0082, 2.0775, 1.6306, 1.417, 1.1043, 1.5348, 0.7639, 1.9356, 0.9181, 0.7256, 1.943, 1.6529, 1.0367, 0.5785, 0.0945, 2.3234, 2.3233, 2.3232, 2.3232, 2.3231, 2.3231, 2.3231, 2.3231, 2.323, 2.323, 2.323, 2.323, 2.323, 2.3229, 2.3229, 2.3228, 2.3228, 2.3228, 2.3228, 2.3226, 2.3226, 2.3226, 2.3226, 2.3225, 2.3225, 2.3225, 2.3225, 2.3225, 2.3225, 2.3225, 2.1727, 2.185, 2.1637, 1.7791, 1.8743, 2.2029, 1.803, 1.4516, 1.8663, 0.2479, 0.9317, -0.6002, -0.5856, 2.3398, 2.3398, 2.3397, 2.3396, 2.3395, 2.3395, 2.3395, 2.3394, 2.3394, 2.3394, 2.3394, 2.3393, 2.3392, 2.3392, 2.3392, 2.3391, 2.3391, 2.3391, 2.339, 2.339, 2.339, 2.339, 2.3389, 2.3389, 2.3389, 2.3389, 2.3389, 2.3388, 2.3388, 2.3387, 2.2745, 2.2006, 2.1152, 2.1454, 0.7187, 0.5506, 0.828, 0.458, 0.1401, 0.2378, 0.055, 0.6219, 0.1877, 2.4276, 2.4275, 2.4275, 2.4274, 2.4274, 2.4273, 2.4273, 2.4273, 2.4272, 2.4271, 2.4271, 2.4271, 2.427, 2.427, 2.4269, 2.4269, 2.4269, 2.4269, 2.4269, 2.4268, 2.4268, 2.4268, 2.4268, 2.4268, 2.4268, 2.4268, 2.4268, 2.4267, 2.4267, 2.4267, 2.4218, 2.3152, 1.8141, 2.0879, 0.3578, -0.0159, 1.8174, 0.455, -0.6675, 0.118, 0.6706, 2.4419, 2.4418, 2.4418, 2.4418, 2.4417, 2.4415, 2.4415, 2.4415, 2.4414, 2.4413, 2.4413, 2.4413, 2.4412, 2.4412, 2.4411, 2.441, 2.441, 2.441, 2.4409, 2.4409, 2.4409, 2.4409, 2.4408, 2.4408, 2.4408, 2.4408, 2.4408, 2.4408, 2.4408, 2.4407, 2.4407, 2.4379, 2.2802, 0.7957, 0.7694, 1.7339, 0.4155, 0.3511, 0.0604, 2.4549, 2.4549, 2.4546, 2.4546, 2.4546, 2.4546, 2.4546, 2.4545, 2.4545, 2.4545, 2.4544, 2.4544, 2.4543, 2.4543, 2.4543, 2.4543, 2.4543, 2.4542, 2.4542, 2.4542, 2.4542, 2.4541, 2.4541, 2.454, 2.454, 2.454, 2.454, 2.454, 2.454, 2.454, 2.449, 2.0094, 2.2992, 2.2205, 0.2878, 2.2597, 0.0709, 0.7515, 0.2964, 0.2535, 1.5861, 0.1096, 2.551, 2.5509, 2.5508, 2.5507, 2.5507, 2.5506, 2.5506, 2.5506, 2.5506, 2.5506, 2.5505, 2.5505, 2.5505, 2.5505, 2.5504, 2.5504, 2.5503, 2.5503, 2.5502, 2.5502, 2.5502, 2.5502, 2.5502, 2.5502, 2.5501, 2.5501, 2.5501, 2.5501, 2.5501, 2.5501, 2.5474, 2.3177, 2.2861, 2.3609, 1.5765, -0.5197, -0.11]}, \"token.table\": {\"Topic\": [3, 10, 7, 1, 5, 8, 8, 2, 4, 4, 7, 9, 5, 5, 5, 2, 7, 2, 5, 7, 4, 7, 9, 9, 5, 8, 8, 10, 2, 5, 9, 7, 1, 3, 2, 8, 1, 3, 1, 2, 3, 4, 5, 6, 7, 8, 10, 1, 2, 3, 4, 5, 6, 7, 8, 9, 10, 4, 2, 2, 3, 7, 5, 10, 3, 7, 3, 7, 1, 4, 5, 10, 10, 5, 2, 8, 9, 8, 4, 1, 1, 2, 4, 5, 6, 7, 8, 9, 10, 8, 1, 5, 2, 1, 2, 3, 5, 7, 8, 10, 1, 4, 5, 7, 8, 10, 4, 4, 9, 7, 1, 2, 5, 6, 8, 5, 2, 3, 4, 5, 6, 7, 8, 9, 10, 3, 2, 4, 6, 3, 1, 3, 4, 5, 6, 7, 8, 9, 10, 2, 9, 10, 8, 1, 2, 4, 6, 7, 8, 9, 1, 2, 3, 4, 5, 6, 7, 8, 9, 10, 1, 3, 9, 3, 1, 9, 8, 10, 4, 4, 1, 3, 9, 1, 2, 3, 4, 5, 6, 7, 8, 9, 10, 4, 5, 1, 2, 3, 5, 6, 7, 8, 9, 10, 1, 2, 3, 4, 5, 6, 7, 8, 9, 10, 1, 3, 4, 5, 6, 7, 8, 9, 10, 1, 2, 6, 7, 6, 10, 4, 6, 2, 3, 7, 9, 10, 1, 10, 8, 9, 6, 1, 2, 3, 4, 5, 6, 7, 8, 9, 10, 1, 2, 7, 9, 1, 2, 4, 5, 6, 7, 8, 9, 10, 5, 6, 5, 2, 3, 1, 4, 7, 8, 4, 2, 1, 3, 4, 5, 6, 7, 8, 9, 10, 7, 10, 9, 9, 8, 8, 8, 7, 1, 5, 7, 4, 3, 4, 9, 10, 10, 1, 2, 5, 6, 7, 8, 9, 10, 1, 2, 3, 4, 5, 6, 7, 8, 9, 10, 1, 3, 4, 5, 6, 7, 8, 9, 10, 6, 1, 4, 5, 7, 8, 10, 4, 7, 6, 1, 7, 5, 3, 10, 4, 2, 3, 3, 10, 4, 6, 2, 1, 3, 5, 7, 2, 6, 7, 9, 4, 8, 5, 5, 2, 9, 3, 1, 4, 5, 6, 7, 8, 10, 10, 7, 9, 10, 9, 2, 3, 1, 2, 3, 4, 5, 6, 7, 8, 9, 10, 9, 6, 10, 5, 10, 7, 6, 3, 6, 1, 3, 4, 5, 9, 10, 9, 10, 2, 2, 3, 5, 7, 2, 10, 2, 2, 6, 6, 8, 6, 5, 5, 10, 4, 7, 10, 9, 8, 10, 9, 10, 1, 2, 4, 5, 6, 7, 8, 2, 9, 4, 1, 3, 4, 4, 3, 6, 8, 1, 8, 10, 8, 10, 10, 6, 1, 2, 9, 10, 7, 10, 1, 6, 1, 2, 5, 1, 2, 4, 5, 6, 7, 8, 9, 10, 10, 10, 7, 8, 1, 4, 8, 2, 3, 7, 9, 3, 7, 2, 9, 8, 5, 3, 1, 2, 9, 9, 4, 1, 2, 3, 4, 5, 6, 7, 8, 9, 10, 8, 7, 6, 1, 3, 4, 5, 6, 7, 9, 10, 6, 3, 4, 1, 2, 3, 4, 5, 6, 7, 8, 9, 10, 7, 6, 2, 5, 6, 1, 6, 8, 9, 10, 3, 1, 2, 3, 4, 7, 9, 4, 1, 2, 3, 4, 5, 6, 7, 8, 9, 10, 3, 6, 5, 5, 8, 9, 4, 5, 7, 9, 8, 1, 1, 6, 7, 1, 2, 5, 7, 1, 6, 8, 7, 1, 2, 4, 5, 6, 7, 8, 9, 10, 3, 5, 9, 3, 7, 3, 10, 7, 1, 5, 6, 9, 10, 5, 6, 1, 8, 5, 2, 1, 4, 8, 1, 2, 3, 4, 5, 6, 7, 8, 9, 10, 3, 7, 6, 6, 5, 8, 8, 6, 8, 3, 1, 2, 4, 5, 7, 6, 4, 9, 9, 7, 9, 1, 2, 3, 4, 5, 6, 7, 8, 9, 10, 1, 2, 4, 5, 6, 7, 9, 10, 6, 9, 7, 2, 7, 3, 4, 7, 8, 8, 10, 9, 4, 1, 7, 2, 5, 1, 7, 3, 6, 10, 6, 6, 1, 2, 3, 4, 5, 7, 9, 1, 8, 1, 9, 4, 8, 4, 10, 3, 10, 3, 1, 6, 3, 1, 2, 3, 5, 6, 7, 8, 1, 7, 10, 1, 10, 9, 9, 1, 2, 3, 4, 5, 6, 7, 8, 9, 10, 8, 6, 1, 5, 5, 1, 2, 3, 4, 5, 6, 7, 8, 9, 10, 3, 3, 3, 7, 1, 1, 4, 7, 9, 6, 4, 10, 7, 3, 1, 3, 4, 10, 1, 2, 3, 7, 8, 9, 10, 1, 7, 9, 1, 4, 2, 8, 4, 6, 9, 2, 5, 2, 5, 9, 7, 6, 5, 5, 1, 3, 4, 8, 5, 5, 1, 1, 2, 3, 4, 5, 6, 7, 8, 9, 10, 1, 2, 9, 10, 3, 4, 5, 6, 7, 9, 10, 1, 2, 3, 4, 5, 6, 7, 8, 9, 10, 5, 10, 5, 2, 10], \"Freq\": [0.99901253758194, 0.9997630069238838, 0.9996444556353183, 0.23279213106208094, 0.6330312335898692, 0.1338134334381621, 0.9989351730147226, 0.9994083461209482, 0.9991404097108648, 0.730236919385943, 0.1423616454828116, 0.12715797460600647, 0.9994654132445144, 0.99970199329201, 0.9994495771706627, 0.9995213045011239, 0.9992770029821184, 0.9991740613264111, 0.9997515305605778, 0.9989810555840946, 0.9991613389173161, 0.9995947998617588, 0.998797529274586, 0.9991123844736879, 0.9989084483078235, 0.9989751513618401, 0.9986964474371305, 0.9992295499315098, 0.8300958799297964, 0.09605826946789317, 0.0737191370334994, 0.999190424287318, 0.9994514158646912, 0.9988636156641499, 0.9996347718218379, 0.9989919142233371, 0.9995270440238717, 0.9991547060513429, 0.08672999081385992, 0.02543186264850859, 0.21605914930119408, 0.20246570703235509, 0.06994559965562212, 0.110821654928821, 0.08682571928054188, 0.13178618913217124, 0.06984987118894016, 0.09759037830763762, 0.03904472316129024, 0.21309589852682226, 0.17477978161552316, 0.06943188970503862, 0.06823183235211203, 0.09926188676349966, 0.07766085441082098, 0.11061957242512635, 0.05027383124938908, 0.9996361386230507, 0.9994079900148132, 0.38304963468705455, 0.0752450173208924, 0.5412391594733027, 0.8707183123725235, 0.12875840901580274, 0.00021213836225969737, 0.9993838246054343, 0.0005075116693572567, 0.9992904769644384, 0.9993328687633417, 0.11133573420207568, 0.12122713207540059, 0.7671584164543851, 0.9986433669897694, 0.9991581729776037, 0.9993381596747609, 0.9998270072452283, 0.9992652458100881, 0.99934832795292, 0.9993703111300489, 0.9996429803501945, 0.31478405116989283, 0.2744449111112825, 0.05936890637618571, 0.035680811845453846, 0.051836290542145454, 0.07374034448060462, 0.02368809453073186, 0.08107473358217013, 0.08533660833037712, 0.9989763247264872, 0.8391704688551221, 0.1604269115442704, 0.9992454543995601, 0.4830824867700567, 0.10207799518559744, 0.028364028917017125, 0.12564695904214462, 0.05494006747250309, 0.0734701494010988, 0.13231128675330625, 0.48561864239743235, 0.1297950248072404, 0.06471707446366574, 0.06122860762454621, 0.07638539458072072, 0.1820017354340637, 0.9989716465491277, 0.998971095971024, 0.999211655928898, 0.998828581222759, 0.18730466203443402, 0.6834724897264867, 0.0020913290945924244, 0.1049585789348573, 0.021958955493220456, 0.9997548136892224, 0.15019601274174516, 0.02751326701711658, 0.40426626663709575, 0.0354796790771574, 0.1221775586183821, 0.036101447823306924, 0.06520799725243166, 0.11545468405064034, 0.0436015333237356, 0.9988762472602193, 0.99920204694947, 0.9990346417938422, 0.9989695887847997, 0.9993578619338284, 0.13521697086513737, 0.2713910760156779, 0.06978379062666677, 0.16889069526977582, 0.06456305816083135, 0.07265519348287626, 0.08683818334839581, 0.05751506933195354, 0.07309025452169587, 0.887995070675469, 0.09232322324162294, 0.01952454872179337, 0.9989929659025687, 0.1771554342360907, 0.522841897261498, 0.00010146359349146089, 0.00010146359349146089, 0.06037083812741923, 0.08807039915058805, 0.15128221789576818, 0.06211906158229016, 0.016295975240600787, 0.0993456472236626, 0.2763588094701886, 0.06623043148244173, 0.07564920616278897, 0.10293375186379489, 0.07452792346274764, 0.12962028012477875, 0.0968040731035689, 0.9995865412841974, 0.20861040593570226, 0.790941066744696, 0.9995990232018664, 0.9993568980707234, 0.9991256555604056, 0.17277394934141246, 0.8266112423643531, 0.9988063159876412, 0.9995578993369817, 0.9989728413421863, 0.14387417128576677, 0.8554680454829374, 0.13321296747466724, 0.02423775385466582, 0.025695806234985564, 0.21037612916041976, 0.05451601042779914, 0.19763237264152123, 0.04525643102550884, 0.1927658861253891, 0.092160271883327, 0.024124139383472076, 0.00021320151924795225, 0.9994887222344001, 0.9989958187697564, 0.5074843269277242, 0.06599615294966406, 0.14088197803896074, 0.06338722743042403, 0.07517570570254559, 0.021547792251500855, 0.08860684078307751, 0.036911464753692044, 0.03923677984352372, 0.005873769437653251, 0.050044515608805705, 0.29571266319656153, 0.05373143550197882, 0.16705000280685847, 0.03972475453526722, 0.1877618175008604, 0.11447524805567906, 0.04637566885236383, 0.005063292428656137, 0.0006904489675440187, 0.6789414847516184, 0.0016110475909360438, 0.2754891380500635, 0.005293442084504144, 0.011277333136552306, 0.021173768338016576, 0.0004602993116960125, 0.2304776938428812, 0.7165719474906832, 0.05176321036729062, 0.001028408152992529, 0.9989626882883494, 0.9991115777344354, 0.20069503251991663, 0.7987946968097674, 0.9994190947694293, 0.8166267869646999, 0.0015826100522571705, 0.10286965339671608, 0.07860296592877279, 0.999298103598308, 0.9992304829940707, 0.9995739777122861, 0.9989968755739955, 0.999112018564816, 0.10221812710097083, 0.09002459417268242, 0.30924875001105895, 0.09849953195262756, 0.022138612976183192, 0.07679331376113545, 0.11216320714886562, 0.016171564947446315, 0.06010287507205984, 0.11276855984743313, 0.17309471353002123, 0.7604025859659657, 0.06615580328260703, 0.0001556607136061342, 0.1608161908907028, 0.45420008547553953, 0.057386690525313026, 0.05152939265515834, 0.056052116327049935, 0.033290211945562725, 0.034921358187884284, 0.12448611549354079, 0.027210485042364188, 0.9990872829604734, 0.9993524978898153, 0.9991321982553728, 0.9993564318687879, 0.9998179376080492, 0.9993346142835138, 0.9993110129389783, 0.9994646499495731, 0.9995151246684637, 0.9991234979896086, 0.9993502355441493, 0.10466612507679633, 0.22445741273694472, 0.1594948394414476, 0.1230431976155691, 0.022460866436277826, 0.17250247926313036, 0.03183846723795611, 0.05104742371881324, 0.11056493848430364, 0.20789875044996248, 0.7917802361657998, 0.9993539562051906, 0.999520938394414, 0.998821899246502, 0.9992311188138704, 0.9993692782963012, 0.9991266153398942, 0.6242505561980782, 0.22330225224258424, 0.15232857624517843, 0.9990566145735817, 0.6328480586197505, 0.2654527220480651, 0.03745203580168847, 0.063759807291655, 0.9987106196456587, 0.11588303417938742, 0.5332583691475201, 0.052458350924426085, 0.060314827817943874, 0.10360728903326587, 0.051885482817607076, 0.04010076747733039, 0.042392239904606416, 0.26051936498934986, 0.28215887097159303, 0.02316103374661968, 0.024175385589537333, 0.11073340951851016, 0.08038738355122378, 0.055113116798525666, 0.045561303611051124, 0.038122723429655024, 0.08013379559049437, 0.054445906574936344, 0.3085268039246393, 0.13510650890817538, 0.06835986047742008, 0.07259454209991513, 0.07813995851032532, 0.05978967147951343, 0.11231988874903535, 0.11070667670237057, 0.9994075306008074, 0.6979944370813495, 0.03195203419263431, 0.02137636090352295, 0.09585610257790293, 0.05175329481905557, 0.10103143205980848, 0.9989097322625878, 0.9990601321125637, 0.9989531300282228, 0.28747105890937763, 0.7117203147457711, 0.999486424424047, 0.9991885660565119, 0.9987172074480761, 0.9990448536601202, 0.9993262306456971, 0.9992670251043038, 0.9082028690541794, 0.0912966170814953, 0.998603878142313, 0.9991213875940183, 0.9994561384601757, 0.004414620685278288, 0.0008829241370556576, 0.00029430804568521924, 0.9938782702789852, 0.9994396602413489, 0.2204921227545033, 0.13906508010549726, 0.6403503114134407, 0.9990399072050761, 0.9994522548802265, 0.9990939045016383, 0.9994820555909814, 0.9996406253213328, 0.9991462200367873, 0.999162464367257, 0.1329741280862631, 0.02718986211335026, 0.20561816698484936, 0.1457012975861292, 0.02710721815555892, 0.08396626111599959, 0.37726966731745876, 0.9988635174689114, 0.17688153691036518, 0.8224806055915932, 0.9988826885397166, 0.9994285580127382, 0.9995561768250005, 0.9986975286699687, 0.1446591307242272, 0.20420962093402392, 0.03390714607081415, 0.06253227441200399, 0.24859560862973792, 0.0682402613133722, 0.07965623511610863, 0.060828397725028405, 0.04174497883090184, 0.055546379995404085, 0.9994868611774483, 0.9366765651179488, 0.06309642224827557, 0.0030315489754431696, 0.9960322578206059, 0.9989461129280715, 0.9986819948780087, 0.8516338705453949, 0.14789423733500912, 0.17841205134489815, 0.08710780839006076, 0.08380152661175189, 0.4181174802722916, 0.13644770569713166, 0.0960093362547385, 0.9990462641294645, 0.9988482221548187, 0.9993885178803146, 0.9992644285493656, 0.609711674498626, 0.2210008897282937, 0.1688854316895294, 0.9994207503875131, 0.9989102472848478, 0.99943024776178, 0.9994906587413129, 0.9988019805516847, 0.14902120635851174, 0.8506412344501437, 0.9991842916182097, 0.9989575255256007, 0.8522431107396604, 0.14721286226595443, 0.9989610245842402, 0.9996071760062996, 0.9993704777095302, 0.9993039158519216, 0.9985924938737819, 0.9987994287056097, 0.998999409442473, 0.9993435960741479, 0.24072184233530697, 0.5809851077349981, 0.02145388724215002, 0.037948004853050304, 0.037486630933864284, 0.05905586165581081, 0.022145948120929054, 0.9995114574462625, 0.9993205530701244, 0.9991882125035124, 0.9990102686543968, 0.2169480299430019, 0.782562536580114, 0.9987869961359077, 0.9991770869442013, 0.8698128060537313, 0.12956918478456073, 0.24342537236044828, 0.4926340689022463, 0.26379844618111215, 0.9991593174621324, 0.9993775093583257, 0.9997676554362512, 0.9998358559357886, 0.07864025388734863, 0.8193160659830948, 0.07001715268889033, 0.032002636137940334, 0.9993154315298435, 0.9995393626391257, 0.9995583419186264, 0.9991610583499858, 0.9991378435102048, 0.999373730038307, 0.9992483473273855, 0.11258906841181304, 0.2369543815849584, 0.15874105655160098, 0.06269318742882697, 0.1794345733576416, 0.050236234877822264, 0.04308880308626219, 0.082365642550359, 0.07399293673738862, 0.9995143966988242, 0.9993636507805013, 0.9992746105858008, 0.9989656622744219, 0.7688134348330019, 0.11428919074395283, 0.11655085019139252, 0.6993907844279734, 0.10635142723649532, 0.10605394072674289, 0.08790726363184438, 0.9990153851358685, 0.9989286917080431, 0.9991218996496016, 0.9992161353289578, 0.9994339260610092, 0.9997766884182964, 0.9994298585257213, 0.999233783227048, 0.9997148496859428, 0.9990595518097307, 0.9992504070385534, 0.9985229162738387, 0.07816998103792083, 0.05218962130789444, 0.0899584262017654, 0.24545908150218773, 0.08251911614691204, 0.15229602943063933, 0.055584998717545464, 0.09240004591207626, 0.09579542332172729, 0.05562314902551907, 0.9997730101893747, 0.9992935102145486, 0.9990484521478754, 0.27656667361706594, 0.06845868853043004, 0.5118331525103748, 0.023301666283831818, 0.03551495343949539, 0.0004821034403551411, 0.07102990687899079, 0.012695390596018716, 0.999372189069021, 0.9994607689542937, 0.00019290885330134987, 0.2059560039459146, 0.11170208011345294, 0.030051484701435472, 0.10773813004573259, 0.12549120556270235, 0.10177526498659771, 0.07487461239027328, 0.12359393031661399, 0.057799135175477925, 0.06108548694102386, 0.9995381755194827, 0.998965493357819, 0.9830707948141589, 0.01087282655486138, 0.0058545989141561275, 0.21812262716360856, 0.1313888265985516, 0.1513118382134954, 0.4194137445145922, 0.07952029635964626, 0.9991898591304843, 0.15354393511084688, 0.20306478441186426, 0.31001809799098473, 0.22933916007650665, 0.04649294727275007, 0.05743246427810303, 0.9989867073523482, 0.0904554589735715, 0.011718093548849036, 0.41907602981278524, 0.06352440187007635, 0.08644663749633368, 0.07585923718465429, 0.0632160309872119, 0.1207785957885756, 0.03669613506086935, 0.03227615240647892, 0.9993386110545024, 0.9995716547366993, 0.9991038016283981, 0.9990457090808559, 0.9987485318664439, 0.9997398664440174, 0.1488313137162421, 0.6381067256093133, 0.12191714902261666, 0.09058424087182886, 0.9992100389658913, 0.9990266450317036, 0.1760379349796245, 0.8231049097507442, 0.9989651961184957, 0.18432044357308172, 0.2353767209631671, 0.5801481915798928, 0.9986081297079691, 0.9992914170802568, 0.0026084209507897253, 0.9958951190115171, 0.9989740858028943, 0.07462705238677594, 0.6853396166336798, 0.0033877390837057826, 0.08948470808245702, 0.04868665026011453, 0.02555323194566647, 0.02681153503390005, 0.038571829281621554, 0.007549818529401458, 0.9990601939406512, 0.8863728237554265, 0.11294400104759868, 0.9994315579525915, 0.999715636633866, 0.9994475537410333, 0.9994010863542819, 0.998770702554968, 0.16341612769112424, 0.5942235247514198, 0.09950309257361498, 0.1427329005831256, 0.9994771891249515, 0.9995979161906902, 0.999743590600138, 0.9999148223331336, 0.9989487447742611, 0.9992327931008089, 0.9995653340749341, 0.1565931381065755, 0.6841038834054666, 0.158823103680878, 0.05924417089289129, 0.0015874643861975156, 0.11702787455048086, 0.5005592702558006, 0.010350267798007802, 0.11239247854278411, 0.04857641021764398, 0.049909880302049896, 0.0610856295808804, 0.03930561820225049, 0.9992450861481925, 0.9992005366413106, 0.9993071109921249, 0.9988745747972183, 0.999506336741502, 0.9986355012551302, 0.9990259936321652, 0.9990229057426437, 0.9998179011322428, 0.9991519214644387, 0.21658720957184302, 0.19687533993665282, 0.0075440488727271165, 0.035286680211142965, 0.5431715188363524, 0.999569926368628, 0.9996749983456819, 0.9991240199532126, 0.998963918828988, 0.00536318621366042, 0.9938396606698424, 0.12222228263464194, 0.0646847608353254, 0.13597734643979104, 0.09502681334668373, 0.12357081830181342, 0.11619882332127598, 0.12617798725834495, 0.07794536156251163, 0.07906914128515453, 0.05906586222211089, 0.3836197195412597, 0.11720815918587209, 0.03813574297040324, 0.1849691262152044, 0.07271645905373499, 0.07702558255321557, 0.0671145985044102, 0.0590349919428841, 0.9989012530542191, 0.9998077700938094, 0.9991311898101569, 0.8650850994003312, 0.13444286161902594, 0.771321992203372, 0.139295982675234, 0.08829948732294494, 0.0007082846576706814, 0.9989702826869362, 0.9985919086580952, 0.9995716512428408, 0.9989163199072565, 0.9995167285085836, 0.9992524448034517, 0.9996535132536799, 0.9988154619443209, 0.9994661864691788, 0.9987707141088062, 0.9989756783527038, 0.9991842168374218, 0.9988531161643304, 0.9990920477921921, 0.9992812331127684, 0.18883688431573803, 0.12878692378299775, 0.09994270116755229, 0.45484471510262403, 0.002867554295102766, 0.06890564291467528, 0.05583296892229503, 0.998783268258628, 0.9989329339390056, 0.9997587192362958, 0.9986538044495606, 0.9986069760445068, 0.9993663892550687, 0.9989941240307675, 0.9990923170367858, 0.9989613803056564, 0.9990483941215933, 0.9994274908447619, 0.9992176984998425, 0.9996487789754479, 0.9994621092013207, 0.48934495959003277, 0.07972884991825646, 0.08821375504717183, 0.1280050342724301, 0.06641632635392374, 0.09406541375676863, 0.05412784306377044, 0.9993840909046484, 0.9989610254798384, 0.9992882598455421, 0.9988970942240851, 0.9991933468145561, 0.9986675996421205, 0.9985929337805305, 0.21135312051928318, 0.2235261668266025, 0.1230706149602378, 0.04846882658143667, 0.02149826985466949, 0.09838948437383803, 0.06025099525503475, 0.10503440414709951, 0.040092877287409595, 0.06829190657730075, 0.9996914498363902, 0.9995443767736499, 0.9989772473167249, 0.998872568543075, 0.9993414921808541, 0.021555190099914388, 0.00795351934167964, 0.500956450129561, 0.08184056134192093, 0.009452008493010587, 0.13255865569466066, 0.10927443965090287, 0.016713917457152866, 0.06259073916713108, 0.05694258775057597, 0.999599672916594, 0.9991298221688218, 0.10606421989671419, 0.893527751702823, 0.999139948305215, 0.791147343625662, 0.1205536396581399, 0.08788022330219543, 0.9992107266083279, 0.9991155187849209, 0.9997000203055745, 0.9991259488125558, 0.9990835993642404, 0.9991177377168311, 0.9994117914084881, 0.9998878153473004, 0.9988947648047747, 0.9987127090470203, 0.1520947168127189, 0.5195847979161891, 0.11169004820971959, 0.05291087555154674, 0.030111098268425694, 0.09004469002954137, 0.043483119544180236, 0.999202180388372, 0.00041226849594805306, 0.9989265656821326, 0.9993379605069033, 0.9996429785335279, 0.9994797551780923, 0.9998623197994588, 0.9998992079359746, 0.999690093792845, 0.9990325040608242, 0.999412889758693, 0.9995201244568973, 0.893376739774161, 0.10633071318780336, 0.9989228910991684, 0.9986435441374791, 0.9992945910642171, 0.9992991847799323, 0.999036097632019, 0.924921708609609, 0.07460740889716228, 0.9996033355373808, 0.9995071009065771, 0.9993133542506766, 0.9994996530532583, 0.9991067836613924, 0.03707522988078915, 0.01051387116022379, 0.586840019232491, 0.1216012203925883, 0.011620594440247347, 0.015494125920329796, 0.07179867279152825, 0.015079104690320961, 0.07760897001165191, 0.052154334571110114, 0.11222328109148103, 0.764590305706846, 0.12303527451062546, 6.513249047677367e-05, 0.560820631298113, 0.11375899497337862, 0.03924872225258955, 0.01881446685759055, 0.05569580586319851, 0.10952262495246419, 0.10204667785673284, 0.1828992480029596, 0.12882070738857004, 0.16413196728188365, 0.08945519172972782, 0.005362080206021697, 0.051920630287575945, 0.056432624607277125, 0.07291121255749014, 0.18204916211663907, 0.06604513424490138, 0.8600456679537544, 0.13960059126432423, 0.9991684938719156, 0.9995649716241842, 0.9992665163692721], \"Term\": [\"2019\", \"2020\", \"abc\", \"aboriginal\", \"aboriginal\", \"aboriginal\", \"access\", \"across\", \"afghanistan\", \"afl\", \"afl\", \"afl\", \"age\", \"aged\", \"allegation\", \"allege\", \"allegedly\", \"america\", \"amid\", \"analysis\", \"andrew\", \"andrews\", \"answer\", \"anthony\", \"apologise\", \"app\", \"approve\", \"around\", \"arrest\", \"arrest\", \"arrest\", \"arrive\", \"art\", \"artist\", \"assault\", \"astrazeneca\", \"asx\", \"august\", \"australia\", \"australia\", \"australia\", \"australia\", \"australia\", \"australia\", \"australia\", \"australia\", \"australia\", \"australian\", \"australian\", \"australian\", \"australian\", \"australian\", \"australian\", \"australian\", \"australian\", \"australian\", \"australian\", \"australias\", \"baby\", \"beach\", \"beach\", \"beach\", \"become\", \"become\", \"berejiklian\", \"berejiklian\", \"biden\", \"biden\", \"billion\", \"black\", \"black\", \"black\", \"block\", \"boat\", \"boom\", \"border\", \"boris\", \"boy\", \"breach\", \"briefing\", \"brisbane\", \"brisbane\", \"brisbane\", \"brisbane\", \"brisbane\", \"brisbane\", \"brisbane\", \"brisbane\", \"brisbane\", \"bubble\", \"budget\", \"budget\", \"burn\", \"bushfire\", \"bushfire\", \"bushfire\", \"bushfire\", \"bushfire\", \"bushfire\", \"bushfire\", \"business\", \"business\", \"business\", \"business\", \"business\", \"business\", \"buy\", \"cabinet\", \"cancel\", \"capture\", \"car\", \"car\", \"car\", \"car\", \"car\", \"care\", \"case\", \"case\", \"case\", \"case\", \"case\", \"case\", \"case\", \"case\", \"case\", \"casey\", \"cctv\", \"central\", \"ceo\", \"challenge\", \"change\", \"change\", \"change\", \"change\", \"change\", \"change\", \"change\", \"change\", \"change\", \"charge\", \"charge\", \"charge\", \"check\", \"child\", \"child\", \"child\", \"child\", \"child\", \"child\", \"child\", \"china\", \"china\", \"china\", \"china\", \"china\", \"china\", \"china\", \"china\", \"china\", \"china\", \"christmas\", \"city\", \"city\", \"climate\", \"closure\", \"cluster\", \"coal\", \"coal\", \"collapse\", \"commission\", \"commissioner\", \"confirm\", \"confirm\", \"coronavirus\", \"coronavirus\", \"coronavirus\", \"coronavirus\", \"coronavirus\", \"coronavirus\", \"coronavirus\", \"coronavirus\", \"coronavirus\", \"coronavirus\", \"country\", \"country\", \"couple\", \"court\", \"court\", \"court\", \"court\", \"court\", \"court\", \"court\", \"court\", \"covid\", \"covid\", \"covid\", \"covid\", \"covid\", \"covid\", \"covid\", \"covid\", \"covid\", \"covid\", \"covid19\", \"covid19\", \"covid19\", \"covid19\", \"covid19\", \"covid19\", \"covid19\", \"covid19\", \"covid19\", \"crash\", \"crash\", \"crash\", \"crash\", \"create\", \"crew\", \"cricket\", \"cricket\", \"crown\", \"cup\", \"cup\", \"cup\", \"cup\", \"cyclone\", \"damage\", \"daniel\", \"datum\", \"david\", \"day\", \"day\", \"day\", \"day\", \"day\", \"day\", \"day\", \"day\", \"day\", \"day\", \"dead\", \"dead\", \"dead\", \"dead\", \"death\", \"death\", \"death\", \"death\", \"death\", \"death\", \"death\", \"death\", \"death\", \"destroy\", \"disability\", \"discuss\", \"domestic\", \"donald\", \"drone\", \"drum\", \"due\", \"ease\", \"economic\", \"economy\", \"election\", \"election\", \"election\", \"election\", \"election\", \"election\", \"election\", \"election\", \"election\", \"emergency\", \"emergency\", \"energy\", \"explain\", \"explainer\", \"extend\", \"facebook\", \"fan\", \"federal\", \"federal\", \"federal\", \"female\", \"final\", \"final\", \"final\", \"final\", \"financial\", \"find\", \"find\", \"find\", \"find\", \"find\", \"find\", \"find\", \"find\", \"fire\", \"fire\", \"fire\", \"fire\", \"fire\", \"fire\", \"fire\", \"fire\", \"fire\", \"fire\", \"first\", \"first\", \"first\", \"first\", \"first\", \"first\", \"first\", \"first\", \"first\", \"flight\", \"flood\", \"flood\", \"flood\", \"flood\", \"flood\", \"flood\", \"flooding\", \"fly\", \"follow\", \"food\", \"food\", \"footage\", \"football\", \"foreign\", \"friday\", \"frydenberg\", \"full\", \"game\", \"game\", \"general\", \"george\", \"girl\", \"gladys\", \"gladys\", \"gladys\", \"gladys\", \"global\", \"government\", \"government\", \"government\", \"grand\", \"great\", \"greg\", \"grow\", \"guilty\", \"happen\", \"hard\", \"health\", \"health\", \"health\", \"health\", \"health\", \"health\", \"health\", \"heavy\", \"hill\", \"hill\", \"historic\", \"history\", \"hobart\", \"holiday\", \"home\", \"home\", \"home\", \"home\", \"home\", \"home\", \"home\", \"home\", \"home\", \"home\", \"hong\", \"hotel\", \"hotel\", \"hotspot\", \"hotspot\", \"hundred\", \"hunt\", \"india\", \"india\", \"indigenous\", \"indigenous\", \"indigenous\", \"indigenous\", \"indigenous\", \"indigenous\", \"indonesia\", \"infection\", \"inquest\", \"inside\", \"international\", \"international\", \"international\", \"interview\", \"introduce\", \"investigate\", \"investigation\", \"iran\", \"island\", \"island\", \"isolation\", \"israel\", \"issue\", \"issue\", \"james\", \"joe\", \"john\", \"johnson\", \"july\", \"justice\", \"kangaroo\", \"kid\", \"kill\", \"kill\", \"kill\", \"kill\", \"kill\", \"kill\", \"kill\", \"know\", \"kong\", \"korea\", \"large\", \"late\", \"late\", \"learn\", \"legal\", \"liberal\", \"liberal\", \"life\", \"life\", \"life\", \"lift\", \"like\", \"live\", \"lockdown\", \"man\", \"man\", \"man\", \"man\", \"march\", \"mark\", \"mask\", \"matter\", \"mcgowan\", \"mean\", \"medical\", \"melbourne\", \"melbourne\", \"melbourne\", \"melbourne\", \"melbourne\", \"melbourne\", \"melbourne\", \"melbourne\", \"melbourne\", \"mental\", \"michael\", \"migrant\", \"military\", \"million\", \"million\", \"million\", \"miss\", \"miss\", \"miss\", \"miss\", \"moment\", \"monday\", \"money\", \"month\", \"morning\", \"morrison\", \"mother\", \"mount\", \"murder\", \"music\", \"myanmar\", \"nation\", \"new\", \"new\", \"new\", \"new\", \"new\", \"new\", \"new\", \"new\", \"new\", \"new\", \"news\", \"next\", \"norman\", \"north\", \"north\", \"north\", \"north\", \"north\", \"north\", \"north\", \"north\", \"northern\", \"nrl\", \"nrl\", \"nsw\", \"nsw\", \"nsw\", \"nsw\", \"nsw\", \"nsw\", \"nsw\", \"nsw\", \"nsw\", \"nsw\", \"number\", \"nurse\", \"officer\", \"officer\", \"officer\", \"old\", \"old\", \"old\", \"old\", \"old\", \"olympic\", \"one\", \"one\", \"one\", \"one\", \"one\", \"one\", \"online\", \"open\", \"open\", \"open\", \"open\", \"open\", \"open\", \"open\", \"open\", \"open\", \"open\", \"outback\", \"outbreak\", \"outside\", \"pacific\", \"palaszczuk\", \"pandemic\", \"parliament\", \"parliament\", \"parliament\", \"parliament\", \"part\", \"pass\", \"patient\", \"patient\", \"payment\", \"people\", \"people\", \"people\", \"per\", \"peter\", \"pfizer\", \"pfizer\", \"png\", \"police\", \"police\", \"police\", \"police\", \"police\", \"police\", \"police\", \"police\", \"police\", \"politic\", \"political\", \"political\", \"positive\", \"premier\", \"prime\", \"prince\", \"problem\", \"program\", \"program\", \"program\", \"program\", \"property\", \"protester\", \"quarantine\", \"queensland\", \"quiz\", \"raise\", \"rape\", \"rate\", \"rate\", \"rate\", \"record\", \"record\", \"record\", \"record\", \"record\", \"record\", \"record\", \"record\", \"record\", \"record\", \"recovery\", \"refugee\", \"remote\", \"remove\", \"reopen\", \"resign\", \"respond\", \"response\", \"restriction\", \"result\", \"river\", \"river\", \"river\", \"river\", \"river\", \"rollout\", \"royal\", \"rugby\", \"russia\", \"safe\", \"safe\", \"say\", \"say\", \"say\", \"say\", \"say\", \"say\", \"say\", \"say\", \"say\", \"say\", \"school\", \"school\", \"school\", \"school\", \"school\", \"school\", \"school\", \"school\", \"scientist\", \"scott\", \"sea\", \"search\", \"search\", \"season\", \"season\", \"season\", \"season\", \"secret\", \"senate\", \"sentence\", \"seven\", \"sexual\", \"ship\", \"shoot\", \"shooting\", \"shortage\", \"shot\", \"since\", \"site\", \"small\", \"smith\", \"social\", \"south\", \"south\", \"south\", \"south\", \"south\", \"south\", \"south\", \"southern\", \"space\", \"speak\", \"spend\", \"spike\", \"sport\", \"spread\", \"stab\", \"stage\", \"states\", \"story\", \"strand\", \"street\", \"struggle\", \"student\", \"student\", \"student\", \"student\", \"student\", \"student\", \"student\", \"summer\", \"sunshine\", \"surge\", \"survive\", \"survivor\", \"suspend\", \"swan\", \"sydney\", \"sydney\", \"sydney\", \"sydney\", \"sydney\", \"sydney\", \"sydney\", \"sydney\", \"sydney\", \"sydney\", \"tasmania\", \"tasmanian\", \"teacher\", \"tennis\", \"territory\", \"test\", \"test\", \"test\", \"test\", \"test\", \"test\", \"test\", \"test\", \"test\", \"test\", \"testing\", \"third\", \"thousand\", \"thousand\", \"toll\", \"tourism\", \"tourism\", \"tourism\", \"townsville\", \"tracking\", \"travel\", \"traveller\", \"treasurer\", \"tree\", \"truck\", \"trump\", \"try\", \"tuesday\", \"two\", \"two\", \"two\", \"two\", \"two\", \"two\", \"two\", \"unemployment\", \"united\", \"united\", \"university\", \"update\", \"vaccination\", \"vaccine\", \"victoria\", \"victorian\", \"victorians\", \"victorias\", \"video\", \"violence\", \"violence\", \"wait\", \"walk\", \"wall\", \"warning\", \"watch\", \"weather\", \"weather\", \"west\", \"western\", \"whale\", \"white\", \"wild\", \"win\", \"win\", \"win\", \"win\", \"win\", \"win\", \"win\", \"win\", \"win\", \"win\", \"woman\", \"woman\", \"woman\", \"woman\", \"world\", \"world\", \"world\", \"world\", \"world\", \"world\", \"world\", \"year\", \"year\", \"year\", \"year\", \"year\", \"year\", \"year\", \"year\", \"year\", \"year\", \"young\", \"young\", \"youth\", \"zealand\", \"zero\"]}, \"R\": 30, \"lambda.step\": 0.01, \"plot.opts\": {\"xlab\": \"PC1\", \"ylab\": \"PC2\"}, \"topic.order\": [2, 7, 10, 4, 5, 1, 6, 9, 8, 3]};\n",
              "\n",
              "function LDAvis_load_lib(url, callback){\n",
              "  var s = document.createElement('script');\n",
              "  s.src = url;\n",
              "  s.async = true;\n",
              "  s.onreadystatechange = s.onload = callback;\n",
              "  s.onerror = function(){console.warn(\"failed to load library \" + url);};\n",
              "  document.getElementsByTagName(\"head\")[0].appendChild(s);\n",
              "}\n",
              "\n",
              "if(typeof(LDAvis) !== \"undefined\"){\n",
              "   // already loaded: just create the visualization\n",
              "   !function(LDAvis){\n",
              "       new LDAvis(\"#\" + \"ldavis_el731401030200139367292383969\", ldavis_el731401030200139367292383969_data);\n",
              "   }(LDAvis);\n",
              "}else if(typeof define === \"function\" && define.amd){\n",
              "   // require.js is available: use it to load d3/LDAvis\n",
              "   require.config({paths: {d3: \"https://d3js.org/d3.v5\"}});\n",
              "   require([\"d3\"], function(d3){\n",
              "      window.d3 = d3;\n",
              "      LDAvis_load_lib(\"https://cdn.jsdelivr.net/gh/bmabey/pyLDAvis@3.3.1/pyLDAvis/js/ldavis.v3.0.0.js\", function(){\n",
              "        new LDAvis(\"#\" + \"ldavis_el731401030200139367292383969\", ldavis_el731401030200139367292383969_data);\n",
              "      });\n",
              "    });\n",
              "}else{\n",
              "    // require.js not available: dynamically load d3 & LDAvis\n",
              "    LDAvis_load_lib(\"https://d3js.org/d3.v5.js\", function(){\n",
              "         LDAvis_load_lib(\"https://cdn.jsdelivr.net/gh/bmabey/pyLDAvis@3.3.1/pyLDAvis/js/ldavis.v3.0.0.js\", function(){\n",
              "                 new LDAvis(\"#\" + \"ldavis_el731401030200139367292383969\", ldavis_el731401030200139367292383969_data);\n",
              "            })\n",
              "         });\n",
              "}\n",
              "</script>"
            ]
          },
          "metadata": {},
          "execution_count": 62
        }
      ]
    },
    {
      "cell_type": "code",
      "source": [
        "#draw out the distribution for topic given the entire document for LDA model\n",
        "labels=['Topic {} '.format(i) for i in num_topics_LDA]\n",
        "fig, ax = plt.subplots(figsize=(16,8))\n",
        "ax.set_title('Distribution of topics given the entire document (LDA)', fontsize=30)\n",
        "ax.bar(num_topics_LDA, counts_LDA)\n",
        "ax.set_xticks(num_topics_LDA)\n",
        "ax.set_xticklabels(labels, fontsize=18)\n",
        "plt.tick_params(axis=\"y\", labelsize=18)\n",
        "ax.set_ylabel('Occurrence',fontsize=16)\n",
        "plt.show()"
      ],
      "metadata": {
        "colab": {
          "base_uri": "https://localhost:8080/",
          "height": 520
        },
        "id": "NGmY5TllPFr3",
        "outputId": "f45a3945-3281-4f81-8398-c5b08f7d663f"
      },
      "execution_count": null,
      "outputs": [
        {
          "output_type": "display_data",
          "data": {
            "text/plain": [
              "<Figure size 1152x576 with 1 Axes>"
            ],
            "image/png": "[encoded data removed]"
          },
          "metadata": {
            "needs_background": "light"
          }
        }
      ]
    },
    {
      "cell_type": "code",
      "source": [
        "#draw out the distribution for topics given each term for LSA model\n",
        "labels=['Topic {} '.format(i) for i in num_topics_LSA]\n",
        "fig, ax = plt.subplots(figsize=(16,8))\n",
        "ax.set_title('Topic-Term Distribution (LSA)', fontsize=30)\n",
        "ax.bar(num_topics_LSA, counts_LSA)\n",
        "ax.set_xticks(num_topics_LSA)\n",
        "ax.set_xticklabels(labels,fontsize=18)\n",
        "plt.tick_params(axis=\"y\", labelsize=18)\n",
        "ax.set_ylabel('Occurrence',fontsize=16)\n",
        "plt.show()"
      ],
      "metadata": {
        "colab": {
          "base_uri": "https://localhost:8080/",
          "height": 520
        },
        "id": "4ZjpoCi0O6Zr",
        "outputId": "7d871b8c-bce6-4633-d557-8ffc9bbb4772"
      },
      "execution_count": null,
      "outputs": [
        {
          "output_type": "display_data",
          "data": {
            "text/plain": [
              "<Figure size 1152x576 with 1 Axes>"
            ],
            "image/png": "[encoded data removed]"
          },
          "metadata": {
            "needs_background": "light"
          }
        }
      ]
    },
    {
      "cell_type": "code",
      "source": [
        "#draw out the distribution for topics given each term for NMF model\n",
        "labels=['Topic {} '.format(i) for i in num_topics_NMF]\n",
        "fig, ax = plt.subplots(figsize=(16,8))\n",
        "ax.set_title('Topic-Term Distribution (NMF)', fontsize=30)\n",
        "ax.bar(num_topics_NMF, counts_NMF)\n",
        "ax.set_xticks(num_topics_NMF)\n",
        "ax.set_xticklabels(labels,fontsize=18)\n",
        "plt.tick_params(axis=\"y\", labelsize=18)\n",
        "ax.set_ylabel('Occurrence',fontsize=16)\n",
        "plt.show()"
      ],
      "metadata": {
        "colab": {
          "base_uri": "https://localhost:8080/",
          "height": 520
        },
        "id": "GpqOLNBkPBWV",
        "outputId": "2a2e6512-8d45-4970-ce2f-c15cae28874d"
      },
      "execution_count": null,
      "outputs": [
        {
          "output_type": "display_data",
          "data": {
            "text/plain": [
              "<Figure size 1152x576 with 1 Axes>"
            ],
            "image/png": "[encoded data removed]"
          },
          "metadata": {
            "needs_background": "light"
          }
        }
      ]
    },
    {
      "cell_type": "code",
      "source": [
        "#draw out the distribution for topics given each term for LDA model\n",
        "labels=['Topic {} '.format(i) for i in num_topics_LDA_dis]\n",
        "fig, ax = plt.subplots(figsize=(16,8))\n",
        "ax.set_title('Topic-Term Distribution (LDA)', fontsize=30)\n",
        "ax.bar(num_topics_LDA_dis, counts_LDA_dis)\n",
        "ax.set_xticks(num_topics_LDA_dis)\n",
        "ax.set_xticklabels(labels,fontsize=18)\n",
        "plt.tick_params(axis=\"y\", labelsize=18)\n",
        "ax.set_ylabel('Occurrence',fontsize=16)\n",
        "plt.show()"
      ],
      "metadata": {
        "colab": {
          "base_uri": "https://localhost:8080/",
          "height": 520
        },
        "id": "MG18HjdBZ-D8",
        "outputId": "f2dcd8c0-da2e-47ff-af37-92a5a21637a2"
      },
      "execution_count": null,
      "outputs": [
        {
          "output_type": "display_data",
          "data": {
            "text/plain": [
              "<Figure size 1152x576 with 1 Axes>"
            ],
            "image/png": "[encoded data removed]"
          },
          "metadata": {
            "needs_background": "light"
          }
        }
      ]
    },
    {
      "cell_type": "code",
      "source": [],
      "metadata": {
        "id": "shj6_XPAMmaW"
      },
      "execution_count": null,
      "outputs": []
    }
  ],
  "metadata": {
    "colab": {
      "provenance": []
    },
    "kernelspec": {
      "display_name": "Python 3",
      "name": "python3"
    },
    "language_info": {
      "name": "python"
    }
  },
  "nbformat": 4,
  "nbformat_minor": 0
}